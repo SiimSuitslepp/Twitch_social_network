{
 "cells": [
  {
   "cell_type": "markdown",
   "metadata": {
    "id": "7ejmO88NKFB2"
   },
   "source": [
    "# Network Science project"
   ]
  },
  {
   "cell_type": "markdown",
   "metadata": {
    "id": "zQml8uoHKFB7"
   },
   "source": [
    "# Twitch Social Network - Germany"
   ]
  },
  {
   "cell_type": "markdown",
   "metadata": {
    "id": "gyl4Ka9gKFB8"
   },
   "source": [
    "Lisanna Lehes, Siim Suitslepp"
   ]
  },
  {
   "cell_type": "code",
   "execution_count": 1,
   "metadata": {
    "id": "uykoW8oEZjhi"
   },
   "outputs": [],
   "source": [
    "import pandas as pd\n",
    "import numpy as np\n",
    "from tqdm import tqdm\n",
    "import networkx as nx\n",
    "from networkx.algorithms import community\n",
    "import matplotlib.pyplot as plt\n",
    "import seaborn as sns"
   ]
  },
  {
   "cell_type": "code",
   "execution_count": 2,
   "metadata": {
    "id": "7bUsvI1ScP70"
   },
   "outputs": [],
   "source": [
    "edges = pd.read_csv('musae_DE_edges.csv')\n",
    "nodes = pd.read_csv('musae_DE_target.csv')"
   ]
  },
  {
   "cell_type": "code",
   "execution_count": 3,
   "metadata": {
    "colab": {
     "base_uri": "https://localhost:8080/"
    },
    "id": "-kMkeDD-cfPC",
    "outputId": "1caf92ee-ec89-4a9e-fd1c-e3f6a0b753d1"
   },
   "outputs": [
    {
     "name": "stdout",
     "output_type": "stream",
     "text": [
      "Nodes dataset dimension: (9498, 6) \n",
      "Edges dataset dimension: (153138, 2)\n"
     ]
    }
   ],
   "source": [
    "print('Nodes dataset dimension:', nodes.shape, '\\nEdges dataset dimension:', edges.shape)"
   ]
  },
  {
   "cell_type": "markdown",
   "metadata": {
    "id": "jaeTmjTqdfCu"
   },
   "source": [
    "## 1. Exploring the data - Descriptive Analysis"
   ]
  },
  {
   "cell_type": "code",
   "execution_count": 4,
   "metadata": {
    "colab": {
     "base_uri": "https://localhost:8080/",
     "height": 206
    },
    "id": "cCVdXtbwcps9",
    "outputId": "db65afcd-7b1d-43be-8f48-2888b0dfb1ac"
   },
   "outputs": [
    {
     "data": {
      "text/html": [
       "<div>\n",
       "<style scoped>\n",
       "    .dataframe tbody tr th:only-of-type {\n",
       "        vertical-align: middle;\n",
       "    }\n",
       "\n",
       "    .dataframe tbody tr th {\n",
       "        vertical-align: top;\n",
       "    }\n",
       "\n",
       "    .dataframe thead th {\n",
       "        text-align: right;\n",
       "    }\n",
       "</style>\n",
       "<table border=\"1\" class=\"dataframe\">\n",
       "  <thead>\n",
       "    <tr style=\"text-align: right;\">\n",
       "      <th></th>\n",
       "      <th>id</th>\n",
       "      <th>days</th>\n",
       "      <th>mature</th>\n",
       "      <th>views</th>\n",
       "      <th>partner</th>\n",
       "      <th>new_id</th>\n",
       "    </tr>\n",
       "  </thead>\n",
       "  <tbody>\n",
       "    <tr>\n",
       "      <th>0</th>\n",
       "      <td>37905227</td>\n",
       "      <td>2149</td>\n",
       "      <td>True</td>\n",
       "      <td>162078</td>\n",
       "      <td>False</td>\n",
       "      <td>5079</td>\n",
       "    </tr>\n",
       "    <tr>\n",
       "      <th>1</th>\n",
       "      <td>63102384</td>\n",
       "      <td>1574</td>\n",
       "      <td>True</td>\n",
       "      <td>1370</td>\n",
       "      <td>False</td>\n",
       "      <td>4281</td>\n",
       "    </tr>\n",
       "    <tr>\n",
       "      <th>2</th>\n",
       "      <td>109414094</td>\n",
       "      <td>1034</td>\n",
       "      <td>True</td>\n",
       "      <td>6043</td>\n",
       "      <td>False</td>\n",
       "      <td>992</td>\n",
       "    </tr>\n",
       "    <tr>\n",
       "      <th>3</th>\n",
       "      <td>84163849</td>\n",
       "      <td>1319</td>\n",
       "      <td>True</td>\n",
       "      <td>94298</td>\n",
       "      <td>True</td>\n",
       "      <td>9021</td>\n",
       "    </tr>\n",
       "    <tr>\n",
       "      <th>4</th>\n",
       "      <td>38240837</td>\n",
       "      <td>2137</td>\n",
       "      <td>True</td>\n",
       "      <td>2323</td>\n",
       "      <td>False</td>\n",
       "      <td>330</td>\n",
       "    </tr>\n",
       "  </tbody>\n",
       "</table>\n",
       "</div>"
      ],
      "text/plain": [
       "          id  days  mature   views  partner  new_id\n",
       "0   37905227  2149    True  162078    False    5079\n",
       "1   63102384  1574    True    1370    False    4281\n",
       "2  109414094  1034    True    6043    False     992\n",
       "3   84163849  1319    True   94298     True    9021\n",
       "4   38240837  2137    True    2323    False     330"
      ]
     },
     "execution_count": 4,
     "metadata": {},
     "output_type": "execute_result"
    }
   ],
   "source": [
    "nodes.head()"
   ]
  },
  {
   "cell_type": "code",
   "execution_count": 5,
   "metadata": {
    "colab": {
     "base_uri": "https://localhost:8080/",
     "height": 206
    },
    "id": "pm4AAeJCfbmt",
    "outputId": "7699c418-ff62-4fef-f4bb-38154c404a07"
   },
   "outputs": [
    {
     "data": {
      "text/html": [
       "<div>\n",
       "<style scoped>\n",
       "    .dataframe tbody tr th:only-of-type {\n",
       "        vertical-align: middle;\n",
       "    }\n",
       "\n",
       "    .dataframe tbody tr th {\n",
       "        vertical-align: top;\n",
       "    }\n",
       "\n",
       "    .dataframe thead th {\n",
       "        text-align: right;\n",
       "    }\n",
       "</style>\n",
       "<table border=\"1\" class=\"dataframe\">\n",
       "  <thead>\n",
       "    <tr style=\"text-align: right;\">\n",
       "      <th></th>\n",
       "      <th>from</th>\n",
       "      <th>to</th>\n",
       "    </tr>\n",
       "  </thead>\n",
       "  <tbody>\n",
       "    <tr>\n",
       "      <th>0</th>\n",
       "      <td>0</td>\n",
       "      <td>9206</td>\n",
       "    </tr>\n",
       "    <tr>\n",
       "      <th>1</th>\n",
       "      <td>0</td>\n",
       "      <td>7787</td>\n",
       "    </tr>\n",
       "    <tr>\n",
       "      <th>2</th>\n",
       "      <td>0</td>\n",
       "      <td>2145</td>\n",
       "    </tr>\n",
       "    <tr>\n",
       "      <th>3</th>\n",
       "      <td>0</td>\n",
       "      <td>2684</td>\n",
       "    </tr>\n",
       "    <tr>\n",
       "      <th>4</th>\n",
       "      <td>0</td>\n",
       "      <td>7275</td>\n",
       "    </tr>\n",
       "  </tbody>\n",
       "</table>\n",
       "</div>"
      ],
      "text/plain": [
       "   from    to\n",
       "0     0  9206\n",
       "1     0  7787\n",
       "2     0  2145\n",
       "3     0  2684\n",
       "4     0  7275"
      ]
     },
     "execution_count": 5,
     "metadata": {},
     "output_type": "execute_result"
    }
   ],
   "source": [
    "edges.head()"
   ]
  },
  {
   "cell_type": "code",
   "execution_count": 6,
   "metadata": {
    "colab": {
     "base_uri": "https://localhost:8080/",
     "height": 300
    },
    "id": "RjZ4LUMJfexP",
    "outputId": "ca629b33-4423-4421-d7cd-bde7f571e418"
   },
   "outputs": [
    {
     "data": {
      "text/html": [
       "<div>\n",
       "<style scoped>\n",
       "    .dataframe tbody tr th:only-of-type {\n",
       "        vertical-align: middle;\n",
       "    }\n",
       "\n",
       "    .dataframe tbody tr th {\n",
       "        vertical-align: top;\n",
       "    }\n",
       "\n",
       "    .dataframe thead th {\n",
       "        text-align: right;\n",
       "    }\n",
       "</style>\n",
       "<table border=\"1\" class=\"dataframe\">\n",
       "  <thead>\n",
       "    <tr style=\"text-align: right;\">\n",
       "      <th></th>\n",
       "      <th>from</th>\n",
       "      <th>to</th>\n",
       "    </tr>\n",
       "  </thead>\n",
       "  <tbody>\n",
       "    <tr>\n",
       "      <th>count</th>\n",
       "      <td>153138.000000</td>\n",
       "      <td>153138.000000</td>\n",
       "    </tr>\n",
       "    <tr>\n",
       "      <th>mean</th>\n",
       "      <td>3672.458103</td>\n",
       "      <td>6060.992510</td>\n",
       "    </tr>\n",
       "    <tr>\n",
       "      <th>std</th>\n",
       "      <td>2511.565127</td>\n",
       "      <td>2437.219301</td>\n",
       "    </tr>\n",
       "    <tr>\n",
       "      <th>min</th>\n",
       "      <td>0.000000</td>\n",
       "      <td>5.000000</td>\n",
       "    </tr>\n",
       "    <tr>\n",
       "      <th>25%</th>\n",
       "      <td>1613.000000</td>\n",
       "      <td>4150.000000</td>\n",
       "    </tr>\n",
       "    <tr>\n",
       "      <th>50%</th>\n",
       "      <td>3173.000000</td>\n",
       "      <td>6619.000000</td>\n",
       "    </tr>\n",
       "    <tr>\n",
       "      <th>75%</th>\n",
       "      <td>5519.000000</td>\n",
       "      <td>8080.000000</td>\n",
       "    </tr>\n",
       "    <tr>\n",
       "      <th>max</th>\n",
       "      <td>9488.000000</td>\n",
       "      <td>9497.000000</td>\n",
       "    </tr>\n",
       "  </tbody>\n",
       "</table>\n",
       "</div>"
      ],
      "text/plain": [
       "                from             to\n",
       "count  153138.000000  153138.000000\n",
       "mean     3672.458103    6060.992510\n",
       "std      2511.565127    2437.219301\n",
       "min         0.000000       5.000000\n",
       "25%      1613.000000    4150.000000\n",
       "50%      3173.000000    6619.000000\n",
       "75%      5519.000000    8080.000000\n",
       "max      9488.000000    9497.000000"
      ]
     },
     "execution_count": 6,
     "metadata": {},
     "output_type": "execute_result"
    }
   ],
   "source": [
    "edges.describe()"
   ]
  },
  {
   "cell_type": "markdown",
   "metadata": {
    "id": "qVH0oRvKfjuk"
   },
   "source": [
    "We can see from here that it uses new_id instead of id so we will drop id collumn and only use new_id"
   ]
  },
  {
   "cell_type": "markdown",
   "metadata": {
    "id": "CMeIQUfuKFCC"
   },
   "source": [
    "### Dropping unnessesary columns"
   ]
  },
  {
   "cell_type": "code",
   "execution_count": 7,
   "metadata": {
    "id": "2RfkZ_UBfvR1"
   },
   "outputs": [],
   "source": [
    "nodes.drop(\"id\", axis=1, inplace=True)"
   ]
  },
  {
   "cell_type": "code",
   "execution_count": 8,
   "metadata": {
    "id": "2D4CkSl2fzOV"
   },
   "outputs": [],
   "source": [
    "nodes.rename(columns = {'new_id':'id'}, inplace = True)"
   ]
  },
  {
   "cell_type": "code",
   "execution_count": 9,
   "metadata": {
    "colab": {
     "base_uri": "https://localhost:8080/",
     "height": 206
    },
    "id": "DIGhx74_gEko",
    "outputId": "79790fc5-e965-4008-8058-fb3b58370562"
   },
   "outputs": [
    {
     "data": {
      "text/html": [
       "<div>\n",
       "<style scoped>\n",
       "    .dataframe tbody tr th:only-of-type {\n",
       "        vertical-align: middle;\n",
       "    }\n",
       "\n",
       "    .dataframe tbody tr th {\n",
       "        vertical-align: top;\n",
       "    }\n",
       "\n",
       "    .dataframe thead th {\n",
       "        text-align: right;\n",
       "    }\n",
       "</style>\n",
       "<table border=\"1\" class=\"dataframe\">\n",
       "  <thead>\n",
       "    <tr style=\"text-align: right;\">\n",
       "      <th></th>\n",
       "      <th>days</th>\n",
       "      <th>mature</th>\n",
       "      <th>views</th>\n",
       "      <th>partner</th>\n",
       "      <th>id</th>\n",
       "    </tr>\n",
       "  </thead>\n",
       "  <tbody>\n",
       "    <tr>\n",
       "      <th>0</th>\n",
       "      <td>2149</td>\n",
       "      <td>True</td>\n",
       "      <td>162078</td>\n",
       "      <td>False</td>\n",
       "      <td>5079</td>\n",
       "    </tr>\n",
       "    <tr>\n",
       "      <th>1</th>\n",
       "      <td>1574</td>\n",
       "      <td>True</td>\n",
       "      <td>1370</td>\n",
       "      <td>False</td>\n",
       "      <td>4281</td>\n",
       "    </tr>\n",
       "    <tr>\n",
       "      <th>2</th>\n",
       "      <td>1034</td>\n",
       "      <td>True</td>\n",
       "      <td>6043</td>\n",
       "      <td>False</td>\n",
       "      <td>992</td>\n",
       "    </tr>\n",
       "    <tr>\n",
       "      <th>3</th>\n",
       "      <td>1319</td>\n",
       "      <td>True</td>\n",
       "      <td>94298</td>\n",
       "      <td>True</td>\n",
       "      <td>9021</td>\n",
       "    </tr>\n",
       "    <tr>\n",
       "      <th>4</th>\n",
       "      <td>2137</td>\n",
       "      <td>True</td>\n",
       "      <td>2323</td>\n",
       "      <td>False</td>\n",
       "      <td>330</td>\n",
       "    </tr>\n",
       "  </tbody>\n",
       "</table>\n",
       "</div>"
      ],
      "text/plain": [
       "   days  mature   views  partner    id\n",
       "0  2149    True  162078    False  5079\n",
       "1  1574    True    1370    False  4281\n",
       "2  1034    True    6043    False   992\n",
       "3  1319    True   94298     True  9021\n",
       "4  2137    True    2323    False   330"
      ]
     },
     "execution_count": 9,
     "metadata": {},
     "output_type": "execute_result"
    }
   ],
   "source": [
    "nodes.head()"
   ]
  },
  {
   "cell_type": "markdown",
   "metadata": {
    "id": "gl9Cz06wKFCD"
   },
   "source": [
    "### Checking for null values"
   ]
  },
  {
   "cell_type": "code",
   "execution_count": 10,
   "metadata": {
    "colab": {
     "base_uri": "https://localhost:8080/"
    },
    "id": "PnEgR1q68-t5",
    "outputId": "dcc8c75f-50af-4eac-bcd2-329a8315d849"
   },
   "outputs": [
    {
     "data": {
      "text/plain": [
       "days       0\n",
       "mature     0\n",
       "views      0\n",
       "partner    0\n",
       "id         0\n",
       "dtype: int64"
      ]
     },
     "execution_count": 10,
     "metadata": {},
     "output_type": "execute_result"
    }
   ],
   "source": [
    "nodes.isnull().sum()"
   ]
  },
  {
   "cell_type": "code",
   "execution_count": 11,
   "metadata": {
    "colab": {
     "base_uri": "https://localhost:8080/"
    },
    "id": "Az0Gkfxx-TNt",
    "outputId": "5a9373db-f3ad-4316-9546-884cd93da33a"
   },
   "outputs": [
    {
     "data": {
      "text/plain": [
       "from    0\n",
       "to      0\n",
       "dtype: int64"
      ]
     },
     "execution_count": 11,
     "metadata": {},
     "output_type": "execute_result"
    }
   ],
   "source": [
    "edges.isnull().sum()"
   ]
  },
  {
   "cell_type": "markdown",
   "metadata": {
    "id": "YF49j27ze9mq"
   },
   "source": [
    "There are no NAN values in dataset"
   ]
  },
  {
   "cell_type": "markdown",
   "metadata": {
    "id": "QtMDHIpkKFCE"
   },
   "source": [
    "### Checking data types"
   ]
  },
  {
   "cell_type": "code",
   "execution_count": 12,
   "metadata": {
    "colab": {
     "base_uri": "https://localhost:8080/"
    },
    "id": "9Q5QvmO13TVb",
    "outputId": "e905f96c-6bc2-494c-d64f-f54e644da453"
   },
   "outputs": [
    {
     "data": {
      "text/plain": [
       "days       int64\n",
       "mature      bool\n",
       "views      int64\n",
       "partner     bool\n",
       "id         int64\n",
       "dtype: object"
      ]
     },
     "execution_count": 12,
     "metadata": {},
     "output_type": "execute_result"
    }
   ],
   "source": [
    "nodes.dtypes"
   ]
  },
  {
   "cell_type": "code",
   "execution_count": 13,
   "metadata": {
    "id": "micOV5RjvGZh"
   },
   "outputs": [],
   "source": [
    "#correcting datatypes\n",
    "\n",
    "nodes.mature = nodes.mature.astype(int) \n",
    "nodes.partner = nodes.partner.astype(int)"
   ]
  },
  {
   "cell_type": "code",
   "execution_count": 14,
   "metadata": {
    "colab": {
     "base_uri": "https://localhost:8080/"
    },
    "id": "_qDdIdKAyow5",
    "outputId": "9754ae25-204f-45ef-ee13-7ccdba8fb4a9"
   },
   "outputs": [
    {
     "data": {
      "text/plain": [
       "days       int64\n",
       "mature     int32\n",
       "views      int64\n",
       "partner    int32\n",
       "id         int64\n",
       "dtype: object"
      ]
     },
     "execution_count": 14,
     "metadata": {},
     "output_type": "execute_result"
    }
   ],
   "source": [
    "nodes.dtypes"
   ]
  },
  {
   "cell_type": "markdown",
   "metadata": {
    "id": "450BE5rZKFCF"
   },
   "source": [
    "### Visualizing"
   ]
  },
  {
   "cell_type": "code",
   "execution_count": 15,
   "metadata": {
    "colab": {
     "base_uri": "https://localhost:8080/",
     "height": 296
    },
    "id": "TtlZD-mWh7ye",
    "outputId": "9999d1c5-dbd1-4d82-97ab-64cb0a0abb6e"
   },
   "outputs": [
    {
     "data": {
      "text/plain": [
       "Text(0, 0.5, 'Views on Twitch')"
      ]
     },
     "execution_count": 15,
     "metadata": {},
     "output_type": "execute_result"
    },
    {
     "data": {
      "image/png": "[encoded data removed]",
      "text/plain": [
       "<Figure size 432x288 with 1 Axes>"
      ]
     },
     "metadata": {
      "needs_background": "light"
     },
     "output_type": "display_data"
    }
   ],
   "source": [
    "nodes_views = nodes.sort_values(by = ['views'])\n",
    "views = nodes_views['views']\n",
    "views = views.reset_index()\n",
    "plt.plot(views['views'])\n",
    "plt.yscale(\"log\")\n",
    "plt.title(\"\")\n",
    "plt.xlabel(\"sorted nodes (streamers)\")\n",
    "plt.ylabel(\"Views on Twitch\")"
   ]
  },
  {
   "cell_type": "code",
   "execution_count": 16,
   "metadata": {
    "colab": {
     "base_uri": "https://localhost:8080/",
     "height": 272
    },
    "id": "5X4fDvLZjuFl",
    "outputId": "414bfeed-43a6-4368-9fcb-250230e04a76"
   },
   "outputs": [
    {
     "data": {
      "text/plain": [
       "Text(0, 0.5, 'Days on Twitch')"
      ]
     },
     "execution_count": 16,
     "metadata": {},
     "output_type": "execute_result"
    },
    {
     "data": {
      "image/png": "[encoded data removed]",
      "text/plain": [
       "<Figure size 432x288 with 1 Axes>"
      ]
     },
     "metadata": {
      "needs_background": "light"
     },
     "output_type": "display_data"
    }
   ],
   "source": [
    "nodes_days = nodes.sort_values(by = ['days'])\n",
    "days = nodes_days['days']\n",
    "days = days.reset_index()\n",
    "plt.plot(days['days'])\n",
    "plt.yscale(\"log\")\n",
    "plt.xlabel(\"sorted nodes (streamers)\")\n",
    "plt.ylabel(\"Days on Twitch\")"
   ]
  },
  {
   "cell_type": "code",
   "execution_count": 17,
   "metadata": {
    "colab": {
     "base_uri": "https://localhost:8080/",
     "height": 455
    },
    "id": "Ode191fN386F",
    "outputId": "bf393052-1b10-42bd-f1fc-066af1cca38d"
   },
   "outputs": [
    {
     "data": {
      "text/html": [
       "<div>\n",
       "<style scoped>\n",
       "    .dataframe tbody tr th:only-of-type {\n",
       "        vertical-align: middle;\n",
       "    }\n",
       "\n",
       "    .dataframe tbody tr th {\n",
       "        vertical-align: top;\n",
       "    }\n",
       "\n",
       "    .dataframe thead th {\n",
       "        text-align: right;\n",
       "    }\n",
       "</style>\n",
       "<table border=\"1\" class=\"dataframe\">\n",
       "  <thead>\n",
       "    <tr style=\"text-align: right;\">\n",
       "      <th></th>\n",
       "      <th>days</th>\n",
       "      <th>mature</th>\n",
       "      <th>views</th>\n",
       "      <th>partner</th>\n",
       "    </tr>\n",
       "    <tr>\n",
       "      <th>id</th>\n",
       "      <th></th>\n",
       "      <th></th>\n",
       "      <th></th>\n",
       "      <th></th>\n",
       "    </tr>\n",
       "  </thead>\n",
       "  <tbody>\n",
       "    <tr>\n",
       "      <th>5079</th>\n",
       "      <td>2149</td>\n",
       "      <td>1</td>\n",
       "      <td>162078</td>\n",
       "      <td>0</td>\n",
       "    </tr>\n",
       "    <tr>\n",
       "      <th>4281</th>\n",
       "      <td>1574</td>\n",
       "      <td>1</td>\n",
       "      <td>1370</td>\n",
       "      <td>0</td>\n",
       "    </tr>\n",
       "    <tr>\n",
       "      <th>992</th>\n",
       "      <td>1034</td>\n",
       "      <td>1</td>\n",
       "      <td>6043</td>\n",
       "      <td>0</td>\n",
       "    </tr>\n",
       "    <tr>\n",
       "      <th>9021</th>\n",
       "      <td>1319</td>\n",
       "      <td>1</td>\n",
       "      <td>94298</td>\n",
       "      <td>1</td>\n",
       "    </tr>\n",
       "    <tr>\n",
       "      <th>330</th>\n",
       "      <td>2137</td>\n",
       "      <td>1</td>\n",
       "      <td>2323</td>\n",
       "      <td>0</td>\n",
       "    </tr>\n",
       "    <tr>\n",
       "      <th>...</th>\n",
       "      <td>...</td>\n",
       "      <td>...</td>\n",
       "      <td>...</td>\n",
       "      <td>...</td>\n",
       "    </tr>\n",
       "    <tr>\n",
       "      <th>4572</th>\n",
       "      <td>895</td>\n",
       "      <td>1</td>\n",
       "      <td>128</td>\n",
       "      <td>0</td>\n",
       "    </tr>\n",
       "    <tr>\n",
       "      <th>6355</th>\n",
       "      <td>2001</td>\n",
       "      <td>0</td>\n",
       "      <td>44</td>\n",
       "      <td>0</td>\n",
       "    </tr>\n",
       "    <tr>\n",
       "      <th>206</th>\n",
       "      <td>1784</td>\n",
       "      <td>1</td>\n",
       "      <td>2038</td>\n",
       "      <td>0</td>\n",
       "    </tr>\n",
       "    <tr>\n",
       "      <th>7695</th>\n",
       "      <td>2114</td>\n",
       "      <td>0</td>\n",
       "      <td>449</td>\n",
       "      <td>0</td>\n",
       "    </tr>\n",
       "    <tr>\n",
       "      <th>4451</th>\n",
       "      <td>1680</td>\n",
       "      <td>0</td>\n",
       "      <td>10638954</td>\n",
       "      <td>1</td>\n",
       "    </tr>\n",
       "  </tbody>\n",
       "</table>\n",
       "<p>9498 rows × 4 columns</p>\n",
       "</div>"
      ],
      "text/plain": [
       "      days  mature     views  partner\n",
       "id                                   \n",
       "5079  2149       1    162078        0\n",
       "4281  1574       1      1370        0\n",
       "992   1034       1      6043        0\n",
       "9021  1319       1     94298        1\n",
       "330   2137       1      2323        0\n",
       "...    ...     ...       ...      ...\n",
       "4572   895       1       128        0\n",
       "6355  2001       0        44        0\n",
       "206   1784       1      2038        0\n",
       "7695  2114       0       449        0\n",
       "4451  1680       0  10638954        1\n",
       "\n",
       "[9498 rows x 4 columns]"
      ]
     },
     "execution_count": 17,
     "metadata": {},
     "output_type": "execute_result"
    }
   ],
   "source": [
    "nodes.set_index('id')"
   ]
  },
  {
   "cell_type": "markdown",
   "metadata": {
    "id": "hqsvDwjIgplF"
   },
   "source": [
    "## 2. Graph analysis"
   ]
  },
  {
   "cell_type": "code",
   "execution_count": null,
   "metadata": {
    "id": "-opM_BSnw0JC"
   },
   "outputs": [],
   "source": [
    "nodes_dict = nodes.to_dict('index')"
   ]
  },
  {
   "cell_type": "code",
   "execution_count": null,
   "metadata": {
    "id": "iXCXpJmics-Y"
   },
   "outputs": [],
   "source": [
    "# creating the graph\n",
    "\n",
    "G_unweighted_undirected = nx.from_pandas_edgelist(edges, source='from', target='to')\n",
    "nx.set_node_attributes(G_unweighted_undirected, nodes_dict)"
   ]
  },
  {
   "cell_type": "code",
   "execution_count": null,
   "metadata": {
    "colab": {
     "base_uri": "https://localhost:8080/"
    },
    "id": "x6kGsBUqnUrS",
    "outputId": "28a915e0-0979-4dc3-97f5-7fd6256f9d62"
   },
   "outputs": [],
   "source": [
    "# Edge density\n",
    "nx.classes.function.density(G_unweighted_undirected) "
   ]
  },
  {
   "cell_type": "code",
   "execution_count": null,
   "metadata": {
    "colab": {
     "base_uri": "https://localhost:8080/"
    },
    "id": "wX_voB4DMfnU",
    "outputId": "a36d464f-3516-4f64-979f-6778ccd55a73"
   },
   "outputs": [],
   "source": [
    "# Transitivity\n",
    "nx.transitivity(G_unweighted_undirected)"
   ]
  },
  {
   "cell_type": "code",
   "execution_count": null,
   "metadata": {
    "colab": {
     "base_uri": "https://localhost:8080/"
    },
    "id": "yrPtJxguWMEh",
    "outputId": "83d0050d-03c5-4693-a110-0ec56cc90c4d"
   },
   "outputs": [],
   "source": [
    "# Average shortest path length\n",
    "nx.average_shortest_path_length(G_unweighted_undirected) "
   ]
  },
  {
   "cell_type": "code",
   "execution_count": null,
   "metadata": {
    "colab": {
     "base_uri": "https://localhost:8080/"
    },
    "id": "OHRTRMfxn73J",
    "outputId": "b2dc903a-c4e7-4847-eb66-fef37c629361"
   },
   "outputs": [],
   "source": [
    "# Clustering coefficient\n",
    "nx.average_clustering(G_unweighted_undirected) "
   ]
  },
  {
   "cell_type": "code",
   "execution_count": null,
   "metadata": {
    "colab": {
     "base_uri": "https://localhost:8080/"
    },
    "id": "MsAnz2IcWQd7",
    "outputId": "01c33c99-09ab-4c46-a36b-71c13cfe4593"
   },
   "outputs": [],
   "source": [
    "# Diameter of the graph \n",
    "#nx.diameter(G_unweighted_undirected) "
   ]
  },
  {
   "cell_type": "code",
   "execution_count": null,
   "metadata": {
    "id": "5dqBUg3sjZ_p"
   },
   "outputs": [],
   "source": [
    "# Betweenness centrality\n",
    "#nx.betweenness_centrality(G_unweighted_undirected) "
   ]
  },
  {
   "cell_type": "markdown",
   "metadata": {
    "id": "ImQ5-vMRkFNV"
   },
   "source": [
    "# 3. Attribute analysis "
   ]
  },
  {
   "cell_type": "code",
   "execution_count": null,
   "metadata": {
    "colab": {
     "base_uri": "https://localhost:8080/",
     "height": 580
    },
    "id": "G263WeIBJLw7",
    "outputId": "9a40a6d9-b410-46f0-cd7a-fa808d12f1c1"
   },
   "outputs": [],
   "source": [
    "# Calculating Correlation\n",
    "\n",
    "corr = nodes[['days','mature','views','partner']].corr()\n",
    "mask = np.triu(np.ones_like(corr, dtype=bool))\n",
    "\n",
    "f, ax = plt.subplots(figsize=(11, 9))\n",
    "\n",
    "# Generate a custom diverging colormap\n",
    "cmap = sns.diverging_palette(250, 30, l=65, center=\"light\", as_cmap=True)\n",
    "\n",
    "\n",
    "# Draw the heatmap with the mask and correct aspect ratio\n",
    "p = sns.heatmap(corr, mask=mask, cmap=cmap, vmax=.3, center=0,\n",
    "            square=True, linewidths=.5, cbar_kws={\"shrink\": .5})\n",
    "p.set(title = \"Correlation heatmap\")"
   ]
  },
  {
   "cell_type": "markdown",
   "metadata": {
    "id": "Xm1ZMZZBJiFz"
   },
   "source": [
    "## 4. Model building - classification tasks"
   ]
  },
  {
   "cell_type": "markdown",
   "metadata": {
    "id": "onvpuwWiKFCI"
   },
   "source": [
    "## GraphSAGE"
   ]
  },
  {
   "cell_type": "markdown",
   "metadata": {
    "id": "jTpOZir8KFCI"
   },
   "source": [
    "GraphSAGE is an inductive framework that leverages node attribute information to efficiently generate representations on previously unseen data. Hence, it is a framework for inductive representation learning on large graphs. It is used to generate low-dimensional vector representations for nodes, and is especially useful for graphs that have rich node attribute information."
   ]
  },
  {
   "cell_type": "code",
   "execution_count": 18,
   "metadata": {
    "colab": {
     "base_uri": "https://localhost:8080/"
    },
    "id": "KaosjCa-KFCJ",
    "outputId": "abc60602-4ff6-4421-f72a-c839dc53ea3c",
    "scrolled": true
   },
   "outputs": [
    {
     "name": "stdout",
     "output_type": "stream",
     "text": [
      "Requirement already satisfied: stellargraph in c:\\users\\lisannal\\anaconda3\\lib\\site-packages (1.2.1)\n",
      "Requirement already satisfied: pandas>=0.24 in c:\\users\\lisannal\\anaconda3\\lib\\site-packages (from stellargraph) (1.2.4)\n",
      "Requirement already satisfied: tensorflow>=2.1.0 in c:\\users\\lisannal\\anaconda3\\lib\\site-packages (from stellargraph) (2.8.0)\n",
      "Requirement already satisfied: scipy>=1.1.0 in c:\\users\\lisannal\\anaconda3\\lib\\site-packages (from stellargraph) (1.6.2)\n",
      "Requirement already satisfied: matplotlib>=2.2 in c:\\users\\lisannal\\anaconda3\\lib\\site-packages (from stellargraph) (3.3.4)\n",
      "Requirement already satisfied: gensim>=3.4.0 in c:\\users\\lisannal\\anaconda3\\lib\\site-packages (from stellargraph) (4.2.0)\n",
      "Requirement already satisfied: numpy>=1.14 in c:\\users\\lisannal\\anaconda3\\lib\\site-packages (from stellargraph) (1.20.1)\n",
      "Requirement already satisfied: networkx>=2.2 in c:\\users\\lisannal\\anaconda3\\lib\\site-packages (from stellargraph) (2.5)\n",
      "Requirement already satisfied: scikit-learn>=0.20 in c:\\users\\lisannal\\anaconda3\\lib\\site-packages (from stellargraph) (0.24.1)\n",
      "Requirement already satisfied: smart-open>=1.8.1 in c:\\users\\lisannal\\anaconda3\\lib\\site-packages (from gensim>=3.4.0->stellargraph) (6.0.0)\n",
      "Requirement already satisfied: Cython==0.29.28 in c:\\users\\lisannal\\anaconda3\\lib\\site-packages (from gensim>=3.4.0->stellargraph) (0.29.28)\n",
      "Requirement already satisfied: pyparsing!=2.0.4,!=2.1.2,!=2.1.6,>=2.0.3 in c:\\users\\lisannal\\anaconda3\\lib\\site-packages (from matplotlib>=2.2->stellargraph) (2.4.7)\n",
      "Requirement already satisfied: kiwisolver>=1.0.1 in c:\\users\\lisannal\\anaconda3\\lib\\site-packages (from matplotlib>=2.2->stellargraph) (1.3.1)\n",
      "Requirement already satisfied: pillow>=6.2.0 in c:\\users\\lisannal\\anaconda3\\lib\\site-packages (from matplotlib>=2.2->stellargraph) (8.2.0)\n",
      "Requirement already satisfied: cycler>=0.10 in c:\\users\\lisannal\\anaconda3\\lib\\site-packages (from matplotlib>=2.2->stellargraph) (0.10.0)\n",
      "Requirement already satisfied: python-dateutil>=2.1 in c:\\users\\lisannal\\anaconda3\\lib\\site-packages (from matplotlib>=2.2->stellargraph) (2.8.1)\n",
      "Requirement already satisfied: six in c:\\users\\lisannal\\anaconda3\\lib\\site-packages (from cycler>=0.10->matplotlib>=2.2->stellargraph) (1.15.0)\n",
      "Requirement already satisfied: decorator>=4.3.0 in c:\\users\\lisannal\\anaconda3\\lib\\site-packages (from networkx>=2.2->stellargraph) (5.0.6)\n",
      "Requirement already satisfied: pytz>=2017.3 in c:\\users\\lisannal\\anaconda3\\lib\\site-packages (from pandas>=0.24->stellargraph) (2021.1)\n",
      "Requirement already satisfied: threadpoolctl>=2.0.0 in c:\\users\\lisannal\\anaconda3\\lib\\site-packages (from scikit-learn>=0.20->stellargraph) (2.1.0)\n",
      "Requirement already satisfied: joblib>=0.11 in c:\\users\\lisannal\\anaconda3\\lib\\site-packages (from scikit-learn>=0.20->stellargraph) (1.0.1)\n",
      "Requirement already satisfied: keras<2.9,>=2.8.0rc0 in c:\\users\\lisannal\\anaconda3\\lib\\site-packages (from tensorflow>=2.1.0->stellargraph) (2.8.0)\n",
      "Requirement already satisfied: libclang>=9.0.1 in c:\\users\\lisannal\\anaconda3\\lib\\site-packages (from tensorflow>=2.1.0->stellargraph) (14.0.1)\n",
      "Requirement already satisfied: google-pasta>=0.1.1 in c:\\users\\lisannal\\anaconda3\\lib\\site-packages (from tensorflow>=2.1.0->stellargraph) (0.2.0)\n",
      "Requirement already satisfied: flatbuffers>=1.12 in c:\\users\\lisannal\\anaconda3\\lib\\site-packages (from tensorflow>=2.1.0->stellargraph) (2.0)\n",
      "Requirement already satisfied: keras-preprocessing>=1.1.1 in c:\\users\\lisannal\\anaconda3\\lib\\site-packages (from tensorflow>=2.1.0->stellargraph) (1.1.2)\n",
      "Requirement already satisfied: astunparse>=1.6.0 in c:\\users\\lisannal\\anaconda3\\lib\\site-packages (from tensorflow>=2.1.0->stellargraph) (1.6.3)\n",
      "Requirement already satisfied: typing-extensions>=3.6.6 in c:\\users\\lisannal\\anaconda3\\lib\\site-packages (from tensorflow>=2.1.0->stellargraph) (3.7.4.3)\n",
      "Requirement already satisfied: wrapt>=1.11.0 in c:\\users\\lisannal\\anaconda3\\lib\\site-packages (from tensorflow>=2.1.0->stellargraph) (1.12.1)\n",
      "Requirement already satisfied: tf-estimator-nightly==2.8.0.dev2021122109 in c:\\users\\lisannal\\anaconda3\\lib\\site-packages (from tensorflow>=2.1.0->stellargraph) (2.8.0.dev2021122109)\n",
      "Requirement already satisfied: h5py>=2.9.0 in c:\\users\\lisannal\\anaconda3\\lib\\site-packages (from tensorflow>=2.1.0->stellargraph) (2.10.0)\n",
      "Requirement already satisfied: tensorboard<2.9,>=2.8 in c:\\users\\lisannal\\anaconda3\\lib\\site-packages (from tensorflow>=2.1.0->stellargraph) (2.8.0)\n",
      "Requirement already satisfied: absl-py>=0.4.0 in c:\\users\\lisannal\\anaconda3\\lib\\site-packages (from tensorflow>=2.1.0->stellargraph) (1.0.0)\n",
      "Requirement already satisfied: opt-einsum>=2.3.2 in c:\\users\\lisannal\\anaconda3\\lib\\site-packages (from tensorflow>=2.1.0->stellargraph) (3.3.0)\n",
      "Requirement already satisfied: gast>=0.2.1 in c:\\users\\lisannal\\anaconda3\\lib\\site-packages (from tensorflow>=2.1.0->stellargraph) (0.5.3)\n",
      "Requirement already satisfied: protobuf>=3.9.2 in c:\\users\\lisannal\\anaconda3\\lib\\site-packages (from tensorflow>=2.1.0->stellargraph) (3.20.1)\n",
      "Requirement already satisfied: setuptools in c:\\users\\lisannal\\anaconda3\\lib\\site-packages (from tensorflow>=2.1.0->stellargraph) (52.0.0.post20210125)\n",
      "Requirement already satisfied: termcolor>=1.1.0 in c:\\users\\lisannal\\anaconda3\\lib\\site-packages (from tensorflow>=2.1.0->stellargraph) (1.1.0)\n",
      "Requirement already satisfied: grpcio<2.0,>=1.24.3 in c:\\users\\lisannal\\anaconda3\\lib\\site-packages (from tensorflow>=2.1.0->stellargraph) (1.46.0)\n",
      "Requirement already satisfied: tensorflow-io-gcs-filesystem>=0.23.1 in c:\\users\\lisannal\\anaconda3\\lib\\site-packages (from tensorflow>=2.1.0->stellargraph) (0.25.0)\n",
      "Requirement already satisfied: wheel<1.0,>=0.23.0 in c:\\users\\lisannal\\anaconda3\\lib\\site-packages (from astunparse>=1.6.0->tensorflow>=2.1.0->stellargraph) (0.36.2)\n",
      "Requirement already satisfied: google-auth<3,>=1.6.3 in c:\\users\\lisannal\\anaconda3\\lib\\site-packages (from tensorboard<2.9,>=2.8->tensorflow>=2.1.0->stellargraph) (2.6.6)\n",
      "Requirement already satisfied: tensorboard-data-server<0.7.0,>=0.6.0 in c:\\users\\lisannal\\anaconda3\\lib\\site-packages (from tensorboard<2.9,>=2.8->tensorflow>=2.1.0->stellargraph) (0.6.1)\n",
      "Requirement already satisfied: markdown>=2.6.8 in c:\\users\\lisannal\\anaconda3\\lib\\site-packages (from tensorboard<2.9,>=2.8->tensorflow>=2.1.0->stellargraph) (3.3.6)\n",
      "Requirement already satisfied: tensorboard-plugin-wit>=1.6.0 in c:\\users\\lisannal\\anaconda3\\lib\\site-packages (from tensorboard<2.9,>=2.8->tensorflow>=2.1.0->stellargraph) (1.8.1)\n",
      "Requirement already satisfied: werkzeug>=0.11.15 in c:\\users\\lisannal\\anaconda3\\lib\\site-packages (from tensorboard<2.9,>=2.8->tensorflow>=2.1.0->stellargraph) (1.0.1)\n",
      "Requirement already satisfied: requests<3,>=2.21.0 in c:\\users\\lisannal\\anaconda3\\lib\\site-packages (from tensorboard<2.9,>=2.8->tensorflow>=2.1.0->stellargraph) (2.25.1)\n",
      "Requirement already satisfied: google-auth-oauthlib<0.5,>=0.4.1 in c:\\users\\lisannal\\anaconda3\\lib\\site-packages (from tensorboard<2.9,>=2.8->tensorflow>=2.1.0->stellargraph) (0.4.6)\n",
      "Requirement already satisfied: pyasn1-modules>=0.2.1 in c:\\users\\lisannal\\anaconda3\\lib\\site-packages (from google-auth<3,>=1.6.3->tensorboard<2.9,>=2.8->tensorflow>=2.1.0->stellargraph) (0.2.8)\n",
      "Requirement already satisfied: cachetools<6.0,>=2.0.0 in c:\\users\\lisannal\\anaconda3\\lib\\site-packages (from google-auth<3,>=1.6.3->tensorboard<2.9,>=2.8->tensorflow>=2.1.0->stellargraph) (5.0.0)\n",
      "Requirement already satisfied: rsa<5,>=3.1.4 in c:\\users\\lisannal\\anaconda3\\lib\\site-packages (from google-auth<3,>=1.6.3->tensorboard<2.9,>=2.8->tensorflow>=2.1.0->stellargraph) (4.8)\n",
      "Requirement already satisfied: requests-oauthlib>=0.7.0 in c:\\users\\lisannal\\anaconda3\\lib\\site-packages (from google-auth-oauthlib<0.5,>=0.4.1->tensorboard<2.9,>=2.8->tensorflow>=2.1.0->stellargraph) (1.3.1)\n",
      "Requirement already satisfied: importlib-metadata>=4.4 in c:\\users\\lisannal\\anaconda3\\lib\\site-packages (from markdown>=2.6.8->tensorboard<2.9,>=2.8->tensorflow>=2.1.0->stellargraph) (4.11.3)\n",
      "Requirement already satisfied: zipp>=0.5 in c:\\users\\lisannal\\anaconda3\\lib\\site-packages (from importlib-metadata>=4.4->markdown>=2.6.8->tensorboard<2.9,>=2.8->tensorflow>=2.1.0->stellargraph) (3.4.1)\n",
      "Requirement already satisfied: pyasn1<0.5.0,>=0.4.6 in c:\\users\\lisannal\\anaconda3\\lib\\site-packages (from pyasn1-modules>=0.2.1->google-auth<3,>=1.6.3->tensorboard<2.9,>=2.8->tensorflow>=2.1.0->stellargraph) (0.4.8)\n",
      "Requirement already satisfied: certifi>=2017.4.17 in c:\\users\\lisannal\\anaconda3\\lib\\site-packages (from requests<3,>=2.21.0->tensorboard<2.9,>=2.8->tensorflow>=2.1.0->stellargraph) (2020.12.5)\n",
      "Requirement already satisfied: idna<3,>=2.5 in c:\\users\\lisannal\\anaconda3\\lib\\site-packages (from requests<3,>=2.21.0->tensorboard<2.9,>=2.8->tensorflow>=2.1.0->stellargraph) (2.10)\n",
      "Requirement already satisfied: chardet<5,>=3.0.2 in c:\\users\\lisannal\\anaconda3\\lib\\site-packages (from requests<3,>=2.21.0->tensorboard<2.9,>=2.8->tensorflow>=2.1.0->stellargraph) (4.0.0)\n",
      "Requirement already satisfied: urllib3<1.27,>=1.21.1 in c:\\users\\lisannal\\anaconda3\\lib\\site-packages (from requests<3,>=2.21.0->tensorboard<2.9,>=2.8->tensorflow>=2.1.0->stellargraph) (1.26.4)\n",
      "Requirement already satisfied: oauthlib>=3.0.0 in c:\\users\\lisannal\\anaconda3\\lib\\site-packages (from requests-oauthlib>=0.7.0->google-auth-oauthlib<0.5,>=0.4.1->tensorboard<2.9,>=2.8->tensorflow>=2.1.0->stellargraph) (3.2.0)\n"
     ]
    }
   ],
   "source": [
    "!pip install stellargraph\n",
    "import itertools\n",
    "import os\n",
    "\n",
    "from sklearn.manifold import TSNE\n",
    "\n",
    "import stellargraph as sg\n",
    "from stellargraph import StellarGraph\n",
    "from stellargraph import globalvar\n",
    "from stellargraph.mapper import GraphSAGENodeGenerator\n",
    "from stellargraph.layer import GraphSAGE\n",
    "\n",
    "from tensorflow.keras import layers, optimizers, losses, metrics, Model\n",
    "from sklearn import preprocessing, feature_extraction, model_selection\n",
    "from IPython.display import display, HTML\n",
    "import matplotlib.pyplot as plt\n",
    "\n",
    "%matplotlib inline"
   ]
  },
  {
   "cell_type": "code",
   "execution_count": 19,
   "metadata": {
    "colab": {
     "base_uri": "https://localhost:8080/"
    },
    "id": "H_tPMCJhKFCJ",
    "outputId": "81fca0f5-0041-453b-9cc1-13ffebb64397"
   },
   "outputs": [
    {
     "name": "stdout",
     "output_type": "stream",
     "text": [
      "Version: 1.2.1\n"
     ]
    }
   ],
   "source": [
    "print(\"Version:\", sg.version.__version__)"
   ]
  },
  {
   "cell_type": "markdown",
   "metadata": {
    "id": "15qb5pFgKFCJ"
   },
   "source": [
    "### 1. Data preparation"
   ]
  },
  {
   "cell_type": "code",
   "execution_count": 20,
   "metadata": {
    "colab": {
     "base_uri": "https://localhost:8080/",
     "height": 206
    },
    "id": "4yZE0UIQKFCJ",
    "outputId": "5f61742c-703a-4f36-ad39-57deb5530e37"
   },
   "outputs": [
    {
     "data": {
      "text/html": [
       "<div>\n",
       "<style scoped>\n",
       "    .dataframe tbody tr th:only-of-type {\n",
       "        vertical-align: middle;\n",
       "    }\n",
       "\n",
       "    .dataframe tbody tr th {\n",
       "        vertical-align: top;\n",
       "    }\n",
       "\n",
       "    .dataframe thead th {\n",
       "        text-align: right;\n",
       "    }\n",
       "</style>\n",
       "<table border=\"1\" class=\"dataframe\">\n",
       "  <thead>\n",
       "    <tr style=\"text-align: right;\">\n",
       "      <th></th>\n",
       "      <th>from</th>\n",
       "      <th>to</th>\n",
       "    </tr>\n",
       "  </thead>\n",
       "  <tbody>\n",
       "    <tr>\n",
       "      <th>0</th>\n",
       "      <td>0</td>\n",
       "      <td>9206</td>\n",
       "    </tr>\n",
       "    <tr>\n",
       "      <th>1</th>\n",
       "      <td>0</td>\n",
       "      <td>7787</td>\n",
       "    </tr>\n",
       "    <tr>\n",
       "      <th>2</th>\n",
       "      <td>0</td>\n",
       "      <td>2145</td>\n",
       "    </tr>\n",
       "    <tr>\n",
       "      <th>3</th>\n",
       "      <td>0</td>\n",
       "      <td>2684</td>\n",
       "    </tr>\n",
       "    <tr>\n",
       "      <th>4</th>\n",
       "      <td>0</td>\n",
       "      <td>7275</td>\n",
       "    </tr>\n",
       "  </tbody>\n",
       "</table>\n",
       "</div>"
      ],
      "text/plain": [
       "   from    to\n",
       "0     0  9206\n",
       "1     0  7787\n",
       "2     0  2145\n",
       "3     0  2684\n",
       "4     0  7275"
      ]
     },
     "execution_count": 20,
     "metadata": {},
     "output_type": "execute_result"
    }
   ],
   "source": [
    "edges.head()"
   ]
  },
  {
   "cell_type": "code",
   "execution_count": 22,
   "metadata": {
    "colab": {
     "base_uri": "https://localhost:8080/",
     "height": 206
    },
    "id": "EjX5aXpEKFCK",
    "outputId": "e34875fb-edd3-4643-b0e6-f7dee226be41"
   },
   "outputs": [
    {
     "data": {
      "text/html": [
       "<div>\n",
       "<style scoped>\n",
       "    .dataframe tbody tr th:only-of-type {\n",
       "        vertical-align: middle;\n",
       "    }\n",
       "\n",
       "    .dataframe tbody tr th {\n",
       "        vertical-align: top;\n",
       "    }\n",
       "\n",
       "    .dataframe thead th {\n",
       "        text-align: right;\n",
       "    }\n",
       "</style>\n",
       "<table border=\"1\" class=\"dataframe\">\n",
       "  <thead>\n",
       "    <tr style=\"text-align: right;\">\n",
       "      <th></th>\n",
       "      <th>days</th>\n",
       "      <th>mature</th>\n",
       "      <th>views</th>\n",
       "      <th>partner</th>\n",
       "      <th>id</th>\n",
       "    </tr>\n",
       "  </thead>\n",
       "  <tbody>\n",
       "    <tr>\n",
       "      <th>0</th>\n",
       "      <td>2149</td>\n",
       "      <td>1</td>\n",
       "      <td>162078</td>\n",
       "      <td>0</td>\n",
       "      <td>5079</td>\n",
       "    </tr>\n",
       "    <tr>\n",
       "      <th>1</th>\n",
       "      <td>1574</td>\n",
       "      <td>1</td>\n",
       "      <td>1370</td>\n",
       "      <td>0</td>\n",
       "      <td>4281</td>\n",
       "    </tr>\n",
       "    <tr>\n",
       "      <th>2</th>\n",
       "      <td>1034</td>\n",
       "      <td>1</td>\n",
       "      <td>6043</td>\n",
       "      <td>0</td>\n",
       "      <td>992</td>\n",
       "    </tr>\n",
       "    <tr>\n",
       "      <th>3</th>\n",
       "      <td>1319</td>\n",
       "      <td>1</td>\n",
       "      <td>94298</td>\n",
       "      <td>1</td>\n",
       "      <td>9021</td>\n",
       "    </tr>\n",
       "    <tr>\n",
       "      <th>4</th>\n",
       "      <td>2137</td>\n",
       "      <td>1</td>\n",
       "      <td>2323</td>\n",
       "      <td>0</td>\n",
       "      <td>330</td>\n",
       "    </tr>\n",
       "  </tbody>\n",
       "</table>\n",
       "</div>"
      ],
      "text/plain": [
       "   days  mature   views  partner    id\n",
       "0  2149       1  162078        0  5079\n",
       "1  1574       1    1370        0  4281\n",
       "2  1034       1    6043        0   992\n",
       "3  1319       1   94298        1  9021\n",
       "4  2137       1    2323        0   330"
      ]
     },
     "execution_count": 22,
     "metadata": {},
     "output_type": "execute_result"
    }
   ],
   "source": [
    "nodes.head()"
   ]
  },
  {
   "cell_type": "code",
   "execution_count": 21,
   "metadata": {
    "colab": {
     "base_uri": "https://localhost:8080/",
     "height": 206
    },
    "id": "RMAZtQcZKFCK",
    "outputId": "6d26222b-9d99-4d8c-a1d3-d1998b56776a"
   },
   "outputs": [
    {
     "data": {
      "text/html": [
       "<div>\n",
       "<style scoped>\n",
       "    .dataframe tbody tr th:only-of-type {\n",
       "        vertical-align: middle;\n",
       "    }\n",
       "\n",
       "    .dataframe tbody tr th {\n",
       "        vertical-align: top;\n",
       "    }\n",
       "\n",
       "    .dataframe thead th {\n",
       "        text-align: right;\n",
       "    }\n",
       "</style>\n",
       "<table border=\"1\" class=\"dataframe\">\n",
       "  <thead>\n",
       "    <tr style=\"text-align: right;\">\n",
       "      <th></th>\n",
       "      <th>source</th>\n",
       "      <th>target</th>\n",
       "    </tr>\n",
       "  </thead>\n",
       "  <tbody>\n",
       "    <tr>\n",
       "      <th>0</th>\n",
       "      <td>0</td>\n",
       "      <td>9206</td>\n",
       "    </tr>\n",
       "    <tr>\n",
       "      <th>1</th>\n",
       "      <td>0</td>\n",
       "      <td>7787</td>\n",
       "    </tr>\n",
       "    <tr>\n",
       "      <th>2</th>\n",
       "      <td>0</td>\n",
       "      <td>2145</td>\n",
       "    </tr>\n",
       "    <tr>\n",
       "      <th>3</th>\n",
       "      <td>0</td>\n",
       "      <td>2684</td>\n",
       "    </tr>\n",
       "    <tr>\n",
       "      <th>4</th>\n",
       "      <td>0</td>\n",
       "      <td>7275</td>\n",
       "    </tr>\n",
       "  </tbody>\n",
       "</table>\n",
       "</div>"
      ],
      "text/plain": [
       "   source  target\n",
       "0       0    9206\n",
       "1       0    7787\n",
       "2       0    2145\n",
       "3       0    2684\n",
       "4       0    7275"
      ]
     },
     "execution_count": 21,
     "metadata": {},
     "output_type": "execute_result"
    }
   ],
   "source": [
    "# Renaming 'from' and 'to' columns\n",
    "edges.rename(columns = {'from':'source', 'to':'target'}, inplace = True)\n",
    "edges.head()"
   ]
  },
  {
   "cell_type": "code",
   "execution_count": 23,
   "metadata": {
    "colab": {
     "base_uri": "https://localhost:8080/",
     "height": 455
    },
    "id": "0oAb-pWpKFCK",
    "outputId": "8fee7611-c1b3-4052-d678-fd14238e4cbd"
   },
   "outputs": [
    {
     "data": {
      "text/html": [
       "<div>\n",
       "<style scoped>\n",
       "    .dataframe tbody tr th:only-of-type {\n",
       "        vertical-align: middle;\n",
       "    }\n",
       "\n",
       "    .dataframe tbody tr th {\n",
       "        vertical-align: top;\n",
       "    }\n",
       "\n",
       "    .dataframe thead th {\n",
       "        text-align: right;\n",
       "    }\n",
       "</style>\n",
       "<table border=\"1\" class=\"dataframe\">\n",
       "  <thead>\n",
       "    <tr style=\"text-align: right;\">\n",
       "      <th></th>\n",
       "      <th>days</th>\n",
       "      <th>mature</th>\n",
       "      <th>views</th>\n",
       "      <th>partner</th>\n",
       "    </tr>\n",
       "    <tr>\n",
       "      <th>id</th>\n",
       "      <th></th>\n",
       "      <th></th>\n",
       "      <th></th>\n",
       "      <th></th>\n",
       "    </tr>\n",
       "  </thead>\n",
       "  <tbody>\n",
       "    <tr>\n",
       "      <th>5079</th>\n",
       "      <td>2149</td>\n",
       "      <td>1</td>\n",
       "      <td>162078</td>\n",
       "      <td>0</td>\n",
       "    </tr>\n",
       "    <tr>\n",
       "      <th>4281</th>\n",
       "      <td>1574</td>\n",
       "      <td>1</td>\n",
       "      <td>1370</td>\n",
       "      <td>0</td>\n",
       "    </tr>\n",
       "    <tr>\n",
       "      <th>992</th>\n",
       "      <td>1034</td>\n",
       "      <td>1</td>\n",
       "      <td>6043</td>\n",
       "      <td>0</td>\n",
       "    </tr>\n",
       "    <tr>\n",
       "      <th>9021</th>\n",
       "      <td>1319</td>\n",
       "      <td>1</td>\n",
       "      <td>94298</td>\n",
       "      <td>1</td>\n",
       "    </tr>\n",
       "    <tr>\n",
       "      <th>330</th>\n",
       "      <td>2137</td>\n",
       "      <td>1</td>\n",
       "      <td>2323</td>\n",
       "      <td>0</td>\n",
       "    </tr>\n",
       "    <tr>\n",
       "      <th>...</th>\n",
       "      <td>...</td>\n",
       "      <td>...</td>\n",
       "      <td>...</td>\n",
       "      <td>...</td>\n",
       "    </tr>\n",
       "    <tr>\n",
       "      <th>4572</th>\n",
       "      <td>895</td>\n",
       "      <td>1</td>\n",
       "      <td>128</td>\n",
       "      <td>0</td>\n",
       "    </tr>\n",
       "    <tr>\n",
       "      <th>6355</th>\n",
       "      <td>2001</td>\n",
       "      <td>0</td>\n",
       "      <td>44</td>\n",
       "      <td>0</td>\n",
       "    </tr>\n",
       "    <tr>\n",
       "      <th>206</th>\n",
       "      <td>1784</td>\n",
       "      <td>1</td>\n",
       "      <td>2038</td>\n",
       "      <td>0</td>\n",
       "    </tr>\n",
       "    <tr>\n",
       "      <th>7695</th>\n",
       "      <td>2114</td>\n",
       "      <td>0</td>\n",
       "      <td>449</td>\n",
       "      <td>0</td>\n",
       "    </tr>\n",
       "    <tr>\n",
       "      <th>4451</th>\n",
       "      <td>1680</td>\n",
       "      <td>0</td>\n",
       "      <td>10638954</td>\n",
       "      <td>1</td>\n",
       "    </tr>\n",
       "  </tbody>\n",
       "</table>\n",
       "<p>9498 rows × 4 columns</p>\n",
       "</div>"
      ],
      "text/plain": [
       "      days  mature     views  partner\n",
       "id                                   \n",
       "5079  2149       1    162078        0\n",
       "4281  1574       1      1370        0\n",
       "992   1034       1      6043        0\n",
       "9021  1319       1     94298        1\n",
       "330   2137       1      2323        0\n",
       "...    ...     ...       ...      ...\n",
       "4572   895       1       128        0\n",
       "6355  2001       0        44        0\n",
       "206   1784       1      2038        0\n",
       "7695  2114       0       449        0\n",
       "4451  1680       0  10638954        1\n",
       "\n",
       "[9498 rows x 4 columns]"
      ]
     },
     "execution_count": 23,
     "metadata": {},
     "output_type": "execute_result"
    }
   ],
   "source": [
    "# Replacing the current index by moving the 'id' column to it\n",
    "nodes2 = nodes.set_index('id')\n",
    "nodes2"
   ]
  },
  {
   "cell_type": "code",
   "execution_count": 24,
   "metadata": {
    "colab": {
     "base_uri": "https://localhost:8080/",
     "height": 455
    },
    "id": "kAzrWjM7KFCK",
    "outputId": "42fb0fe8-f4de-47fa-e30e-49f09a7f2edd"
   },
   "outputs": [
    {
     "data": {
      "text/html": [
       "<div>\n",
       "<style scoped>\n",
       "    .dataframe tbody tr th:only-of-type {\n",
       "        vertical-align: middle;\n",
       "    }\n",
       "\n",
       "    .dataframe tbody tr th {\n",
       "        vertical-align: top;\n",
       "    }\n",
       "\n",
       "    .dataframe thead th {\n",
       "        text-align: right;\n",
       "    }\n",
       "</style>\n",
       "<table border=\"1\" class=\"dataframe\">\n",
       "  <thead>\n",
       "    <tr style=\"text-align: right;\">\n",
       "      <th></th>\n",
       "      <th>days</th>\n",
       "      <th>mature</th>\n",
       "      <th>views</th>\n",
       "    </tr>\n",
       "    <tr>\n",
       "      <th>id</th>\n",
       "      <th></th>\n",
       "      <th></th>\n",
       "      <th></th>\n",
       "    </tr>\n",
       "  </thead>\n",
       "  <tbody>\n",
       "    <tr>\n",
       "      <th>5079</th>\n",
       "      <td>2149</td>\n",
       "      <td>1</td>\n",
       "      <td>162078</td>\n",
       "    </tr>\n",
       "    <tr>\n",
       "      <th>4281</th>\n",
       "      <td>1574</td>\n",
       "      <td>1</td>\n",
       "      <td>1370</td>\n",
       "    </tr>\n",
       "    <tr>\n",
       "      <th>992</th>\n",
       "      <td>1034</td>\n",
       "      <td>1</td>\n",
       "      <td>6043</td>\n",
       "    </tr>\n",
       "    <tr>\n",
       "      <th>9021</th>\n",
       "      <td>1319</td>\n",
       "      <td>1</td>\n",
       "      <td>94298</td>\n",
       "    </tr>\n",
       "    <tr>\n",
       "      <th>330</th>\n",
       "      <td>2137</td>\n",
       "      <td>1</td>\n",
       "      <td>2323</td>\n",
       "    </tr>\n",
       "    <tr>\n",
       "      <th>...</th>\n",
       "      <td>...</td>\n",
       "      <td>...</td>\n",
       "      <td>...</td>\n",
       "    </tr>\n",
       "    <tr>\n",
       "      <th>4572</th>\n",
       "      <td>895</td>\n",
       "      <td>1</td>\n",
       "      <td>128</td>\n",
       "    </tr>\n",
       "    <tr>\n",
       "      <th>6355</th>\n",
       "      <td>2001</td>\n",
       "      <td>0</td>\n",
       "      <td>44</td>\n",
       "    </tr>\n",
       "    <tr>\n",
       "      <th>206</th>\n",
       "      <td>1784</td>\n",
       "      <td>1</td>\n",
       "      <td>2038</td>\n",
       "    </tr>\n",
       "    <tr>\n",
       "      <th>7695</th>\n",
       "      <td>2114</td>\n",
       "      <td>0</td>\n",
       "      <td>449</td>\n",
       "    </tr>\n",
       "    <tr>\n",
       "      <th>4451</th>\n",
       "      <td>1680</td>\n",
       "      <td>0</td>\n",
       "      <td>10638954</td>\n",
       "    </tr>\n",
       "  </tbody>\n",
       "</table>\n",
       "<p>9498 rows × 3 columns</p>\n",
       "</div>"
      ],
      "text/plain": [
       "      days  mature     views\n",
       "id                          \n",
       "5079  2149       1    162078\n",
       "4281  1574       1      1370\n",
       "992   1034       1      6043\n",
       "9021  1319       1     94298\n",
       "330   2137       1      2323\n",
       "...    ...     ...       ...\n",
       "4572   895       1       128\n",
       "6355  2001       0        44\n",
       "206   1784       1      2038\n",
       "7695  2114       0       449\n",
       "4451  1680       0  10638954\n",
       "\n",
       "[9498 rows x 3 columns]"
      ]
     },
     "execution_count": 24,
     "metadata": {},
     "output_type": "execute_result"
    }
   ],
   "source": [
    "# Dropping the 'label' column\n",
    "nodes_no_partner = nodes2.drop(columns=\"partner\")\n",
    "nodes_no_partner"
   ]
  },
  {
   "cell_type": "markdown",
   "metadata": {
    "id": "ZlOiK15iKFCK"
   },
   "source": [
    "In order to use methods like GraphSAGE and GCN, which operate on a single graph, we must construct a single instance of the StellarGraph class.  \n",
    "See [here](https://stellargraph.readthedocs.io/en/latest/demos/basics/loading-pandas.html)."
   ]
  },
  {
   "cell_type": "code",
   "execution_count": 25,
   "metadata": {
    "colab": {
     "base_uri": "https://localhost:8080/"
    },
    "id": "8tK-3TQTKFCK",
    "outputId": "d279137d-e1a8-46f1-cd72-ffccc9e7eff7"
   },
   "outputs": [
    {
     "name": "stdout",
     "output_type": "stream",
     "text": [
      "StellarGraph: Undirected multigraph\n",
      " Nodes: 9498, Edges: 153138\n",
      "\n",
      " Node types:\n",
      "  default: [9498]\n",
      "    Features: float32 vector, length 3\n",
      "    Edge types: default-default->default\n",
      "\n",
      " Edge types:\n",
      "    default-default->default: [153138]\n",
      "        Weights: all 1 (default)\n",
      "        Features: none\n"
     ]
    }
   ],
   "source": [
    "twitch_graph = StellarGraph(nodes_no_partner, edges)\n",
    "print(twitch_graph.info())"
   ]
  },
  {
   "cell_type": "markdown",
   "metadata": {
    "id": "6b8PB_zPKFCL"
   },
   "source": [
    "We’ll  need to use the 'partner' labels as ground-truth labels. This can be extracted from the DataFrame and held separately, to be passed in as training, validation or test examples."
   ]
  },
  {
   "cell_type": "code",
   "execution_count": 26,
   "metadata": {
    "colab": {
     "base_uri": "https://localhost:8080/"
    },
    "id": "qSw4NR3kKFCL",
    "outputId": "b07dbc6d-a3ed-4c2c-f5f8-518299badfee"
   },
   "outputs": [
    {
     "data": {
      "text/plain": [
       "id\n",
       "5079    0\n",
       "4281    0\n",
       "992     0\n",
       "9021    1\n",
       "330     0\n",
       "       ..\n",
       "4572    0\n",
       "6355    0\n",
       "206     0\n",
       "7695    0\n",
       "4451    1\n",
       "Name: partner, Length: 9498, dtype: int32"
      ]
     },
     "execution_count": 26,
     "metadata": {},
     "output_type": "execute_result"
    }
   ],
   "source": [
    "twitch_partner = nodes2[\"partner\"]\n",
    "twitch_partner"
   ]
  },
  {
   "cell_type": "code",
   "execution_count": 27,
   "metadata": {
    "colab": {
     "base_uri": "https://localhost:8080/"
    },
    "id": "3lPvQAeaKFCL",
    "outputId": "e9b1861e-63d2-4e86-a59c-94608a50cd05"
   },
   "outputs": [
    {
     "data": {
      "text/plain": [
       "{0, 1}"
      ]
     },
     "execution_count": 27,
     "metadata": {},
     "output_type": "execute_result"
    }
   ],
   "source": [
    "set(twitch_partner)"
   ]
  },
  {
   "cell_type": "code",
   "execution_count": 28,
   "metadata": {
    "colab": {
     "base_uri": "https://localhost:8080/"
    },
    "id": "5K9JOqyFKFCL",
    "outputId": "2fa8b533-7ee4-4fd6-ff99-17e111b654ae"
   },
   "outputs": [
    {
     "data": {
      "text/plain": [
       "0    8901\n",
       "1     597\n",
       "Name: partner, dtype: int64"
      ]
     },
     "execution_count": 28,
     "metadata": {},
     "output_type": "execute_result"
    }
   ],
   "source": [
    "twitch_partner.value_counts()\n",
    "\n",
    "# Class imbalance could be a problem"
   ]
  },
  {
   "cell_type": "code",
   "execution_count": 29,
   "metadata": {
    "colab": {
     "base_uri": "https://localhost:8080/"
    },
    "id": "yWnvjhTLKFCL",
    "outputId": "95d3c54a-9c4a-46d3-b7bf-371794890528"
   },
   "outputs": [
    {
     "data": {
      "text/plain": [
       "9498"
      ]
     },
     "execution_count": 29,
     "metadata": {},
     "output_type": "execute_result"
    }
   ],
   "source": [
    "len(twitch_partner)"
   ]
  },
  {
   "cell_type": "markdown",
   "metadata": {
    "id": "QPv-m7IsKFCM"
   },
   "source": [
    "### 2. Splitting the data"
   ]
  },
  {
   "cell_type": "markdown",
   "metadata": {
    "id": "fCX5iiiFKFCM"
   },
   "source": [
    "Removing 20% of the nodes from the graph. Then, we are going to train a GraphSAGE model on the reduced graph with the remaining 80% of the nodes from the original graph. Later, we are going to re-introduce the removed nodes and try to predict their labels without re-training the GraphSAGE model."
   ]
  },
  {
   "cell_type": "code",
   "execution_count": 30,
   "metadata": {
    "colab": {
     "base_uri": "https://localhost:8080/"
    },
    "id": "zo6uCToNKFCM",
    "outputId": "d2540d05-aba8-4197-b8b8-85c08087aa71"
   },
   "outputs": [
    {
     "name": "stdout",
     "output_type": "stream",
     "text": [
      "Length of sampled labels:  id\n",
      "5147    0\n",
      "4829    0\n",
      "2763    0\n",
      "8989    0\n",
      "1381    0\n",
      "       ..\n",
      "4756    0\n",
      "4725    0\n",
      "9321    0\n",
      "5662    0\n",
      "4618    0\n",
      "Name: partner, Length: 7598, dtype: int32\n"
     ]
    }
   ],
   "source": [
    "labels_sampled = twitch_partner.sample(frac=0.8, replace=False, random_state=101)\n",
    "labels_sampled\n",
    "print('Length of sampled labels: ', labels_sampled)"
   ]
  },
  {
   "cell_type": "code",
   "execution_count": 31,
   "metadata": {
    "colab": {
     "base_uri": "https://localhost:8080/"
    },
    "id": "1BOPjcXhKFCM",
    "outputId": "5fbb96a6-7eea-457e-9180-9d21b5ffbc3a"
   },
   "outputs": [
    {
     "name": "stdout",
     "output_type": "stream",
     "text": [
      "StellarGraph: Undirected multigraph\n",
      " Nodes: 7598, Edges: 98828\n",
      "\n",
      " Node types:\n",
      "  default: [7598]\n",
      "    Features: float32 vector, length 3\n",
      "    Edge types: default-default->default\n",
      "\n",
      " Edge types:\n",
      "    default-default->default: [98828]\n",
      "        Weights: all 1 (default)\n",
      "        Features: none\n"
     ]
    }
   ],
   "source": [
    "# Extracting the subgraph corresponding to the sampled nodes\n",
    "graph_sampled = twitch_graph.subgraph(labels_sampled.index)\n",
    "print(graph_sampled.info())"
   ]
  },
  {
   "cell_type": "markdown",
   "metadata": {
    "id": "6sEYjRvQKFCM"
   },
   "source": [
    "Using scikit-learn to subset the nodes for test and train."
   ]
  },
  {
   "cell_type": "code",
   "execution_count": 170,
   "metadata": {
    "id": "ygV86gpFKFCM"
   },
   "outputs": [],
   "source": [
    "train_labels, test_labels = model_selection.train_test_split(\n",
    "    labels_sampled,\n",
    "    train_size=0.05,\n",
    "    test_size=None,\n",
    "    stratify=labels_sampled,\n",
    "    random_state=42,\n",
    ")\n",
    "val_labels, test_labels = model_selection.train_test_split(\n",
    "    test_labels, train_size=0.2, test_size=None, stratify=test_labels, random_state=100,\n",
    ")"
   ]
  },
  {
   "cell_type": "code",
   "execution_count": 171,
   "metadata": {
    "colab": {
     "base_uri": "https://localhost:8080/"
    },
    "id": "P8ZnlIAtKFCN",
    "outputId": "6eae2c2e-9be9-48fa-9792-2db2e2b81d85"
   },
   "outputs": [
    {
     "data": {
      "text/plain": [
       "Counter({0: 5431, 1: 345})"
      ]
     },
     "execution_count": 171,
     "metadata": {},
     "output_type": "execute_result"
    }
   ],
   "source": [
    "from collections import Counter\n",
    "\n",
    "Counter(test_labels)"
   ]
  },
  {
   "cell_type": "code",
   "execution_count": 172,
   "metadata": {
    "id": "ISPwWYQxKFCN"
   },
   "outputs": [],
   "source": [
    "train_targets = train_labels\n",
    "val_targets = val_labels\n",
    "test_targets = test_labels"
   ]
  },
  {
   "cell_type": "markdown",
   "metadata": {
    "id": "ms3BO6aHKFCN"
   },
   "source": [
    "### 3. Creating the model in Keras"
   ]
  },
  {
   "cell_type": "code",
   "execution_count": 173,
   "metadata": {
    "id": "VhowvYQhKFCN"
   },
   "outputs": [],
   "source": [
    "batch_size = 50\n",
    "num_samples = [10, 10]"
   ]
  },
  {
   "cell_type": "code",
   "execution_count": 174,
   "metadata": {
    "id": "gXN1XijhKFCN"
   },
   "outputs": [],
   "source": [
    "# A GraphSAGENodeGenerator object \n",
    "generator = GraphSAGENodeGenerator(graph_sampled, batch_size, num_samples)"
   ]
  },
  {
   "cell_type": "markdown",
   "metadata": {
    "id": "8MhF4M6mKFCN"
   },
   "source": [
    "Using the generator.flow() method, we can create iterators over nodes that should be used to train, validate, or evaluate the model. For training we use only the training nodes returned from our splitter and the target values. The shuffle=True argument is given to the flow method to improve training."
   ]
  },
  {
   "cell_type": "code",
   "execution_count": 175,
   "metadata": {
    "id": "RQLkfceEKFCN"
   },
   "outputs": [],
   "source": [
    "train_gen = generator.flow(train_labels.index, train_targets, shuffle=True)"
   ]
  },
  {
   "cell_type": "markdown",
   "metadata": {
    "id": "OfDOm78-KFCO"
   },
   "source": [
    "Now we can start with our ML model. A few more parameters:\n",
    "\n",
    "1. The layer_sizes is a list of hidden feature sizes of each layer in the model. We use 32-dimensional hidden node features at each layer\n",
    "\n",
    "2. The bias and dropout are internal parameters of the model"
   ]
  },
  {
   "cell_type": "code",
   "execution_count": 176,
   "metadata": {
    "id": "p-4Gp-ZPKFCO"
   },
   "outputs": [],
   "source": [
    "graphsage_model = GraphSAGE(\n",
    "    layer_sizes=[32, 32], generator=generator, bias=True, dropout=0.5\n",
    ")"
   ]
  },
  {
   "cell_type": "code",
   "execution_count": 201,
   "metadata": {
    "id": "5gvMN5ZEKFCO"
   },
   "outputs": [],
   "source": [
    "# Creating a model to predict the 2 categories using Keras sigmoid layers\n",
    "x_inp, x_out = graphsage_model.in_out_tensors()\n",
    "prediction = layers.Dense(units=1, activation=\"sigmoid\")(x_out) # units=one for each class\n",
    "\n",
    "# Sigmoid activation function is used for binary class classification\n"
   ]
  },
  {
   "cell_type": "code",
   "execution_count": 202,
   "metadata": {
    "colab": {
     "base_uri": "https://localhost:8080/"
    },
    "id": "4w3qvquqKFCO",
    "outputId": "25aeeb61-2a03-4e0b-e26e-3341b9e8c98b"
   },
   "outputs": [
    {
     "data": {
      "text/plain": [
       "array([0, 1])"
      ]
     },
     "execution_count": 202,
     "metadata": {},
     "output_type": "execute_result"
    }
   ],
   "source": [
    "np.unique(train_targets)"
   ]
  },
  {
   "cell_type": "code",
   "execution_count": 203,
   "metadata": {
    "colab": {
     "base_uri": "https://localhost:8080/"
    },
    "id": "4qFC_2lZKFCO",
    "outputId": "452d9e0e-23f4-4a21-c295-837122532122"
   },
   "outputs": [
    {
     "data": {
      "text/plain": [
       "379"
      ]
     },
     "execution_count": 203,
     "metadata": {},
     "output_type": "execute_result"
    }
   ],
   "source": [
    "train_targets.shape[0] "
   ]
  },
  {
   "cell_type": "code",
   "execution_count": 204,
   "metadata": {
    "colab": {
     "base_uri": "https://localhost:8080/"
    },
    "id": "e9nyIOXhKFCO",
    "outputId": "7613da5a-c4ab-445f-95e6-aecfa8a0cc82"
   },
   "outputs": [
    {
     "data": {
      "text/plain": [
       "TensorShape([None, 1])"
      ]
     },
     "execution_count": 204,
     "metadata": {},
     "output_type": "execute_result"
    }
   ],
   "source": [
    "prediction.shape"
   ]
  },
  {
   "cell_type": "markdown",
   "metadata": {
    "id": "cWP6cjvIKFCO"
   },
   "source": [
    "### 4. Training and evaluating"
   ]
  },
  {
   "cell_type": "markdown",
   "metadata": {
    "id": "Y1zdvUTNKFCO"
   },
   "source": [
    "Creating the Keras model with the graph inputs x_inp provided by the graph_model and outputs being the predictions from the sigmoid layer"
   ]
  },
  {
   "cell_type": "code",
   "execution_count": 205,
   "metadata": {
    "colab": {
     "base_uri": "https://localhost:8080/"
    },
    "id": "gA3hhFtqKFCP",
    "outputId": "021ece94-9631-4a58-bccb-ad13815384d6"
   },
   "outputs": [],
   "source": [
    "model = Model(inputs=x_inp, outputs=prediction)\n",
    "\n",
    "model.compile(\n",
    "    optimizer = optimizers.Adam(lr=0.005), \n",
    "    loss = losses.binary_crossentropy,\n",
    "    metrics = [\"acc\"]\n",
    ")\n",
    "\n",
    "# For binary classification problems --> binary_crossentropy is usually the choice for loss function\n",
    "# mean_squared_error may also be used"
   ]
  },
  {
   "cell_type": "code",
   "execution_count": 206,
   "metadata": {
    "colab": {
     "base_uri": "https://localhost:8080/"
    },
    "id": "6M0XCuWEKFCP",
    "outputId": "eadebdd4-2279-4db1-c975-3abf02cd6b2c"
   },
   "outputs": [
    {
     "name": "stdout",
     "output_type": "stream",
     "text": [
      "Model: \"model_18\"\n",
      "__________________________________________________________________________________________________\n",
      " Layer (type)                   Output Shape         Param #     Connected to                     \n",
      "==================================================================================================\n",
      " input_32 (InputLayer)          [(None, 10, 3)]      0           []                               \n",
      "                                                                                                  \n",
      " input_33 (InputLayer)          [(None, 100, 3)]     0           []                               \n",
      "                                                                                                  \n",
      " input_31 (InputLayer)          [(None, 1, 3)]       0           []                               \n",
      "                                                                                                  \n",
      " reshape_24 (Reshape)           (None, 1, 10, 3)     0           ['input_32[0][0]']               \n",
      "                                                                                                  \n",
      " reshape_25 (Reshape)           (None, 10, 10, 3)    0           ['input_33[0][0]']               \n",
      "                                                                                                  \n",
      " dropout_43 (Dropout)           (None, 1, 3)         0           ['input_31[0][0]']               \n",
      "                                                                                                  \n",
      " dropout_42 (Dropout)           (None, 1, 10, 3)     0           ['reshape_24[0][0]']             \n",
      "                                                                                                  \n",
      " dropout_45 (Dropout)           (None, 10, 3)        0           ['input_32[0][0]']               \n",
      "                                                                                                  \n",
      " dropout_44 (Dropout)           (None, 10, 10, 3)    0           ['reshape_25[0][0]']             \n",
      "                                                                                                  \n",
      " mean_aggregator_6 (MeanAggrega  multiple            128         ['dropout_43[0][0]',             \n",
      " tor)                                                             'dropout_42[0][0]',             \n",
      "                                                                  'dropout_45[0][0]',             \n",
      "                                                                  'dropout_44[0][0]']             \n",
      "                                                                                                  \n",
      " reshape_26 (Reshape)           (None, 1, 10, 32)    0           ['mean_aggregator_6[7][0]']      \n",
      "                                                                                                  \n",
      " dropout_47 (Dropout)           (None, 1, 32)        0           ['mean_aggregator_6[6][0]']      \n",
      "                                                                                                  \n",
      " dropout_46 (Dropout)           (None, 1, 10, 32)    0           ['reshape_26[0][0]']             \n",
      "                                                                                                  \n",
      " mean_aggregator_7 (MeanAggrega  (None, 1, 32)       1056        ['dropout_47[0][0]',             \n",
      " tor)                                                             'dropout_46[0][0]']             \n",
      "                                                                                                  \n",
      " reshape_27 (Reshape)           (None, 32)           0           ['mean_aggregator_7[3][0]']      \n",
      "                                                                                                  \n",
      " lambda_6 (Lambda)              (None, 32)           0           ['reshape_27[0][0]']             \n",
      "                                                                                                  \n",
      " dense_22 (Dense)               (None, 1)            33          ['lambda_6[3][0]']               \n",
      "                                                                                                  \n",
      "==================================================================================================\n",
      "Total params: 1,217\n",
      "Trainable params: 1,217\n",
      "Non-trainable params: 0\n",
      "__________________________________________________________________________________________________\n"
     ]
    }
   ],
   "source": [
    "model.summary()"
   ]
  },
  {
   "cell_type": "markdown",
   "metadata": {
    "id": "vuCpgq8yKFCP"
   },
   "source": [
    "Now, training the model and keeping track of its loss and accuracy on the training set, and its generalisation performance on the validation set."
   ]
  },
  {
   "cell_type": "code",
   "execution_count": 207,
   "metadata": {
    "id": "XcpSkYWYKFCP"
   },
   "outputs": [],
   "source": [
    "# Validation data generator\n",
    "val_gen = generator.flow(val_labels.index, val_targets)"
   ]
  },
  {
   "cell_type": "code",
   "execution_count": 208,
   "metadata": {
    "id": "CeEmVYLbKFCP"
   },
   "outputs": [],
   "source": [
    "# Dealing with class imbalance\n",
    "from sklearn.utils import class_weight\n",
    "\n",
    "weights = class_weight.compute_class_weight('balanced',\n",
    "                                            classes=np.unique(val_targets),\n",
    "                                            y=val_targets)\n",
    "weights = {i:w for i,w in enumerate(weights)}"
   ]
  },
  {
   "cell_type": "code",
   "execution_count": 209,
   "metadata": {
    "colab": {
     "base_uri": "https://localhost:8080/"
    },
    "id": "N5GA-3HkKFCP",
    "outputId": "9e9889d8-e6ef-45c0-9b56-01d0bb2d9bf0"
   },
   "outputs": [
    {
     "data": {
      "text/plain": [
       "{0: 0.5316875460574797, 1: 8.38953488372093}"
      ]
     },
     "execution_count": 209,
     "metadata": {},
     "output_type": "execute_result"
    }
   ],
   "source": [
    "weights"
   ]
  },
  {
   "cell_type": "code",
   "execution_count": 210,
   "metadata": {
    "id": "6D6mz3t0KFCP"
   },
   "outputs": [],
   "source": [
    "history = model.fit(\n",
    "    train_gen, epochs=30, validation_data=val_gen, verbose=0, shuffle=False, class_weight=weights\n",
    ")"
   ]
  },
  {
   "cell_type": "code",
   "execution_count": 211,
   "metadata": {
    "colab": {
     "base_uri": "https://localhost:8080/",
     "height": 585
    },
    "id": "7OUmAhBqKFCQ",
    "outputId": "4a81472e-77ef-4c23-873c-f0080c4d28d6"
   },
   "outputs": [
    {
     "data": {
      "image/png": "[encoded data removed]",
      "text/plain": [
       "<Figure size 504x576 with 2 Axes>"
      ]
     },
     "metadata": {
      "needs_background": "light"
     },
     "output_type": "display_data"
    }
   ],
   "source": [
    "sg.utils.plot_history(history)"
   ]
  },
  {
   "cell_type": "code",
   "execution_count": 212,
   "metadata": {
    "colab": {
     "base_uri": "https://localhost:8080/"
    },
    "id": "YaUYpvwTKFCQ",
    "outputId": "856cc3c4-9a72-445a-8156-afe0daf058df",
    "scrolled": true
   },
   "outputs": [
    {
     "name": "stdout",
     "output_type": "stream",
     "text": [
      "116/116 [==============================] - 3s 22ms/step - loss: 0.4818 - acc: 0.6948\n",
      "\n",
      "Test Set Metrics:\n",
      "\tloss: 0.4818\n",
      "\tacc: 0.6948\n"
     ]
    }
   ],
   "source": [
    "# Evaluating on the test set\n",
    "test_gen = generator.flow(test_labels.index, test_targets)\n",
    "\n",
    "test_metrics = model.evaluate(test_gen)\n",
    "print(\"\\nTest Set Metrics:\")\n",
    "for name, val in zip(model.metrics_names, test_metrics):\n",
    "    print(\"\\t{}: {:0.4f}\".format(name, val))"
   ]
  },
  {
   "cell_type": "markdown",
   "metadata": {
    "id": "_yPuchtIKFCQ"
   },
   "source": [
    "Adam optimizer is the best choice [in general](https://towardsdatascience.com/7-tips-to-choose-the-best-optimizer-47bb9c1219e). Anyway, many recent papers state that SGD can bring to better results if combined with a good learning rate annealing schedule which aims to manage its value during the training."
   ]
  },
  {
   "cell_type": "code",
   "execution_count": 54,
   "metadata": {
    "id": "7Xn5qwzoKFCQ"
   },
   "outputs": [],
   "source": [
    "graphsage_model2 = GraphSAGE(\n",
    "    layer_sizes=[32, 32], generator=generator, bias=True, dropout=0.5\n",
    ")"
   ]
  },
  {
   "cell_type": "code",
   "execution_count": 55,
   "metadata": {
    "id": "WbgSdq_6KFCQ"
   },
   "outputs": [],
   "source": [
    "# Creating a model to predict the 2 categories using Keras sigmoid layers\n",
    "x_inp2, x_out2 = graphsage_model2.in_out_tensors()\n",
    "prediction2 = layers.Dense(units=1, activation=\"sigmoid\")(x_out2) \n"
   ]
  },
  {
   "cell_type": "code",
   "execution_count": 56,
   "metadata": {
    "colab": {
     "base_uri": "https://localhost:8080/"
    },
    "id": "Xx7mMe1uKFCQ",
    "outputId": "1126f8aa-068b-41d6-d1c5-294140755a24"
   },
   "outputs": [
    {
     "name": "stderr",
     "output_type": "stream",
     "text": [
      "C:\\Users\\lisannal\\Anaconda3\\lib\\site-packages\\keras\\optimizer_v2\\gradient_descent.py:102: UserWarning: The `lr` argument is deprecated, use `learning_rate` instead.\n",
      "  super(SGD, self).__init__(name, **kwargs)\n"
     ]
    }
   ],
   "source": [
    "model2 = Model(inputs=x_inp2, outputs=prediction2)\n",
    "\n",
    "model2.compile(\n",
    "    optimizer = optimizers.SGD(lr=0.005), \n",
    "    loss = losses.binary_crossentropy,\n",
    "    metrics = [\"acc\"]\n",
    ")"
   ]
  },
  {
   "cell_type": "code",
   "execution_count": 57,
   "metadata": {
    "colab": {
     "base_uri": "https://localhost:8080/"
    },
    "id": "B-0vourAKFCQ",
    "outputId": "914536a3-a16c-4971-b464-72df38c637ad"
   },
   "outputs": [
    {
     "name": "stdout",
     "output_type": "stream",
     "text": [
      "Model: \"model_1\"\n",
      "__________________________________________________________________________________________________\n",
      " Layer (type)                   Output Shape         Param #     Connected to                     \n",
      "==================================================================================================\n",
      " input_5 (InputLayer)           [(None, 10, 3)]      0           []                               \n",
      "                                                                                                  \n",
      " input_6 (InputLayer)           [(None, 100, 3)]     0           []                               \n",
      "                                                                                                  \n",
      " input_4 (InputLayer)           [(None, 1, 3)]       0           []                               \n",
      "                                                                                                  \n",
      " reshape_4 (Reshape)            (None, 1, 10, 3)     0           ['input_5[0][0]']                \n",
      "                                                                                                  \n",
      " reshape_5 (Reshape)            (None, 10, 10, 3)    0           ['input_6[0][0]']                \n",
      "                                                                                                  \n",
      " dropout_7 (Dropout)            (None, 1, 3)         0           ['input_4[0][0]']                \n",
      "                                                                                                  \n",
      " dropout_6 (Dropout)            (None, 1, 10, 3)     0           ['reshape_4[0][0]']              \n",
      "                                                                                                  \n",
      " dropout_9 (Dropout)            (None, 10, 3)        0           ['input_5[0][0]']                \n",
      "                                                                                                  \n",
      " dropout_8 (Dropout)            (None, 10, 10, 3)    0           ['reshape_5[0][0]']              \n",
      "                                                                                                  \n",
      " mean_aggregator_2 (MeanAggrega  multiple            128         ['dropout_7[0][0]',              \n",
      " tor)                                                             'dropout_6[0][0]',              \n",
      "                                                                  'dropout_9[0][0]',              \n",
      "                                                                  'dropout_8[0][0]']              \n",
      "                                                                                                  \n",
      " reshape_6 (Reshape)            (None, 1, 10, 32)    0           ['mean_aggregator_2[1][0]']      \n",
      "                                                                                                  \n",
      " dropout_11 (Dropout)           (None, 1, 32)        0           ['mean_aggregator_2[0][0]']      \n",
      "                                                                                                  \n",
      " dropout_10 (Dropout)           (None, 1, 10, 32)    0           ['reshape_6[0][0]']              \n",
      "                                                                                                  \n",
      " mean_aggregator_3 (MeanAggrega  (None, 1, 32)       1056        ['dropout_11[0][0]',             \n",
      " tor)                                                             'dropout_10[0][0]']             \n",
      "                                                                                                  \n",
      " reshape_7 (Reshape)            (None, 32)           0           ['mean_aggregator_3[0][0]']      \n",
      "                                                                                                  \n",
      " lambda_1 (Lambda)              (None, 32)           0           ['reshape_7[0][0]']              \n",
      "                                                                                                  \n",
      " dense_1 (Dense)                (None, 1)            33          ['lambda_1[0][0]']               \n",
      "                                                                                                  \n",
      "==================================================================================================\n",
      "Total params: 1,217\n",
      "Trainable params: 1,217\n",
      "Non-trainable params: 0\n",
      "__________________________________________________________________________________________________\n"
     ]
    }
   ],
   "source": [
    "model2.summary()"
   ]
  },
  {
   "cell_type": "code",
   "execution_count": 60,
   "metadata": {
    "colab": {
     "base_uri": "https://localhost:8080/",
     "height": 585
    },
    "id": "8XDadocUKFCR",
    "outputId": "103d4b76-0f87-4c9f-bccc-2542fe4da383"
   },
   "outputs": [
    {
     "data": {
      "image/png": "[encoded data removed]",
      "text/plain": [
       "<Figure size 504x576 with 2 Axes>"
      ]
     },
     "metadata": {
      "needs_background": "light"
     },
     "output_type": "display_data"
    }
   ],
   "source": [
    "history2 = model2.fit(\n",
    "    train_gen, epochs=100, validation_data=val_gen, verbose=0, shuffle=False, class_weight=weights\n",
    ")\n",
    "\n",
    "sg.utils.plot_history(history2)"
   ]
  },
  {
   "cell_type": "code",
   "execution_count": 61,
   "metadata": {
    "colab": {
     "base_uri": "https://localhost:8080/"
    },
    "id": "n7tN3hyOKFCR",
    "outputId": "2cdbde97-6600-44e9-f188-e2b9d57b7e06"
   },
   "outputs": [
    {
     "name": "stdout",
     "output_type": "stream",
     "text": [
      "116/116 [==============================] - 3s 22ms/step - loss: 0.6646 - acc: 0.6202\n",
      "\n",
      "Test Set Metrics:\n",
      "\tloss: 0.6646\n",
      "\tacc: 0.6202\n"
     ]
    }
   ],
   "source": [
    "# Evaluating on the test set\n",
    "test_gen = generator.flow(test_labels.index, test_targets)\n",
    "\n",
    "test_metrics = model2.evaluate(test_gen)\n",
    "print(\"\\nTest Set Metrics:\")\n",
    "for name, val in zip(model2.metrics_names, test_metrics):\n",
    "    print(\"\\t{}: {:0.4f}\".format(name, val))"
   ]
  },
  {
   "cell_type": "markdown",
   "metadata": {
    "id": "Aytgb6huKFCR"
   },
   "source": [
    "### 5. Making predictions with the model"
   ]
  },
  {
   "cell_type": "markdown",
   "metadata": {
    "id": "tx5OyCXSKFCR"
   },
   "source": [
    "Using the trained model to predict the nodes we put aside earlier. For this, we must use the original StellarGraph object and a new node generator."
   ]
  },
  {
   "cell_type": "code",
   "execution_count": 62,
   "metadata": {
    "id": "IeHp5cFmKFCR"
   },
   "outputs": [],
   "source": [
    "generator = GraphSAGENodeGenerator(twitch_graph, batch_size, num_samples)"
   ]
  },
  {
   "cell_type": "code",
   "execution_count": 63,
   "metadata": {
    "id": "Gvn2VS6CKFCR"
   },
   "outputs": [],
   "source": [
    "# Predictions for all nodes in the hold out set\n",
    "hold_out_nodes = twitch_partner.index.difference(labels_sampled.index)\n",
    "labels_hold_out = twitch_partner[hold_out_nodes]"
   ]
  },
  {
   "cell_type": "code",
   "execution_count": 64,
   "metadata": {
    "colab": {
     "base_uri": "https://localhost:8080/"
    },
    "id": "MYGabDhxKFCR",
    "outputId": "8bf93432-6219-4a3d-bc1f-2dd5f006b13f"
   },
   "outputs": [
    {
     "data": {
      "text/plain": [
       "1900"
      ]
     },
     "execution_count": 64,
     "metadata": {},
     "output_type": "execute_result"
    }
   ],
   "source": [
    "len(hold_out_nodes)"
   ]
  },
  {
   "cell_type": "code",
   "execution_count": 65,
   "metadata": {
    "id": "X7Vpi_CbKFCS"
   },
   "outputs": [],
   "source": [
    "hold_out_gen = generator.flow(hold_out_nodes, labels_hold_out)"
   ]
  },
  {
   "cell_type": "code",
   "execution_count": 66,
   "metadata": {
    "id": "7voxejE0KFCS"
   },
   "outputs": [],
   "source": [
    "hold_out_predictions = model.predict(hold_out_gen)"
   ]
  },
  {
   "cell_type": "code",
   "execution_count": 67,
   "metadata": {
    "colab": {
     "base_uri": "https://localhost:8080/"
    },
    "id": "-aqtdvhpKFCS",
    "outputId": "4a6488a2-ff33-47d0-a506-f99605a44a5d"
   },
   "outputs": [
    {
     "data": {
      "text/plain": [
       "1900"
      ]
     },
     "execution_count": 67,
     "metadata": {},
     "output_type": "execute_result"
    }
   ],
   "source": [
    "len(hold_out_predictions)"
   ]
  },
  {
   "cell_type": "code",
   "execution_count": 68,
   "metadata": {
    "id": "VFC_SrFjKFCS"
   },
   "outputs": [],
   "source": [
    "# Convert sigmoid predictions to binary labels\n",
    "new_hold_out_predictions = []\n",
    "\n",
    "for i, predicted in enumerate(hold_out_predictions):\n",
    "    if predicted[0] > 0.5: # if probability is >0.5, then it belongs to class 1 (since binary classific.)\n",
    "        new_hold_out_predictions.append(1)\n",
    "    else:\n",
    "        new_hold_out_predictions.append(0)"
   ]
  },
  {
   "cell_type": "code",
   "execution_count": 69,
   "metadata": {
    "colab": {
     "base_uri": "https://localhost:8080/"
    },
    "id": "AmeIh67oKFCS",
    "outputId": "fb7c7d6a-ac82-4e67-f29a-43568b766ae0"
   },
   "outputs": [
    {
     "data": {
      "text/plain": [
       "0.6857894736842105"
      ]
     },
     "execution_count": 69,
     "metadata": {},
     "output_type": "execute_result"
    }
   ],
   "source": [
    "# Calculate accuracy the \"old way\"\n",
    "\n",
    "correct_pred = 0\n",
    "for i, val in enumerate(new_hold_out_predictions):\n",
    "    if val == np.array(labels_hold_out)[i]:\n",
    "        correct_pred += 1\n",
    "        \n",
    "correct_pred / len(new_hold_out_predictions)"
   ]
  },
  {
   "cell_type": "code",
   "execution_count": 70,
   "metadata": {
    "colab": {
     "base_uri": "https://localhost:8080/",
     "height": 394
    },
    "id": "Rc8OS-HiKFCS",
    "outputId": "d8f07c66-0d6e-45fa-8868-ee6fba8e03cd"
   },
   "outputs": [
    {
     "data": {
      "text/html": [
       "<div>\n",
       "<style scoped>\n",
       "    .dataframe tbody tr th:only-of-type {\n",
       "        vertical-align: middle;\n",
       "    }\n",
       "\n",
       "    .dataframe tbody tr th {\n",
       "        vertical-align: top;\n",
       "    }\n",
       "\n",
       "    .dataframe thead th {\n",
       "        text-align: right;\n",
       "    }\n",
       "</style>\n",
       "<table border=\"1\" class=\"dataframe\">\n",
       "  <thead>\n",
       "    <tr style=\"text-align: right;\">\n",
       "      <th></th>\n",
       "      <th>Predicted</th>\n",
       "      <th>True</th>\n",
       "    </tr>\n",
       "    <tr>\n",
       "      <th>id</th>\n",
       "      <th></th>\n",
       "      <th></th>\n",
       "    </tr>\n",
       "  </thead>\n",
       "  <tbody>\n",
       "    <tr>\n",
       "      <th>14</th>\n",
       "      <td>0</td>\n",
       "      <td>0</td>\n",
       "    </tr>\n",
       "    <tr>\n",
       "      <th>36</th>\n",
       "      <td>0</td>\n",
       "      <td>0</td>\n",
       "    </tr>\n",
       "    <tr>\n",
       "      <th>43</th>\n",
       "      <td>0</td>\n",
       "      <td>0</td>\n",
       "    </tr>\n",
       "    <tr>\n",
       "      <th>49</th>\n",
       "      <td>0</td>\n",
       "      <td>0</td>\n",
       "    </tr>\n",
       "    <tr>\n",
       "      <th>53</th>\n",
       "      <td>1</td>\n",
       "      <td>0</td>\n",
       "    </tr>\n",
       "    <tr>\n",
       "      <th>56</th>\n",
       "      <td>0</td>\n",
       "      <td>0</td>\n",
       "    </tr>\n",
       "    <tr>\n",
       "      <th>61</th>\n",
       "      <td>0</td>\n",
       "      <td>0</td>\n",
       "    </tr>\n",
       "    <tr>\n",
       "      <th>64</th>\n",
       "      <td>1</td>\n",
       "      <td>0</td>\n",
       "    </tr>\n",
       "    <tr>\n",
       "      <th>67</th>\n",
       "      <td>0</td>\n",
       "      <td>0</td>\n",
       "    </tr>\n",
       "    <tr>\n",
       "      <th>68</th>\n",
       "      <td>0</td>\n",
       "      <td>0</td>\n",
       "    </tr>\n",
       "  </tbody>\n",
       "</table>\n",
       "</div>"
      ],
      "text/plain": [
       "    Predicted  True\n",
       "id                 \n",
       "14          0     0\n",
       "36          0     0\n",
       "43          0     0\n",
       "49          0     0\n",
       "53          1     0\n",
       "56          0     0\n",
       "61          0     0\n",
       "64          1     0\n",
       "67          0     0\n",
       "68          0     0"
      ]
     },
     "execution_count": 70,
     "metadata": {},
     "output_type": "execute_result"
    }
   ],
   "source": [
    "results = pd.Series(new_hold_out_predictions, index=hold_out_nodes)\n",
    "df = pd.DataFrame({\"Predicted\": results, \"True\": labels_hold_out})\n",
    "df.head(10)"
   ]
  },
  {
   "cell_type": "code",
   "execution_count": 71,
   "metadata": {
    "colab": {
     "base_uri": "https://localhost:8080/"
    },
    "id": "rQbffHQiKFCS",
    "outputId": "7dead432-dcd0-462b-a2d0-ef0ef3978861"
   },
   "outputs": [
    {
     "name": "stdout",
     "output_type": "stream",
     "text": [
      "38/38 [==============================] - 1s 23ms/step - loss: 0.4370 - acc: 0.6684\n",
      "\n",
      "Hold Out Set Metrics:\n",
      "\tloss: 0.4370\n",
      "\tacc: 0.6684\n"
     ]
    }
   ],
   "source": [
    "hold_out_metrics = model.evaluate(hold_out_gen)\n",
    "print(\"\\nHold Out Set Metrics:\")\n",
    "for name, val in zip(model.metrics_names, hold_out_metrics):\n",
    "    print(\"\\t{}: {:0.4f}\".format(name, val))"
   ]
  },
  {
   "cell_type": "markdown",
   "metadata": {
    "id": "Ayi9it0VKFCT"
   },
   "source": [
    "## GCN"
   ]
  },
  {
   "cell_type": "markdown",
   "metadata": {
    "id": "CzEGWhP3W5q1"
   },
   "source": [
    "### 1. Creating layers"
   ]
  },
  {
   "cell_type": "code",
   "execution_count": 216,
   "metadata": {
    "id": "86k71KNkV-ag"
   },
   "outputs": [],
   "source": [
    "import pandas as pd\n",
    "import os\n",
    "\n",
    "import stellargraph as sg\n",
    "from stellargraph.mapper import FullBatchNodeGenerator\n",
    "from stellargraph.layer import GCN\n",
    "\n",
    "from tensorflow.keras import layers, optimizers, losses, metrics, Model\n",
    "from sklearn import preprocessing, model_selection\n",
    "from IPython.display import display, HTML\n",
    "import matplotlib.pyplot as plt\n",
    "%matplotlib inline\n",
    "from sklearn.manifold import TSNE\n",
    "from tensorflow.keras.callbacks import EarlyStopping"
   ]
  },
  {
   "cell_type": "code",
   "execution_count": null,
   "metadata": {
    "id": "X-FAiCbVuCfm"
   },
   "outputs": [],
   "source": [
    "#batch_size = 50\n",
    "#num_samples = [10, 10]"
   ]
  },
  {
   "cell_type": "code",
   "execution_count": 217,
   "metadata": {
    "colab": {
     "base_uri": "https://localhost:8080/"
    },
    "id": "X7la7ZI-KFCT",
    "outputId": "cf1688f9-afa8-4846-bfd5-450c72522a69"
   },
   "outputs": [
    {
     "name": "stdout",
     "output_type": "stream",
     "text": [
      "Using GCN (local pooling) filters...\n"
     ]
    }
   ],
   "source": [
    "generator_gcn = FullBatchNodeGenerator(graph_sampled, method=\"gcn\")"
   ]
  },
  {
   "cell_type": "code",
   "execution_count": 218,
   "metadata": {
    "id": "LHek8gxAKFCT"
   },
   "outputs": [],
   "source": [
    "train_gen = generator_gcn.flow(train_labels.index, train_targets)"
   ]
  },
  {
   "cell_type": "code",
   "execution_count": 244,
   "metadata": {
    "id": "wKnpstcsWdAL"
   },
   "outputs": [],
   "source": [
    "gcn = GCN(\n",
    "    layer_sizes=[32, 32], activations=[\"relu\", \"relu\"], generator=generator_gcn, dropout=0.5\n",
    ")\n",
    "\n",
    "# voi binary step function?\n",
    "# relu:https://www.quora.com/Does-it-make-sense-to-use-Relu-activation-on-the-output-neuron-for-binary-classification-If-not-why"
   ]
  },
  {
   "cell_type": "code",
   "execution_count": 245,
   "metadata": {
    "colab": {
     "base_uri": "https://localhost:8080/"
    },
    "id": "lfWwGKMfWgBH",
    "outputId": "53b18a4c-ec80-453b-ef9a-78a65e52b08b"
   },
   "outputs": [
    {
     "data": {
      "text/plain": [
       "<KerasTensor: shape=(1, None, 32) dtype=float32 (created by layer 'gather_indices_6')>"
      ]
     },
     "execution_count": 245,
     "metadata": {},
     "output_type": "execute_result"
    }
   ],
   "source": [
    "x_inp, x_out = gcn.in_out_tensors()\n",
    "\n",
    "x_out"
   ]
  },
  {
   "cell_type": "code",
   "execution_count": 246,
   "metadata": {
    "id": "vvANLJ41WjOW"
   },
   "outputs": [],
   "source": [
    "predictions = layers.Dense(units=1, activation=\"sigmoid\")(x_out) #sigmoid is used in binary classification"
   ]
  },
  {
   "cell_type": "code",
   "execution_count": 247,
   "metadata": {},
   "outputs": [
    {
     "data": {
      "text/plain": [
       "TensorShape([1, None, 1])"
      ]
     },
     "execution_count": 247,
     "metadata": {},
     "output_type": "execute_result"
    }
   ],
   "source": [
    "predictions.shape"
   ]
  },
  {
   "cell_type": "markdown",
   "metadata": {
    "id": "0YXSr83xXJOo"
   },
   "source": [
    "### 2. Training and evaluating the model"
   ]
  },
  {
   "cell_type": "code",
   "execution_count": 248,
   "metadata": {
    "colab": {
     "base_uri": "https://localhost:8080/"
    },
    "id": "16suQJn2XIoZ",
    "outputId": "69a0abf3-1b53-4f38-ad55-5c9875567460"
   },
   "outputs": [],
   "source": [
    "model = Model(inputs=x_inp, outputs=predictions)\n",
    "model.compile(\n",
    "    optimizer=optimizers.Adam(lr=0.001),\n",
    "    loss=losses.binary_crossentropy,\n",
    "    metrics=[\"acc\"],\n",
    ")\n"
   ]
  },
  {
   "cell_type": "code",
   "execution_count": 249,
   "metadata": {
    "id": "LKU-pjHyZ5Th"
   },
   "outputs": [],
   "source": [
    "val_gen = generator.flow(val_labels.index, val_targets)\n",
    "es_callback = EarlyStopping(monitor=\"val_acc\", patience=50, restore_best_weights=True)"
   ]
  },
  {
   "cell_type": "code",
   "execution_count": 250,
   "metadata": {
    "colab": {
     "base_uri": "https://localhost:8080/"
    },
    "id": "uMB0glglnD5x",
    "outputId": "4eb67bbd-675e-4520-b77d-267a7a05ba86"
   },
   "outputs": [
    {
     "data": {
      "text/plain": [
       "{0: 0.5316875460574797, 1: 8.38953488372093}"
      ]
     },
     "execution_count": 250,
     "metadata": {},
     "output_type": "execute_result"
    }
   ],
   "source": [
    "# Dealing with class imbalance\n",
    "from sklearn.utils import class_weight\n",
    "\n",
    "weights = class_weight.compute_class_weight('balanced',\n",
    "                                            classes=np.unique(val_targets),\n",
    "                                            y=val_targets)\n",
    "weights = {i:w for i,w in enumerate(weights)}\n",
    "weights"
   ]
  },
  {
   "cell_type": "code",
   "execution_count": 251,
   "metadata": {
    "colab": {
     "base_uri": "https://localhost:8080/",
     "height": 450
    },
    "id": "fQKwmBaJaQjT",
    "outputId": "4ffe0814-e9ff-4726-9eaf-df029cdbc5fb"
   },
   "outputs": [
    {
     "name": "stdout",
     "output_type": "stream",
     "text": [
      "Epoch 1/100\n"
     ]
    },
    {
     "ename": "InvalidArgumentError",
     "evalue": "Graph execution error:\n\nindices[0] = 59 is not in [0, 2)\n\t [[{{node GatherV2}}]]\n\t [[IteratorGetNext]] [Op:__inference_train_function_80664]",
     "output_type": "error",
     "traceback": [
      "\u001b[1;31m---------------------------------------------------------------------------\u001b[0m",
      "\u001b[1;31mInvalidArgumentError\u001b[0m                      Traceback (most recent call last)",
      "\u001b[1;32m<ipython-input-251-534243a07b21>\u001b[0m in \u001b[0;36m<module>\u001b[1;34m\u001b[0m\n\u001b[1;32m----> 1\u001b[1;33m history = model.fit(\n\u001b[0m\u001b[0;32m      2\u001b[0m     \u001b[0mtrain_gen\u001b[0m\u001b[1;33m,\u001b[0m\u001b[1;33m\u001b[0m\u001b[1;33m\u001b[0m\u001b[0m\n\u001b[0;32m      3\u001b[0m     \u001b[0mepochs\u001b[0m\u001b[1;33m=\u001b[0m\u001b[1;36m100\u001b[0m\u001b[1;33m,\u001b[0m\u001b[1;33m\u001b[0m\u001b[1;33m\u001b[0m\u001b[0m\n\u001b[0;32m      4\u001b[0m     \u001b[0mvalidation_data\u001b[0m\u001b[1;33m=\u001b[0m\u001b[0mval_gen\u001b[0m\u001b[1;33m,\u001b[0m\u001b[1;33m\u001b[0m\u001b[1;33m\u001b[0m\u001b[0m\n\u001b[0;32m      5\u001b[0m     \u001b[0mverbose\u001b[0m\u001b[1;33m=\u001b[0m\u001b[1;36m2\u001b[0m\u001b[1;33m,\u001b[0m\u001b[1;33m\u001b[0m\u001b[1;33m\u001b[0m\u001b[0m\n",
      "\u001b[1;32m~\\Anaconda3\\lib\\site-packages\\keras\\utils\\traceback_utils.py\u001b[0m in \u001b[0;36merror_handler\u001b[1;34m(*args, **kwargs)\u001b[0m\n\u001b[0;32m     65\u001b[0m     \u001b[1;32mexcept\u001b[0m \u001b[0mException\u001b[0m \u001b[1;32mas\u001b[0m \u001b[0me\u001b[0m\u001b[1;33m:\u001b[0m  \u001b[1;31m# pylint: disable=broad-except\u001b[0m\u001b[1;33m\u001b[0m\u001b[1;33m\u001b[0m\u001b[0m\n\u001b[0;32m     66\u001b[0m       \u001b[0mfiltered_tb\u001b[0m \u001b[1;33m=\u001b[0m \u001b[0m_process_traceback_frames\u001b[0m\u001b[1;33m(\u001b[0m\u001b[0me\u001b[0m\u001b[1;33m.\u001b[0m\u001b[0m__traceback__\u001b[0m\u001b[1;33m)\u001b[0m\u001b[1;33m\u001b[0m\u001b[1;33m\u001b[0m\u001b[0m\n\u001b[1;32m---> 67\u001b[1;33m       \u001b[1;32mraise\u001b[0m \u001b[0me\u001b[0m\u001b[1;33m.\u001b[0m\u001b[0mwith_traceback\u001b[0m\u001b[1;33m(\u001b[0m\u001b[0mfiltered_tb\u001b[0m\u001b[1;33m)\u001b[0m \u001b[1;32mfrom\u001b[0m \u001b[1;32mNone\u001b[0m\u001b[1;33m\u001b[0m\u001b[1;33m\u001b[0m\u001b[0m\n\u001b[0m\u001b[0;32m     68\u001b[0m     \u001b[1;32mfinally\u001b[0m\u001b[1;33m:\u001b[0m\u001b[1;33m\u001b[0m\u001b[1;33m\u001b[0m\u001b[0m\n\u001b[0;32m     69\u001b[0m       \u001b[1;32mdel\u001b[0m \u001b[0mfiltered_tb\u001b[0m\u001b[1;33m\u001b[0m\u001b[1;33m\u001b[0m\u001b[0m\n",
      "\u001b[1;32m~\\Anaconda3\\lib\\site-packages\\tensorflow\\python\\eager\\execute.py\u001b[0m in \u001b[0;36mquick_execute\u001b[1;34m(op_name, num_outputs, inputs, attrs, ctx, name)\u001b[0m\n\u001b[0;32m     52\u001b[0m   \u001b[1;32mtry\u001b[0m\u001b[1;33m:\u001b[0m\u001b[1;33m\u001b[0m\u001b[1;33m\u001b[0m\u001b[0m\n\u001b[0;32m     53\u001b[0m     \u001b[0mctx\u001b[0m\u001b[1;33m.\u001b[0m\u001b[0mensure_initialized\u001b[0m\u001b[1;33m(\u001b[0m\u001b[1;33m)\u001b[0m\u001b[1;33m\u001b[0m\u001b[1;33m\u001b[0m\u001b[0m\n\u001b[1;32m---> 54\u001b[1;33m     tensors = pywrap_tfe.TFE_Py_Execute(ctx._handle, device_name, op_name,\n\u001b[0m\u001b[0;32m     55\u001b[0m                                         inputs, attrs, num_outputs)\n\u001b[0;32m     56\u001b[0m   \u001b[1;32mexcept\u001b[0m \u001b[0mcore\u001b[0m\u001b[1;33m.\u001b[0m\u001b[0m_NotOkStatusException\u001b[0m \u001b[1;32mas\u001b[0m \u001b[0me\u001b[0m\u001b[1;33m:\u001b[0m\u001b[1;33m\u001b[0m\u001b[1;33m\u001b[0m\u001b[0m\n",
      "\u001b[1;31mInvalidArgumentError\u001b[0m: Graph execution error:\n\nindices[0] = 59 is not in [0, 2)\n\t [[{{node GatherV2}}]]\n\t [[IteratorGetNext]] [Op:__inference_train_function_80664]"
     ]
    }
   ],
   "source": [
    "history = model.fit(\n",
    "    train_gen,\n",
    "    epochs=100,\n",
    "    validation_data=val_gen,\n",
    "    verbose=2,\n",
    "    shuffle=False,  # this should be False, since shuffling data means shuffling the whole graph\n",
    "    callbacks=[es_callback],\n",
    "    class_weight=weights\n",
    ")"
   ]
  },
  {
   "cell_type": "code",
   "execution_count": 82,
   "metadata": {
    "colab": {
     "base_uri": "https://localhost:8080/",
     "height": 585
    },
    "id": "F_2sZo1kaSaV",
    "outputId": "8eef5ed9-ffcf-4792-c3f6-4c01533eb77d",
    "scrolled": true
   },
   "outputs": [
    {
     "data": {
      "image/png": "[encoded data removed]",
      "text/plain": [
       "<Figure size 504x576 with 2 Axes>"
      ]
     },
     "metadata": {
      "needs_background": "light"
     },
     "output_type": "display_data"
    }
   ],
   "source": [
    "sg.utils.plot_history(history)"
   ]
  },
  {
   "cell_type": "code",
   "execution_count": null,
   "metadata": {
    "id": "Grvv2RgZalqC"
   },
   "outputs": [],
   "source": [
    "test_gen = generator.flow(test_labels.index, test_targets)"
   ]
  },
  {
   "cell_type": "code",
   "execution_count": null,
   "metadata": {
    "colab": {
     "base_uri": "https://localhost:8080/"
    },
    "id": "eOdg2shJapO0",
    "outputId": "ca3229b8-0ac6-4d1c-8028-29bb3e297366"
   },
   "outputs": [],
   "source": [
    "test_metrics = model.evaluate(test_gen)\n",
    "print(\"\\nTest Set Metrics:\")\n",
    "for name, val in zip(model.metrics_names, test_metrics):\n",
    "    print(\"\\t{}: {:0.4f}\".format(name, val))"
   ]
  },
  {
   "cell_type": "code",
   "execution_count": null,
   "metadata": {
    "id": "LopnKqHbbjAB"
   },
   "outputs": [],
   "source": []
  }
 ],
 "metadata": {
  "colab": {
   "name": "Twitch_socail_network.ipynb",
   "provenance": []
  },
  "kernelspec": {
   "display_name": "Python 3",
   "language": "python",
   "name": "python3"
  },
  "language_info": {
   "codemirror_mode": {
    "name": "ipython",
    "version": 3
   },
   "file_extension": ".py",
   "mimetype": "text/x-python",
   "name": "python",
   "nbconvert_exporter": "python",
   "pygments_lexer": "ipython3",
   "version": "3.8.8"
  }
 },
 "nbformat": 4,
 "nbformat_minor": 1
}
