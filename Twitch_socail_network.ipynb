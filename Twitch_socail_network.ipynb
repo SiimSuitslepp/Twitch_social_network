{
 "cells": [
  {
   "cell_type": "markdown",
   "metadata": {},
   "source": [
    "# Network Science project"
   ]
  },
  {
   "cell_type": "markdown",
   "metadata": {},
   "source": [
    "# Twitch Social Network - Germany"
   ]
  },
  {
   "cell_type": "markdown",
   "metadata": {},
   "source": [
    "Lisanna Lehes, Siim Suitslepp"
   ]
  },
  {
   "cell_type": "code",
   "execution_count": 1,
   "metadata": {
    "id": "uykoW8oEZjhi"
   },
   "outputs": [],
   "source": [
    "import pandas as pd\n",
    "import numpy as np\n",
    "from tqdm import tqdm\n",
    "import networkx as nx\n",
    "from networkx.algorithms import community\n",
    "import matplotlib.pyplot as plt\n",
    "import seaborn as sns"
   ]
  },
  {
   "cell_type": "code",
   "execution_count": 2,
   "metadata": {
    "id": "7bUsvI1ScP70"
   },
   "outputs": [],
   "source": [
    "edges = pd.read_csv('musae_DE_edges.csv')\n",
    "nodes = pd.read_csv('musae_DE_target.csv')"
   ]
  },
  {
   "cell_type": "code",
   "execution_count": 3,
   "metadata": {
    "colab": {
     "base_uri": "https://localhost:8080/"
    },
    "id": "-kMkeDD-cfPC",
    "outputId": "7c2172e1-3090-41ea-f7a2-815020c98f7e"
   },
   "outputs": [
    {
     "name": "stdout",
     "output_type": "stream",
     "text": [
      "Nodes dataset dimension: (9498, 6) \n",
      "Edges dataset dimension: (153138, 2)\n"
     ]
    }
   ],
   "source": [
    "print('Nodes dataset dimension:', nodes.shape, '\\nEdges dataset dimension:', edges.shape)"
   ]
  },
  {
   "cell_type": "markdown",
   "metadata": {
    "id": "jaeTmjTqdfCu"
   },
   "source": [
    "## 1. Exploring the data - Descriptive Analysis"
   ]
  },
  {
   "cell_type": "code",
   "execution_count": 4,
   "metadata": {
    "colab": {
     "base_uri": "https://localhost:8080/",
     "height": 206
    },
    "id": "cCVdXtbwcps9",
    "outputId": "aa6aafbf-de87-4cba-8342-1368c6ae3963"
   },
   "outputs": [
    {
     "data": {
      "text/html": [
       "<div>\n",
       "<style scoped>\n",
       "    .dataframe tbody tr th:only-of-type {\n",
       "        vertical-align: middle;\n",
       "    }\n",
       "\n",
       "    .dataframe tbody tr th {\n",
       "        vertical-align: top;\n",
       "    }\n",
       "\n",
       "    .dataframe thead th {\n",
       "        text-align: right;\n",
       "    }\n",
       "</style>\n",
       "<table border=\"1\" class=\"dataframe\">\n",
       "  <thead>\n",
       "    <tr style=\"text-align: right;\">\n",
       "      <th></th>\n",
       "      <th>id</th>\n",
       "      <th>days</th>\n",
       "      <th>mature</th>\n",
       "      <th>views</th>\n",
       "      <th>partner</th>\n",
       "      <th>new_id</th>\n",
       "    </tr>\n",
       "  </thead>\n",
       "  <tbody>\n",
       "    <tr>\n",
       "      <th>0</th>\n",
       "      <td>37905227</td>\n",
       "      <td>2149</td>\n",
       "      <td>True</td>\n",
       "      <td>162078</td>\n",
       "      <td>False</td>\n",
       "      <td>5079</td>\n",
       "    </tr>\n",
       "    <tr>\n",
       "      <th>1</th>\n",
       "      <td>63102384</td>\n",
       "      <td>1574</td>\n",
       "      <td>True</td>\n",
       "      <td>1370</td>\n",
       "      <td>False</td>\n",
       "      <td>4281</td>\n",
       "    </tr>\n",
       "    <tr>\n",
       "      <th>2</th>\n",
       "      <td>109414094</td>\n",
       "      <td>1034</td>\n",
       "      <td>True</td>\n",
       "      <td>6043</td>\n",
       "      <td>False</td>\n",
       "      <td>992</td>\n",
       "    </tr>\n",
       "    <tr>\n",
       "      <th>3</th>\n",
       "      <td>84163849</td>\n",
       "      <td>1319</td>\n",
       "      <td>True</td>\n",
       "      <td>94298</td>\n",
       "      <td>True</td>\n",
       "      <td>9021</td>\n",
       "    </tr>\n",
       "    <tr>\n",
       "      <th>4</th>\n",
       "      <td>38240837</td>\n",
       "      <td>2137</td>\n",
       "      <td>True</td>\n",
       "      <td>2323</td>\n",
       "      <td>False</td>\n",
       "      <td>330</td>\n",
       "    </tr>\n",
       "  </tbody>\n",
       "</table>\n",
       "</div>"
      ],
      "text/plain": [
       "          id  days  mature   views  partner  new_id\n",
       "0   37905227  2149    True  162078    False    5079\n",
       "1   63102384  1574    True    1370    False    4281\n",
       "2  109414094  1034    True    6043    False     992\n",
       "3   84163849  1319    True   94298     True    9021\n",
       "4   38240837  2137    True    2323    False     330"
      ]
     },
     "execution_count": 4,
     "metadata": {},
     "output_type": "execute_result"
    }
   ],
   "source": [
    "nodes.head()"
   ]
  },
  {
   "cell_type": "code",
   "execution_count": 5,
   "metadata": {
    "colab": {
     "base_uri": "https://localhost:8080/",
     "height": 206
    },
    "id": "pm4AAeJCfbmt",
    "outputId": "aeffcecf-99e6-4783-8466-c6a5a54bcb6a"
   },
   "outputs": [
    {
     "data": {
      "text/html": [
       "<div>\n",
       "<style scoped>\n",
       "    .dataframe tbody tr th:only-of-type {\n",
       "        vertical-align: middle;\n",
       "    }\n",
       "\n",
       "    .dataframe tbody tr th {\n",
       "        vertical-align: top;\n",
       "    }\n",
       "\n",
       "    .dataframe thead th {\n",
       "        text-align: right;\n",
       "    }\n",
       "</style>\n",
       "<table border=\"1\" class=\"dataframe\">\n",
       "  <thead>\n",
       "    <tr style=\"text-align: right;\">\n",
       "      <th></th>\n",
       "      <th>from</th>\n",
       "      <th>to</th>\n",
       "    </tr>\n",
       "  </thead>\n",
       "  <tbody>\n",
       "    <tr>\n",
       "      <th>0</th>\n",
       "      <td>0</td>\n",
       "      <td>9206</td>\n",
       "    </tr>\n",
       "    <tr>\n",
       "      <th>1</th>\n",
       "      <td>0</td>\n",
       "      <td>7787</td>\n",
       "    </tr>\n",
       "    <tr>\n",
       "      <th>2</th>\n",
       "      <td>0</td>\n",
       "      <td>2145</td>\n",
       "    </tr>\n",
       "    <tr>\n",
       "      <th>3</th>\n",
       "      <td>0</td>\n",
       "      <td>2684</td>\n",
       "    </tr>\n",
       "    <tr>\n",
       "      <th>4</th>\n",
       "      <td>0</td>\n",
       "      <td>7275</td>\n",
       "    </tr>\n",
       "  </tbody>\n",
       "</table>\n",
       "</div>"
      ],
      "text/plain": [
       "   from    to\n",
       "0     0  9206\n",
       "1     0  7787\n",
       "2     0  2145\n",
       "3     0  2684\n",
       "4     0  7275"
      ]
     },
     "execution_count": 5,
     "metadata": {},
     "output_type": "execute_result"
    }
   ],
   "source": [
    "edges.head()"
   ]
  },
  {
   "cell_type": "code",
   "execution_count": 6,
   "metadata": {
    "colab": {
     "base_uri": "https://localhost:8080/",
     "height": 300
    },
    "id": "RjZ4LUMJfexP",
    "outputId": "264de2d2-18af-4f18-a89c-ed7b962ff45d"
   },
   "outputs": [
    {
     "data": {
      "text/html": [
       "<div>\n",
       "<style scoped>\n",
       "    .dataframe tbody tr th:only-of-type {\n",
       "        vertical-align: middle;\n",
       "    }\n",
       "\n",
       "    .dataframe tbody tr th {\n",
       "        vertical-align: top;\n",
       "    }\n",
       "\n",
       "    .dataframe thead th {\n",
       "        text-align: right;\n",
       "    }\n",
       "</style>\n",
       "<table border=\"1\" class=\"dataframe\">\n",
       "  <thead>\n",
       "    <tr style=\"text-align: right;\">\n",
       "      <th></th>\n",
       "      <th>from</th>\n",
       "      <th>to</th>\n",
       "    </tr>\n",
       "  </thead>\n",
       "  <tbody>\n",
       "    <tr>\n",
       "      <th>count</th>\n",
       "      <td>153138.000000</td>\n",
       "      <td>153138.000000</td>\n",
       "    </tr>\n",
       "    <tr>\n",
       "      <th>mean</th>\n",
       "      <td>3672.458103</td>\n",
       "      <td>6060.992510</td>\n",
       "    </tr>\n",
       "    <tr>\n",
       "      <th>std</th>\n",
       "      <td>2511.565127</td>\n",
       "      <td>2437.219301</td>\n",
       "    </tr>\n",
       "    <tr>\n",
       "      <th>min</th>\n",
       "      <td>0.000000</td>\n",
       "      <td>5.000000</td>\n",
       "    </tr>\n",
       "    <tr>\n",
       "      <th>25%</th>\n",
       "      <td>1613.000000</td>\n",
       "      <td>4150.000000</td>\n",
       "    </tr>\n",
       "    <tr>\n",
       "      <th>50%</th>\n",
       "      <td>3173.000000</td>\n",
       "      <td>6619.000000</td>\n",
       "    </tr>\n",
       "    <tr>\n",
       "      <th>75%</th>\n",
       "      <td>5519.000000</td>\n",
       "      <td>8080.000000</td>\n",
       "    </tr>\n",
       "    <tr>\n",
       "      <th>max</th>\n",
       "      <td>9488.000000</td>\n",
       "      <td>9497.000000</td>\n",
       "    </tr>\n",
       "  </tbody>\n",
       "</table>\n",
       "</div>"
      ],
      "text/plain": [
       "                from             to\n",
       "count  153138.000000  153138.000000\n",
       "mean     3672.458103    6060.992510\n",
       "std      2511.565127    2437.219301\n",
       "min         0.000000       5.000000\n",
       "25%      1613.000000    4150.000000\n",
       "50%      3173.000000    6619.000000\n",
       "75%      5519.000000    8080.000000\n",
       "max      9488.000000    9497.000000"
      ]
     },
     "execution_count": 6,
     "metadata": {},
     "output_type": "execute_result"
    }
   ],
   "source": [
    "edges.describe()"
   ]
  },
  {
   "cell_type": "markdown",
   "metadata": {
    "id": "qVH0oRvKfjuk"
   },
   "source": [
    "We can see from here that it uses new_id instead of id so we will drop id collumn and only use new_id"
   ]
  },
  {
   "cell_type": "markdown",
   "metadata": {},
   "source": [
    "### Dropping unnessesary columns"
   ]
  },
  {
   "cell_type": "code",
   "execution_count": 7,
   "metadata": {
    "id": "2RfkZ_UBfvR1"
   },
   "outputs": [],
   "source": [
    "nodes.drop(\"id\", axis=1, inplace=True)"
   ]
  },
  {
   "cell_type": "code",
   "execution_count": 8,
   "metadata": {
    "id": "2D4CkSl2fzOV"
   },
   "outputs": [],
   "source": [
    "nodes.rename(columns = {'new_id':'id'}, inplace = True)"
   ]
  },
  {
   "cell_type": "code",
   "execution_count": 9,
   "metadata": {
    "colab": {
     "base_uri": "https://localhost:8080/",
     "height": 206
    },
    "id": "DIGhx74_gEko",
    "outputId": "6cbcf882-bfb5-4fd9-b46c-a07c5eadf677"
   },
   "outputs": [
    {
     "data": {
      "text/html": [
       "<div>\n",
       "<style scoped>\n",
       "    .dataframe tbody tr th:only-of-type {\n",
       "        vertical-align: middle;\n",
       "    }\n",
       "\n",
       "    .dataframe tbody tr th {\n",
       "        vertical-align: top;\n",
       "    }\n",
       "\n",
       "    .dataframe thead th {\n",
       "        text-align: right;\n",
       "    }\n",
       "</style>\n",
       "<table border=\"1\" class=\"dataframe\">\n",
       "  <thead>\n",
       "    <tr style=\"text-align: right;\">\n",
       "      <th></th>\n",
       "      <th>days</th>\n",
       "      <th>mature</th>\n",
       "      <th>views</th>\n",
       "      <th>partner</th>\n",
       "      <th>id</th>\n",
       "    </tr>\n",
       "  </thead>\n",
       "  <tbody>\n",
       "    <tr>\n",
       "      <th>0</th>\n",
       "      <td>2149</td>\n",
       "      <td>True</td>\n",
       "      <td>162078</td>\n",
       "      <td>False</td>\n",
       "      <td>5079</td>\n",
       "    </tr>\n",
       "    <tr>\n",
       "      <th>1</th>\n",
       "      <td>1574</td>\n",
       "      <td>True</td>\n",
       "      <td>1370</td>\n",
       "      <td>False</td>\n",
       "      <td>4281</td>\n",
       "    </tr>\n",
       "    <tr>\n",
       "      <th>2</th>\n",
       "      <td>1034</td>\n",
       "      <td>True</td>\n",
       "      <td>6043</td>\n",
       "      <td>False</td>\n",
       "      <td>992</td>\n",
       "    </tr>\n",
       "    <tr>\n",
       "      <th>3</th>\n",
       "      <td>1319</td>\n",
       "      <td>True</td>\n",
       "      <td>94298</td>\n",
       "      <td>True</td>\n",
       "      <td>9021</td>\n",
       "    </tr>\n",
       "    <tr>\n",
       "      <th>4</th>\n",
       "      <td>2137</td>\n",
       "      <td>True</td>\n",
       "      <td>2323</td>\n",
       "      <td>False</td>\n",
       "      <td>330</td>\n",
       "    </tr>\n",
       "  </tbody>\n",
       "</table>\n",
       "</div>"
      ],
      "text/plain": [
       "   days  mature   views  partner    id\n",
       "0  2149    True  162078    False  5079\n",
       "1  1574    True    1370    False  4281\n",
       "2  1034    True    6043    False   992\n",
       "3  1319    True   94298     True  9021\n",
       "4  2137    True    2323    False   330"
      ]
     },
     "execution_count": 9,
     "metadata": {},
     "output_type": "execute_result"
    }
   ],
   "source": [
    "nodes.head()"
   ]
  },
  {
   "cell_type": "markdown",
   "metadata": {},
   "source": [
    "### Checking for null values"
   ]
  },
  {
   "cell_type": "code",
   "execution_count": 10,
   "metadata": {
    "colab": {
     "base_uri": "https://localhost:8080/"
    },
    "id": "PnEgR1q68-t5",
    "outputId": "c82b5226-b08c-48de-a3e6-7235ca3fa50a"
   },
   "outputs": [
    {
     "data": {
      "text/plain": [
       "days       0\n",
       "mature     0\n",
       "views      0\n",
       "partner    0\n",
       "id         0\n",
       "dtype: int64"
      ]
     },
     "execution_count": 10,
     "metadata": {},
     "output_type": "execute_result"
    }
   ],
   "source": [
    "nodes.isnull().sum()"
   ]
  },
  {
   "cell_type": "code",
   "execution_count": 11,
   "metadata": {
    "colab": {
     "base_uri": "https://localhost:8080/"
    },
    "id": "Az0Gkfxx-TNt",
    "outputId": "3854e537-e0dd-470e-b023-e5e481cbf231"
   },
   "outputs": [
    {
     "data": {
      "text/plain": [
       "from    0\n",
       "to      0\n",
       "dtype: int64"
      ]
     },
     "execution_count": 11,
     "metadata": {},
     "output_type": "execute_result"
    }
   ],
   "source": [
    "edges.isnull().sum()"
   ]
  },
  {
   "cell_type": "markdown",
   "metadata": {
    "id": "YF49j27ze9mq"
   },
   "source": [
    "There are no NAN values in dataset"
   ]
  },
  {
   "cell_type": "markdown",
   "metadata": {},
   "source": [
    "### Checking data types"
   ]
  },
  {
   "cell_type": "code",
   "execution_count": 12,
   "metadata": {
    "colab": {
     "base_uri": "https://localhost:8080/"
    },
    "id": "9Q5QvmO13TVb",
    "outputId": "424d2234-3780-4ceb-b3fe-c6452f12ae51"
   },
   "outputs": [
    {
     "data": {
      "text/plain": [
       "days       int64\n",
       "mature      bool\n",
       "views      int64\n",
       "partner     bool\n",
       "id         int64\n",
       "dtype: object"
      ]
     },
     "execution_count": 12,
     "metadata": {},
     "output_type": "execute_result"
    }
   ],
   "source": [
    "nodes.dtypes"
   ]
  },
  {
   "cell_type": "code",
   "execution_count": 13,
   "metadata": {
    "id": "micOV5RjvGZh"
   },
   "outputs": [],
   "source": [
    "#correcting datatypes\n",
    "\n",
    "nodes.mature = nodes.mature.astype(int) # idk kas siin seda vaja\n",
    "nodes.partner = nodes.partner.astype(int)"
   ]
  },
  {
   "cell_type": "code",
   "execution_count": 14,
   "metadata": {
    "colab": {
     "base_uri": "https://localhost:8080/"
    },
    "id": "_qDdIdKAyow5",
    "outputId": "31dbeac5-89f7-4b0f-92ff-e38a00f17cbd"
   },
   "outputs": [
    {
     "data": {
      "text/plain": [
       "days       int64\n",
       "mature     int32\n",
       "views      int64\n",
       "partner    int32\n",
       "id         int64\n",
       "dtype: object"
      ]
     },
     "execution_count": 14,
     "metadata": {},
     "output_type": "execute_result"
    }
   ],
   "source": [
    "nodes.dtypes"
   ]
  },
  {
   "cell_type": "markdown",
   "metadata": {},
   "source": [
    "### Visualizing"
   ]
  },
  {
   "cell_type": "code",
   "execution_count": 15,
   "metadata": {
    "colab": {
     "base_uri": "https://localhost:8080/",
     "height": 272
    },
    "id": "TtlZD-mWh7ye",
    "outputId": "94d58826-4f16-438e-fabc-77b71f90aa85"
   },
   "outputs": [
    {
     "data": {
      "text/plain": [
       "Text(0, 0.5, 'Views on Twitch')"
      ]
     },
     "execution_count": 15,
     "metadata": {},
     "output_type": "execute_result"
    },
    {
     "data": {
      "image/png": "[encoded data removed]",
      "text/plain": [
       "<Figure size 432x288 with 1 Axes>"
      ]
     },
     "metadata": {
      "needs_background": "light"
     },
     "output_type": "display_data"
    }
   ],
   "source": [
    "nodes_views = nodes.sort_values(by = ['views'])\n",
    "views = nodes_views['views']\n",
    "views = views.reset_index()\n",
    "plt.plot(views['views'])\n",
    "plt.yscale(\"log\")\n",
    "plt.title(\"\")\n",
    "plt.xlabel(\"sorted nodes (streamers)\")\n",
    "plt.ylabel(\"Views on Twitch\")"
   ]
  },
  {
   "cell_type": "code",
   "execution_count": 16,
   "metadata": {
    "colab": {
     "base_uri": "https://localhost:8080/",
     "height": 272
    },
    "id": "5X4fDvLZjuFl",
    "outputId": "414bfeed-43a6-4368-9fcb-250230e04a76"
   },
   "outputs": [
    {
     "data": {
      "text/plain": [
       "Text(0, 0.5, 'Days on Twitch')"
      ]
     },
     "execution_count": 16,
     "metadata": {},
     "output_type": "execute_result"
    },
    {
     "data": {
      "image/png": "[encoded data removed]",
      "text/plain": [
       "<Figure size 432x288 with 1 Axes>"
      ]
     },
     "metadata": {
      "needs_background": "light"
     },
     "output_type": "display_data"
    }
   ],
   "source": [
    "nodes_days = nodes.sort_values(by = ['days'])\n",
    "days = nodes_days['days']\n",
    "days = days.reset_index()\n",
    "plt.plot(days['days'])\n",
    "plt.yscale(\"log\")\n",
    "plt.xlabel(\"sorted nodes (streamers)\")\n",
    "plt.ylabel(\"Days on Twitch\")"
   ]
  },
  {
   "cell_type": "code",
   "execution_count": 108,
   "metadata": {
    "colab": {
     "base_uri": "https://localhost:8080/",
     "height": 455
    },
    "id": "Ode191fN386F",
    "outputId": "bf393052-1b10-42bd-f1fc-066af1cca38d"
   },
   "outputs": [
    {
     "data": {
      "text/html": [
       "<div>\n",
       "<style scoped>\n",
       "    .dataframe tbody tr th:only-of-type {\n",
       "        vertical-align: middle;\n",
       "    }\n",
       "\n",
       "    .dataframe tbody tr th {\n",
       "        vertical-align: top;\n",
       "    }\n",
       "\n",
       "    .dataframe thead th {\n",
       "        text-align: right;\n",
       "    }\n",
       "</style>\n",
       "<table border=\"1\" class=\"dataframe\">\n",
       "  <thead>\n",
       "    <tr style=\"text-align: right;\">\n",
       "      <th></th>\n",
       "      <th>days</th>\n",
       "      <th>mature</th>\n",
       "      <th>views</th>\n",
       "      <th>partner</th>\n",
       "    </tr>\n",
       "    <tr>\n",
       "      <th>id</th>\n",
       "      <th></th>\n",
       "      <th></th>\n",
       "      <th></th>\n",
       "      <th></th>\n",
       "    </tr>\n",
       "  </thead>\n",
       "  <tbody>\n",
       "    <tr>\n",
       "      <th>5079</th>\n",
       "      <td>2149</td>\n",
       "      <td>1</td>\n",
       "      <td>162078</td>\n",
       "      <td>0</td>\n",
       "    </tr>\n",
       "    <tr>\n",
       "      <th>4281</th>\n",
       "      <td>1574</td>\n",
       "      <td>1</td>\n",
       "      <td>1370</td>\n",
       "      <td>0</td>\n",
       "    </tr>\n",
       "    <tr>\n",
       "      <th>992</th>\n",
       "      <td>1034</td>\n",
       "      <td>1</td>\n",
       "      <td>6043</td>\n",
       "      <td>0</td>\n",
       "    </tr>\n",
       "    <tr>\n",
       "      <th>9021</th>\n",
       "      <td>1319</td>\n",
       "      <td>1</td>\n",
       "      <td>94298</td>\n",
       "      <td>1</td>\n",
       "    </tr>\n",
       "    <tr>\n",
       "      <th>330</th>\n",
       "      <td>2137</td>\n",
       "      <td>1</td>\n",
       "      <td>2323</td>\n",
       "      <td>0</td>\n",
       "    </tr>\n",
       "    <tr>\n",
       "      <th>...</th>\n",
       "      <td>...</td>\n",
       "      <td>...</td>\n",
       "      <td>...</td>\n",
       "      <td>...</td>\n",
       "    </tr>\n",
       "    <tr>\n",
       "      <th>4572</th>\n",
       "      <td>895</td>\n",
       "      <td>1</td>\n",
       "      <td>128</td>\n",
       "      <td>0</td>\n",
       "    </tr>\n",
       "    <tr>\n",
       "      <th>6355</th>\n",
       "      <td>2001</td>\n",
       "      <td>0</td>\n",
       "      <td>44</td>\n",
       "      <td>0</td>\n",
       "    </tr>\n",
       "    <tr>\n",
       "      <th>206</th>\n",
       "      <td>1784</td>\n",
       "      <td>1</td>\n",
       "      <td>2038</td>\n",
       "      <td>0</td>\n",
       "    </tr>\n",
       "    <tr>\n",
       "      <th>7695</th>\n",
       "      <td>2114</td>\n",
       "      <td>0</td>\n",
       "      <td>449</td>\n",
       "      <td>0</td>\n",
       "    </tr>\n",
       "    <tr>\n",
       "      <th>4451</th>\n",
       "      <td>1680</td>\n",
       "      <td>0</td>\n",
       "      <td>10638954</td>\n",
       "      <td>1</td>\n",
       "    </tr>\n",
       "  </tbody>\n",
       "</table>\n",
       "<p>9498 rows × 4 columns</p>\n",
       "</div>"
      ],
      "text/plain": [
       "      days  mature     views  partner\n",
       "id                                   \n",
       "5079  2149       1    162078        0\n",
       "4281  1574       1      1370        0\n",
       "992   1034       1      6043        0\n",
       "9021  1319       1     94298        1\n",
       "330   2137       1      2323        0\n",
       "...    ...     ...       ...      ...\n",
       "4572   895       1       128        0\n",
       "6355  2001       0        44        0\n",
       "206   1784       1      2038        0\n",
       "7695  2114       0       449        0\n",
       "4451  1680       0  10638954        1\n",
       "\n",
       "[9498 rows x 4 columns]"
      ]
     },
     "execution_count": 108,
     "metadata": {},
     "output_type": "execute_result"
    }
   ],
   "source": [
    "nodes.set_index('id')"
   ]
  },
  {
   "cell_type": "markdown",
   "metadata": {
    "id": "hqsvDwjIgplF"
   },
   "source": [
    "## 2. Graph analysis"
   ]
  },
  {
   "cell_type": "code",
   "execution_count": 109,
   "metadata": {
    "id": "-opM_BSnw0JC"
   },
   "outputs": [],
   "source": [
    "nodes_dict = nodes.to_dict('index')"
   ]
  },
  {
   "cell_type": "code",
   "execution_count": 110,
   "metadata": {
    "id": "iXCXpJmics-Y"
   },
   "outputs": [],
   "source": [
    "# creating the graph\n",
    "\n",
    "G_unweighted_undirected = nx.from_pandas_edgelist(edges, source='from', target='to')\n",
    "nx.set_node_attributes(G_unweighted_undirected, nodes_dict)"
   ]
  },
  {
   "cell_type": "code",
   "execution_count": 111,
   "metadata": {
    "colab": {
     "base_uri": "https://localhost:8080/"
    },
    "id": "x6kGsBUqnUrS",
    "outputId": "28a915e0-0979-4dc3-97f5-7fd6256f9d62"
   },
   "outputs": [
    {
     "data": {
      "text/plain": [
       "0.0033954267301620203"
      ]
     },
     "execution_count": 111,
     "metadata": {},
     "output_type": "execute_result"
    }
   ],
   "source": [
    "# Edge density\n",
    "nx.classes.function.density(G_unweighted_undirected) "
   ]
  },
  {
   "cell_type": "code",
   "execution_count": 112,
   "metadata": {
    "colab": {
     "base_uri": "https://localhost:8080/"
    },
    "id": "wX_voB4DMfnU",
    "outputId": "a36d464f-3516-4f64-979f-6778ccd55a73"
   },
   "outputs": [
    {
     "data": {
      "text/plain": [
       "0.0464708891573653"
      ]
     },
     "execution_count": 112,
     "metadata": {},
     "output_type": "execute_result"
    }
   ],
   "source": [
    "# Transitivity\n",
    "nx.transitivity(G_unweighted_undirected)"
   ]
  },
  {
   "cell_type": "code",
   "execution_count": 113,
   "metadata": {
    "colab": {
     "base_uri": "https://localhost:8080/"
    },
    "id": "yrPtJxguWMEh",
    "outputId": "83d0050d-03c5-4693-a110-0ec56cc90c4d"
   },
   "outputs": [
    {
     "data": {
      "text/plain": [
       "2.7215711057961074"
      ]
     },
     "execution_count": 113,
     "metadata": {},
     "output_type": "execute_result"
    }
   ],
   "source": [
    "# Average shortest path length\n",
    "nx.average_shortest_path_length(G_unweighted_undirected) "
   ]
  },
  {
   "cell_type": "code",
   "execution_count": 114,
   "metadata": {
    "colab": {
     "base_uri": "https://localhost:8080/"
    },
    "id": "OHRTRMfxn73J",
    "outputId": "b2dc903a-c4e7-4847-eb66-fef37c629361"
   },
   "outputs": [
    {
     "data": {
      "text/plain": [
       "0.2008857266932269"
      ]
     },
     "execution_count": 114,
     "metadata": {},
     "output_type": "execute_result"
    }
   ],
   "source": [
    "# Clustering coefficient\n",
    "nx.average_clustering(G_unweighted_undirected) "
   ]
  },
  {
   "cell_type": "code",
   "execution_count": 115,
   "metadata": {
    "colab": {
     "base_uri": "https://localhost:8080/"
    },
    "id": "MsAnz2IcWQd7",
    "outputId": "01c33c99-09ab-4c46-a36b-71c13cfe4593"
   },
   "outputs": [
    {
     "data": {
      "text/plain": [
       "7"
      ]
     },
     "execution_count": 115,
     "metadata": {},
     "output_type": "execute_result"
    }
   ],
   "source": [
    "# Diameter of the graph \n",
    "nx.diameter(G_unweighted_undirected) "
   ]
  },
  {
   "cell_type": "code",
   "execution_count": 116,
   "metadata": {
    "colab": {
     "base_uri": "https://localhost:8080/",
     "height": 323
    },
    "id": "5dqBUg3sjZ_p",
    "outputId": "380d35b6-014a-4c5a-9b00-f027d46542e1"
   },
   "outputs": [],
   "source": [
    "# Betweenness centrality\n",
    "#nx.betweenness_centrality(G_unweighted_undirected) "
   ]
  },
  {
   "cell_type": "markdown",
   "metadata": {
    "id": "ImQ5-vMRkFNV"
   },
   "source": [
    "# 3. Attribute analysis "
   ]
  },
  {
   "cell_type": "code",
   "execution_count": 55,
   "metadata": {
    "colab": {
     "base_uri": "https://localhost:8080/",
     "height": 580
    },
    "id": "G263WeIBJLw7",
    "outputId": "9a40a6d9-b410-46f0-cd7a-fa808d12f1c1"
   },
   "outputs": [
    {
     "data": {
      "text/plain": [
       "[Text(0.5, 1.0, 'Correlation heatmap')]"
      ]
     },
     "execution_count": 55,
     "metadata": {},
     "output_type": "execute_result"
    },
    {
     "data": {
      "image/png": "[encoded data removed]",
      "text/plain": [
       "<Figure size 792x648 with 2 Axes>"
      ]
     },
     "metadata": {
      "needs_background": "light"
     },
     "output_type": "display_data"
    }
   ],
   "source": [
    "# Calculating Correlation\n",
    "\n",
    "corr = nodes[['days','mature','views','partner']].corr()\n",
    "mask = np.triu(np.ones_like(corr, dtype=bool))\n",
    "\n",
    "f, ax = plt.subplots(figsize=(11, 9))\n",
    "\n",
    "# Generate a custom diverging colormap\n",
    "cmap = sns.diverging_palette(250, 30, l=65, center=\"light\", as_cmap=True)\n",
    "\n",
    "\n",
    "# Draw the heatmap with the mask and correct aspect ratio\n",
    "p = sns.heatmap(corr, mask=mask, cmap=cmap, vmax=.3, center=0,\n",
    "            square=True, linewidths=.5, cbar_kws={\"shrink\": .5})\n",
    "p.set(title = \"Correlation heatmap\")"
   ]
  },
  {
   "cell_type": "markdown",
   "metadata": {
    "id": "Xm1ZMZZBJiFz"
   },
   "source": [
    "## 4. Model building - classification tasks"
   ]
  },
  {
   "cell_type": "markdown",
   "metadata": {},
   "source": [
    "## GraphSAGE"
   ]
  },
  {
   "cell_type": "markdown",
   "metadata": {},
   "source": [
    "GraphSAGE is an inductive framework that leverages node attribute information to efficiently generate representations on previously unseen data. Hence, it is a framework for inductive representation learning on large graphs. It is used to generate low-dimensional vector representations for nodes, and is especially useful for graphs that have rich node attribute information."
   ]
  },
  {
   "cell_type": "code",
   "execution_count": 146,
   "metadata": {
    "scrolled": true
   },
   "outputs": [
    {
     "name": "stdout",
     "output_type": "stream",
     "text": [
      "Requirement already satisfied: stellargraph in c:\\users\\lisannal\\anaconda3\\lib\\site-packages (1.2.1)\n",
      "Requirement already satisfied: scipy>=1.1.0 in c:\\users\\lisannal\\anaconda3\\lib\\site-packages (from stellargraph) (1.6.2)\n",
      "Requirement already satisfied: numpy>=1.14 in c:\\users\\lisannal\\anaconda3\\lib\\site-packages (from stellargraph) (1.20.1)\n",
      "Requirement already satisfied: matplotlib>=2.2 in c:\\users\\lisannal\\anaconda3\\lib\\site-packages (from stellargraph) (3.3.4)\n",
      "Requirement already satisfied: gensim>=3.4.0 in c:\\users\\lisannal\\anaconda3\\lib\\site-packages (from stellargraph) (4.2.0)\n",
      "Requirement already satisfied: networkx>=2.2 in c:\\users\\lisannal\\anaconda3\\lib\\site-packages (from stellargraph) (2.5)\n",
      "Requirement already satisfied: tensorflow>=2.1.0 in c:\\users\\lisannal\\anaconda3\\lib\\site-packages (from stellargraph) (2.8.0)\n",
      "Requirement already satisfied: scikit-learn>=0.20 in c:\\users\\lisannal\\anaconda3\\lib\\site-packages (from stellargraph) (0.24.1)\n",
      "Requirement already satisfied: pandas>=0.24 in c:\\users\\lisannal\\anaconda3\\lib\\site-packages (from stellargraph) (1.2.4)\n",
      "Requirement already satisfied: smart-open>=1.8.1 in c:\\users\\lisannal\\anaconda3\\lib\\site-packages (from gensim>=3.4.0->stellargraph) (6.0.0)\n",
      "Requirement already satisfied: Cython==0.29.28 in c:\\users\\lisannal\\anaconda3\\lib\\site-packages (from gensim>=3.4.0->stellargraph) (0.29.28)\n",
      "Requirement already satisfied: python-dateutil>=2.1 in c:\\users\\lisannal\\anaconda3\\lib\\site-packages (from matplotlib>=2.2->stellargraph) (2.8.1)\n",
      "Requirement already satisfied: cycler>=0.10 in c:\\users\\lisannal\\anaconda3\\lib\\site-packages (from matplotlib>=2.2->stellargraph) (0.10.0)\n",
      "Requirement already satisfied: pyparsing!=2.0.4,!=2.1.2,!=2.1.6,>=2.0.3 in c:\\users\\lisannal\\anaconda3\\lib\\site-packages (from matplotlib>=2.2->stellargraph) (2.4.7)\n",
      "Requirement already satisfied: pillow>=6.2.0 in c:\\users\\lisannal\\anaconda3\\lib\\site-packages (from matplotlib>=2.2->stellargraph) (8.2.0)\n",
      "Requirement already satisfied: kiwisolver>=1.0.1 in c:\\users\\lisannal\\anaconda3\\lib\\site-packages (from matplotlib>=2.2->stellargraph) (1.3.1)\n",
      "Requirement already satisfied: six in c:\\users\\lisannal\\anaconda3\\lib\\site-packages (from cycler>=0.10->matplotlib>=2.2->stellargraph) (1.15.0)\n",
      "Requirement already satisfied: decorator>=4.3.0 in c:\\users\\lisannal\\anaconda3\\lib\\site-packages (from networkx>=2.2->stellargraph) (5.0.6)\n",
      "Requirement already satisfied: pytz>=2017.3 in c:\\users\\lisannal\\anaconda3\\lib\\site-packages (from pandas>=0.24->stellargraph) (2021.1)\n",
      "Requirement already satisfied: threadpoolctl>=2.0.0 in c:\\users\\lisannal\\anaconda3\\lib\\site-packages (from scikit-learn>=0.20->stellargraph) (2.1.0)\n",
      "Requirement already satisfied: joblib>=0.11 in c:\\users\\lisannal\\anaconda3\\lib\\site-packages (from scikit-learn>=0.20->stellargraph) (1.0.1)\n",
      "Requirement already satisfied: tensorboard<2.9,>=2.8 in c:\\users\\lisannal\\anaconda3\\lib\\site-packages (from tensorflow>=2.1.0->stellargraph) (2.8.0)\n",
      "Requirement already satisfied: termcolor>=1.1.0 in c:\\users\\lisannal\\anaconda3\\lib\\site-packages (from tensorflow>=2.1.0->stellargraph) (1.1.0)\n",
      "Requirement already satisfied: astunparse>=1.6.0 in c:\\users\\lisannal\\anaconda3\\lib\\site-packages (from tensorflow>=2.1.0->stellargraph) (1.6.3)\n",
      "Requirement already satisfied: gast>=0.2.1 in c:\\users\\lisannal\\anaconda3\\lib\\site-packages (from tensorflow>=2.1.0->stellargraph) (0.5.3)\n",
      "Requirement already satisfied: flatbuffers>=1.12 in c:\\users\\lisannal\\anaconda3\\lib\\site-packages (from tensorflow>=2.1.0->stellargraph) (2.0)\n",
      "Requirement already satisfied: protobuf>=3.9.2 in c:\\users\\lisannal\\anaconda3\\lib\\site-packages (from tensorflow>=2.1.0->stellargraph) (3.20.1)\n",
      "Requirement already satisfied: keras-preprocessing>=1.1.1 in c:\\users\\lisannal\\anaconda3\\lib\\site-packages (from tensorflow>=2.1.0->stellargraph) (1.1.2)\n",
      "Requirement already satisfied: setuptools in c:\\users\\lisannal\\anaconda3\\lib\\site-packages (from tensorflow>=2.1.0->stellargraph) (52.0.0.post20210125)\n",
      "Requirement already satisfied: libclang>=9.0.1 in c:\\users\\lisannal\\anaconda3\\lib\\site-packages (from tensorflow>=2.1.0->stellargraph) (14.0.1)\n",
      "Requirement already satisfied: tensorflow-io-gcs-filesystem>=0.23.1 in c:\\users\\lisannal\\anaconda3\\lib\\site-packages (from tensorflow>=2.1.0->stellargraph) (0.25.0)\n",
      "Requirement already satisfied: tf-estimator-nightly==2.8.0.dev2021122109 in c:\\users\\lisannal\\anaconda3\\lib\\site-packages (from tensorflow>=2.1.0->stellargraph) (2.8.0.dev2021122109)\n",
      "Requirement already satisfied: opt-einsum>=2.3.2 in c:\\users\\lisannal\\anaconda3\\lib\\site-packages (from tensorflow>=2.1.0->stellargraph) (3.3.0)\n",
      "Requirement already satisfied: absl-py>=0.4.0 in c:\\users\\lisannal\\anaconda3\\lib\\site-packages (from tensorflow>=2.1.0->stellargraph) (1.0.0)\n",
      "Requirement already satisfied: grpcio<2.0,>=1.24.3 in c:\\users\\lisannal\\anaconda3\\lib\\site-packages (from tensorflow>=2.1.0->stellargraph) (1.46.0)\n",
      "Requirement already satisfied: typing-extensions>=3.6.6 in c:\\users\\lisannal\\anaconda3\\lib\\site-packages (from tensorflow>=2.1.0->stellargraph) (3.7.4.3)\n",
      "Requirement already satisfied: google-pasta>=0.1.1 in c:\\users\\lisannal\\anaconda3\\lib\\site-packages (from tensorflow>=2.1.0->stellargraph) (0.2.0)\n",
      "Requirement already satisfied: h5py>=2.9.0 in c:\\users\\lisannal\\anaconda3\\lib\\site-packages (from tensorflow>=2.1.0->stellargraph) (2.10.0)\n",
      "Requirement already satisfied: wrapt>=1.11.0 in c:\\users\\lisannal\\anaconda3\\lib\\site-packages (from tensorflow>=2.1.0->stellargraph) (1.12.1)\n",
      "Requirement already satisfied: keras<2.9,>=2.8.0rc0 in c:\\users\\lisannal\\anaconda3\\lib\\site-packages (from tensorflow>=2.1.0->stellargraph) (2.8.0)\n",
      "Requirement already satisfied: wheel<1.0,>=0.23.0 in c:\\users\\lisannal\\anaconda3\\lib\\site-packages (from astunparse>=1.6.0->tensorflow>=2.1.0->stellargraph) (0.36.2)\n",
      "Requirement already satisfied: google-auth<3,>=1.6.3 in c:\\users\\lisannal\\anaconda3\\lib\\site-packages (from tensorboard<2.9,>=2.8->tensorflow>=2.1.0->stellargraph) (2.6.6)\n",
      "Requirement already satisfied: tensorboard-plugin-wit>=1.6.0 in c:\\users\\lisannal\\anaconda3\\lib\\site-packages (from tensorboard<2.9,>=2.8->tensorflow>=2.1.0->stellargraph) (1.8.1)\n",
      "Requirement already satisfied: markdown>=2.6.8 in c:\\users\\lisannal\\anaconda3\\lib\\site-packages (from tensorboard<2.9,>=2.8->tensorflow>=2.1.0->stellargraph) (3.3.6)\n",
      "Requirement already satisfied: requests<3,>=2.21.0 in c:\\users\\lisannal\\anaconda3\\lib\\site-packages (from tensorboard<2.9,>=2.8->tensorflow>=2.1.0->stellargraph) (2.25.1)\n",
      "Requirement already satisfied: werkzeug>=0.11.15 in c:\\users\\lisannal\\anaconda3\\lib\\site-packages (from tensorboard<2.9,>=2.8->tensorflow>=2.1.0->stellargraph) (1.0.1)\n",
      "Requirement already satisfied: tensorboard-data-server<0.7.0,>=0.6.0 in c:\\users\\lisannal\\anaconda3\\lib\\site-packages (from tensorboard<2.9,>=2.8->tensorflow>=2.1.0->stellargraph) (0.6.1)\n",
      "Requirement already satisfied: google-auth-oauthlib<0.5,>=0.4.1 in c:\\users\\lisannal\\anaconda3\\lib\\site-packages (from tensorboard<2.9,>=2.8->tensorflow>=2.1.0->stellargraph) (0.4.6)\n",
      "Requirement already satisfied: pyasn1-modules>=0.2.1 in c:\\users\\lisannal\\anaconda3\\lib\\site-packages (from google-auth<3,>=1.6.3->tensorboard<2.9,>=2.8->tensorflow>=2.1.0->stellargraph) (0.2.8)\n",
      "Requirement already satisfied: cachetools<6.0,>=2.0.0 in c:\\users\\lisannal\\anaconda3\\lib\\site-packages (from google-auth<3,>=1.6.3->tensorboard<2.9,>=2.8->tensorflow>=2.1.0->stellargraph) (5.0.0)\n",
      "Requirement already satisfied: rsa<5,>=3.1.4 in c:\\users\\lisannal\\anaconda3\\lib\\site-packages (from google-auth<3,>=1.6.3->tensorboard<2.9,>=2.8->tensorflow>=2.1.0->stellargraph) (4.8)\n",
      "Requirement already satisfied: requests-oauthlib>=0.7.0 in c:\\users\\lisannal\\anaconda3\\lib\\site-packages (from google-auth-oauthlib<0.5,>=0.4.1->tensorboard<2.9,>=2.8->tensorflow>=2.1.0->stellargraph) (1.3.1)\n",
      "Requirement already satisfied: importlib-metadata>=4.4 in c:\\users\\lisannal\\anaconda3\\lib\\site-packages (from markdown>=2.6.8->tensorboard<2.9,>=2.8->tensorflow>=2.1.0->stellargraph) (4.11.3)\n",
      "Requirement already satisfied: zipp>=0.5 in c:\\users\\lisannal\\anaconda3\\lib\\site-packages (from importlib-metadata>=4.4->markdown>=2.6.8->tensorboard<2.9,>=2.8->tensorflow>=2.1.0->stellargraph) (3.4.1)\n",
      "Requirement already satisfied: pyasn1<0.5.0,>=0.4.6 in c:\\users\\lisannal\\anaconda3\\lib\\site-packages (from pyasn1-modules>=0.2.1->google-auth<3,>=1.6.3->tensorboard<2.9,>=2.8->tensorflow>=2.1.0->stellargraph) (0.4.8)\n",
      "Requirement already satisfied: chardet<5,>=3.0.2 in c:\\users\\lisannal\\anaconda3\\lib\\site-packages (from requests<3,>=2.21.0->tensorboard<2.9,>=2.8->tensorflow>=2.1.0->stellargraph) (4.0.0)\n",
      "Requirement already satisfied: idna<3,>=2.5 in c:\\users\\lisannal\\anaconda3\\lib\\site-packages (from requests<3,>=2.21.0->tensorboard<2.9,>=2.8->tensorflow>=2.1.0->stellargraph) (2.10)\n",
      "Requirement already satisfied: certifi>=2017.4.17 in c:\\users\\lisannal\\anaconda3\\lib\\site-packages (from requests<3,>=2.21.0->tensorboard<2.9,>=2.8->tensorflow>=2.1.0->stellargraph) (2020.12.5)\n",
      "Requirement already satisfied: urllib3<1.27,>=1.21.1 in c:\\users\\lisannal\\anaconda3\\lib\\site-packages (from requests<3,>=2.21.0->tensorboard<2.9,>=2.8->tensorflow>=2.1.0->stellargraph) (1.26.4)\n",
      "Requirement already satisfied: oauthlib>=3.0.0 in c:\\users\\lisannal\\anaconda3\\lib\\site-packages (from requests-oauthlib>=0.7.0->google-auth-oauthlib<0.5,>=0.4.1->tensorboard<2.9,>=2.8->tensorflow>=2.1.0->stellargraph) (3.2.0)\n"
     ]
    }
   ],
   "source": [
    "!pip install stellargraph\n",
    "import itertools\n",
    "import os\n",
    "\n",
    "from sklearn.manifold import TSNE\n",
    "\n",
    "import stellargraph as sg\n",
    "from stellargraph import StellarGraph\n",
    "from stellargraph import globalvar\n",
    "from stellargraph.mapper import GraphSAGENodeGenerator\n",
    "from stellargraph.layer import GraphSAGE\n",
    "\n",
    "from tensorflow.keras import layers, optimizers, losses, metrics, Model\n",
    "from sklearn import preprocessing, feature_extraction, model_selection\n",
    "from IPython.display import display, HTML\n",
    "import matplotlib.pyplot as plt\n",
    "\n",
    "%matplotlib inline"
   ]
  },
  {
   "cell_type": "code",
   "execution_count": 18,
   "metadata": {},
   "outputs": [
    {
     "name": "stdout",
     "output_type": "stream",
     "text": [
      "Version: 1.2.1\n"
     ]
    }
   ],
   "source": [
    "print(\"Version:\", sg.version.__version__)"
   ]
  },
  {
   "cell_type": "markdown",
   "metadata": {},
   "source": [
    "### 1. Data preparation"
   ]
  },
  {
   "cell_type": "code",
   "execution_count": 19,
   "metadata": {},
   "outputs": [
    {
     "data": {
      "text/html": [
       "<div>\n",
       "<style scoped>\n",
       "    .dataframe tbody tr th:only-of-type {\n",
       "        vertical-align: middle;\n",
       "    }\n",
       "\n",
       "    .dataframe tbody tr th {\n",
       "        vertical-align: top;\n",
       "    }\n",
       "\n",
       "    .dataframe thead th {\n",
       "        text-align: right;\n",
       "    }\n",
       "</style>\n",
       "<table border=\"1\" class=\"dataframe\">\n",
       "  <thead>\n",
       "    <tr style=\"text-align: right;\">\n",
       "      <th></th>\n",
       "      <th>from</th>\n",
       "      <th>to</th>\n",
       "    </tr>\n",
       "  </thead>\n",
       "  <tbody>\n",
       "    <tr>\n",
       "      <th>0</th>\n",
       "      <td>0</td>\n",
       "      <td>9206</td>\n",
       "    </tr>\n",
       "    <tr>\n",
       "      <th>1</th>\n",
       "      <td>0</td>\n",
       "      <td>7787</td>\n",
       "    </tr>\n",
       "    <tr>\n",
       "      <th>2</th>\n",
       "      <td>0</td>\n",
       "      <td>2145</td>\n",
       "    </tr>\n",
       "    <tr>\n",
       "      <th>3</th>\n",
       "      <td>0</td>\n",
       "      <td>2684</td>\n",
       "    </tr>\n",
       "    <tr>\n",
       "      <th>4</th>\n",
       "      <td>0</td>\n",
       "      <td>7275</td>\n",
       "    </tr>\n",
       "  </tbody>\n",
       "</table>\n",
       "</div>"
      ],
      "text/plain": [
       "   from    to\n",
       "0     0  9206\n",
       "1     0  7787\n",
       "2     0  2145\n",
       "3     0  2684\n",
       "4     0  7275"
      ]
     },
     "execution_count": 19,
     "metadata": {},
     "output_type": "execute_result"
    }
   ],
   "source": [
    "edges.head()"
   ]
  },
  {
   "cell_type": "code",
   "execution_count": 20,
   "metadata": {},
   "outputs": [
    {
     "data": {
      "text/html": [
       "<div>\n",
       "<style scoped>\n",
       "    .dataframe tbody tr th:only-of-type {\n",
       "        vertical-align: middle;\n",
       "    }\n",
       "\n",
       "    .dataframe tbody tr th {\n",
       "        vertical-align: top;\n",
       "    }\n",
       "\n",
       "    .dataframe thead th {\n",
       "        text-align: right;\n",
       "    }\n",
       "</style>\n",
       "<table border=\"1\" class=\"dataframe\">\n",
       "  <thead>\n",
       "    <tr style=\"text-align: right;\">\n",
       "      <th></th>\n",
       "      <th>days</th>\n",
       "      <th>mature</th>\n",
       "      <th>views</th>\n",
       "      <th>partner</th>\n",
       "      <th>id</th>\n",
       "    </tr>\n",
       "  </thead>\n",
       "  <tbody>\n",
       "    <tr>\n",
       "      <th>0</th>\n",
       "      <td>2149</td>\n",
       "      <td>1</td>\n",
       "      <td>162078</td>\n",
       "      <td>0</td>\n",
       "      <td>5079</td>\n",
       "    </tr>\n",
       "    <tr>\n",
       "      <th>1</th>\n",
       "      <td>1574</td>\n",
       "      <td>1</td>\n",
       "      <td>1370</td>\n",
       "      <td>0</td>\n",
       "      <td>4281</td>\n",
       "    </tr>\n",
       "    <tr>\n",
       "      <th>2</th>\n",
       "      <td>1034</td>\n",
       "      <td>1</td>\n",
       "      <td>6043</td>\n",
       "      <td>0</td>\n",
       "      <td>992</td>\n",
       "    </tr>\n",
       "    <tr>\n",
       "      <th>3</th>\n",
       "      <td>1319</td>\n",
       "      <td>1</td>\n",
       "      <td>94298</td>\n",
       "      <td>1</td>\n",
       "      <td>9021</td>\n",
       "    </tr>\n",
       "    <tr>\n",
       "      <th>4</th>\n",
       "      <td>2137</td>\n",
       "      <td>1</td>\n",
       "      <td>2323</td>\n",
       "      <td>0</td>\n",
       "      <td>330</td>\n",
       "    </tr>\n",
       "  </tbody>\n",
       "</table>\n",
       "</div>"
      ],
      "text/plain": [
       "   days  mature   views  partner    id\n",
       "0  2149       1  162078        0  5079\n",
       "1  1574       1    1370        0  4281\n",
       "2  1034       1    6043        0   992\n",
       "3  1319       1   94298        1  9021\n",
       "4  2137       1    2323        0   330"
      ]
     },
     "execution_count": 20,
     "metadata": {},
     "output_type": "execute_result"
    }
   ],
   "source": [
    "nodes.head()"
   ]
  },
  {
   "cell_type": "code",
   "execution_count": 21,
   "metadata": {},
   "outputs": [
    {
     "data": {
      "text/html": [
       "<div>\n",
       "<style scoped>\n",
       "    .dataframe tbody tr th:only-of-type {\n",
       "        vertical-align: middle;\n",
       "    }\n",
       "\n",
       "    .dataframe tbody tr th {\n",
       "        vertical-align: top;\n",
       "    }\n",
       "\n",
       "    .dataframe thead th {\n",
       "        text-align: right;\n",
       "    }\n",
       "</style>\n",
       "<table border=\"1\" class=\"dataframe\">\n",
       "  <thead>\n",
       "    <tr style=\"text-align: right;\">\n",
       "      <th></th>\n",
       "      <th>source</th>\n",
       "      <th>target</th>\n",
       "    </tr>\n",
       "  </thead>\n",
       "  <tbody>\n",
       "    <tr>\n",
       "      <th>0</th>\n",
       "      <td>0</td>\n",
       "      <td>9206</td>\n",
       "    </tr>\n",
       "    <tr>\n",
       "      <th>1</th>\n",
       "      <td>0</td>\n",
       "      <td>7787</td>\n",
       "    </tr>\n",
       "    <tr>\n",
       "      <th>2</th>\n",
       "      <td>0</td>\n",
       "      <td>2145</td>\n",
       "    </tr>\n",
       "    <tr>\n",
       "      <th>3</th>\n",
       "      <td>0</td>\n",
       "      <td>2684</td>\n",
       "    </tr>\n",
       "    <tr>\n",
       "      <th>4</th>\n",
       "      <td>0</td>\n",
       "      <td>7275</td>\n",
       "    </tr>\n",
       "  </tbody>\n",
       "</table>\n",
       "</div>"
      ],
      "text/plain": [
       "   source  target\n",
       "0       0    9206\n",
       "1       0    7787\n",
       "2       0    2145\n",
       "3       0    2684\n",
       "4       0    7275"
      ]
     },
     "execution_count": 21,
     "metadata": {},
     "output_type": "execute_result"
    }
   ],
   "source": [
    "# Renaming 'from' and 'to' columns\n",
    "edges.rename(columns = {'from':'source', 'to':'target'}, inplace = True)\n",
    "edges.head()"
   ]
  },
  {
   "cell_type": "code",
   "execution_count": 22,
   "metadata": {},
   "outputs": [
    {
     "data": {
      "text/html": [
       "<div>\n",
       "<style scoped>\n",
       "    .dataframe tbody tr th:only-of-type {\n",
       "        vertical-align: middle;\n",
       "    }\n",
       "\n",
       "    .dataframe tbody tr th {\n",
       "        vertical-align: top;\n",
       "    }\n",
       "\n",
       "    .dataframe thead th {\n",
       "        text-align: right;\n",
       "    }\n",
       "</style>\n",
       "<table border=\"1\" class=\"dataframe\">\n",
       "  <thead>\n",
       "    <tr style=\"text-align: right;\">\n",
       "      <th></th>\n",
       "      <th>days</th>\n",
       "      <th>mature</th>\n",
       "      <th>views</th>\n",
       "      <th>partner</th>\n",
       "    </tr>\n",
       "    <tr>\n",
       "      <th>id</th>\n",
       "      <th></th>\n",
       "      <th></th>\n",
       "      <th></th>\n",
       "      <th></th>\n",
       "    </tr>\n",
       "  </thead>\n",
       "  <tbody>\n",
       "    <tr>\n",
       "      <th>5079</th>\n",
       "      <td>2149</td>\n",
       "      <td>1</td>\n",
       "      <td>162078</td>\n",
       "      <td>0</td>\n",
       "    </tr>\n",
       "    <tr>\n",
       "      <th>4281</th>\n",
       "      <td>1574</td>\n",
       "      <td>1</td>\n",
       "      <td>1370</td>\n",
       "      <td>0</td>\n",
       "    </tr>\n",
       "    <tr>\n",
       "      <th>992</th>\n",
       "      <td>1034</td>\n",
       "      <td>1</td>\n",
       "      <td>6043</td>\n",
       "      <td>0</td>\n",
       "    </tr>\n",
       "    <tr>\n",
       "      <th>9021</th>\n",
       "      <td>1319</td>\n",
       "      <td>1</td>\n",
       "      <td>94298</td>\n",
       "      <td>1</td>\n",
       "    </tr>\n",
       "    <tr>\n",
       "      <th>330</th>\n",
       "      <td>2137</td>\n",
       "      <td>1</td>\n",
       "      <td>2323</td>\n",
       "      <td>0</td>\n",
       "    </tr>\n",
       "    <tr>\n",
       "      <th>...</th>\n",
       "      <td>...</td>\n",
       "      <td>...</td>\n",
       "      <td>...</td>\n",
       "      <td>...</td>\n",
       "    </tr>\n",
       "    <tr>\n",
       "      <th>4572</th>\n",
       "      <td>895</td>\n",
       "      <td>1</td>\n",
       "      <td>128</td>\n",
       "      <td>0</td>\n",
       "    </tr>\n",
       "    <tr>\n",
       "      <th>6355</th>\n",
       "      <td>2001</td>\n",
       "      <td>0</td>\n",
       "      <td>44</td>\n",
       "      <td>0</td>\n",
       "    </tr>\n",
       "    <tr>\n",
       "      <th>206</th>\n",
       "      <td>1784</td>\n",
       "      <td>1</td>\n",
       "      <td>2038</td>\n",
       "      <td>0</td>\n",
       "    </tr>\n",
       "    <tr>\n",
       "      <th>7695</th>\n",
       "      <td>2114</td>\n",
       "      <td>0</td>\n",
       "      <td>449</td>\n",
       "      <td>0</td>\n",
       "    </tr>\n",
       "    <tr>\n",
       "      <th>4451</th>\n",
       "      <td>1680</td>\n",
       "      <td>0</td>\n",
       "      <td>10638954</td>\n",
       "      <td>1</td>\n",
       "    </tr>\n",
       "  </tbody>\n",
       "</table>\n",
       "<p>9498 rows × 4 columns</p>\n",
       "</div>"
      ],
      "text/plain": [
       "      days  mature     views  partner\n",
       "id                                   \n",
       "5079  2149       1    162078        0\n",
       "4281  1574       1      1370        0\n",
       "992   1034       1      6043        0\n",
       "9021  1319       1     94298        1\n",
       "330   2137       1      2323        0\n",
       "...    ...     ...       ...      ...\n",
       "4572   895       1       128        0\n",
       "6355  2001       0        44        0\n",
       "206   1784       1      2038        0\n",
       "7695  2114       0       449        0\n",
       "4451  1680       0  10638954        1\n",
       "\n",
       "[9498 rows x 4 columns]"
      ]
     },
     "execution_count": 22,
     "metadata": {},
     "output_type": "execute_result"
    }
   ],
   "source": [
    "# Replacing the current index by moving the 'id' column to it\n",
    "nodes2 = nodes.set_index('id')\n",
    "nodes2"
   ]
  },
  {
   "cell_type": "code",
   "execution_count": 23,
   "metadata": {},
   "outputs": [
    {
     "data": {
      "text/html": [
       "<div>\n",
       "<style scoped>\n",
       "    .dataframe tbody tr th:only-of-type {\n",
       "        vertical-align: middle;\n",
       "    }\n",
       "\n",
       "    .dataframe tbody tr th {\n",
       "        vertical-align: top;\n",
       "    }\n",
       "\n",
       "    .dataframe thead th {\n",
       "        text-align: right;\n",
       "    }\n",
       "</style>\n",
       "<table border=\"1\" class=\"dataframe\">\n",
       "  <thead>\n",
       "    <tr style=\"text-align: right;\">\n",
       "      <th></th>\n",
       "      <th>days</th>\n",
       "      <th>mature</th>\n",
       "      <th>views</th>\n",
       "    </tr>\n",
       "    <tr>\n",
       "      <th>id</th>\n",
       "      <th></th>\n",
       "      <th></th>\n",
       "      <th></th>\n",
       "    </tr>\n",
       "  </thead>\n",
       "  <tbody>\n",
       "    <tr>\n",
       "      <th>5079</th>\n",
       "      <td>2149</td>\n",
       "      <td>1</td>\n",
       "      <td>162078</td>\n",
       "    </tr>\n",
       "    <tr>\n",
       "      <th>4281</th>\n",
       "      <td>1574</td>\n",
       "      <td>1</td>\n",
       "      <td>1370</td>\n",
       "    </tr>\n",
       "    <tr>\n",
       "      <th>992</th>\n",
       "      <td>1034</td>\n",
       "      <td>1</td>\n",
       "      <td>6043</td>\n",
       "    </tr>\n",
       "    <tr>\n",
       "      <th>9021</th>\n",
       "      <td>1319</td>\n",
       "      <td>1</td>\n",
       "      <td>94298</td>\n",
       "    </tr>\n",
       "    <tr>\n",
       "      <th>330</th>\n",
       "      <td>2137</td>\n",
       "      <td>1</td>\n",
       "      <td>2323</td>\n",
       "    </tr>\n",
       "    <tr>\n",
       "      <th>...</th>\n",
       "      <td>...</td>\n",
       "      <td>...</td>\n",
       "      <td>...</td>\n",
       "    </tr>\n",
       "    <tr>\n",
       "      <th>4572</th>\n",
       "      <td>895</td>\n",
       "      <td>1</td>\n",
       "      <td>128</td>\n",
       "    </tr>\n",
       "    <tr>\n",
       "      <th>6355</th>\n",
       "      <td>2001</td>\n",
       "      <td>0</td>\n",
       "      <td>44</td>\n",
       "    </tr>\n",
       "    <tr>\n",
       "      <th>206</th>\n",
       "      <td>1784</td>\n",
       "      <td>1</td>\n",
       "      <td>2038</td>\n",
       "    </tr>\n",
       "    <tr>\n",
       "      <th>7695</th>\n",
       "      <td>2114</td>\n",
       "      <td>0</td>\n",
       "      <td>449</td>\n",
       "    </tr>\n",
       "    <tr>\n",
       "      <th>4451</th>\n",
       "      <td>1680</td>\n",
       "      <td>0</td>\n",
       "      <td>10638954</td>\n",
       "    </tr>\n",
       "  </tbody>\n",
       "</table>\n",
       "<p>9498 rows × 3 columns</p>\n",
       "</div>"
      ],
      "text/plain": [
       "      days  mature     views\n",
       "id                          \n",
       "5079  2149       1    162078\n",
       "4281  1574       1      1370\n",
       "992   1034       1      6043\n",
       "9021  1319       1     94298\n",
       "330   2137       1      2323\n",
       "...    ...     ...       ...\n",
       "4572   895       1       128\n",
       "6355  2001       0        44\n",
       "206   1784       1      2038\n",
       "7695  2114       0       449\n",
       "4451  1680       0  10638954\n",
       "\n",
       "[9498 rows x 3 columns]"
      ]
     },
     "execution_count": 23,
     "metadata": {},
     "output_type": "execute_result"
    }
   ],
   "source": [
    "# Dropping the 'label' column\n",
    "nodes_no_subject = nodes2.drop(columns=\"partner\")\n",
    "nodes_no_subject"
   ]
  },
  {
   "cell_type": "markdown",
   "metadata": {},
   "source": [
    "In order to use methods like GraphSAGE and GCN, which operate on a single graph, we must construct a single instance of the StellarGraph class.  \n",
    "See [here](https://stellargraph.readthedocs.io/en/latest/demos/basics/loading-pandas.html)."
   ]
  },
  {
   "cell_type": "code",
   "execution_count": 24,
   "metadata": {},
   "outputs": [
    {
     "name": "stdout",
     "output_type": "stream",
     "text": [
      "StellarGraph: Undirected multigraph\n",
      " Nodes: 9498, Edges: 153138\n",
      "\n",
      " Node types:\n",
      "  default: [9498]\n",
      "    Features: float32 vector, length 3\n",
      "    Edge types: default-default->default\n",
      "\n",
      " Edge types:\n",
      "    default-default->default: [153138]\n",
      "        Weights: all 1 (default)\n",
      "        Features: none\n"
     ]
    }
   ],
   "source": [
    "twitch_graph = StellarGraph(nodes_no_subject, edges)\n",
    "print(twitch_graph.info())"
   ]
  },
  {
   "cell_type": "markdown",
   "metadata": {},
   "source": [
    "We’ll  need to use the 'partner' labels as ground-truth labels. This can be extracted from the DataFrame and held separately, to be passed in as training, validation or test examples."
   ]
  },
  {
   "cell_type": "code",
   "execution_count": 25,
   "metadata": {},
   "outputs": [
    {
     "data": {
      "text/plain": [
       "id\n",
       "5079    0\n",
       "4281    0\n",
       "992     0\n",
       "9021    1\n",
       "330     0\n",
       "       ..\n",
       "4572    0\n",
       "6355    0\n",
       "206     0\n",
       "7695    0\n",
       "4451    1\n",
       "Name: partner, Length: 9498, dtype: int32"
      ]
     },
     "execution_count": 25,
     "metadata": {},
     "output_type": "execute_result"
    }
   ],
   "source": [
    "twitch_partner = nodes2[\"partner\"]\n",
    "twitch_partner"
   ]
  },
  {
   "cell_type": "code",
   "execution_count": 26,
   "metadata": {},
   "outputs": [
    {
     "data": {
      "text/plain": [
       "{0, 1}"
      ]
     },
     "execution_count": 26,
     "metadata": {},
     "output_type": "execute_result"
    }
   ],
   "source": [
    "set(twitch_partner)"
   ]
  },
  {
   "cell_type": "code",
   "execution_count": 27,
   "metadata": {},
   "outputs": [
    {
     "data": {
      "text/plain": [
       "0    8901\n",
       "1     597\n",
       "Name: partner, dtype: int64"
      ]
     },
     "execution_count": 27,
     "metadata": {},
     "output_type": "execute_result"
    }
   ],
   "source": [
    "twitch_partner.value_counts()\n",
    "\n",
    "# Class imbalance could be a problem"
   ]
  },
  {
   "cell_type": "code",
   "execution_count": 28,
   "metadata": {},
   "outputs": [
    {
     "data": {
      "text/plain": [
       "9498"
      ]
     },
     "execution_count": 28,
     "metadata": {},
     "output_type": "execute_result"
    }
   ],
   "source": [
    "len(twitch_partner)"
   ]
  },
  {
   "cell_type": "markdown",
   "metadata": {},
   "source": [
    "### 2. Splitting the data"
   ]
  },
  {
   "cell_type": "markdown",
   "metadata": {},
   "source": [
    "Removing 20% of the nodes from the graph. Then, we are going to train a GraphSAGE model on the reduced graph with the remaining 80% of the nodes from the original graph. Later, we are going to re-introduce the removed nodes and try to predict their labels without re-training the GraphSAGE model."
   ]
  },
  {
   "cell_type": "code",
   "execution_count": 29,
   "metadata": {},
   "outputs": [
    {
     "name": "stdout",
     "output_type": "stream",
     "text": [
      "Length of sampled labels:  id\n",
      "5147    0\n",
      "4829    0\n",
      "2763    0\n",
      "8989    0\n",
      "1381    0\n",
      "       ..\n",
      "4756    0\n",
      "4725    0\n",
      "9321    0\n",
      "5662    0\n",
      "4618    0\n",
      "Name: partner, Length: 7598, dtype: int32\n"
     ]
    }
   ],
   "source": [
    "labels_sampled = twitch_partner.sample(frac=0.8, replace=False, random_state=101)\n",
    "labels_sampled\n",
    "print('Length of sampled labels: ', labels_sampled)"
   ]
  },
  {
   "cell_type": "code",
   "execution_count": 30,
   "metadata": {},
   "outputs": [
    {
     "name": "stdout",
     "output_type": "stream",
     "text": [
      "StellarGraph: Undirected multigraph\n",
      " Nodes: 7598, Edges: 98828\n",
      "\n",
      " Node types:\n",
      "  default: [7598]\n",
      "    Features: float32 vector, length 3\n",
      "    Edge types: default-default->default\n",
      "\n",
      " Edge types:\n",
      "    default-default->default: [98828]\n",
      "        Weights: all 1 (default)\n",
      "        Features: none\n"
     ]
    }
   ],
   "source": [
    "# Extracting the subgraph corresponding to the sampled nodes\n",
    "graph_sampled = twitch_graph.subgraph(labels_sampled.index)\n",
    "print(graph_sampled.info())"
   ]
  },
  {
   "cell_type": "markdown",
   "metadata": {},
   "source": [
    "Using scikit-learn to subset the nodes for test and train."
   ]
  },
  {
   "cell_type": "code",
   "execution_count": 46,
   "metadata": {},
   "outputs": [],
   "source": [
    "train_labels, test_labels = model_selection.train_test_split(\n",
    "    labels_sampled,\n",
    "    train_size=0.05,\n",
    "    test_size=None,\n",
    "    stratify=labels_sampled,\n",
    "    random_state=42,\n",
    ")\n",
    "val_labels, test_labels = model_selection.train_test_split(\n",
    "    test_labels, train_size=0.2, test_size=None, stratify=test_labels, random_state=100,\n",
    ")"
   ]
  },
  {
   "cell_type": "code",
   "execution_count": 119,
   "metadata": {},
   "outputs": [
    {
     "data": {
      "text/plain": [
       "Counter({0: 5431, 1: 345})"
      ]
     },
     "execution_count": 119,
     "metadata": {},
     "output_type": "execute_result"
    }
   ],
   "source": [
    "from collections import Counter\n",
    "\n",
    "Counter(test_labels)"
   ]
  },
  {
   "cell_type": "markdown",
   "metadata": {},
   "source": [
    "Converting to numeric arrays"
   ]
  },
  {
   "cell_type": "code",
   "execution_count": 66,
   "metadata": {},
   "outputs": [],
   "source": [
    "train_targets = train_labels\n",
    "val_targets = val_labels\n",
    "test_targets = test_labels"
   ]
  },
  {
   "cell_type": "markdown",
   "metadata": {},
   "source": [
    "### 3. Creating the model in Keras"
   ]
  },
  {
   "cell_type": "code",
   "execution_count": 149,
   "metadata": {},
   "outputs": [],
   "source": [
    "batch_size = 50\n",
    "num_samples = [10, 10]"
   ]
  },
  {
   "cell_type": "code",
   "execution_count": 150,
   "metadata": {},
   "outputs": [],
   "source": [
    "# A GraphSAGENodeGenerator object \n",
    "generator = GraphSAGENodeGenerator(graph_sampled, batch_size, num_samples)"
   ]
  },
  {
   "cell_type": "markdown",
   "metadata": {},
   "source": [
    "Using the generator.flow() method, we can create iterators over nodes that should be used to train, validate, or evaluate the model. For training we use only the training nodes returned from our splitter and the target values. The shuffle=True argument is given to the flow method to improve training."
   ]
  },
  {
   "cell_type": "code",
   "execution_count": 151,
   "metadata": {},
   "outputs": [],
   "source": [
    "train_gen = generator.flow(train_labels.index, train_targets, shuffle=True)"
   ]
  },
  {
   "cell_type": "markdown",
   "metadata": {},
   "source": [
    "Now we can start with our ML model. A few more parameters:\n",
    "\n",
    "1. The layer_sizes is a list of hidden feature sizes of each layer in the model. We use 32-dimensional hidden node features at each layer\n",
    "\n",
    "2. The bias and dropout are internal parameters of the model"
   ]
  },
  {
   "cell_type": "code",
   "execution_count": 152,
   "metadata": {},
   "outputs": [],
   "source": [
    "graphsage_model = GraphSAGE(\n",
    "    layer_sizes=[32, 32], generator=generator, bias=True, dropout=0.5\n",
    ")"
   ]
  },
  {
   "cell_type": "code",
   "execution_count": 165,
   "metadata": {},
   "outputs": [],
   "source": [
    "# Creating a model to predict the 2 categories using Keras softmax layers\n",
    "x_inp, x_out = graphsage_model.in_out_tensors()\n",
    "prediction = layers.Dense(units=1, activation=\"sigmoid\")(x_out) # sigmoid kuna bin.\n",
    " # https://stackoverflow.com/questions/43499199/tensorflow-loss-decreasing-but-accuracy-stable"
   ]
  },
  {
   "cell_type": "code",
   "execution_count": 166,
   "metadata": {},
   "outputs": [
    {
     "data": {
      "text/plain": [
       "array([0, 1])"
      ]
     },
     "execution_count": 166,
     "metadata": {},
     "output_type": "execute_result"
    }
   ],
   "source": [
    "np.unique(train_targets)"
   ]
  },
  {
   "cell_type": "code",
   "execution_count": 168,
   "metadata": {},
   "outputs": [
    {
     "data": {
      "text/plain": [
       "379"
      ]
     },
     "execution_count": 168,
     "metadata": {},
     "output_type": "execute_result"
    }
   ],
   "source": [
    "train_targets.shape[0] "
   ]
  },
  {
   "cell_type": "code",
   "execution_count": 169,
   "metadata": {},
   "outputs": [
    {
     "data": {
      "text/plain": [
       "TensorShape([None, 1])"
      ]
     },
     "execution_count": 169,
     "metadata": {},
     "output_type": "execute_result"
    }
   ],
   "source": [
    "prediction.shape"
   ]
  },
  {
   "cell_type": "markdown",
   "metadata": {},
   "source": [
    "### 4. Training and evaluating"
   ]
  },
  {
   "cell_type": "markdown",
   "metadata": {},
   "source": [
    "Creating the Keras model with the graph inputs x_inp provided by the graph_model and outputs being the predictions from the sigmoid layer"
   ]
  },
  {
   "cell_type": "code",
   "execution_count": 170,
   "metadata": {},
   "outputs": [],
   "source": [
    "model = Model(inputs=x_inp, outputs=prediction)\n",
    "\n",
    "model.compile(\n",
    "    optimizer=optimizers.Adam(lr=0.005), # v kasutada adam asemel sgt (binary model optimizer function)\n",
    "    loss=losses.binary_crossentropy,\n",
    "    metrics=[\"acc\"]\n",
    ")"
   ]
  },
  {
   "cell_type": "code",
   "execution_count": 171,
   "metadata": {},
   "outputs": [
    {
     "name": "stdout",
     "output_type": "stream",
     "text": [
      "Model: \"model_9\"\n",
      "__________________________________________________________________________________________________\n",
      " Layer (type)                   Output Shape         Param #     Connected to                     \n",
      "==================================================================================================\n",
      " input_29 (InputLayer)          [(None, 10, 3)]      0           []                               \n",
      "                                                                                                  \n",
      " input_30 (InputLayer)          [(None, 100, 3)]     0           []                               \n",
      "                                                                                                  \n",
      " input_28 (InputLayer)          [(None, 1, 3)]       0           []                               \n",
      "                                                                                                  \n",
      " reshape_36 (Reshape)           (None, 1, 10, 3)     0           ['input_29[0][0]']               \n",
      "                                                                                                  \n",
      " reshape_37 (Reshape)           (None, 10, 10, 3)    0           ['input_30[0][0]']               \n",
      "                                                                                                  \n",
      " dropout_55 (Dropout)           (None, 1, 3)         0           ['input_28[0][0]']               \n",
      "                                                                                                  \n",
      " dropout_54 (Dropout)           (None, 1, 10, 3)     0           ['reshape_36[0][0]']             \n",
      "                                                                                                  \n",
      " dropout_57 (Dropout)           (None, 10, 3)        0           ['input_29[0][0]']               \n",
      "                                                                                                  \n",
      " dropout_56 (Dropout)           (None, 10, 10, 3)    0           ['reshape_37[0][0]']             \n",
      "                                                                                                  \n",
      " mean_aggregator_10 (MeanAggreg  multiple            128         ['dropout_55[0][0]',             \n",
      " ator)                                                            'dropout_54[0][0]',             \n",
      "                                                                  'dropout_57[0][0]',             \n",
      "                                                                  'dropout_56[0][0]']             \n",
      "                                                                                                  \n",
      " reshape_38 (Reshape)           (None, 1, 10, 32)    0           ['mean_aggregator_10[3][0]']     \n",
      "                                                                                                  \n",
      " dropout_59 (Dropout)           (None, 1, 32)        0           ['mean_aggregator_10[2][0]']     \n",
      "                                                                                                  \n",
      " dropout_58 (Dropout)           (None, 1, 10, 32)    0           ['reshape_38[0][0]']             \n",
      "                                                                                                  \n",
      " mean_aggregator_11 (MeanAggreg  (None, 1, 32)       1056        ['dropout_59[0][0]',             \n",
      " ator)                                                            'dropout_58[0][0]']             \n",
      "                                                                                                  \n",
      " reshape_39 (Reshape)           (None, 32)           0           ['mean_aggregator_11[1][0]']     \n",
      "                                                                                                  \n",
      " lambda_5 (Lambda)              (None, 32)           0           ['reshape_39[0][0]']             \n",
      "                                                                                                  \n",
      " dense_4 (Dense)                (None, 1)            33          ['lambda_5[1][0]']               \n",
      "                                                                                                  \n",
      "==================================================================================================\n",
      "Total params: 1,217\n",
      "Trainable params: 1,217\n",
      "Non-trainable params: 0\n",
      "__________________________________________________________________________________________________\n"
     ]
    }
   ],
   "source": [
    "model.summary()"
   ]
  },
  {
   "cell_type": "markdown",
   "metadata": {},
   "source": [
    "Now, training the model and keeping track of its loss and accuracy on the training set, and its generalisation performanse on the validation set."
   ]
  },
  {
   "cell_type": "code",
   "execution_count": 172,
   "metadata": {},
   "outputs": [],
   "source": [
    "# Validation data generator\n",
    "val_gen = generator.flow(val_labels.index, val_targets)"
   ]
  },
  {
   "cell_type": "code",
   "execution_count": 173,
   "metadata": {},
   "outputs": [],
   "source": [
    "# Dealing with class imbalance\n",
    "from sklearn.utils import class_weight\n",
    "\n",
    "weights = class_weight.compute_class_weight('balanced',\n",
    "                                            classes=np.unique(val_targets),\n",
    "                                            y=val_targets)\n",
    "weights = {i:w for i,w in enumerate(weights)}"
   ]
  },
  {
   "cell_type": "code",
   "execution_count": 174,
   "metadata": {},
   "outputs": [
    {
     "data": {
      "text/plain": [
       "{0: 0.5316875460574797, 1: 8.38953488372093}"
      ]
     },
     "execution_count": 174,
     "metadata": {},
     "output_type": "execute_result"
    }
   ],
   "source": [
    "weights"
   ]
  },
  {
   "cell_type": "code",
   "execution_count": 176,
   "metadata": {},
   "outputs": [],
   "source": [
    "history = model.fit(\n",
    "    train_gen, epochs=20, validation_data=val_gen, verbose=0, shuffle=False, class_weight=weights\n",
    ")"
   ]
  },
  {
   "cell_type": "code",
   "execution_count": 177,
   "metadata": {},
   "outputs": [
    {
     "data": {
      "image/png": "[encoded data removed]",
      "text/plain": [
       "<Figure size 504x576 with 2 Axes>"
      ]
     },
     "metadata": {
      "needs_background": "light"
     },
     "output_type": "display_data"
    }
   ],
   "source": [
    "sg.utils.plot_history(history)"
   ]
  },
  {
   "cell_type": "code",
   "execution_count": 178,
   "metadata": {},
   "outputs": [
    {
     "name": "stdout",
     "output_type": "stream",
     "text": [
      "116/116 [==============================] - 3s 23ms/step - loss: 0.4509 - acc: 0.6854\n",
      "\n",
      "Test Set Metrics:\n",
      "\tloss: 0.4509\n",
      "\tacc: 0.6854\n"
     ]
    }
   ],
   "source": [
    "# Evaluating on the test set\n",
    "test_gen = generator.flow(test_labels.index, test_targets)\n",
    "\n",
    "test_metrics = model.evaluate(test_gen)\n",
    "print(\"\\nTest Set Metrics:\")\n",
    "for name, val in zip(model.metrics_names, test_metrics):\n",
    "    print(\"\\t{}: {:0.4f}\".format(name, val))"
   ]
  },
  {
   "cell_type": "markdown",
   "metadata": {},
   "source": [
    "### 5. Making predictions with the model"
   ]
  },
  {
   "cell_type": "markdown",
   "metadata": {},
   "source": [
    "Using the trained model to predict the nodes we put aside earlier. For this, we must use the original StellarGraph object and a new node generator."
   ]
  },
  {
   "cell_type": "code",
   "execution_count": null,
   "metadata": {},
   "outputs": [],
   "source": []
  }
 ],
 "metadata": {
  "colab": {
   "name": "Twitch_socail_network.ipynb",
   "provenance": []
  },
  "kernelspec": {
   "display_name": "Python 3",
   "language": "python",
   "name": "python3"
  },
  "language_info": {
   "codemirror_mode": {
    "name": "ipython",
    "version": 3
   },
   "file_extension": ".py",
   "mimetype": "text/x-python",
   "name": "python",
   "nbconvert_exporter": "python",
   "pygments_lexer": "ipython3",
   "version": "3.8.8"
  }
 },
 "nbformat": 4,
 "nbformat_minor": 1
}
