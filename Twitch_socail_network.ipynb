{
 "cells": [
  {
   "cell_type": "markdown",
   "metadata": {
    "id": "7ejmO88NKFB2"
   },
   "source": [
    "# Network Science project"
   ]
  },
  {
   "cell_type": "markdown",
   "metadata": {
    "id": "zQml8uoHKFB7"
   },
   "source": [
    "# Twitch Social Network - Germany"
   ]
  },
  {
   "cell_type": "markdown",
   "metadata": {
    "id": "gyl4Ka9gKFB8"
   },
   "source": [
    "Lisanna Lehes, Siim Suitslepp"
   ]
  },
  {
   "cell_type": "code",
   "execution_count": 200,
   "metadata": {
    "id": "uykoW8oEZjhi"
   },
   "outputs": [],
   "source": [
    "import pandas as pd\n",
    "import numpy as np\n",
    "from tqdm import tqdm\n",
    "import networkx as nx\n",
    "from networkx.algorithms import community\n",
    "import matplotlib.pyplot as plt\n",
    "import seaborn as sns"
   ]
  },
  {
   "cell_type": "code",
   "execution_count": 201,
   "metadata": {
    "id": "7bUsvI1ScP70"
   },
   "outputs": [],
   "source": [
    "edges = pd.read_csv('musae_DE_edges.csv')\n",
    "nodes = pd.read_csv('musae_DE_target.csv')"
   ]
  },
  {
   "cell_type": "code",
   "execution_count": 202,
   "metadata": {
    "colab": {
     "base_uri": "https://localhost:8080/"
    },
    "id": "-kMkeDD-cfPC",
    "outputId": "bc2a027f-0a58-4d6e-a5a4-781e155191cd"
   },
   "outputs": [
    {
     "name": "stdout",
     "output_type": "stream",
     "text": [
      "Nodes dataset dimension: (9498, 6) \n",
      "Edges dataset dimension: (153138, 2)\n"
     ]
    }
   ],
   "source": [
    "print('Nodes dataset dimension:', nodes.shape, '\\nEdges dataset dimension:', edges.shape)"
   ]
  },
  {
   "cell_type": "markdown",
   "metadata": {
    "id": "jaeTmjTqdfCu"
   },
   "source": [
    "## 1. Exploring the data - Descriptive Analysis"
   ]
  },
  {
   "cell_type": "code",
   "execution_count": 203,
   "metadata": {
    "colab": {
     "base_uri": "https://localhost:8080/",
     "height": 206
    },
    "id": "cCVdXtbwcps9",
    "outputId": "f2cd7a0b-9df1-42bb-cbb4-5c39b2aa0bde"
   },
   "outputs": [
    {
     "data": {
      "text/html": [
       "<div>\n",
       "<style scoped>\n",
       "    .dataframe tbody tr th:only-of-type {\n",
       "        vertical-align: middle;\n",
       "    }\n",
       "\n",
       "    .dataframe tbody tr th {\n",
       "        vertical-align: top;\n",
       "    }\n",
       "\n",
       "    .dataframe thead th {\n",
       "        text-align: right;\n",
       "    }\n",
       "</style>\n",
       "<table border=\"1\" class=\"dataframe\">\n",
       "  <thead>\n",
       "    <tr style=\"text-align: right;\">\n",
       "      <th></th>\n",
       "      <th>id</th>\n",
       "      <th>days</th>\n",
       "      <th>mature</th>\n",
       "      <th>views</th>\n",
       "      <th>partner</th>\n",
       "      <th>new_id</th>\n",
       "    </tr>\n",
       "  </thead>\n",
       "  <tbody>\n",
       "    <tr>\n",
       "      <th>0</th>\n",
       "      <td>37905227</td>\n",
       "      <td>2149</td>\n",
       "      <td>True</td>\n",
       "      <td>162078</td>\n",
       "      <td>False</td>\n",
       "      <td>5079</td>\n",
       "    </tr>\n",
       "    <tr>\n",
       "      <th>1</th>\n",
       "      <td>63102384</td>\n",
       "      <td>1574</td>\n",
       "      <td>True</td>\n",
       "      <td>1370</td>\n",
       "      <td>False</td>\n",
       "      <td>4281</td>\n",
       "    </tr>\n",
       "    <tr>\n",
       "      <th>2</th>\n",
       "      <td>109414094</td>\n",
       "      <td>1034</td>\n",
       "      <td>True</td>\n",
       "      <td>6043</td>\n",
       "      <td>False</td>\n",
       "      <td>992</td>\n",
       "    </tr>\n",
       "    <tr>\n",
       "      <th>3</th>\n",
       "      <td>84163849</td>\n",
       "      <td>1319</td>\n",
       "      <td>True</td>\n",
       "      <td>94298</td>\n",
       "      <td>True</td>\n",
       "      <td>9021</td>\n",
       "    </tr>\n",
       "    <tr>\n",
       "      <th>4</th>\n",
       "      <td>38240837</td>\n",
       "      <td>2137</td>\n",
       "      <td>True</td>\n",
       "      <td>2323</td>\n",
       "      <td>False</td>\n",
       "      <td>330</td>\n",
       "    </tr>\n",
       "  </tbody>\n",
       "</table>\n",
       "</div>"
      ],
      "text/plain": [
       "          id  days  mature   views  partner  new_id\n",
       "0   37905227  2149    True  162078    False    5079\n",
       "1   63102384  1574    True    1370    False    4281\n",
       "2  109414094  1034    True    6043    False     992\n",
       "3   84163849  1319    True   94298     True    9021\n",
       "4   38240837  2137    True    2323    False     330"
      ]
     },
     "execution_count": 203,
     "metadata": {},
     "output_type": "execute_result"
    }
   ],
   "source": [
    "nodes.head()"
   ]
  },
  {
   "cell_type": "code",
   "execution_count": 204,
   "metadata": {
    "colab": {
     "base_uri": "https://localhost:8080/",
     "height": 206
    },
    "id": "pm4AAeJCfbmt",
    "outputId": "0d3bd0f7-e767-4aa0-ff2b-d861e0fe113f"
   },
   "outputs": [
    {
     "data": {
      "text/html": [
       "<div>\n",
       "<style scoped>\n",
       "    .dataframe tbody tr th:only-of-type {\n",
       "        vertical-align: middle;\n",
       "    }\n",
       "\n",
       "    .dataframe tbody tr th {\n",
       "        vertical-align: top;\n",
       "    }\n",
       "\n",
       "    .dataframe thead th {\n",
       "        text-align: right;\n",
       "    }\n",
       "</style>\n",
       "<table border=\"1\" class=\"dataframe\">\n",
       "  <thead>\n",
       "    <tr style=\"text-align: right;\">\n",
       "      <th></th>\n",
       "      <th>from</th>\n",
       "      <th>to</th>\n",
       "    </tr>\n",
       "  </thead>\n",
       "  <tbody>\n",
       "    <tr>\n",
       "      <th>0</th>\n",
       "      <td>0</td>\n",
       "      <td>9206</td>\n",
       "    </tr>\n",
       "    <tr>\n",
       "      <th>1</th>\n",
       "      <td>0</td>\n",
       "      <td>7787</td>\n",
       "    </tr>\n",
       "    <tr>\n",
       "      <th>2</th>\n",
       "      <td>0</td>\n",
       "      <td>2145</td>\n",
       "    </tr>\n",
       "    <tr>\n",
       "      <th>3</th>\n",
       "      <td>0</td>\n",
       "      <td>2684</td>\n",
       "    </tr>\n",
       "    <tr>\n",
       "      <th>4</th>\n",
       "      <td>0</td>\n",
       "      <td>7275</td>\n",
       "    </tr>\n",
       "  </tbody>\n",
       "</table>\n",
       "</div>"
      ],
      "text/plain": [
       "   from    to\n",
       "0     0  9206\n",
       "1     0  7787\n",
       "2     0  2145\n",
       "3     0  2684\n",
       "4     0  7275"
      ]
     },
     "execution_count": 204,
     "metadata": {},
     "output_type": "execute_result"
    }
   ],
   "source": [
    "edges.head()"
   ]
  },
  {
   "cell_type": "code",
   "execution_count": 205,
   "metadata": {
    "colab": {
     "base_uri": "https://localhost:8080/",
     "height": 300
    },
    "id": "RjZ4LUMJfexP",
    "outputId": "61fc8d6a-763a-47c9-c213-28b17446282c"
   },
   "outputs": [
    {
     "data": {
      "text/html": [
       "<div>\n",
       "<style scoped>\n",
       "    .dataframe tbody tr th:only-of-type {\n",
       "        vertical-align: middle;\n",
       "    }\n",
       "\n",
       "    .dataframe tbody tr th {\n",
       "        vertical-align: top;\n",
       "    }\n",
       "\n",
       "    .dataframe thead th {\n",
       "        text-align: right;\n",
       "    }\n",
       "</style>\n",
       "<table border=\"1\" class=\"dataframe\">\n",
       "  <thead>\n",
       "    <tr style=\"text-align: right;\">\n",
       "      <th></th>\n",
       "      <th>from</th>\n",
       "      <th>to</th>\n",
       "    </tr>\n",
       "  </thead>\n",
       "  <tbody>\n",
       "    <tr>\n",
       "      <th>count</th>\n",
       "      <td>153138.000000</td>\n",
       "      <td>153138.000000</td>\n",
       "    </tr>\n",
       "    <tr>\n",
       "      <th>mean</th>\n",
       "      <td>3672.458103</td>\n",
       "      <td>6060.992510</td>\n",
       "    </tr>\n",
       "    <tr>\n",
       "      <th>std</th>\n",
       "      <td>2511.565127</td>\n",
       "      <td>2437.219301</td>\n",
       "    </tr>\n",
       "    <tr>\n",
       "      <th>min</th>\n",
       "      <td>0.000000</td>\n",
       "      <td>5.000000</td>\n",
       "    </tr>\n",
       "    <tr>\n",
       "      <th>25%</th>\n",
       "      <td>1613.000000</td>\n",
       "      <td>4150.000000</td>\n",
       "    </tr>\n",
       "    <tr>\n",
       "      <th>50%</th>\n",
       "      <td>3173.000000</td>\n",
       "      <td>6619.000000</td>\n",
       "    </tr>\n",
       "    <tr>\n",
       "      <th>75%</th>\n",
       "      <td>5519.000000</td>\n",
       "      <td>8080.000000</td>\n",
       "    </tr>\n",
       "    <tr>\n",
       "      <th>max</th>\n",
       "      <td>9488.000000</td>\n",
       "      <td>9497.000000</td>\n",
       "    </tr>\n",
       "  </tbody>\n",
       "</table>\n",
       "</div>"
      ],
      "text/plain": [
       "                from             to\n",
       "count  153138.000000  153138.000000\n",
       "mean     3672.458103    6060.992510\n",
       "std      2511.565127    2437.219301\n",
       "min         0.000000       5.000000\n",
       "25%      1613.000000    4150.000000\n",
       "50%      3173.000000    6619.000000\n",
       "75%      5519.000000    8080.000000\n",
       "max      9488.000000    9497.000000"
      ]
     },
     "execution_count": 205,
     "metadata": {},
     "output_type": "execute_result"
    }
   ],
   "source": [
    "edges.describe()"
   ]
  },
  {
   "cell_type": "markdown",
   "metadata": {
    "id": "qVH0oRvKfjuk"
   },
   "source": [
    "We can see from here that it uses new_id instead of id so we will drop id collumn and only use new_id"
   ]
  },
  {
   "cell_type": "markdown",
   "metadata": {
    "id": "CMeIQUfuKFCC"
   },
   "source": [
    "### Dropping unnessesary columns"
   ]
  },
  {
   "cell_type": "code",
   "execution_count": 206,
   "metadata": {
    "id": "2RfkZ_UBfvR1"
   },
   "outputs": [],
   "source": [
    "nodes.drop(\"id\", axis=1, inplace=True)"
   ]
  },
  {
   "cell_type": "code",
   "execution_count": 207,
   "metadata": {
    "id": "2D4CkSl2fzOV"
   },
   "outputs": [],
   "source": [
    "nodes.rename(columns = {'new_id':'id'}, inplace = True)"
   ]
  },
  {
   "cell_type": "code",
   "execution_count": 208,
   "metadata": {
    "colab": {
     "base_uri": "https://localhost:8080/",
     "height": 206
    },
    "id": "DIGhx74_gEko",
    "outputId": "8468ba60-13f5-4bee-93a0-c8da5151835a"
   },
   "outputs": [
    {
     "data": {
      "text/html": [
       "<div>\n",
       "<style scoped>\n",
       "    .dataframe tbody tr th:only-of-type {\n",
       "        vertical-align: middle;\n",
       "    }\n",
       "\n",
       "    .dataframe tbody tr th {\n",
       "        vertical-align: top;\n",
       "    }\n",
       "\n",
       "    .dataframe thead th {\n",
       "        text-align: right;\n",
       "    }\n",
       "</style>\n",
       "<table border=\"1\" class=\"dataframe\">\n",
       "  <thead>\n",
       "    <tr style=\"text-align: right;\">\n",
       "      <th></th>\n",
       "      <th>days</th>\n",
       "      <th>mature</th>\n",
       "      <th>views</th>\n",
       "      <th>partner</th>\n",
       "      <th>id</th>\n",
       "    </tr>\n",
       "  </thead>\n",
       "  <tbody>\n",
       "    <tr>\n",
       "      <th>0</th>\n",
       "      <td>2149</td>\n",
       "      <td>True</td>\n",
       "      <td>162078</td>\n",
       "      <td>False</td>\n",
       "      <td>5079</td>\n",
       "    </tr>\n",
       "    <tr>\n",
       "      <th>1</th>\n",
       "      <td>1574</td>\n",
       "      <td>True</td>\n",
       "      <td>1370</td>\n",
       "      <td>False</td>\n",
       "      <td>4281</td>\n",
       "    </tr>\n",
       "    <tr>\n",
       "      <th>2</th>\n",
       "      <td>1034</td>\n",
       "      <td>True</td>\n",
       "      <td>6043</td>\n",
       "      <td>False</td>\n",
       "      <td>992</td>\n",
       "    </tr>\n",
       "    <tr>\n",
       "      <th>3</th>\n",
       "      <td>1319</td>\n",
       "      <td>True</td>\n",
       "      <td>94298</td>\n",
       "      <td>True</td>\n",
       "      <td>9021</td>\n",
       "    </tr>\n",
       "    <tr>\n",
       "      <th>4</th>\n",
       "      <td>2137</td>\n",
       "      <td>True</td>\n",
       "      <td>2323</td>\n",
       "      <td>False</td>\n",
       "      <td>330</td>\n",
       "    </tr>\n",
       "  </tbody>\n",
       "</table>\n",
       "</div>"
      ],
      "text/plain": [
       "   days  mature   views  partner    id\n",
       "0  2149    True  162078    False  5079\n",
       "1  1574    True    1370    False  4281\n",
       "2  1034    True    6043    False   992\n",
       "3  1319    True   94298     True  9021\n",
       "4  2137    True    2323    False   330"
      ]
     },
     "execution_count": 208,
     "metadata": {},
     "output_type": "execute_result"
    }
   ],
   "source": [
    "nodes.head()"
   ]
  },
  {
   "cell_type": "markdown",
   "metadata": {
    "id": "gl9Cz06wKFCD"
   },
   "source": [
    "### Checking for null values"
   ]
  },
  {
   "cell_type": "code",
   "execution_count": 209,
   "metadata": {
    "colab": {
     "base_uri": "https://localhost:8080/"
    },
    "id": "PnEgR1q68-t5",
    "outputId": "1e387661-41f5-4e19-cfae-55c96b1f5020"
   },
   "outputs": [
    {
     "data": {
      "text/plain": [
       "days       0\n",
       "mature     0\n",
       "views      0\n",
       "partner    0\n",
       "id         0\n",
       "dtype: int64"
      ]
     },
     "execution_count": 209,
     "metadata": {},
     "output_type": "execute_result"
    }
   ],
   "source": [
    "nodes.isnull().sum()"
   ]
  },
  {
   "cell_type": "code",
   "execution_count": 210,
   "metadata": {
    "colab": {
     "base_uri": "https://localhost:8080/"
    },
    "id": "Az0Gkfxx-TNt",
    "outputId": "4347603e-8a2b-4dcb-e132-84e3367749eb"
   },
   "outputs": [
    {
     "data": {
      "text/plain": [
       "from    0\n",
       "to      0\n",
       "dtype: int64"
      ]
     },
     "execution_count": 210,
     "metadata": {},
     "output_type": "execute_result"
    }
   ],
   "source": [
    "edges.isnull().sum()"
   ]
  },
  {
   "cell_type": "markdown",
   "metadata": {
    "id": "YF49j27ze9mq"
   },
   "source": [
    "There are no NAN values in dataset"
   ]
  },
  {
   "cell_type": "markdown",
   "metadata": {
    "id": "QtMDHIpkKFCE"
   },
   "source": [
    "### Checking data types"
   ]
  },
  {
   "cell_type": "code",
   "execution_count": 211,
   "metadata": {
    "colab": {
     "base_uri": "https://localhost:8080/"
    },
    "id": "9Q5QvmO13TVb",
    "outputId": "5ad508ce-d2c5-4278-fcbd-88e856ddefb9"
   },
   "outputs": [
    {
     "data": {
      "text/plain": [
       "days       int64\n",
       "mature      bool\n",
       "views      int64\n",
       "partner     bool\n",
       "id         int64\n",
       "dtype: object"
      ]
     },
     "execution_count": 211,
     "metadata": {},
     "output_type": "execute_result"
    }
   ],
   "source": [
    "nodes.dtypes"
   ]
  },
  {
   "cell_type": "code",
   "execution_count": 212,
   "metadata": {
    "id": "micOV5RjvGZh"
   },
   "outputs": [],
   "source": [
    "#correcting datatypes\n",
    "\n",
    "nodes.mature = nodes.mature.astype(int) \n",
    "nodes.partner = nodes.partner.astype(int)"
   ]
  },
  {
   "cell_type": "code",
   "execution_count": 213,
   "metadata": {
    "colab": {
     "base_uri": "https://localhost:8080/"
    },
    "id": "_qDdIdKAyow5",
    "outputId": "773207a9-e130-49df-b1f0-ec397854be7a"
   },
   "outputs": [
    {
     "data": {
      "text/plain": [
       "days       int64\n",
       "mature     int32\n",
       "views      int64\n",
       "partner    int32\n",
       "id         int64\n",
       "dtype: object"
      ]
     },
     "execution_count": 213,
     "metadata": {},
     "output_type": "execute_result"
    }
   ],
   "source": [
    "nodes.dtypes"
   ]
  },
  {
   "cell_type": "markdown",
   "metadata": {
    "id": "450BE5rZKFCF"
   },
   "source": [
    "### Visualizing"
   ]
  },
  {
   "cell_type": "code",
   "execution_count": 214,
   "metadata": {
    "colab": {
     "base_uri": "https://localhost:8080/",
     "height": 296
    },
    "id": "TtlZD-mWh7ye",
    "outputId": "ff730b69-6822-4120-feda-9e0ef78cbf76"
   },
   "outputs": [
    {
     "data": {
      "text/plain": [
       "Text(0, 0.5, 'Views on Twitch')"
      ]
     },
     "execution_count": 214,
     "metadata": {},
     "output_type": "execute_result"
    },
    {
     "data": {
      "image/png": "[encoded data removed]",
      "text/plain": [
       "<Figure size 432x288 with 1 Axes>"
      ]
     },
     "metadata": {
      "needs_background": "light"
     },
     "output_type": "display_data"
    }
   ],
   "source": [
    "nodes_views = nodes.sort_values(by = ['views'])\n",
    "views = nodes_views['views']\n",
    "views = views.reset_index()\n",
    "plt.plot(views['views'])\n",
    "plt.yscale(\"log\")\n",
    "plt.title(\"\")\n",
    "plt.xlabel(\"sorted nodes (streamers)\")\n",
    "plt.ylabel(\"Views on Twitch\")"
   ]
  },
  {
   "cell_type": "code",
   "execution_count": 215,
   "metadata": {
    "colab": {
     "base_uri": "https://localhost:8080/",
     "height": 296
    },
    "id": "5X4fDvLZjuFl",
    "outputId": "210512c4-51ce-49e4-c15d-842cf4537b0f"
   },
   "outputs": [
    {
     "data": {
      "text/plain": [
       "Text(0, 0.5, 'Days on Twitch')"
      ]
     },
     "execution_count": 215,
     "metadata": {},
     "output_type": "execute_result"
    },
    {
     "data": {
      "image/png": "[encoded data removed]",
      "text/plain": [
       "<Figure size 432x288 with 1 Axes>"
      ]
     },
     "metadata": {
      "needs_background": "light"
     },
     "output_type": "display_data"
    }
   ],
   "source": [
    "nodes_days = nodes.sort_values(by = ['days'])\n",
    "days = nodes_days['days']\n",
    "days = days.reset_index()\n",
    "plt.plot(days['days'])\n",
    "plt.yscale(\"log\")\n",
    "plt.xlabel(\"sorted nodes (streamers)\")\n",
    "plt.ylabel(\"Days on Twitch\")"
   ]
  },
  {
   "cell_type": "code",
   "execution_count": 216,
   "metadata": {
    "colab": {
     "base_uri": "https://localhost:8080/",
     "height": 455
    },
    "id": "Ode191fN386F",
    "outputId": "ddcc881b-021c-4e7f-ba3f-814274a5c79b"
   },
   "outputs": [
    {
     "data": {
      "text/html": [
       "<div>\n",
       "<style scoped>\n",
       "    .dataframe tbody tr th:only-of-type {\n",
       "        vertical-align: middle;\n",
       "    }\n",
       "\n",
       "    .dataframe tbody tr th {\n",
       "        vertical-align: top;\n",
       "    }\n",
       "\n",
       "    .dataframe thead th {\n",
       "        text-align: right;\n",
       "    }\n",
       "</style>\n",
       "<table border=\"1\" class=\"dataframe\">\n",
       "  <thead>\n",
       "    <tr style=\"text-align: right;\">\n",
       "      <th></th>\n",
       "      <th>days</th>\n",
       "      <th>mature</th>\n",
       "      <th>views</th>\n",
       "      <th>partner</th>\n",
       "    </tr>\n",
       "    <tr>\n",
       "      <th>id</th>\n",
       "      <th></th>\n",
       "      <th></th>\n",
       "      <th></th>\n",
       "      <th></th>\n",
       "    </tr>\n",
       "  </thead>\n",
       "  <tbody>\n",
       "    <tr>\n",
       "      <th>5079</th>\n",
       "      <td>2149</td>\n",
       "      <td>1</td>\n",
       "      <td>162078</td>\n",
       "      <td>0</td>\n",
       "    </tr>\n",
       "    <tr>\n",
       "      <th>4281</th>\n",
       "      <td>1574</td>\n",
       "      <td>1</td>\n",
       "      <td>1370</td>\n",
       "      <td>0</td>\n",
       "    </tr>\n",
       "    <tr>\n",
       "      <th>992</th>\n",
       "      <td>1034</td>\n",
       "      <td>1</td>\n",
       "      <td>6043</td>\n",
       "      <td>0</td>\n",
       "    </tr>\n",
       "    <tr>\n",
       "      <th>9021</th>\n",
       "      <td>1319</td>\n",
       "      <td>1</td>\n",
       "      <td>94298</td>\n",
       "      <td>1</td>\n",
       "    </tr>\n",
       "    <tr>\n",
       "      <th>330</th>\n",
       "      <td>2137</td>\n",
       "      <td>1</td>\n",
       "      <td>2323</td>\n",
       "      <td>0</td>\n",
       "    </tr>\n",
       "    <tr>\n",
       "      <th>...</th>\n",
       "      <td>...</td>\n",
       "      <td>...</td>\n",
       "      <td>...</td>\n",
       "      <td>...</td>\n",
       "    </tr>\n",
       "    <tr>\n",
       "      <th>4572</th>\n",
       "      <td>895</td>\n",
       "      <td>1</td>\n",
       "      <td>128</td>\n",
       "      <td>0</td>\n",
       "    </tr>\n",
       "    <tr>\n",
       "      <th>6355</th>\n",
       "      <td>2001</td>\n",
       "      <td>0</td>\n",
       "      <td>44</td>\n",
       "      <td>0</td>\n",
       "    </tr>\n",
       "    <tr>\n",
       "      <th>206</th>\n",
       "      <td>1784</td>\n",
       "      <td>1</td>\n",
       "      <td>2038</td>\n",
       "      <td>0</td>\n",
       "    </tr>\n",
       "    <tr>\n",
       "      <th>7695</th>\n",
       "      <td>2114</td>\n",
       "      <td>0</td>\n",
       "      <td>449</td>\n",
       "      <td>0</td>\n",
       "    </tr>\n",
       "    <tr>\n",
       "      <th>4451</th>\n",
       "      <td>1680</td>\n",
       "      <td>0</td>\n",
       "      <td>10638954</td>\n",
       "      <td>1</td>\n",
       "    </tr>\n",
       "  </tbody>\n",
       "</table>\n",
       "<p>9498 rows × 4 columns</p>\n",
       "</div>"
      ],
      "text/plain": [
       "      days  mature     views  partner\n",
       "id                                   \n",
       "5079  2149       1    162078        0\n",
       "4281  1574       1      1370        0\n",
       "992   1034       1      6043        0\n",
       "9021  1319       1     94298        1\n",
       "330   2137       1      2323        0\n",
       "...    ...     ...       ...      ...\n",
       "4572   895       1       128        0\n",
       "6355  2001       0        44        0\n",
       "206   1784       1      2038        0\n",
       "7695  2114       0       449        0\n",
       "4451  1680       0  10638954        1\n",
       "\n",
       "[9498 rows x 4 columns]"
      ]
     },
     "execution_count": 216,
     "metadata": {},
     "output_type": "execute_result"
    }
   ],
   "source": [
    "nodes.set_index('id')"
   ]
  },
  {
   "cell_type": "markdown",
   "metadata": {
    "id": "hqsvDwjIgplF"
   },
   "source": [
    "## 2. Graph analysis"
   ]
  },
  {
   "cell_type": "code",
   "execution_count": 217,
   "metadata": {
    "id": "-opM_BSnw0JC"
   },
   "outputs": [],
   "source": [
    "nodes_dict = nodes.to_dict('index')"
   ]
  },
  {
   "cell_type": "code",
   "execution_count": 218,
   "metadata": {
    "id": "iXCXpJmics-Y"
   },
   "outputs": [],
   "source": [
    "# creating the graph\n",
    "\n",
    "G_unweighted_undirected = nx.from_pandas_edgelist(edges, source='from', target='to')\n",
    "nx.set_node_attributes(G_unweighted_undirected, nodes_dict)"
   ]
  },
  {
   "cell_type": "code",
   "execution_count": 219,
   "metadata": {
    "colab": {
     "base_uri": "https://localhost:8080/"
    },
    "id": "x6kGsBUqnUrS",
    "outputId": "28a915e0-0979-4dc3-97f5-7fd6256f9d62"
   },
   "outputs": [
    {
     "data": {
      "text/plain": [
       "0.0033954267301620203"
      ]
     },
     "execution_count": 219,
     "metadata": {},
     "output_type": "execute_result"
    }
   ],
   "source": [
    "# Edge density\n",
    "nx.classes.function.density(G_unweighted_undirected) "
   ]
  },
  {
   "cell_type": "code",
   "execution_count": 220,
   "metadata": {
    "colab": {
     "base_uri": "https://localhost:8080/"
    },
    "id": "wX_voB4DMfnU",
    "outputId": "a36d464f-3516-4f64-979f-6778ccd55a73"
   },
   "outputs": [
    {
     "data": {
      "text/plain": [
       "0.0464708891573653"
      ]
     },
     "execution_count": 220,
     "metadata": {},
     "output_type": "execute_result"
    }
   ],
   "source": [
    "# Transitivity\n",
    "nx.transitivity(G_unweighted_undirected)"
   ]
  },
  {
   "cell_type": "code",
   "execution_count": 221,
   "metadata": {
    "colab": {
     "base_uri": "https://localhost:8080/"
    },
    "id": "yrPtJxguWMEh",
    "outputId": "83d0050d-03c5-4693-a110-0ec56cc90c4d",
    "scrolled": true
   },
   "outputs": [
    {
     "ename": "KeyboardInterrupt",
     "evalue": "",
     "output_type": "error",
     "traceback": [
      "\u001b[1;31m---------------------------------------------------------------------------\u001b[0m",
      "\u001b[1;31mKeyboardInterrupt\u001b[0m                         Traceback (most recent call last)",
      "\u001b[1;32m<ipython-input-221-c60e81da1df6>\u001b[0m in \u001b[0;36m<module>\u001b[1;34m\u001b[0m\n\u001b[0;32m      1\u001b[0m \u001b[1;31m# Average shortest path length\u001b[0m\u001b[1;33m\u001b[0m\u001b[1;33m\u001b[0m\u001b[1;33m\u001b[0m\u001b[0m\n\u001b[1;32m----> 2\u001b[1;33m \u001b[0mnx\u001b[0m\u001b[1;33m.\u001b[0m\u001b[0maverage_shortest_path_length\u001b[0m\u001b[1;33m(\u001b[0m\u001b[0mG_unweighted_undirected\u001b[0m\u001b[1;33m)\u001b[0m\u001b[1;33m\u001b[0m\u001b[1;33m\u001b[0m\u001b[0m\n\u001b[0m",
      "\u001b[1;32m~\\Anaconda3\\lib\\site-packages\\networkx\\algorithms\\shortest_paths\\generic.py\u001b[0m in \u001b[0;36maverage_shortest_path_length\u001b[1;34m(G, weight, method)\u001b[0m\n\u001b[0;32m    400\u001b[0m     \u001b[1;32mif\u001b[0m \u001b[0mmethod\u001b[0m \u001b[1;32min\u001b[0m \u001b[0msingle_source_methods\u001b[0m\u001b[1;33m:\u001b[0m\u001b[1;33m\u001b[0m\u001b[1;33m\u001b[0m\u001b[0m\n\u001b[0;32m    401\u001b[0m         \u001b[1;31m# Sum the distances for each (ordered) pair of source and target node.\u001b[0m\u001b[1;33m\u001b[0m\u001b[1;33m\u001b[0m\u001b[1;33m\u001b[0m\u001b[0m\n\u001b[1;32m--> 402\u001b[1;33m         \u001b[0ms\u001b[0m \u001b[1;33m=\u001b[0m \u001b[0msum\u001b[0m\u001b[1;33m(\u001b[0m\u001b[0ml\u001b[0m \u001b[1;32mfor\u001b[0m \u001b[0mu\u001b[0m \u001b[1;32min\u001b[0m \u001b[0mG\u001b[0m \u001b[1;32mfor\u001b[0m \u001b[0ml\u001b[0m \u001b[1;32min\u001b[0m \u001b[0mpath_length\u001b[0m\u001b[1;33m(\u001b[0m\u001b[0mu\u001b[0m\u001b[1;33m)\u001b[0m\u001b[1;33m.\u001b[0m\u001b[0mvalues\u001b[0m\u001b[1;33m(\u001b[0m\u001b[1;33m)\u001b[0m\u001b[1;33m)\u001b[0m\u001b[1;33m\u001b[0m\u001b[1;33m\u001b[0m\u001b[0m\n\u001b[0m\u001b[0;32m    403\u001b[0m     \u001b[1;32melse\u001b[0m\u001b[1;33m:\u001b[0m\u001b[1;33m\u001b[0m\u001b[1;33m\u001b[0m\u001b[0m\n\u001b[0;32m    404\u001b[0m         \u001b[1;32mif\u001b[0m \u001b[0mmethod\u001b[0m \u001b[1;33m==\u001b[0m \u001b[1;34m\"floyd-warshall\"\u001b[0m\u001b[1;33m:\u001b[0m\u001b[1;33m\u001b[0m\u001b[1;33m\u001b[0m\u001b[0m\n",
      "\u001b[1;32m~\\Anaconda3\\lib\\site-packages\\networkx\\algorithms\\shortest_paths\\generic.py\u001b[0m in \u001b[0;36m<genexpr>\u001b[1;34m(.0)\u001b[0m\n\u001b[0;32m    400\u001b[0m     \u001b[1;32mif\u001b[0m \u001b[0mmethod\u001b[0m \u001b[1;32min\u001b[0m \u001b[0msingle_source_methods\u001b[0m\u001b[1;33m:\u001b[0m\u001b[1;33m\u001b[0m\u001b[1;33m\u001b[0m\u001b[0m\n\u001b[0;32m    401\u001b[0m         \u001b[1;31m# Sum the distances for each (ordered) pair of source and target node.\u001b[0m\u001b[1;33m\u001b[0m\u001b[1;33m\u001b[0m\u001b[1;33m\u001b[0m\u001b[0m\n\u001b[1;32m--> 402\u001b[1;33m         \u001b[0ms\u001b[0m \u001b[1;33m=\u001b[0m \u001b[0msum\u001b[0m\u001b[1;33m(\u001b[0m\u001b[0ml\u001b[0m \u001b[1;32mfor\u001b[0m \u001b[0mu\u001b[0m \u001b[1;32min\u001b[0m \u001b[0mG\u001b[0m \u001b[1;32mfor\u001b[0m \u001b[0ml\u001b[0m \u001b[1;32min\u001b[0m \u001b[0mpath_length\u001b[0m\u001b[1;33m(\u001b[0m\u001b[0mu\u001b[0m\u001b[1;33m)\u001b[0m\u001b[1;33m.\u001b[0m\u001b[0mvalues\u001b[0m\u001b[1;33m(\u001b[0m\u001b[1;33m)\u001b[0m\u001b[1;33m)\u001b[0m\u001b[1;33m\u001b[0m\u001b[1;33m\u001b[0m\u001b[0m\n\u001b[0m\u001b[0;32m    403\u001b[0m     \u001b[1;32melse\u001b[0m\u001b[1;33m:\u001b[0m\u001b[1;33m\u001b[0m\u001b[1;33m\u001b[0m\u001b[0m\n\u001b[0;32m    404\u001b[0m         \u001b[1;32mif\u001b[0m \u001b[0mmethod\u001b[0m \u001b[1;33m==\u001b[0m \u001b[1;34m\"floyd-warshall\"\u001b[0m\u001b[1;33m:\u001b[0m\u001b[1;33m\u001b[0m\u001b[1;33m\u001b[0m\u001b[0m\n",
      "\u001b[1;32m~\\Anaconda3\\lib\\site-packages\\networkx\\algorithms\\shortest_paths\\generic.py\u001b[0m in \u001b[0;36mpath_length\u001b[1;34m(v)\u001b[0m\n\u001b[0;32m    392\u001b[0m     \u001b[1;32mdef\u001b[0m \u001b[0mpath_length\u001b[0m\u001b[1;33m(\u001b[0m\u001b[0mv\u001b[0m\u001b[1;33m)\u001b[0m\u001b[1;33m:\u001b[0m\u001b[1;33m\u001b[0m\u001b[1;33m\u001b[0m\u001b[0m\n\u001b[0;32m    393\u001b[0m         \u001b[1;32mif\u001b[0m \u001b[0mmethod\u001b[0m \u001b[1;33m==\u001b[0m \u001b[1;34m\"unweighted\"\u001b[0m\u001b[1;33m:\u001b[0m\u001b[1;33m\u001b[0m\u001b[1;33m\u001b[0m\u001b[0m\n\u001b[1;32m--> 394\u001b[1;33m             \u001b[1;32mreturn\u001b[0m \u001b[0mnx\u001b[0m\u001b[1;33m.\u001b[0m\u001b[0msingle_source_shortest_path_length\u001b[0m\u001b[1;33m(\u001b[0m\u001b[0mG\u001b[0m\u001b[1;33m,\u001b[0m \u001b[0mv\u001b[0m\u001b[1;33m)\u001b[0m\u001b[1;33m\u001b[0m\u001b[1;33m\u001b[0m\u001b[0m\n\u001b[0m\u001b[0;32m    395\u001b[0m         \u001b[1;32melif\u001b[0m \u001b[0mmethod\u001b[0m \u001b[1;33m==\u001b[0m \u001b[1;34m\"dijkstra\"\u001b[0m\u001b[1;33m:\u001b[0m\u001b[1;33m\u001b[0m\u001b[1;33m\u001b[0m\u001b[0m\n\u001b[0;32m    396\u001b[0m             \u001b[1;32mreturn\u001b[0m \u001b[0mnx\u001b[0m\u001b[1;33m.\u001b[0m\u001b[0msingle_source_dijkstra_path_length\u001b[0m\u001b[1;33m(\u001b[0m\u001b[0mG\u001b[0m\u001b[1;33m,\u001b[0m \u001b[0mv\u001b[0m\u001b[1;33m,\u001b[0m \u001b[0mweight\u001b[0m\u001b[1;33m=\u001b[0m\u001b[0mweight\u001b[0m\u001b[1;33m)\u001b[0m\u001b[1;33m\u001b[0m\u001b[1;33m\u001b[0m\u001b[0m\n",
      "\u001b[1;32m~\\Anaconda3\\lib\\site-packages\\networkx\\algorithms\\shortest_paths\\unweighted.py\u001b[0m in \u001b[0;36msingle_source_shortest_path_length\u001b[1;34m(G, source, cutoff)\u001b[0m\n\u001b[0;32m     57\u001b[0m         \u001b[0mcutoff\u001b[0m \u001b[1;33m=\u001b[0m \u001b[0mfloat\u001b[0m\u001b[1;33m(\u001b[0m\u001b[1;34m\"inf\"\u001b[0m\u001b[1;33m)\u001b[0m\u001b[1;33m\u001b[0m\u001b[1;33m\u001b[0m\u001b[0m\n\u001b[0;32m     58\u001b[0m     \u001b[0mnextlevel\u001b[0m \u001b[1;33m=\u001b[0m \u001b[1;33m{\u001b[0m\u001b[0msource\u001b[0m\u001b[1;33m:\u001b[0m \u001b[1;36m1\u001b[0m\u001b[1;33m}\u001b[0m\u001b[1;33m\u001b[0m\u001b[1;33m\u001b[0m\u001b[0m\n\u001b[1;32m---> 59\u001b[1;33m     \u001b[1;32mreturn\u001b[0m \u001b[0mdict\u001b[0m\u001b[1;33m(\u001b[0m\u001b[0m_single_shortest_path_length\u001b[0m\u001b[1;33m(\u001b[0m\u001b[0mG\u001b[0m\u001b[1;33m.\u001b[0m\u001b[0madj\u001b[0m\u001b[1;33m,\u001b[0m \u001b[0mnextlevel\u001b[0m\u001b[1;33m,\u001b[0m \u001b[0mcutoff\u001b[0m\u001b[1;33m)\u001b[0m\u001b[1;33m)\u001b[0m\u001b[1;33m\u001b[0m\u001b[1;33m\u001b[0m\u001b[0m\n\u001b[0m\u001b[0;32m     60\u001b[0m \u001b[1;33m\u001b[0m\u001b[0m\n\u001b[0;32m     61\u001b[0m \u001b[1;33m\u001b[0m\u001b[0m\n",
      "\u001b[1;32m~\\Anaconda3\\lib\\site-packages\\networkx\\algorithms\\shortest_paths\\unweighted.py\u001b[0m in \u001b[0;36m_single_shortest_path_length\u001b[1;34m(adj, firstlevel, cutoff)\u001b[0m\n\u001b[0;32m     89\u001b[0m             \u001b[1;32mreturn\u001b[0m\u001b[1;33m\u001b[0m\u001b[1;33m\u001b[0m\u001b[0m\n\u001b[0;32m     90\u001b[0m         \u001b[1;32mfor\u001b[0m \u001b[0mv\u001b[0m \u001b[1;32min\u001b[0m \u001b[0mfound\u001b[0m\u001b[1;33m:\u001b[0m\u001b[1;33m\u001b[0m\u001b[1;33m\u001b[0m\u001b[0m\n\u001b[1;32m---> 91\u001b[1;33m             \u001b[0mnextlevel\u001b[0m\u001b[1;33m.\u001b[0m\u001b[0mupdate\u001b[0m\u001b[1;33m(\u001b[0m\u001b[0madj\u001b[0m\u001b[1;33m[\u001b[0m\u001b[0mv\u001b[0m\u001b[1;33m]\u001b[0m\u001b[1;33m)\u001b[0m\u001b[1;33m\u001b[0m\u001b[1;33m\u001b[0m\u001b[0m\n\u001b[0m\u001b[0;32m     92\u001b[0m         \u001b[0mlevel\u001b[0m \u001b[1;33m+=\u001b[0m \u001b[1;36m1\u001b[0m\u001b[1;33m\u001b[0m\u001b[1;33m\u001b[0m\u001b[0m\n\u001b[0;32m     93\u001b[0m     \u001b[1;32mdel\u001b[0m \u001b[0mseen\u001b[0m\u001b[1;33m\u001b[0m\u001b[1;33m\u001b[0m\u001b[0m\n",
      "\u001b[1;31mKeyboardInterrupt\u001b[0m: "
     ]
    }
   ],
   "source": [
    "# Average shortest path length\n",
    "nx.average_shortest_path_length(G_unweighted_undirected) "
   ]
  },
  {
   "cell_type": "code",
   "execution_count": null,
   "metadata": {
    "colab": {
     "base_uri": "https://localhost:8080/"
    },
    "id": "OHRTRMfxn73J",
    "outputId": "b2dc903a-c4e7-4847-eb66-fef37c629361"
   },
   "outputs": [],
   "source": [
    "# Clustering coefficient\n",
    "nx.average_clustering(G_unweighted_undirected) "
   ]
  },
  {
   "cell_type": "code",
   "execution_count": null,
   "metadata": {
    "colab": {
     "base_uri": "https://localhost:8080/"
    },
    "id": "MsAnz2IcWQd7",
    "outputId": "01c33c99-09ab-4c46-a36b-71c13cfe4593"
   },
   "outputs": [],
   "source": [
    "# Diameter of the graph \n",
    "nx.diameter(G_unweighted_undirected) "
   ]
  },
  {
   "cell_type": "code",
   "execution_count": null,
   "metadata": {
    "id": "5dqBUg3sjZ_p"
   },
   "outputs": [],
   "source": [
    "# Betweenness centrality\n",
    "#nx.betweenness_centrality(G_unweighted_undirected) "
   ]
  },
  {
   "cell_type": "markdown",
   "metadata": {
    "id": "ImQ5-vMRkFNV"
   },
   "source": [
    "# 3. Attribute analysis "
   ]
  },
  {
   "cell_type": "code",
   "execution_count": null,
   "metadata": {
    "colab": {
     "base_uri": "https://localhost:8080/",
     "height": 570
    },
    "id": "G263WeIBJLw7",
    "outputId": "4d447b27-deb1-4a35-f81d-587fccdd5e42"
   },
   "outputs": [],
   "source": [
    "# Calculating Correlation\n",
    "\n",
    "corr = nodes[['days','mature','views','partner']].corr()\n",
    "mask = np.triu(np.ones_like(corr, dtype=bool))\n",
    "\n",
    "f, ax = plt.subplots(figsize=(11, 9))\n",
    "\n",
    "# Generate a custom diverging colormap\n",
    "cmap = sns.diverging_palette(250, 30, l=65, center=\"light\", as_cmap=True)\n",
    "\n",
    "\n",
    "# Draw the heatmap with the mask and correct aspect ratio\n",
    "p = sns.heatmap(corr, mask=mask, cmap=cmap, vmax=.3, center=0,\n",
    "            square=True, linewidths=.5, cbar_kws={\"shrink\": .5})\n",
    "p.set(title = \"Correlation heatmap\")"
   ]
  },
  {
   "cell_type": "markdown",
   "metadata": {
    "id": "Xm1ZMZZBJiFz"
   },
   "source": [
    "## 4. Model building - classification tasks"
   ]
  },
  {
   "cell_type": "markdown",
   "metadata": {
    "id": "onvpuwWiKFCI"
   },
   "source": [
    "## GraphSAGE"
   ]
  },
  {
   "cell_type": "markdown",
   "metadata": {
    "id": "jTpOZir8KFCI"
   },
   "source": [
    "GraphSAGE is an inductive framework that leverages node attribute information to efficiently generate representations on previously unseen data. Hence, it is a framework for inductive representation learning on large graphs. It is used to generate low-dimensional vector representations for nodes, and is especially useful for graphs that have rich node attribute information."
   ]
  },
  {
   "cell_type": "code",
   "execution_count": 222,
   "metadata": {
    "colab": {
     "base_uri": "https://localhost:8080/"
    },
    "id": "KaosjCa-KFCJ",
    "outputId": "67d4b6a6-4acd-45d4-ab03-2283bcfef88c",
    "scrolled": true
   },
   "outputs": [
    {
     "name": "stdout",
     "output_type": "stream",
     "text": [
      "Requirement already satisfied: stellargraph in c:\\users\\lisannal\\anaconda3\\lib\\site-packages (1.2.1)\n",
      "Requirement already satisfied: gensim>=3.4.0 in c:\\users\\lisannal\\anaconda3\\lib\\site-packages (from stellargraph) (4.2.0)\n",
      "Requirement already satisfied: scipy>=1.1.0 in c:\\users\\lisannal\\anaconda3\\lib\\site-packages (from stellargraph) (1.6.2)\n",
      "Requirement already satisfied: scikit-learn>=0.20 in c:\\users\\lisannal\\anaconda3\\lib\\site-packages (from stellargraph) (0.24.1)\n",
      "Requirement already satisfied: pandas>=0.24 in c:\\users\\lisannal\\anaconda3\\lib\\site-packages (from stellargraph) (1.2.4)\n",
      "Requirement already satisfied: numpy>=1.14 in c:\\users\\lisannal\\anaconda3\\lib\\site-packages (from stellargraph) (1.20.1)\n",
      "Requirement already satisfied: tensorflow>=2.1.0 in c:\\users\\lisannal\\anaconda3\\lib\\site-packages (from stellargraph) (2.8.0)\n",
      "Requirement already satisfied: networkx>=2.2 in c:\\users\\lisannal\\anaconda3\\lib\\site-packages (from stellargraph) (2.5)\n",
      "Requirement already satisfied: matplotlib>=2.2 in c:\\users\\lisannal\\anaconda3\\lib\\site-packages (from stellargraph) (3.3.4)\n",
      "Requirement already satisfied: Cython==0.29.28 in c:\\users\\lisannal\\anaconda3\\lib\\site-packages (from gensim>=3.4.0->stellargraph) (0.29.28)\n",
      "Requirement already satisfied: smart-open>=1.8.1 in c:\\users\\lisannal\\anaconda3\\lib\\site-packages (from gensim>=3.4.0->stellargraph) (6.0.0)\n",
      "Requirement already satisfied: kiwisolver>=1.0.1 in c:\\users\\lisannal\\anaconda3\\lib\\site-packages (from matplotlib>=2.2->stellargraph) (1.3.1)\n",
      "Requirement already satisfied: python-dateutil>=2.1 in c:\\users\\lisannal\\anaconda3\\lib\\site-packages (from matplotlib>=2.2->stellargraph) (2.8.1)\n",
      "Requirement already satisfied: pyparsing!=2.0.4,!=2.1.2,!=2.1.6,>=2.0.3 in c:\\users\\lisannal\\anaconda3\\lib\\site-packages (from matplotlib>=2.2->stellargraph) (2.4.7)\n",
      "Requirement already satisfied: pillow>=6.2.0 in c:\\users\\lisannal\\anaconda3\\lib\\site-packages (from matplotlib>=2.2->stellargraph) (8.2.0)\n",
      "Requirement already satisfied: cycler>=0.10 in c:\\users\\lisannal\\anaconda3\\lib\\site-packages (from matplotlib>=2.2->stellargraph) (0.10.0)\n",
      "Requirement already satisfied: six in c:\\users\\lisannal\\anaconda3\\lib\\site-packages (from cycler>=0.10->matplotlib>=2.2->stellargraph) (1.15.0)\n",
      "Requirement already satisfied: decorator>=4.3.0 in c:\\users\\lisannal\\anaconda3\\lib\\site-packages (from networkx>=2.2->stellargraph) (5.0.6)\n",
      "Requirement already satisfied: pytz>=2017.3 in c:\\users\\lisannal\\anaconda3\\lib\\site-packages (from pandas>=0.24->stellargraph) (2021.1)\n",
      "Requirement already satisfied: joblib>=0.11 in c:\\users\\lisannal\\anaconda3\\lib\\site-packages (from scikit-learn>=0.20->stellargraph) (1.0.1)\n",
      "Requirement already satisfied: threadpoolctl>=2.0.0 in c:\\users\\lisannal\\anaconda3\\lib\\site-packages (from scikit-learn>=0.20->stellargraph) (2.1.0)\n",
      "Requirement already satisfied: tf-estimator-nightly==2.8.0.dev2021122109 in c:\\users\\lisannal\\anaconda3\\lib\\site-packages (from tensorflow>=2.1.0->stellargraph) (2.8.0.dev2021122109)\n",
      "Requirement already satisfied: setuptools in c:\\users\\lisannal\\anaconda3\\lib\\site-packages (from tensorflow>=2.1.0->stellargraph) (52.0.0.post20210125)\n",
      "Requirement already satisfied: google-pasta>=0.1.1 in c:\\users\\lisannal\\anaconda3\\lib\\site-packages (from tensorflow>=2.1.0->stellargraph) (0.2.0)\n",
      "Requirement already satisfied: flatbuffers>=1.12 in c:\\users\\lisannal\\anaconda3\\lib\\site-packages (from tensorflow>=2.1.0->stellargraph) (2.0)\n",
      "Requirement already satisfied: grpcio<2.0,>=1.24.3 in c:\\users\\lisannal\\anaconda3\\lib\\site-packages (from tensorflow>=2.1.0->stellargraph) (1.46.0)\n",
      "Requirement already satisfied: termcolor>=1.1.0 in c:\\users\\lisannal\\anaconda3\\lib\\site-packages (from tensorflow>=2.1.0->stellargraph) (1.1.0)\n",
      "Requirement already satisfied: tensorboard<2.9,>=2.8 in c:\\users\\lisannal\\anaconda3\\lib\\site-packages (from tensorflow>=2.1.0->stellargraph) (2.8.0)\n",
      "Requirement already satisfied: h5py>=2.9.0 in c:\\users\\lisannal\\anaconda3\\lib\\site-packages (from tensorflow>=2.1.0->stellargraph) (2.10.0)\n",
      "Requirement already satisfied: protobuf>=3.9.2 in c:\\users\\lisannal\\anaconda3\\lib\\site-packages (from tensorflow>=2.1.0->stellargraph) (3.20.1)\n",
      "Requirement already satisfied: opt-einsum>=2.3.2 in c:\\users\\lisannal\\anaconda3\\lib\\site-packages (from tensorflow>=2.1.0->stellargraph) (3.3.0)\n",
      "Requirement already satisfied: typing-extensions>=3.6.6 in c:\\users\\lisannal\\anaconda3\\lib\\site-packages (from tensorflow>=2.1.0->stellargraph) (3.7.4.3)\n",
      "Requirement already satisfied: wrapt>=1.11.0 in c:\\users\\lisannal\\anaconda3\\lib\\site-packages (from tensorflow>=2.1.0->stellargraph) (1.12.1)\n",
      "Requirement already satisfied: gast>=0.2.1 in c:\\users\\lisannal\\anaconda3\\lib\\site-packages (from tensorflow>=2.1.0->stellargraph) (0.5.3)\n",
      "Requirement already satisfied: libclang>=9.0.1 in c:\\users\\lisannal\\anaconda3\\lib\\site-packages (from tensorflow>=2.1.0->stellargraph) (14.0.1)\n",
      "Requirement already satisfied: keras<2.9,>=2.8.0rc0 in c:\\users\\lisannal\\anaconda3\\lib\\site-packages (from tensorflow>=2.1.0->stellargraph) (2.8.0)\n",
      "Requirement already satisfied: absl-py>=0.4.0 in c:\\users\\lisannal\\anaconda3\\lib\\site-packages (from tensorflow>=2.1.0->stellargraph) (1.0.0)\n",
      "Requirement already satisfied: keras-preprocessing>=1.1.1 in c:\\users\\lisannal\\anaconda3\\lib\\site-packages (from tensorflow>=2.1.0->stellargraph) (1.1.2)\n",
      "Requirement already satisfied: astunparse>=1.6.0 in c:\\users\\lisannal\\anaconda3\\lib\\site-packages (from tensorflow>=2.1.0->stellargraph) (1.6.3)\n",
      "Requirement already satisfied: tensorflow-io-gcs-filesystem>=0.23.1 in c:\\users\\lisannal\\anaconda3\\lib\\site-packages (from tensorflow>=2.1.0->stellargraph) (0.25.0)\n",
      "Requirement already satisfied: wheel<1.0,>=0.23.0 in c:\\users\\lisannal\\anaconda3\\lib\\site-packages (from astunparse>=1.6.0->tensorflow>=2.1.0->stellargraph) (0.36.2)\n",
      "Requirement already satisfied: google-auth-oauthlib<0.5,>=0.4.1 in c:\\users\\lisannal\\anaconda3\\lib\\site-packages (from tensorboard<2.9,>=2.8->tensorflow>=2.1.0->stellargraph) (0.4.6)\n",
      "Requirement already satisfied: requests<3,>=2.21.0 in c:\\users\\lisannal\\anaconda3\\lib\\site-packages (from tensorboard<2.9,>=2.8->tensorflow>=2.1.0->stellargraph) (2.25.1)\n",
      "Requirement already satisfied: markdown>=2.6.8 in c:\\users\\lisannal\\anaconda3\\lib\\site-packages (from tensorboard<2.9,>=2.8->tensorflow>=2.1.0->stellargraph) (3.3.6)\n",
      "Requirement already satisfied: tensorboard-plugin-wit>=1.6.0 in c:\\users\\lisannal\\anaconda3\\lib\\site-packages (from tensorboard<2.9,>=2.8->tensorflow>=2.1.0->stellargraph) (1.8.1)\n",
      "Requirement already satisfied: werkzeug>=0.11.15 in c:\\users\\lisannal\\anaconda3\\lib\\site-packages (from tensorboard<2.9,>=2.8->tensorflow>=2.1.0->stellargraph) (1.0.1)\n",
      "Requirement already satisfied: google-auth<3,>=1.6.3 in c:\\users\\lisannal\\anaconda3\\lib\\site-packages (from tensorboard<2.9,>=2.8->tensorflow>=2.1.0->stellargraph) (2.6.6)\n",
      "Requirement already satisfied: tensorboard-data-server<0.7.0,>=0.6.0 in c:\\users\\lisannal\\anaconda3\\lib\\site-packages (from tensorboard<2.9,>=2.8->tensorflow>=2.1.0->stellargraph) (0.6.1)\n",
      "Requirement already satisfied: rsa<5,>=3.1.4 in c:\\users\\lisannal\\anaconda3\\lib\\site-packages (from google-auth<3,>=1.6.3->tensorboard<2.9,>=2.8->tensorflow>=2.1.0->stellargraph) (4.8)\n",
      "Requirement already satisfied: pyasn1-modules>=0.2.1 in c:\\users\\lisannal\\anaconda3\\lib\\site-packages (from google-auth<3,>=1.6.3->tensorboard<2.9,>=2.8->tensorflow>=2.1.0->stellargraph) (0.2.8)\n",
      "Requirement already satisfied: cachetools<6.0,>=2.0.0 in c:\\users\\lisannal\\anaconda3\\lib\\site-packages (from google-auth<3,>=1.6.3->tensorboard<2.9,>=2.8->tensorflow>=2.1.0->stellargraph) (5.0.0)\n",
      "Requirement already satisfied: requests-oauthlib>=0.7.0 in c:\\users\\lisannal\\anaconda3\\lib\\site-packages (from google-auth-oauthlib<0.5,>=0.4.1->tensorboard<2.9,>=2.8->tensorflow>=2.1.0->stellargraph) (1.3.1)\n",
      "Requirement already satisfied: importlib-metadata>=4.4 in c:\\users\\lisannal\\anaconda3\\lib\\site-packages (from markdown>=2.6.8->tensorboard<2.9,>=2.8->tensorflow>=2.1.0->stellargraph) (4.11.3)\n",
      "Requirement already satisfied: zipp>=0.5 in c:\\users\\lisannal\\anaconda3\\lib\\site-packages (from importlib-metadata>=4.4->markdown>=2.6.8->tensorboard<2.9,>=2.8->tensorflow>=2.1.0->stellargraph) (3.4.1)\n",
      "Requirement already satisfied: pyasn1<0.5.0,>=0.4.6 in c:\\users\\lisannal\\anaconda3\\lib\\site-packages (from pyasn1-modules>=0.2.1->google-auth<3,>=1.6.3->tensorboard<2.9,>=2.8->tensorflow>=2.1.0->stellargraph) (0.4.8)\n",
      "Requirement already satisfied: urllib3<1.27,>=1.21.1 in c:\\users\\lisannal\\anaconda3\\lib\\site-packages (from requests<3,>=2.21.0->tensorboard<2.9,>=2.8->tensorflow>=2.1.0->stellargraph) (1.26.4)\n",
      "Requirement already satisfied: chardet<5,>=3.0.2 in c:\\users\\lisannal\\anaconda3\\lib\\site-packages (from requests<3,>=2.21.0->tensorboard<2.9,>=2.8->tensorflow>=2.1.0->stellargraph) (4.0.0)\n",
      "Requirement already satisfied: certifi>=2017.4.17 in c:\\users\\lisannal\\anaconda3\\lib\\site-packages (from requests<3,>=2.21.0->tensorboard<2.9,>=2.8->tensorflow>=2.1.0->stellargraph) (2020.12.5)\n",
      "Requirement already satisfied: idna<3,>=2.5 in c:\\users\\lisannal\\anaconda3\\lib\\site-packages (from requests<3,>=2.21.0->tensorboard<2.9,>=2.8->tensorflow>=2.1.0->stellargraph) (2.10)\n",
      "Requirement already satisfied: oauthlib>=3.0.0 in c:\\users\\lisannal\\anaconda3\\lib\\site-packages (from requests-oauthlib>=0.7.0->google-auth-oauthlib<0.5,>=0.4.1->tensorboard<2.9,>=2.8->tensorflow>=2.1.0->stellargraph) (3.2.0)\n"
     ]
    }
   ],
   "source": [
    "!pip install stellargraph\n",
    "import itertools\n",
    "import os\n",
    "\n",
    "from sklearn.manifold import TSNE\n",
    "\n",
    "import stellargraph as sg\n",
    "from stellargraph import StellarGraph\n",
    "from stellargraph import globalvar\n",
    "from stellargraph.mapper import GraphSAGENodeGenerator\n",
    "from stellargraph.layer import GraphSAGE\n",
    "\n",
    "from tensorflow.keras import layers, optimizers, losses, metrics, Model\n",
    "from sklearn import preprocessing, feature_extraction, model_selection\n",
    "from IPython.display import display, HTML\n",
    "import matplotlib.pyplot as plt\n",
    "\n",
    "%matplotlib inline"
   ]
  },
  {
   "cell_type": "code",
   "execution_count": 223,
   "metadata": {
    "colab": {
     "base_uri": "https://localhost:8080/"
    },
    "id": "H_tPMCJhKFCJ",
    "outputId": "25747d93-d597-4400-e871-43facad60d0c"
   },
   "outputs": [
    {
     "name": "stdout",
     "output_type": "stream",
     "text": [
      "Version: 1.2.1\n"
     ]
    }
   ],
   "source": [
    "print(\"Version:\", sg.version.__version__)"
   ]
  },
  {
   "cell_type": "markdown",
   "metadata": {
    "id": "15qb5pFgKFCJ"
   },
   "source": [
    "### 1. Data preparation"
   ]
  },
  {
   "cell_type": "code",
   "execution_count": 224,
   "metadata": {
    "colab": {
     "base_uri": "https://localhost:8080/",
     "height": 206
    },
    "id": "4yZE0UIQKFCJ",
    "outputId": "c1179dfc-0600-473d-b662-fc1bc76c55e5"
   },
   "outputs": [
    {
     "data": {
      "text/html": [
       "<div>\n",
       "<style scoped>\n",
       "    .dataframe tbody tr th:only-of-type {\n",
       "        vertical-align: middle;\n",
       "    }\n",
       "\n",
       "    .dataframe tbody tr th {\n",
       "        vertical-align: top;\n",
       "    }\n",
       "\n",
       "    .dataframe thead th {\n",
       "        text-align: right;\n",
       "    }\n",
       "</style>\n",
       "<table border=\"1\" class=\"dataframe\">\n",
       "  <thead>\n",
       "    <tr style=\"text-align: right;\">\n",
       "      <th></th>\n",
       "      <th>from</th>\n",
       "      <th>to</th>\n",
       "    </tr>\n",
       "  </thead>\n",
       "  <tbody>\n",
       "    <tr>\n",
       "      <th>0</th>\n",
       "      <td>0</td>\n",
       "      <td>9206</td>\n",
       "    </tr>\n",
       "    <tr>\n",
       "      <th>1</th>\n",
       "      <td>0</td>\n",
       "      <td>7787</td>\n",
       "    </tr>\n",
       "    <tr>\n",
       "      <th>2</th>\n",
       "      <td>0</td>\n",
       "      <td>2145</td>\n",
       "    </tr>\n",
       "    <tr>\n",
       "      <th>3</th>\n",
       "      <td>0</td>\n",
       "      <td>2684</td>\n",
       "    </tr>\n",
       "    <tr>\n",
       "      <th>4</th>\n",
       "      <td>0</td>\n",
       "      <td>7275</td>\n",
       "    </tr>\n",
       "  </tbody>\n",
       "</table>\n",
       "</div>"
      ],
      "text/plain": [
       "   from    to\n",
       "0     0  9206\n",
       "1     0  7787\n",
       "2     0  2145\n",
       "3     0  2684\n",
       "4     0  7275"
      ]
     },
     "execution_count": 224,
     "metadata": {},
     "output_type": "execute_result"
    }
   ],
   "source": [
    "edges.head()"
   ]
  },
  {
   "cell_type": "code",
   "execution_count": 225,
   "metadata": {
    "colab": {
     "base_uri": "https://localhost:8080/",
     "height": 206
    },
    "id": "EjX5aXpEKFCK",
    "outputId": "09d2e22c-fb35-40ea-a209-1e29e387339f"
   },
   "outputs": [
    {
     "data": {
      "text/html": [
       "<div>\n",
       "<style scoped>\n",
       "    .dataframe tbody tr th:only-of-type {\n",
       "        vertical-align: middle;\n",
       "    }\n",
       "\n",
       "    .dataframe tbody tr th {\n",
       "        vertical-align: top;\n",
       "    }\n",
       "\n",
       "    .dataframe thead th {\n",
       "        text-align: right;\n",
       "    }\n",
       "</style>\n",
       "<table border=\"1\" class=\"dataframe\">\n",
       "  <thead>\n",
       "    <tr style=\"text-align: right;\">\n",
       "      <th></th>\n",
       "      <th>days</th>\n",
       "      <th>mature</th>\n",
       "      <th>views</th>\n",
       "      <th>partner</th>\n",
       "      <th>id</th>\n",
       "    </tr>\n",
       "  </thead>\n",
       "  <tbody>\n",
       "    <tr>\n",
       "      <th>0</th>\n",
       "      <td>2149</td>\n",
       "      <td>1</td>\n",
       "      <td>162078</td>\n",
       "      <td>0</td>\n",
       "      <td>5079</td>\n",
       "    </tr>\n",
       "    <tr>\n",
       "      <th>1</th>\n",
       "      <td>1574</td>\n",
       "      <td>1</td>\n",
       "      <td>1370</td>\n",
       "      <td>0</td>\n",
       "      <td>4281</td>\n",
       "    </tr>\n",
       "    <tr>\n",
       "      <th>2</th>\n",
       "      <td>1034</td>\n",
       "      <td>1</td>\n",
       "      <td>6043</td>\n",
       "      <td>0</td>\n",
       "      <td>992</td>\n",
       "    </tr>\n",
       "    <tr>\n",
       "      <th>3</th>\n",
       "      <td>1319</td>\n",
       "      <td>1</td>\n",
       "      <td>94298</td>\n",
       "      <td>1</td>\n",
       "      <td>9021</td>\n",
       "    </tr>\n",
       "    <tr>\n",
       "      <th>4</th>\n",
       "      <td>2137</td>\n",
       "      <td>1</td>\n",
       "      <td>2323</td>\n",
       "      <td>0</td>\n",
       "      <td>330</td>\n",
       "    </tr>\n",
       "  </tbody>\n",
       "</table>\n",
       "</div>"
      ],
      "text/plain": [
       "   days  mature   views  partner    id\n",
       "0  2149       1  162078        0  5079\n",
       "1  1574       1    1370        0  4281\n",
       "2  1034       1    6043        0   992\n",
       "3  1319       1   94298        1  9021\n",
       "4  2137       1    2323        0   330"
      ]
     },
     "execution_count": 225,
     "metadata": {},
     "output_type": "execute_result"
    }
   ],
   "source": [
    "nodes.head()"
   ]
  },
  {
   "cell_type": "code",
   "execution_count": 226,
   "metadata": {
    "colab": {
     "base_uri": "https://localhost:8080/",
     "height": 206
    },
    "id": "RMAZtQcZKFCK",
    "outputId": "9df99570-0214-497e-f165-387e4f94e28e"
   },
   "outputs": [
    {
     "data": {
      "text/html": [
       "<div>\n",
       "<style scoped>\n",
       "    .dataframe tbody tr th:only-of-type {\n",
       "        vertical-align: middle;\n",
       "    }\n",
       "\n",
       "    .dataframe tbody tr th {\n",
       "        vertical-align: top;\n",
       "    }\n",
       "\n",
       "    .dataframe thead th {\n",
       "        text-align: right;\n",
       "    }\n",
       "</style>\n",
       "<table border=\"1\" class=\"dataframe\">\n",
       "  <thead>\n",
       "    <tr style=\"text-align: right;\">\n",
       "      <th></th>\n",
       "      <th>source</th>\n",
       "      <th>target</th>\n",
       "    </tr>\n",
       "  </thead>\n",
       "  <tbody>\n",
       "    <tr>\n",
       "      <th>0</th>\n",
       "      <td>0</td>\n",
       "      <td>9206</td>\n",
       "    </tr>\n",
       "    <tr>\n",
       "      <th>1</th>\n",
       "      <td>0</td>\n",
       "      <td>7787</td>\n",
       "    </tr>\n",
       "    <tr>\n",
       "      <th>2</th>\n",
       "      <td>0</td>\n",
       "      <td>2145</td>\n",
       "    </tr>\n",
       "    <tr>\n",
       "      <th>3</th>\n",
       "      <td>0</td>\n",
       "      <td>2684</td>\n",
       "    </tr>\n",
       "    <tr>\n",
       "      <th>4</th>\n",
       "      <td>0</td>\n",
       "      <td>7275</td>\n",
       "    </tr>\n",
       "  </tbody>\n",
       "</table>\n",
       "</div>"
      ],
      "text/plain": [
       "   source  target\n",
       "0       0    9206\n",
       "1       0    7787\n",
       "2       0    2145\n",
       "3       0    2684\n",
       "4       0    7275"
      ]
     },
     "execution_count": 226,
     "metadata": {},
     "output_type": "execute_result"
    }
   ],
   "source": [
    "# Renaming 'from' and 'to' columns\n",
    "edges.rename(columns = {'from':'source', 'to':'target'}, inplace = True)\n",
    "edges.head()"
   ]
  },
  {
   "cell_type": "code",
   "execution_count": 227,
   "metadata": {
    "colab": {
     "base_uri": "https://localhost:8080/",
     "height": 455
    },
    "id": "0oAb-pWpKFCK",
    "outputId": "cd1fddbf-93b0-4504-c478-a9856c163554"
   },
   "outputs": [
    {
     "data": {
      "text/html": [
       "<div>\n",
       "<style scoped>\n",
       "    .dataframe tbody tr th:only-of-type {\n",
       "        vertical-align: middle;\n",
       "    }\n",
       "\n",
       "    .dataframe tbody tr th {\n",
       "        vertical-align: top;\n",
       "    }\n",
       "\n",
       "    .dataframe thead th {\n",
       "        text-align: right;\n",
       "    }\n",
       "</style>\n",
       "<table border=\"1\" class=\"dataframe\">\n",
       "  <thead>\n",
       "    <tr style=\"text-align: right;\">\n",
       "      <th></th>\n",
       "      <th>days</th>\n",
       "      <th>mature</th>\n",
       "      <th>views</th>\n",
       "      <th>partner</th>\n",
       "    </tr>\n",
       "    <tr>\n",
       "      <th>id</th>\n",
       "      <th></th>\n",
       "      <th></th>\n",
       "      <th></th>\n",
       "      <th></th>\n",
       "    </tr>\n",
       "  </thead>\n",
       "  <tbody>\n",
       "    <tr>\n",
       "      <th>5079</th>\n",
       "      <td>2149</td>\n",
       "      <td>1</td>\n",
       "      <td>162078</td>\n",
       "      <td>0</td>\n",
       "    </tr>\n",
       "    <tr>\n",
       "      <th>4281</th>\n",
       "      <td>1574</td>\n",
       "      <td>1</td>\n",
       "      <td>1370</td>\n",
       "      <td>0</td>\n",
       "    </tr>\n",
       "    <tr>\n",
       "      <th>992</th>\n",
       "      <td>1034</td>\n",
       "      <td>1</td>\n",
       "      <td>6043</td>\n",
       "      <td>0</td>\n",
       "    </tr>\n",
       "    <tr>\n",
       "      <th>9021</th>\n",
       "      <td>1319</td>\n",
       "      <td>1</td>\n",
       "      <td>94298</td>\n",
       "      <td>1</td>\n",
       "    </tr>\n",
       "    <tr>\n",
       "      <th>330</th>\n",
       "      <td>2137</td>\n",
       "      <td>1</td>\n",
       "      <td>2323</td>\n",
       "      <td>0</td>\n",
       "    </tr>\n",
       "    <tr>\n",
       "      <th>...</th>\n",
       "      <td>...</td>\n",
       "      <td>...</td>\n",
       "      <td>...</td>\n",
       "      <td>...</td>\n",
       "    </tr>\n",
       "    <tr>\n",
       "      <th>4572</th>\n",
       "      <td>895</td>\n",
       "      <td>1</td>\n",
       "      <td>128</td>\n",
       "      <td>0</td>\n",
       "    </tr>\n",
       "    <tr>\n",
       "      <th>6355</th>\n",
       "      <td>2001</td>\n",
       "      <td>0</td>\n",
       "      <td>44</td>\n",
       "      <td>0</td>\n",
       "    </tr>\n",
       "    <tr>\n",
       "      <th>206</th>\n",
       "      <td>1784</td>\n",
       "      <td>1</td>\n",
       "      <td>2038</td>\n",
       "      <td>0</td>\n",
       "    </tr>\n",
       "    <tr>\n",
       "      <th>7695</th>\n",
       "      <td>2114</td>\n",
       "      <td>0</td>\n",
       "      <td>449</td>\n",
       "      <td>0</td>\n",
       "    </tr>\n",
       "    <tr>\n",
       "      <th>4451</th>\n",
       "      <td>1680</td>\n",
       "      <td>0</td>\n",
       "      <td>10638954</td>\n",
       "      <td>1</td>\n",
       "    </tr>\n",
       "  </tbody>\n",
       "</table>\n",
       "<p>9498 rows × 4 columns</p>\n",
       "</div>"
      ],
      "text/plain": [
       "      days  mature     views  partner\n",
       "id                                   \n",
       "5079  2149       1    162078        0\n",
       "4281  1574       1      1370        0\n",
       "992   1034       1      6043        0\n",
       "9021  1319       1     94298        1\n",
       "330   2137       1      2323        0\n",
       "...    ...     ...       ...      ...\n",
       "4572   895       1       128        0\n",
       "6355  2001       0        44        0\n",
       "206   1784       1      2038        0\n",
       "7695  2114       0       449        0\n",
       "4451  1680       0  10638954        1\n",
       "\n",
       "[9498 rows x 4 columns]"
      ]
     },
     "execution_count": 227,
     "metadata": {},
     "output_type": "execute_result"
    }
   ],
   "source": [
    "# Replacing the current index by moving the 'id' column to it\n",
    "nodes2 = nodes.set_index('id')\n",
    "nodes2"
   ]
  },
  {
   "cell_type": "code",
   "execution_count": 228,
   "metadata": {
    "colab": {
     "base_uri": "https://localhost:8080/",
     "height": 455
    },
    "id": "kAzrWjM7KFCK",
    "outputId": "115730e0-035b-470b-a42d-2629ddb65997"
   },
   "outputs": [
    {
     "data": {
      "text/html": [
       "<div>\n",
       "<style scoped>\n",
       "    .dataframe tbody tr th:only-of-type {\n",
       "        vertical-align: middle;\n",
       "    }\n",
       "\n",
       "    .dataframe tbody tr th {\n",
       "        vertical-align: top;\n",
       "    }\n",
       "\n",
       "    .dataframe thead th {\n",
       "        text-align: right;\n",
       "    }\n",
       "</style>\n",
       "<table border=\"1\" class=\"dataframe\">\n",
       "  <thead>\n",
       "    <tr style=\"text-align: right;\">\n",
       "      <th></th>\n",
       "      <th>days</th>\n",
       "      <th>mature</th>\n",
       "      <th>views</th>\n",
       "    </tr>\n",
       "    <tr>\n",
       "      <th>id</th>\n",
       "      <th></th>\n",
       "      <th></th>\n",
       "      <th></th>\n",
       "    </tr>\n",
       "  </thead>\n",
       "  <tbody>\n",
       "    <tr>\n",
       "      <th>5079</th>\n",
       "      <td>2149</td>\n",
       "      <td>1</td>\n",
       "      <td>162078</td>\n",
       "    </tr>\n",
       "    <tr>\n",
       "      <th>4281</th>\n",
       "      <td>1574</td>\n",
       "      <td>1</td>\n",
       "      <td>1370</td>\n",
       "    </tr>\n",
       "    <tr>\n",
       "      <th>992</th>\n",
       "      <td>1034</td>\n",
       "      <td>1</td>\n",
       "      <td>6043</td>\n",
       "    </tr>\n",
       "    <tr>\n",
       "      <th>9021</th>\n",
       "      <td>1319</td>\n",
       "      <td>1</td>\n",
       "      <td>94298</td>\n",
       "    </tr>\n",
       "    <tr>\n",
       "      <th>330</th>\n",
       "      <td>2137</td>\n",
       "      <td>1</td>\n",
       "      <td>2323</td>\n",
       "    </tr>\n",
       "    <tr>\n",
       "      <th>...</th>\n",
       "      <td>...</td>\n",
       "      <td>...</td>\n",
       "      <td>...</td>\n",
       "    </tr>\n",
       "    <tr>\n",
       "      <th>4572</th>\n",
       "      <td>895</td>\n",
       "      <td>1</td>\n",
       "      <td>128</td>\n",
       "    </tr>\n",
       "    <tr>\n",
       "      <th>6355</th>\n",
       "      <td>2001</td>\n",
       "      <td>0</td>\n",
       "      <td>44</td>\n",
       "    </tr>\n",
       "    <tr>\n",
       "      <th>206</th>\n",
       "      <td>1784</td>\n",
       "      <td>1</td>\n",
       "      <td>2038</td>\n",
       "    </tr>\n",
       "    <tr>\n",
       "      <th>7695</th>\n",
       "      <td>2114</td>\n",
       "      <td>0</td>\n",
       "      <td>449</td>\n",
       "    </tr>\n",
       "    <tr>\n",
       "      <th>4451</th>\n",
       "      <td>1680</td>\n",
       "      <td>0</td>\n",
       "      <td>10638954</td>\n",
       "    </tr>\n",
       "  </tbody>\n",
       "</table>\n",
       "<p>9498 rows × 3 columns</p>\n",
       "</div>"
      ],
      "text/plain": [
       "      days  mature     views\n",
       "id                          \n",
       "5079  2149       1    162078\n",
       "4281  1574       1      1370\n",
       "992   1034       1      6043\n",
       "9021  1319       1     94298\n",
       "330   2137       1      2323\n",
       "...    ...     ...       ...\n",
       "4572   895       1       128\n",
       "6355  2001       0        44\n",
       "206   1784       1      2038\n",
       "7695  2114       0       449\n",
       "4451  1680       0  10638954\n",
       "\n",
       "[9498 rows x 3 columns]"
      ]
     },
     "execution_count": 228,
     "metadata": {},
     "output_type": "execute_result"
    }
   ],
   "source": [
    "# Dropping the 'label' column\n",
    "nodes_no_partner = nodes2.drop(columns=\"partner\")\n",
    "nodes_no_partner"
   ]
  },
  {
   "cell_type": "markdown",
   "metadata": {
    "id": "ZlOiK15iKFCK"
   },
   "source": [
    "In order to use methods like GraphSAGE and GCN, which operate on a single graph, we must construct a single instance of the StellarGraph class.  \n",
    "See [here](https://stellargraph.readthedocs.io/en/latest/demos/basics/loading-pandas.html)."
   ]
  },
  {
   "cell_type": "code",
   "execution_count": 229,
   "metadata": {
    "colab": {
     "base_uri": "https://localhost:8080/"
    },
    "id": "8tK-3TQTKFCK",
    "outputId": "699b0b22-3a31-48e6-ce99-5b2388288288"
   },
   "outputs": [
    {
     "name": "stdout",
     "output_type": "stream",
     "text": [
      "StellarGraph: Undirected multigraph\n",
      " Nodes: 9498, Edges: 153138\n",
      "\n",
      " Node types:\n",
      "  default: [9498]\n",
      "    Features: float32 vector, length 3\n",
      "    Edge types: default-default->default\n",
      "\n",
      " Edge types:\n",
      "    default-default->default: [153138]\n",
      "        Weights: all 1 (default)\n",
      "        Features: none\n"
     ]
    }
   ],
   "source": [
    "twitch_graph = StellarGraph(nodes_no_partner, edges)\n",
    "print(twitch_graph.info())"
   ]
  },
  {
   "cell_type": "markdown",
   "metadata": {
    "id": "6b8PB_zPKFCL"
   },
   "source": [
    "We’ll  need to use the 'partner' labels as ground-truth labels. This can be extracted from the DataFrame and held separately, to be passed in as training, validation or test examples."
   ]
  },
  {
   "cell_type": "code",
   "execution_count": 230,
   "metadata": {
    "colab": {
     "base_uri": "https://localhost:8080/"
    },
    "id": "qSw4NR3kKFCL",
    "outputId": "cd51f5a2-52ce-4dff-add5-b88bb2d00bee"
   },
   "outputs": [
    {
     "data": {
      "text/plain": [
       "id\n",
       "5079    0\n",
       "4281    0\n",
       "992     0\n",
       "9021    1\n",
       "330     0\n",
       "       ..\n",
       "4572    0\n",
       "6355    0\n",
       "206     0\n",
       "7695    0\n",
       "4451    1\n",
       "Name: partner, Length: 9498, dtype: int32"
      ]
     },
     "execution_count": 230,
     "metadata": {},
     "output_type": "execute_result"
    }
   ],
   "source": [
    "twitch_partner = nodes2[\"partner\"]\n",
    "twitch_partner"
   ]
  },
  {
   "cell_type": "code",
   "execution_count": 231,
   "metadata": {
    "colab": {
     "base_uri": "https://localhost:8080/"
    },
    "id": "3lPvQAeaKFCL",
    "outputId": "c3076c94-60b8-450a-e835-a307ddb888f0"
   },
   "outputs": [
    {
     "data": {
      "text/plain": [
       "{0, 1}"
      ]
     },
     "execution_count": 231,
     "metadata": {},
     "output_type": "execute_result"
    }
   ],
   "source": [
    "set(twitch_partner)"
   ]
  },
  {
   "cell_type": "code",
   "execution_count": 232,
   "metadata": {
    "colab": {
     "base_uri": "https://localhost:8080/"
    },
    "id": "5K9JOqyFKFCL",
    "outputId": "9dc29367-9c9b-4b31-9422-b2c15f08992a"
   },
   "outputs": [
    {
     "data": {
      "text/plain": [
       "0    8901\n",
       "1     597\n",
       "Name: partner, dtype: int64"
      ]
     },
     "execution_count": 232,
     "metadata": {},
     "output_type": "execute_result"
    }
   ],
   "source": [
    "twitch_partner.value_counts()\n",
    "\n",
    "# Class imbalance could be a problem"
   ]
  },
  {
   "cell_type": "code",
   "execution_count": 233,
   "metadata": {
    "colab": {
     "base_uri": "https://localhost:8080/"
    },
    "id": "yWnvjhTLKFCL",
    "outputId": "0e739e7a-aae2-42e5-c5f6-14151fbbc671"
   },
   "outputs": [
    {
     "data": {
      "text/plain": [
       "9498"
      ]
     },
     "execution_count": 233,
     "metadata": {},
     "output_type": "execute_result"
    }
   ],
   "source": [
    "len(twitch_partner)"
   ]
  },
  {
   "cell_type": "markdown",
   "metadata": {
    "id": "QPv-m7IsKFCM"
   },
   "source": [
    "### 2. Splitting the data"
   ]
  },
  {
   "cell_type": "markdown",
   "metadata": {
    "id": "fCX5iiiFKFCM"
   },
   "source": [
    "Removing 20% of the nodes from the graph. Then, we are going to train a GraphSAGE model on the reduced graph with the remaining 80% of the nodes from the original graph. Later, we are going to re-introduce the removed nodes and try to predict their labels without re-training the GraphSAGE model."
   ]
  },
  {
   "cell_type": "code",
   "execution_count": 234,
   "metadata": {
    "colab": {
     "base_uri": "https://localhost:8080/"
    },
    "id": "zo6uCToNKFCM",
    "outputId": "53f83331-23a4-4891-9ec7-c9d63312d285"
   },
   "outputs": [
    {
     "name": "stdout",
     "output_type": "stream",
     "text": [
      "Length of sampled labels:  id\n",
      "5147    0\n",
      "4829    0\n",
      "2763    0\n",
      "8989    0\n",
      "1381    0\n",
      "       ..\n",
      "4756    0\n",
      "4725    0\n",
      "9321    0\n",
      "5662    0\n",
      "4618    0\n",
      "Name: partner, Length: 7598, dtype: int32\n"
     ]
    }
   ],
   "source": [
    "labels_sampled = twitch_partner.sample(frac=0.8, replace=False, random_state=101)\n",
    "labels_sampled\n",
    "print('Length of sampled labels: ', labels_sampled)"
   ]
  },
  {
   "cell_type": "code",
   "execution_count": 235,
   "metadata": {
    "colab": {
     "base_uri": "https://localhost:8080/"
    },
    "id": "1BOPjcXhKFCM",
    "outputId": "a7e06c08-0dc0-4e2b-c5c4-b652f70b7f1e"
   },
   "outputs": [
    {
     "name": "stdout",
     "output_type": "stream",
     "text": [
      "StellarGraph: Undirected multigraph\n",
      " Nodes: 7598, Edges: 98828\n",
      "\n",
      " Node types:\n",
      "  default: [7598]\n",
      "    Features: float32 vector, length 3\n",
      "    Edge types: default-default->default\n",
      "\n",
      " Edge types:\n",
      "    default-default->default: [98828]\n",
      "        Weights: all 1 (default)\n",
      "        Features: none\n"
     ]
    }
   ],
   "source": [
    "# Extracting the subgraph corresponding to the sampled nodes\n",
    "graph_sampled = twitch_graph.subgraph(labels_sampled.index)\n",
    "print(graph_sampled.info())"
   ]
  },
  {
   "cell_type": "markdown",
   "metadata": {
    "id": "6sEYjRvQKFCM"
   },
   "source": [
    "Using scikit-learn to subset the nodes for test and train."
   ]
  },
  {
   "cell_type": "code",
   "execution_count": 236,
   "metadata": {
    "id": "ygV86gpFKFCM"
   },
   "outputs": [],
   "source": [
    "train_labels, test_labels = model_selection.train_test_split(\n",
    "    labels_sampled,\n",
    "    train_size=0.05,\n",
    "    test_size=None,\n",
    "    stratify=labels_sampled,\n",
    "    random_state=42,\n",
    ")\n",
    "val_labels, test_labels = model_selection.train_test_split(\n",
    "    test_labels, train_size=0.2, test_size=None, stratify=test_labels, random_state=100,\n",
    ")"
   ]
  },
  {
   "cell_type": "code",
   "execution_count": 237,
   "metadata": {
    "colab": {
     "base_uri": "https://localhost:8080/"
    },
    "id": "P8ZnlIAtKFCN",
    "outputId": "988c7f02-f70f-4b66-8ac4-33e5a4064686"
   },
   "outputs": [
    {
     "data": {
      "text/plain": [
       "Counter({0: 5431, 1: 345})"
      ]
     },
     "execution_count": 237,
     "metadata": {},
     "output_type": "execute_result"
    }
   ],
   "source": [
    "from collections import Counter\n",
    "\n",
    "Counter(test_labels)"
   ]
  },
  {
   "cell_type": "code",
   "execution_count": 238,
   "metadata": {
    "id": "ISPwWYQxKFCN"
   },
   "outputs": [],
   "source": [
    "train_targets = train_labels\n",
    "val_targets = val_labels\n",
    "test_targets = test_labels"
   ]
  },
  {
   "cell_type": "code",
   "execution_count": 239,
   "metadata": {},
   "outputs": [
    {
     "data": {
      "text/plain": [
       "379"
      ]
     },
     "execution_count": 239,
     "metadata": {},
     "output_type": "execute_result"
    }
   ],
   "source": [
    "len(train_targets)"
   ]
  },
  {
   "cell_type": "markdown",
   "metadata": {
    "id": "ms3BO6aHKFCN"
   },
   "source": [
    "### 3. Creating the model in Keras"
   ]
  },
  {
   "cell_type": "code",
   "execution_count": 240,
   "metadata": {
    "id": "VhowvYQhKFCN"
   },
   "outputs": [],
   "source": [
    "batch_size = 50\n",
    "num_samples = [10, 10]"
   ]
  },
  {
   "cell_type": "code",
   "execution_count": 241,
   "metadata": {
    "id": "gXN1XijhKFCN"
   },
   "outputs": [],
   "source": [
    "# A GraphSAGENodeGenerator object \n",
    "generator = GraphSAGENodeGenerator(graph_sampled, batch_size, num_samples) # for node classification and related tasks"
   ]
  },
  {
   "cell_type": "markdown",
   "metadata": {
    "id": "8MhF4M6mKFCN"
   },
   "source": [
    "Using the generator.flow() method, we can create iterators over nodes that should be used to train, validate, or evaluate the model. For training we use only the training nodes returned from our splitter and the target values. The shuffle=True argument is given to the flow method to improve training."
   ]
  },
  {
   "cell_type": "code",
   "execution_count": 242,
   "metadata": {
    "id": "RQLkfceEKFCN"
   },
   "outputs": [],
   "source": [
    "train_gen = generator.flow(train_labels.index, train_targets, shuffle=True)"
   ]
  },
  {
   "cell_type": "markdown",
   "metadata": {
    "id": "OfDOm78-KFCO"
   },
   "source": [
    "Now we can start with our ML model. A few more parameters:\n",
    "\n",
    "1. The layer_sizes is a list of hidden feature sizes of each layer in the model. We use 32-dimensional hidden node features at each layer\n",
    "\n",
    "2. The bias and dropout are internal parameters of the model"
   ]
  },
  {
   "cell_type": "code",
   "execution_count": 243,
   "metadata": {
    "id": "p-4Gp-ZPKFCO"
   },
   "outputs": [],
   "source": [
    "graphsage_model = GraphSAGE(\n",
    "    layer_sizes=[32, 32], generator=generator, bias=True, dropout = 0.2 # without dropout performs better\n",
    ")"
   ]
  },
  {
   "cell_type": "code",
   "execution_count": 244,
   "metadata": {
    "id": "5gvMN5ZEKFCO"
   },
   "outputs": [],
   "source": [
    "# Creating a model to predict the 2 categories using Keras sigmoid layers\n",
    "x_inp, x_out = graphsage_model.in_out_tensors()\n",
    "prediction = layers.Dense(units=1, activation=\"sigmoid\")(x_out) \n",
    "\n",
    "# Sigmoid activation function is used for binary class classification\n"
   ]
  },
  {
   "cell_type": "code",
   "execution_count": 245,
   "metadata": {
    "id": "4w3qvquqKFCO"
   },
   "outputs": [
    {
     "data": {
      "text/plain": [
       "array([0, 1])"
      ]
     },
     "execution_count": 245,
     "metadata": {},
     "output_type": "execute_result"
    }
   ],
   "source": [
    "np.unique(train_targets)"
   ]
  },
  {
   "cell_type": "code",
   "execution_count": 246,
   "metadata": {
    "id": "4qFC_2lZKFCO"
   },
   "outputs": [
    {
     "data": {
      "text/plain": [
       "379"
      ]
     },
     "execution_count": 246,
     "metadata": {},
     "output_type": "execute_result"
    }
   ],
   "source": [
    "train_targets.shape[0] "
   ]
  },
  {
   "cell_type": "code",
   "execution_count": 247,
   "metadata": {
    "id": "e9nyIOXhKFCO"
   },
   "outputs": [
    {
     "data": {
      "text/plain": [
       "TensorShape([None, 1])"
      ]
     },
     "execution_count": 247,
     "metadata": {},
     "output_type": "execute_result"
    }
   ],
   "source": [
    "prediction.shape"
   ]
  },
  {
   "cell_type": "markdown",
   "metadata": {
    "id": "cWP6cjvIKFCO"
   },
   "source": [
    "### 4. Training and evaluating"
   ]
  },
  {
   "cell_type": "markdown",
   "metadata": {
    "id": "Y1zdvUTNKFCO"
   },
   "source": [
    "Creating the Keras model with the graph inputs x_inp provided by the graph_model and outputs being the predictions from the sigmoid layer"
   ]
  },
  {
   "cell_type": "code",
   "execution_count": 248,
   "metadata": {},
   "outputs": [],
   "source": [
    "#getting f1 score\n",
    "\n",
    "from keras import backend as K\n",
    "\n",
    "def recall_m(y_true, y_pred):\n",
    "    true_positives = K.sum(K.round(K.clip(y_true * y_pred, 0, 1)))\n",
    "    possible_positives = K.sum(K.round(K.clip(y_true, 0, 1)))\n",
    "    recall = true_positives / (possible_positives + K.epsilon())\n",
    "    return recall\n",
    "\n",
    "def precision_m(y_true, y_pred):\n",
    "    true_positives = K.sum(K.round(K.clip(y_true * y_pred, 0, 1)))\n",
    "    predicted_positives = K.sum(K.round(K.clip(y_pred, 0, 1)))\n",
    "    precision = true_positives / (predicted_positives + K.epsilon())\n",
    "    return precision\n",
    "\n",
    "def f1_m(y_true, y_pred):\n",
    "    precision = precision_m(y_true, y_pred)\n",
    "    recall = recall_m(y_true, y_pred)\n",
    "    return 2*((precision*recall)/(precision+recall+K.epsilon()))"
   ]
  },
  {
   "cell_type": "code",
   "execution_count": 249,
   "metadata": {
    "id": "gA3hhFtqKFCP"
   },
   "outputs": [
    {
     "name": "stderr",
     "output_type": "stream",
     "text": [
      "C:\\Users\\lisannal\\Anaconda3\\lib\\site-packages\\keras\\optimizer_v2\\adam.py:105: UserWarning: The `lr` argument is deprecated, use `learning_rate` instead.\n",
      "  super(Adam, self).__init__(name, **kwargs)\n"
     ]
    }
   ],
   "source": [
    "model = Model(inputs=x_inp, outputs=prediction)\n",
    "\n",
    "model.compile(\n",
    "    optimizer = optimizers.Adam(lr=0.005), \n",
    "    loss = losses.binary_crossentropy,\n",
    "    metrics = ['acc',f1_m,precision_m, recall_m]\n",
    ")\n",
    "\n",
    "# For binary classification problems --> binary_crossentropy is usually the choice for loss function\n",
    "# mean_squared_error may also be used"
   ]
  },
  {
   "cell_type": "code",
   "execution_count": 250,
   "metadata": {
    "id": "6M0XCuWEKFCP"
   },
   "outputs": [
    {
     "name": "stdout",
     "output_type": "stream",
     "text": [
      "Model: \"model_13\"\n",
      "__________________________________________________________________________________________________\n",
      " Layer (type)                   Output Shape         Param #     Connected to                     \n",
      "==================================================================================================\n",
      " input_35 (InputLayer)          [(None, 10, 3)]      0           []                               \n",
      "                                                                                                  \n",
      " input_36 (InputLayer)          [(None, 100, 3)]     0           []                               \n",
      "                                                                                                  \n",
      " input_34 (InputLayer)          [(None, 1, 3)]       0           []                               \n",
      "                                                                                                  \n",
      " reshape_44 (Reshape)           (None, 1, 10, 3)     0           ['input_35[0][0]']               \n",
      "                                                                                                  \n",
      " reshape_45 (Reshape)           (None, 10, 10, 3)    0           ['input_36[0][0]']               \n",
      "                                                                                                  \n",
      " dropout_67 (Dropout)           (None, 1, 3)         0           ['input_34[0][0]']               \n",
      "                                                                                                  \n",
      " dropout_66 (Dropout)           (None, 1, 10, 3)     0           ['reshape_44[0][0]']             \n",
      "                                                                                                  \n",
      " dropout_69 (Dropout)           (None, 10, 3)        0           ['input_35[0][0]']               \n",
      "                                                                                                  \n",
      " dropout_68 (Dropout)           (None, 10, 10, 3)    0           ['reshape_45[0][0]']             \n",
      "                                                                                                  \n",
      " mean_aggregator_24 (MeanAggreg  multiple            128         ['dropout_67[0][0]',             \n",
      " ator)                                                            'dropout_66[0][0]',             \n",
      "                                                                  'dropout_69[0][0]',             \n",
      "                                                                  'dropout_68[0][0]']             \n",
      "                                                                                                  \n",
      " reshape_46 (Reshape)           (None, 1, 10, 32)    0           ['mean_aggregator_24[1][0]']     \n",
      "                                                                                                  \n",
      " dropout_71 (Dropout)           (None, 1, 32)        0           ['mean_aggregator_24[0][0]']     \n",
      "                                                                                                  \n",
      " dropout_70 (Dropout)           (None, 1, 10, 32)    0           ['reshape_46[0][0]']             \n",
      "                                                                                                  \n",
      " mean_aggregator_25 (MeanAggreg  (None, 1, 32)       1056        ['dropout_71[0][0]',             \n",
      " ator)                                                            'dropout_70[0][0]']             \n",
      "                                                                                                  \n",
      " reshape_47 (Reshape)           (None, 32)           0           ['mean_aggregator_25[0][0]']     \n",
      "                                                                                                  \n",
      " lambda_12 (Lambda)             (None, 32)           0           ['reshape_47[0][0]']             \n",
      "                                                                                                  \n",
      " dense_11 (Dense)               (None, 1)            33          ['lambda_12[0][0]']              \n",
      "                                                                                                  \n",
      "==================================================================================================\n",
      "Total params: 1,217\n",
      "Trainable params: 1,217\n",
      "Non-trainable params: 0\n",
      "__________________________________________________________________________________________________\n"
     ]
    }
   ],
   "source": [
    "model.summary()"
   ]
  },
  {
   "cell_type": "markdown",
   "metadata": {
    "id": "vuCpgq8yKFCP"
   },
   "source": [
    "Now, training the model and keeping track of its loss and accuracy on the training set, and its generalisation performanse on the validation set."
   ]
  },
  {
   "cell_type": "code",
   "execution_count": 251,
   "metadata": {
    "id": "XcpSkYWYKFCP"
   },
   "outputs": [],
   "source": [
    "# Validation data generator\n",
    "val_gen = generator.flow(val_labels.index, val_targets)"
   ]
  },
  {
   "cell_type": "code",
   "execution_count": 252,
   "metadata": {
    "id": "CeEmVYLbKFCP"
   },
   "outputs": [],
   "source": [
    "# Dealing with class imbalance\n",
    "from sklearn.utils import class_weight\n",
    "\n",
    "weights = class_weight.compute_class_weight('balanced',\n",
    "                                            classes=np.unique(val_targets),\n",
    "                                            y=val_targets)\n",
    "weights = {i:w for i,w in enumerate(weights)}"
   ]
  },
  {
   "cell_type": "code",
   "execution_count": 253,
   "metadata": {
    "id": "N5GA-3HkKFCP"
   },
   "outputs": [
    {
     "data": {
      "text/plain": [
       "{0: 0.5316875460574797, 1: 8.38953488372093}"
      ]
     },
     "execution_count": 253,
     "metadata": {},
     "output_type": "execute_result"
    }
   ],
   "source": [
    "weights"
   ]
  },
  {
   "cell_type": "code",
   "execution_count": 254,
   "metadata": {
    "id": "6D6mz3t0KFCP"
   },
   "outputs": [
    {
     "name": "stdout",
     "output_type": "stream",
     "text": [
      "Epoch 1/60\n",
      "8/8 [==============================] - 3s 185ms/step - loss: 0.6709 - acc: 0.7361 - f1_m: 0.1337 - precision_m: 0.0902 - recall_m: 0.4107 - val_loss: 0.5733 - val_acc: 0.7581 - val_f1_m: 0.2575 - val_precision_m: 0.1654 - val_recall_m: 0.7293\n",
      "Epoch 2/60\n",
      "8/8 [==============================] - 1s 130ms/step - loss: 0.6080 - acc: 0.6992 - f1_m: 0.2042 - precision_m: 0.1279 - recall_m: 0.5437 - val_loss: 0.5269 - val_acc: 0.7547 - val_f1_m: 0.2474 - val_precision_m: 0.1597 - val_recall_m: 0.6922\n",
      "Epoch 3/60\n",
      "8/8 [==============================] - 1s 138ms/step - loss: 0.5774 - acc: 0.6887 - f1_m: 0.2148 - precision_m: 0.1284 - recall_m: 0.7842 - val_loss: 0.5085 - val_acc: 0.7429 - val_f1_m: 0.2353 - val_precision_m: 0.1480 - val_recall_m: 0.7017\n",
      "Epoch 4/60\n",
      "8/8 [==============================] - 1s 122ms/step - loss: 0.5831 - acc: 0.7045 - f1_m: 0.2033 - precision_m: 0.1233 - recall_m: 0.6250 - val_loss: 0.5069 - val_acc: 0.7401 - val_f1_m: 0.2334 - val_precision_m: 0.1455 - val_recall_m: 0.7213\n",
      "Epoch 5/60\n",
      "8/8 [==============================] - 1s 126ms/step - loss: 0.5244 - acc: 0.6781 - f1_m: 0.2086 - precision_m: 0.1275 - recall_m: 0.7417 - val_loss: 0.5221 - val_acc: 0.7200 - val_f1_m: 0.2459 - val_precision_m: 0.1500 - val_recall_m: 0.8184\n",
      "Epoch 6/60\n",
      "8/8 [==============================] - 1s 154ms/step - loss: 0.5051 - acc: 0.7203 - f1_m: 0.2655 - precision_m: 0.1695 - recall_m: 0.8542 - val_loss: 0.4802 - val_acc: 0.7270 - val_f1_m: 0.2444 - val_precision_m: 0.1503 - val_recall_m: 0.7914\n",
      "Epoch 7/60\n",
      "8/8 [==============================] - 1s 134ms/step - loss: 0.4960 - acc: 0.7124 - f1_m: 0.2496 - precision_m: 0.1521 - recall_m: 0.8500 - val_loss: 0.4585 - val_acc: 0.7477 - val_f1_m: 0.2528 - val_precision_m: 0.1577 - val_recall_m: 0.7730\n",
      "Epoch 8/60\n",
      "8/8 [==============================] - 1s 126ms/step - loss: 0.4761 - acc: 0.7098 - f1_m: 0.2487 - precision_m: 0.1508 - recall_m: 0.8542 - val_loss: 0.4357 - val_acc: 0.7609 - val_f1_m: 0.2644 - val_precision_m: 0.1650 - val_recall_m: 0.7960\n",
      "Epoch 9/60\n",
      "8/8 [==============================] - 1s 129ms/step - loss: 0.4808 - acc: 0.7071 - f1_m: 0.2540 - precision_m: 0.1541 - recall_m: 0.8562 - val_loss: 0.4188 - val_acc: 0.7637 - val_f1_m: 0.2729 - val_precision_m: 0.1718 - val_recall_m: 0.7750\n",
      "Epoch 10/60\n",
      "8/8 [==============================] - 1s 126ms/step - loss: 0.5151 - acc: 0.7071 - f1_m: 0.2118 - precision_m: 0.1315 - recall_m: 0.6964 - val_loss: 0.4492 - val_acc: 0.7387 - val_f1_m: 0.2596 - val_precision_m: 0.1610 - val_recall_m: 0.8063\n",
      "Epoch 11/60\n",
      "8/8 [==============================] - 1s 134ms/step - loss: 0.5349 - acc: 0.7124 - f1_m: 0.1893 - precision_m: 0.1177 - recall_m: 0.5833 - val_loss: 0.4743 - val_acc: 0.7706 - val_f1_m: 0.2966 - val_precision_m: 0.1855 - val_recall_m: 0.8736\n",
      "Epoch 12/60\n",
      "8/8 [==============================] - 1s 133ms/step - loss: 0.4745 - acc: 0.8443 - f1_m: 0.3215 - precision_m: 0.2195 - recall_m: 0.7188 - val_loss: 0.3262 - val_acc: 0.9293 - val_f1_m: 0.5297 - val_precision_m: 0.4392 - val_recall_m: 0.7466\n",
      "Epoch 13/60\n",
      "8/8 [==============================] - 1s 118ms/step - loss: 0.4200 - acc: 0.9367 - f1_m: 0.5979 - precision_m: 0.4714 - recall_m: 0.9000 - val_loss: 0.3177 - val_acc: 0.9307 - val_f1_m: 0.5436 - val_precision_m: 0.4477 - val_recall_m: 0.7603\n",
      "Epoch 14/60\n",
      "8/8 [==============================] - 1s 120ms/step - loss: 0.4805 - acc: 0.9129 - f1_m: 0.5084 - precision_m: 0.4277 - recall_m: 0.7208 - val_loss: 0.3573 - val_acc: 0.8690 - val_f1_m: 0.4185 - val_precision_m: 0.2892 - val_recall_m: 0.8586\n",
      "Epoch 15/60\n",
      "8/8 [==============================] - 1s 121ms/step - loss: 0.4921 - acc: 0.7704 - f1_m: 0.2515 - precision_m: 0.1700 - recall_m: 0.5938 - val_loss: 0.4416 - val_acc: 0.7692 - val_f1_m: 0.2974 - val_precision_m: 0.1886 - val_recall_m: 0.8701\n",
      "Epoch 16/60\n",
      "8/8 [==============================] - 1s 120ms/step - loss: 0.3812 - acc: 0.7599 - f1_m: 0.3091 - precision_m: 0.1910 - recall_m: 0.8750 - val_loss: 0.3835 - val_acc: 0.8018 - val_f1_m: 0.3208 - val_precision_m: 0.2067 - val_recall_m: 0.8391\n",
      "Epoch 17/60\n",
      "8/8 [==============================] - 1s 120ms/step - loss: 0.4279 - acc: 0.8311 - f1_m: 0.3382 - precision_m: 0.2251 - recall_m: 0.8229 - val_loss: 0.3264 - val_acc: 0.8877 - val_f1_m: 0.4587 - val_precision_m: 0.3343 - val_recall_m: 0.8408\n",
      "Epoch 18/60\n",
      "8/8 [==============================] - 1s 118ms/step - loss: 0.3799 - acc: 0.8813 - f1_m: 0.3821 - precision_m: 0.3015 - recall_m: 0.6583 - val_loss: 0.3277 - val_acc: 0.8836 - val_f1_m: 0.4328 - val_precision_m: 0.3106 - val_recall_m: 0.7905\n",
      "Epoch 19/60\n",
      "8/8 [==============================] - 1s 133ms/step - loss: 0.4267 - acc: 0.8865 - f1_m: 0.4154 - precision_m: 0.3060 - recall_m: 0.6771 - val_loss: 0.3311 - val_acc: 0.8829 - val_f1_m: 0.4346 - val_precision_m: 0.3072 - val_recall_m: 0.8345\n",
      "Epoch 20/60\n",
      "8/8 [==============================] - 1s 123ms/step - loss: 0.4676 - acc: 0.8496 - f1_m: 0.3700 - precision_m: 0.2501 - recall_m: 0.7708 - val_loss: 0.3595 - val_acc: 0.8739 - val_f1_m: 0.4394 - val_precision_m: 0.3047 - val_recall_m: 0.8822\n",
      "Epoch 21/60\n",
      "8/8 [==============================] - 1s 122ms/step - loss: 0.4403 - acc: 0.8602 - f1_m: 0.3727 - precision_m: 0.2603 - recall_m: 0.7042 - val_loss: 0.3550 - val_acc: 0.8933 - val_f1_m: 0.4848 - val_precision_m: 0.3506 - val_recall_m: 0.8994\n",
      "Epoch 22/60\n",
      "8/8 [==============================] - 1s 118ms/step - loss: 0.3849 - acc: 0.8760 - f1_m: 0.4283 - precision_m: 0.3048 - recall_m: 0.8333 - val_loss: 0.3498 - val_acc: 0.8836 - val_f1_m: 0.4475 - val_precision_m: 0.3142 - val_recall_m: 0.8672\n",
      "Epoch 23/60\n",
      "8/8 [==============================] - 1s 120ms/step - loss: 0.3668 - acc: 0.8575 - f1_m: 0.3939 - precision_m: 0.2717 - recall_m: 0.8229 - val_loss: 0.3135 - val_acc: 0.8933 - val_f1_m: 0.4625 - val_precision_m: 0.3335 - val_recall_m: 0.8615\n",
      "Epoch 24/60\n",
      "8/8 [==============================] - 1s 119ms/step - loss: 0.4845 - acc: 0.8602 - f1_m: 0.3093 - precision_m: 0.2230 - recall_m: 0.5646 - val_loss: 0.3197 - val_acc: 0.8850 - val_f1_m: 0.4535 - val_precision_m: 0.3274 - val_recall_m: 0.8557\n",
      "Epoch 25/60\n",
      "8/8 [==============================] - 1s 117ms/step - loss: 0.3690 - acc: 0.8734 - f1_m: 0.4606 - precision_m: 0.3343 - recall_m: 0.8333 - val_loss: 0.3168 - val_acc: 0.8981 - val_f1_m: 0.4681 - val_precision_m: 0.3542 - val_recall_m: 0.8126\n",
      "Epoch 26/60\n",
      "8/8 [==============================] - 1s 120ms/step - loss: 0.3318 - acc: 0.8707 - f1_m: 0.3862 - precision_m: 0.2777 - recall_m: 0.6833 - val_loss: 0.3074 - val_acc: 0.9058 - val_f1_m: 0.4963 - val_precision_m: 0.3733 - val_recall_m: 0.8810\n",
      "Epoch 27/60\n",
      "8/8 [==============================] - 1s 119ms/step - loss: 0.4317 - acc: 0.8892 - f1_m: 0.3825 - precision_m: 0.3004 - recall_m: 0.6115 - val_loss: 0.3049 - val_acc: 0.9064 - val_f1_m: 0.5068 - val_precision_m: 0.3878 - val_recall_m: 0.8552\n",
      "Epoch 28/60\n",
      "8/8 [==============================] - 1s 119ms/step - loss: 0.3736 - acc: 0.8945 - f1_m: 0.4666 - precision_m: 0.3560 - recall_m: 0.7312 - val_loss: 0.3140 - val_acc: 0.8960 - val_f1_m: 0.4552 - val_precision_m: 0.3336 - val_recall_m: 0.8132\n",
      "Epoch 29/60\n",
      "8/8 [==============================] - 1s 121ms/step - loss: 0.4275 - acc: 0.8839 - f1_m: 0.4503 - precision_m: 0.3167 - recall_m: 0.7875 - val_loss: 0.3058 - val_acc: 0.9064 - val_f1_m: 0.5085 - val_precision_m: 0.3901 - val_recall_m: 0.8569\n",
      "Epoch 30/60\n",
      "8/8 [==============================] - 1s 120ms/step - loss: 0.3571 - acc: 0.8865 - f1_m: 0.4579 - precision_m: 0.3379 - recall_m: 0.7458 - val_loss: 0.3223 - val_acc: 0.9037 - val_f1_m: 0.4975 - val_precision_m: 0.3661 - val_recall_m: 0.8954\n",
      "Epoch 31/60\n",
      "8/8 [==============================] - 1s 121ms/step - loss: 0.3924 - acc: 0.8892 - f1_m: 0.3893 - precision_m: 0.2933 - recall_m: 0.6583 - val_loss: 0.3047 - val_acc: 0.9099 - val_f1_m: 0.4984 - val_precision_m: 0.3738 - val_recall_m: 0.8299\n",
      "Epoch 32/60\n",
      "8/8 [==============================] - 1s 118ms/step - loss: 0.3595 - acc: 0.8918 - f1_m: 0.4463 - precision_m: 0.3385 - recall_m: 0.7708 - val_loss: 0.3114 - val_acc: 0.9051 - val_f1_m: 0.4862 - val_precision_m: 0.3546 - val_recall_m: 0.8592\n",
      "Epoch 33/60\n"
     ]
    },
    {
     "name": "stdout",
     "output_type": "stream",
     "text": [
      "8/8 [==============================] - 1s 119ms/step - loss: 0.4719 - acc: 0.8734 - f1_m: 0.4014 - precision_m: 0.3019 - recall_m: 0.6771 - val_loss: 0.3343 - val_acc: 0.8974 - val_f1_m: 0.4984 - val_precision_m: 0.3747 - val_recall_m: 0.8828\n",
      "Epoch 34/60\n",
      "8/8 [==============================] - 1s 133ms/step - loss: 0.3091 - acc: 0.8839 - f1_m: 0.5102 - precision_m: 0.3598 - recall_m: 0.9688 - val_loss: 0.3130 - val_acc: 0.9148 - val_f1_m: 0.5166 - val_precision_m: 0.3997 - val_recall_m: 0.8494\n",
      "Epoch 35/60\n",
      "8/8 [==============================] - 1s 134ms/step - loss: 0.4122 - acc: 0.8707 - f1_m: 0.3688 - precision_m: 0.2696 - recall_m: 0.6958 - val_loss: 0.3384 - val_acc: 0.8836 - val_f1_m: 0.4454 - val_precision_m: 0.3153 - val_recall_m: 0.8638\n",
      "Epoch 36/60\n",
      "8/8 [==============================] - 1s 165ms/step - loss: 0.4251 - acc: 0.8602 - f1_m: 0.3749 - precision_m: 0.2622 - recall_m: 0.7083 - val_loss: 0.3403 - val_acc: 0.8877 - val_f1_m: 0.4486 - val_precision_m: 0.3173 - val_recall_m: 0.8552\n",
      "Epoch 37/60\n",
      "8/8 [==============================] - 1s 139ms/step - loss: 0.4323 - acc: 0.8628 - f1_m: 0.3464 - precision_m: 0.2628 - recall_m: 0.6146 - val_loss: 0.3781 - val_acc: 0.8829 - val_f1_m: 0.4684 - val_precision_m: 0.3319 - val_recall_m: 0.9052\n",
      "Epoch 38/60\n",
      "8/8 [==============================] - 1s 121ms/step - loss: 0.3293 - acc: 0.8628 - f1_m: 0.4150 - precision_m: 0.2952 - recall_m: 0.8083 - val_loss: 0.3724 - val_acc: 0.8947 - val_f1_m: 0.4803 - val_precision_m: 0.3461 - val_recall_m: 0.8943\n",
      "Epoch 39/60\n",
      "8/8 [==============================] - 1s 130ms/step - loss: 0.4671 - acc: 0.9050 - f1_m: 0.4416 - precision_m: 0.4018 - recall_m: 0.5080 - val_loss: 0.3344 - val_acc: 0.9210 - val_f1_m: 0.5349 - val_precision_m: 0.4108 - val_recall_m: 0.8736\n",
      "Epoch 40/60\n",
      "8/8 [==============================] - 1s 170ms/step - loss: 0.3890 - acc: 0.8971 - f1_m: 0.4642 - precision_m: 0.3668 - recall_m: 0.8125 - val_loss: 0.3794 - val_acc: 0.9030 - val_f1_m: 0.4763 - val_precision_m: 0.3511 - val_recall_m: 0.8253\n",
      "Epoch 41/60\n",
      "8/8 [==============================] - 1s 134ms/step - loss: 0.3884 - acc: 0.9050 - f1_m: 0.5264 - precision_m: 0.4028 - recall_m: 0.8458 - val_loss: 0.3416 - val_acc: 0.9148 - val_f1_m: 0.5168 - val_precision_m: 0.3930 - val_recall_m: 0.8454\n",
      "Epoch 42/60\n",
      "8/8 [==============================] - 1s 124ms/step - loss: 0.3402 - acc: 0.9156 - f1_m: 0.4902 - precision_m: 0.3974 - recall_m: 0.7604 - val_loss: 0.3024 - val_acc: 0.9155 - val_f1_m: 0.5118 - val_precision_m: 0.3911 - val_recall_m: 0.8310\n",
      "Epoch 43/60\n",
      "8/8 [==============================] - 1s 120ms/step - loss: 0.4577 - acc: 0.9077 - f1_m: 0.3821 - precision_m: 0.3216 - recall_m: 0.5333 - val_loss: 0.2833 - val_acc: 0.9258 - val_f1_m: 0.5495 - val_precision_m: 0.4225 - val_recall_m: 0.8724\n",
      "Epoch 44/60\n",
      "8/8 [==============================] - 1s 118ms/step - loss: 0.3713 - acc: 0.8997 - f1_m: 0.4139 - precision_m: 0.3159 - recall_m: 0.6250 - val_loss: 0.3272 - val_acc: 0.9051 - val_f1_m: 0.5122 - val_precision_m: 0.3747 - val_recall_m: 0.9040\n",
      "Epoch 45/60\n",
      "8/8 [==============================] - 1s 118ms/step - loss: 0.3862 - acc: 0.9024 - f1_m: 0.4070 - precision_m: 0.3411 - recall_m: 0.6384 - val_loss: 0.2975 - val_acc: 0.9210 - val_f1_m: 0.5265 - val_precision_m: 0.4017 - val_recall_m: 0.8626\n",
      "Epoch 46/60\n",
      "8/8 [==============================] - 1s 118ms/step - loss: 0.4105 - acc: 0.8971 - f1_m: 0.4633 - precision_m: 0.3854 - recall_m: 0.6375 - val_loss: 0.2954 - val_acc: 0.9196 - val_f1_m: 0.5222 - val_precision_m: 0.4099 - val_recall_m: 0.8293\n",
      "Epoch 47/60\n",
      "8/8 [==============================] - 1s 118ms/step - loss: 0.3668 - acc: 0.9156 - f1_m: 0.5133 - precision_m: 0.4024 - recall_m: 0.8292 - val_loss: 0.2906 - val_acc: 0.9245 - val_f1_m: 0.5578 - val_precision_m: 0.4344 - val_recall_m: 0.8787\n",
      "Epoch 48/60\n",
      "8/8 [==============================] - 1s 122ms/step - loss: 0.3386 - acc: 0.9103 - f1_m: 0.4430 - precision_m: 0.3438 - recall_m: 0.7354 - val_loss: 0.2918 - val_acc: 0.9196 - val_f1_m: 0.5457 - val_precision_m: 0.4233 - val_recall_m: 0.8713\n",
      "Epoch 49/60\n",
      "8/8 [==============================] - 1s 118ms/step - loss: 0.3302 - acc: 0.9024 - f1_m: 0.4647 - precision_m: 0.3427 - recall_m: 0.7604 - val_loss: 0.2837 - val_acc: 0.9210 - val_f1_m: 0.5184 - val_precision_m: 0.3961 - val_recall_m: 0.8368\n",
      "Epoch 50/60\n",
      "8/8 [==============================] - 1s 120ms/step - loss: 0.4111 - acc: 0.9077 - f1_m: 0.4033 - precision_m: 0.3388 - recall_m: 0.6167 - val_loss: 0.2846 - val_acc: 0.9224 - val_f1_m: 0.5321 - val_precision_m: 0.4127 - val_recall_m: 0.8351\n",
      "Epoch 51/60\n",
      "8/8 [==============================] - 1s 121ms/step - loss: 0.3303 - acc: 0.9314 - f1_m: 0.5919 - precision_m: 0.5113 - recall_m: 0.8458 - val_loss: 0.2712 - val_acc: 0.9328 - val_f1_m: 0.5856 - val_precision_m: 0.4591 - val_recall_m: 0.9011\n",
      "Epoch 52/60\n",
      "8/8 [==============================] - 1s 124ms/step - loss: 0.4041 - acc: 0.9077 - f1_m: 0.5360 - precision_m: 0.4452 - recall_m: 0.7271 - val_loss: 0.3109 - val_acc: 0.9085 - val_f1_m: 0.5233 - val_precision_m: 0.3911 - val_recall_m: 0.9115\n",
      "Epoch 53/60\n",
      "8/8 [==============================] - 1s 136ms/step - loss: 0.3996 - acc: 0.8681 - f1_m: 0.3909 - precision_m: 0.2910 - recall_m: 0.8125 - val_loss: 0.3125 - val_acc: 0.9127 - val_f1_m: 0.5171 - val_precision_m: 0.3895 - val_recall_m: 0.8793\n",
      "Epoch 54/60\n",
      "8/8 [==============================] - 1s 120ms/step - loss: 0.4640 - acc: 0.8865 - f1_m: 0.3708 - precision_m: 0.2854 - recall_m: 0.6562 - val_loss: 0.2802 - val_acc: 0.9279 - val_f1_m: 0.5651 - val_precision_m: 0.4490 - val_recall_m: 0.8667\n",
      "Epoch 55/60\n",
      "8/8 [==============================] - 1s 120ms/step - loss: 0.3756 - acc: 0.9182 - f1_m: 0.4796 - precision_m: 0.4125 - recall_m: 0.6833 - val_loss: 0.3318 - val_acc: 0.9293 - val_f1_m: 0.5510 - val_precision_m: 0.4416 - val_recall_m: 0.8339\n",
      "Epoch 56/60\n",
      "8/8 [==============================] - 1s 119ms/step - loss: 0.3600 - acc: 0.9077 - f1_m: 0.4511 - precision_m: 0.3386 - recall_m: 0.7583 - val_loss: 0.3262 - val_acc: 0.9314 - val_f1_m: 0.5647 - val_precision_m: 0.4418 - val_recall_m: 0.8782\n",
      "Epoch 57/60\n",
      "8/8 [==============================] - 1s 118ms/step - loss: 0.3247 - acc: 0.9156 - f1_m: 0.5581 - precision_m: 0.4608 - recall_m: 0.8083 - val_loss: 0.2975 - val_acc: 0.9335 - val_f1_m: 0.5778 - val_precision_m: 0.4685 - val_recall_m: 0.8293\n",
      "Epoch 58/60\n",
      "8/8 [==============================] - 1s 120ms/step - loss: 0.3561 - acc: 0.9129 - f1_m: 0.5150 - precision_m: 0.4131 - recall_m: 0.7500 - val_loss: 0.2990 - val_acc: 0.9258 - val_f1_m: 0.5542 - val_precision_m: 0.4303 - val_recall_m: 0.8684\n",
      "Epoch 59/60\n",
      "8/8 [==============================] - 1s 120ms/step - loss: 0.3498 - acc: 0.8945 - f1_m: 0.4222 - precision_m: 0.3125 - recall_m: 0.7530 - val_loss: 0.2893 - val_acc: 0.9307 - val_f1_m: 0.5553 - val_precision_m: 0.4309 - val_recall_m: 0.8448\n",
      "Epoch 60/60\n",
      "8/8 [==============================] - 1s 124ms/step - loss: 0.4282 - acc: 0.8892 - f1_m: 0.3628 - precision_m: 0.3014 - recall_m: 0.5417 - val_loss: 0.2637 - val_acc: 0.9342 - val_f1_m: 0.5988 - val_precision_m: 0.4744 - val_recall_m: 0.9080\n"
     ]
    }
   ],
   "source": [
    "history = model.fit(\n",
    "    train_gen, epochs=60, validation_data=val_gen, verbose=1, shuffle=False, class_weight=weights\n",
    ")"
   ]
  },
  {
   "cell_type": "code",
   "execution_count": 255,
   "metadata": {
    "id": "7OUmAhBqKFCQ"
   },
   "outputs": [
    {
     "data": {
      "image/png": "[encoded data removed]",
      "text/plain": [
       "<Figure size 504x1440 with 5 Axes>"
      ]
     },
     "metadata": {
      "needs_background": "light"
     },
     "output_type": "display_data"
    }
   ],
   "source": [
    "sg.utils.plot_history(history)"
   ]
  },
  {
   "cell_type": "code",
   "execution_count": 256,
   "metadata": {
    "id": "YaUYpvwTKFCQ",
    "scrolled": true
   },
   "outputs": [
    {
     "name": "stdout",
     "output_type": "stream",
     "text": [
      "116/116 [==============================] - 3s 24ms/step - loss: 0.2671 - acc: 0.9311 - f1_m: 0.5827 - precision_m: 0.4639 - recall_m: 0.8896\n",
      "\n",
      "Test Set Metrics:\n",
      "\tloss: 0.2671\n",
      "\tacc: 0.9311\n",
      "\tf1_m: 0.5827\n",
      "\tprecision_m: 0.4639\n",
      "\trecall_m: 0.8896\n"
     ]
    }
   ],
   "source": [
    "# Evaluating on the test set\n",
    "test_gen = generator.flow(test_labels.index, test_targets)\n",
    "\n",
    "test_metrics = model.evaluate(test_gen)\n",
    "print(\"\\nTest Set Metrics:\")\n",
    "for name, val in zip(model.metrics_names, test_metrics):\n",
    "    print(\"\\t{}: {:0.4f}\".format(name, val))"
   ]
  },
  {
   "cell_type": "markdown",
   "metadata": {
    "id": "_yPuchtIKFCQ"
   },
   "source": [
    "Adam optimizer is the best choice in general. Anyway, many recent papers state that SGD (Stochastic Gradient Descent) can bring to better results if combined with a good learning rate annealing schedule which aims to manage its value during the training. See [here](https://towardsdatascience.com/7-tips-to-choose-the-best-optimizer-47bb9c1219e)."
   ]
  },
  {
   "cell_type": "code",
   "execution_count": 257,
   "metadata": {
    "id": "7Xn5qwzoKFCQ"
   },
   "outputs": [],
   "source": [
    "graphsage_model2 = GraphSAGE(\n",
    "    layer_sizes=[32, 32], generator=generator, bias=True, dropout=0.5\n",
    ")"
   ]
  },
  {
   "cell_type": "code",
   "execution_count": 258,
   "metadata": {
    "id": "WbgSdq_6KFCQ"
   },
   "outputs": [],
   "source": [
    "# Creating a model to predict the 2 categories using Keras sigmoid layers\n",
    "x_inp2, x_out2 = graphsage_model2.in_out_tensors()\n",
    "prediction2 = layers.Dense(units=1, activation=\"sigmoid\")(x_out2) \n"
   ]
  },
  {
   "cell_type": "code",
   "execution_count": 259,
   "metadata": {
    "id": "Xx7mMe1uKFCQ"
   },
   "outputs": [
    {
     "name": "stderr",
     "output_type": "stream",
     "text": [
      "C:\\Users\\lisannal\\Anaconda3\\lib\\site-packages\\keras\\optimizer_v2\\gradient_descent.py:102: UserWarning: The `lr` argument is deprecated, use `learning_rate` instead.\n",
      "  super(SGD, self).__init__(name, **kwargs)\n"
     ]
    }
   ],
   "source": [
    "model2 = Model(inputs=x_inp2, outputs=prediction2)\n",
    "\n",
    "model2.compile(\n",
    "    optimizer = optimizers.SGD(lr=0.005), \n",
    "    loss = losses.binary_crossentropy,\n",
    "    metrics = ['acc',f1_m,precision_m, recall_m]\n",
    ")"
   ]
  },
  {
   "cell_type": "code",
   "execution_count": 260,
   "metadata": {
    "id": "B-0vourAKFCQ"
   },
   "outputs": [
    {
     "name": "stdout",
     "output_type": "stream",
     "text": [
      "Model: \"model_14\"\n",
      "__________________________________________________________________________________________________\n",
      " Layer (type)                   Output Shape         Param #     Connected to                     \n",
      "==================================================================================================\n",
      " input_38 (InputLayer)          [(None, 10, 3)]      0           []                               \n",
      "                                                                                                  \n",
      " input_39 (InputLayer)          [(None, 100, 3)]     0           []                               \n",
      "                                                                                                  \n",
      " input_37 (InputLayer)          [(None, 1, 3)]       0           []                               \n",
      "                                                                                                  \n",
      " reshape_48 (Reshape)           (None, 1, 10, 3)     0           ['input_38[0][0]']               \n",
      "                                                                                                  \n",
      " reshape_49 (Reshape)           (None, 10, 10, 3)    0           ['input_39[0][0]']               \n",
      "                                                                                                  \n",
      " dropout_73 (Dropout)           (None, 1, 3)         0           ['input_37[0][0]']               \n",
      "                                                                                                  \n",
      " dropout_72 (Dropout)           (None, 1, 10, 3)     0           ['reshape_48[0][0]']             \n",
      "                                                                                                  \n",
      " dropout_75 (Dropout)           (None, 10, 3)        0           ['input_38[0][0]']               \n",
      "                                                                                                  \n",
      " dropout_74 (Dropout)           (None, 10, 10, 3)    0           ['reshape_49[0][0]']             \n",
      "                                                                                                  \n",
      " mean_aggregator_26 (MeanAggreg  multiple            128         ['dropout_73[0][0]',             \n",
      " ator)                                                            'dropout_72[0][0]',             \n",
      "                                                                  'dropout_75[0][0]',             \n",
      "                                                                  'dropout_74[0][0]']             \n",
      "                                                                                                  \n",
      " reshape_50 (Reshape)           (None, 1, 10, 32)    0           ['mean_aggregator_26[1][0]']     \n",
      "                                                                                                  \n",
      " dropout_77 (Dropout)           (None, 1, 32)        0           ['mean_aggregator_26[0][0]']     \n",
      "                                                                                                  \n",
      " dropout_76 (Dropout)           (None, 1, 10, 32)    0           ['reshape_50[0][0]']             \n",
      "                                                                                                  \n",
      " mean_aggregator_27 (MeanAggreg  (None, 1, 32)       1056        ['dropout_77[0][0]',             \n",
      " ator)                                                            'dropout_76[0][0]']             \n",
      "                                                                                                  \n",
      " reshape_51 (Reshape)           (None, 32)           0           ['mean_aggregator_27[0][0]']     \n",
      "                                                                                                  \n",
      " lambda_13 (Lambda)             (None, 32)           0           ['reshape_51[0][0]']             \n",
      "                                                                                                  \n",
      " dense_12 (Dense)               (None, 1)            33          ['lambda_13[0][0]']              \n",
      "                                                                                                  \n",
      "==================================================================================================\n",
      "Total params: 1,217\n",
      "Trainable params: 1,217\n",
      "Non-trainable params: 0\n",
      "__________________________________________________________________________________________________\n"
     ]
    }
   ],
   "source": [
    "model2.summary()"
   ]
  },
  {
   "cell_type": "code",
   "execution_count": 261,
   "metadata": {
    "id": "8XDadocUKFCR"
   },
   "outputs": [
    {
     "data": {
      "image/png": "[encoded data removed]",
      "text/plain": [
       "<Figure size 504x1440 with 5 Axes>"
      ]
     },
     "metadata": {
      "needs_background": "light"
     },
     "output_type": "display_data"
    }
   ],
   "source": [
    "history2 = model2.fit(\n",
    "    train_gen, epochs=60, validation_data=val_gen, verbose=0, shuffle=False, class_weight=weights\n",
    ")\n",
    "\n",
    "sg.utils.plot_history(history2)"
   ]
  },
  {
   "cell_type": "code",
   "execution_count": 262,
   "metadata": {
    "id": "n7tN3hyOKFCR"
   },
   "outputs": [
    {
     "name": "stdout",
     "output_type": "stream",
     "text": [
      "116/116 [==============================] - 3s 23ms/step - loss: 0.6160 - acc: 0.7183 - f1_m: 0.2148 - precision_m: 0.1354 - recall_m: 0.6608\n",
      "\n",
      "Test Set Metrics:\n",
      "\tloss: 0.6160\n",
      "\tacc: 0.7183\n",
      "\tf1_m: 0.2148\n",
      "\tprecision_m: 0.1354\n",
      "\trecall_m: 0.6608\n"
     ]
    }
   ],
   "source": [
    "# Evaluating on the test set\n",
    "test_gen = generator.flow(test_labels.index, test_targets)\n",
    "\n",
    "test_metrics = model2.evaluate(test_gen)\n",
    "print(\"\\nTest Set Metrics:\")\n",
    "for name, val in zip(model2.metrics_names, test_metrics):\n",
    "    print(\"\\t{}: {:0.4f}\".format(name, val))"
   ]
  },
  {
   "cell_type": "markdown",
   "metadata": {
    "id": "Aytgb6huKFCR"
   },
   "source": [
    "### 5. Making predictions with the model"
   ]
  },
  {
   "cell_type": "markdown",
   "metadata": {
    "id": "tx5OyCXSKFCR"
   },
   "source": [
    "Using the trained model to predict the nodes we put aside earlier. For this, we must use the original StellarGraph object and a new node generator."
   ]
  },
  {
   "cell_type": "code",
   "execution_count": 263,
   "metadata": {
    "id": "IeHp5cFmKFCR"
   },
   "outputs": [],
   "source": [
    "generator = GraphSAGENodeGenerator(twitch_graph, batch_size, num_samples)"
   ]
  },
  {
   "cell_type": "code",
   "execution_count": 264,
   "metadata": {
    "id": "Gvn2VS6CKFCR"
   },
   "outputs": [],
   "source": [
    "# Predictions for all nodes in the hold out set\n",
    "hold_out_nodes = twitch_partner.index.difference(labels_sampled.index)\n",
    "labels_hold_out = twitch_partner[hold_out_nodes]"
   ]
  },
  {
   "cell_type": "code",
   "execution_count": 265,
   "metadata": {
    "id": "MYGabDhxKFCR"
   },
   "outputs": [
    {
     "data": {
      "text/plain": [
       "1900"
      ]
     },
     "execution_count": 265,
     "metadata": {},
     "output_type": "execute_result"
    }
   ],
   "source": [
    "len(hold_out_nodes)"
   ]
  },
  {
   "cell_type": "code",
   "execution_count": 266,
   "metadata": {
    "id": "X7Vpi_CbKFCS"
   },
   "outputs": [],
   "source": [
    "hold_out_gen = generator.flow(hold_out_nodes, labels_hold_out)"
   ]
  },
  {
   "cell_type": "code",
   "execution_count": 267,
   "metadata": {
    "id": "7voxejE0KFCS"
   },
   "outputs": [],
   "source": [
    "hold_out_predictions = model.predict(hold_out_gen)"
   ]
  },
  {
   "cell_type": "code",
   "execution_count": 268,
   "metadata": {
    "id": "-aqtdvhpKFCS"
   },
   "outputs": [
    {
     "data": {
      "text/plain": [
       "1900"
      ]
     },
     "execution_count": 268,
     "metadata": {},
     "output_type": "execute_result"
    }
   ],
   "source": [
    "len(hold_out_predictions)"
   ]
  },
  {
   "cell_type": "code",
   "execution_count": 269,
   "metadata": {
    "id": "VFC_SrFjKFCS"
   },
   "outputs": [],
   "source": [
    "# Convert sigmoid predictions to binary labels\n",
    "new_hold_out_predictions = []\n",
    "\n",
    "for i, predicted in enumerate(hold_out_predictions):\n",
    "    if predicted[0] > 0.5: # if probability is >0.5, then it belongs to class 1 (since binary classific.)\n",
    "        new_hold_out_predictions.append(1)\n",
    "    else:\n",
    "        new_hold_out_predictions.append(0)"
   ]
  },
  {
   "cell_type": "code",
   "execution_count": 270,
   "metadata": {
    "id": "AmeIh67oKFCS"
   },
   "outputs": [
    {
     "data": {
      "text/plain": [
       "0.9305263157894736"
      ]
     },
     "execution_count": 270,
     "metadata": {},
     "output_type": "execute_result"
    }
   ],
   "source": [
    "# Calculate accuracy the \"old way\"\n",
    "\n",
    "correct_pred = 0\n",
    "for i, val in enumerate(new_hold_out_predictions):\n",
    "    if val == np.array(labels_hold_out)[i]:\n",
    "        correct_pred += 1\n",
    "        \n",
    "correct_pred / len(new_hold_out_predictions)"
   ]
  },
  {
   "cell_type": "code",
   "execution_count": 271,
   "metadata": {
    "id": "Rc8OS-HiKFCS"
   },
   "outputs": [
    {
     "data": {
      "text/html": [
       "<div>\n",
       "<style scoped>\n",
       "    .dataframe tbody tr th:only-of-type {\n",
       "        vertical-align: middle;\n",
       "    }\n",
       "\n",
       "    .dataframe tbody tr th {\n",
       "        vertical-align: top;\n",
       "    }\n",
       "\n",
       "    .dataframe thead th {\n",
       "        text-align: right;\n",
       "    }\n",
       "</style>\n",
       "<table border=\"1\" class=\"dataframe\">\n",
       "  <thead>\n",
       "    <tr style=\"text-align: right;\">\n",
       "      <th></th>\n",
       "      <th>Predicted</th>\n",
       "      <th>True</th>\n",
       "    </tr>\n",
       "    <tr>\n",
       "      <th>id</th>\n",
       "      <th></th>\n",
       "      <th></th>\n",
       "    </tr>\n",
       "  </thead>\n",
       "  <tbody>\n",
       "    <tr>\n",
       "      <th>14</th>\n",
       "      <td>0</td>\n",
       "      <td>0</td>\n",
       "    </tr>\n",
       "    <tr>\n",
       "      <th>36</th>\n",
       "      <td>0</td>\n",
       "      <td>0</td>\n",
       "    </tr>\n",
       "    <tr>\n",
       "      <th>43</th>\n",
       "      <td>0</td>\n",
       "      <td>0</td>\n",
       "    </tr>\n",
       "    <tr>\n",
       "      <th>49</th>\n",
       "      <td>0</td>\n",
       "      <td>0</td>\n",
       "    </tr>\n",
       "    <tr>\n",
       "      <th>53</th>\n",
       "      <td>0</td>\n",
       "      <td>0</td>\n",
       "    </tr>\n",
       "    <tr>\n",
       "      <th>56</th>\n",
       "      <td>0</td>\n",
       "      <td>0</td>\n",
       "    </tr>\n",
       "    <tr>\n",
       "      <th>61</th>\n",
       "      <td>0</td>\n",
       "      <td>0</td>\n",
       "    </tr>\n",
       "    <tr>\n",
       "      <th>64</th>\n",
       "      <td>1</td>\n",
       "      <td>0</td>\n",
       "    </tr>\n",
       "    <tr>\n",
       "      <th>67</th>\n",
       "      <td>1</td>\n",
       "      <td>0</td>\n",
       "    </tr>\n",
       "    <tr>\n",
       "      <th>68</th>\n",
       "      <td>0</td>\n",
       "      <td>0</td>\n",
       "    </tr>\n",
       "  </tbody>\n",
       "</table>\n",
       "</div>"
      ],
      "text/plain": [
       "    Predicted  True\n",
       "id                 \n",
       "14          0     0\n",
       "36          0     0\n",
       "43          0     0\n",
       "49          0     0\n",
       "53          0     0\n",
       "56          0     0\n",
       "61          0     0\n",
       "64          1     0\n",
       "67          1     0\n",
       "68          0     0"
      ]
     },
     "execution_count": 271,
     "metadata": {},
     "output_type": "execute_result"
    }
   ],
   "source": [
    "results = pd.Series(new_hold_out_predictions, index=hold_out_nodes)\n",
    "df = pd.DataFrame({\"Predicted\": results, \"True\": labels_hold_out})\n",
    "df.head(10)"
   ]
  },
  {
   "cell_type": "code",
   "execution_count": 272,
   "metadata": {
    "id": "rQbffHQiKFCS"
   },
   "outputs": [
    {
     "name": "stdout",
     "output_type": "stream",
     "text": [
      "38/38 [==============================] - 1s 27ms/step - loss: 0.2723 - acc: 0.9295 - f1_m: 0.6295 - precision_m: 0.5129 - recall_m: 0.8674\n",
      "\n",
      "Hold Out Set Metrics:\n",
      "\tloss: 0.2723\n",
      "\tacc: 0.9295\n",
      "\tf1_m: 0.6295\n",
      "\tprecision_m: 0.5129\n",
      "\trecall_m: 0.8674\n"
     ]
    }
   ],
   "source": [
    "hold_out_metrics = model.evaluate(hold_out_gen)\n",
    "print(\"\\nHold Out Set Metrics:\")\n",
    "for name, val in zip(model.metrics_names, hold_out_metrics):\n",
    "    print(\"\\t{}: {:0.4f}\".format(name, val))"
   ]
  },
  {
   "cell_type": "markdown",
   "metadata": {
    "id": "Ayi9it0VKFCT"
   },
   "source": [
    "## GCN"
   ]
  },
  {
   "cell_type": "markdown",
   "metadata": {
    "id": "CzEGWhP3W5q1"
   },
   "source": [
    "1) Creatitng layers"
   ]
  },
  {
   "cell_type": "code",
   "execution_count": 273,
   "metadata": {
    "id": "86k71KNkV-ag"
   },
   "outputs": [],
   "source": [
    "import pandas as pd\n",
    "import os\n",
    "\n",
    "import stellargraph as sg\n",
    "from stellargraph.mapper import FullBatchNodeGenerator\n",
    "from stellargraph.layer import GCN\n",
    "\n",
    "from tensorflow.keras import layers, optimizers, losses, metrics, Model\n",
    "from sklearn import preprocessing, model_selection\n",
    "from IPython.display import display, HTML\n",
    "import matplotlib.pyplot as plt\n",
    "%matplotlib inline\n",
    "from sklearn.manifold import TSNE\n",
    "from tensorflow.keras.callbacks import EarlyStopping"
   ]
  },
  {
   "cell_type": "code",
   "execution_count": 274,
   "metadata": {
    "colab": {
     "base_uri": "https://localhost:8080/"
    },
    "id": "X7la7ZI-KFCT",
    "outputId": "cd58f479-d680-452a-ffc3-9354b7b36991"
   },
   "outputs": [
    {
     "name": "stdout",
     "output_type": "stream",
     "text": [
      "Using GCN (local pooling) filters...\n"
     ]
    }
   ],
   "source": [
    "generator = FullBatchNodeGenerator(graph_sampled, method=\"gcn\")"
   ]
  },
  {
   "cell_type": "code",
   "execution_count": 275,
   "metadata": {
    "id": "LHek8gxAKFCT"
   },
   "outputs": [],
   "source": [
    "train_gen = generator.flow(train_labels.index, train_targets)"
   ]
  },
  {
   "cell_type": "code",
   "execution_count": 276,
   "metadata": {
    "id": "wKnpstcsWdAL"
   },
   "outputs": [],
   "source": [
    "gcn = GCN(\n",
    "    layer_sizes=[16, 16], activations=[\"sigmoid\", \"sigmoid\"], generator=generator, dropout=0.5\n",
    ")"
   ]
  },
  {
   "cell_type": "code",
   "execution_count": 277,
   "metadata": {
    "colab": {
     "base_uri": "https://localhost:8080/"
    },
    "id": "lfWwGKMfWgBH",
    "outputId": "410012a8-c576-492a-d92a-c14f96252429"
   },
   "outputs": [
    {
     "data": {
      "text/plain": [
       "<KerasTensor: shape=(1, None, 16) dtype=float32 (created by layer 'gather_indices')>"
      ]
     },
     "execution_count": 277,
     "metadata": {},
     "output_type": "execute_result"
    }
   ],
   "source": [
    "x_inp, x_out = gcn.in_out_tensors()\n",
    "\n",
    "x_out"
   ]
  },
  {
   "cell_type": "code",
   "execution_count": 278,
   "metadata": {
    "id": "vvANLJ41WjOW"
   },
   "outputs": [],
   "source": [
    "predictions = layers.Dense(units=1, activation=\"sigmoid\")(x_out) #sigmoid is used in binary classification"
   ]
  },
  {
   "cell_type": "markdown",
   "metadata": {
    "id": "0YXSr83xXJOo"
   },
   "source": [
    "2) Training and evaluating the model"
   ]
  },
  {
   "cell_type": "code",
   "execution_count": 279,
   "metadata": {
    "id": "9zcRC164-j2U"
   },
   "outputs": [],
   "source": [
    "#getting f1 score\n",
    "\n",
    "from keras import backend as K\n",
    "\n",
    "def recall_m(y_true, y_pred):\n",
    "    true_positives = K.sum(K.round(K.clip(y_true * y_pred, 0, 1)))\n",
    "    possible_positives = K.sum(K.round(K.clip(y_true, 0, 1)))\n",
    "    recall = true_positives / (possible_positives + K.epsilon())\n",
    "    return recall\n",
    "\n",
    "def precision_m(y_true, y_pred):\n",
    "    true_positives = K.sum(K.round(K.clip(y_true * y_pred, 0, 1)))\n",
    "    predicted_positives = K.sum(K.round(K.clip(y_pred, 0, 1)))\n",
    "    precision = true_positives / (predicted_positives + K.epsilon())\n",
    "    return precision\n",
    "\n",
    "def f1_m(y_true, y_pred):\n",
    "    precision = precision_m(y_true, y_pred)\n",
    "    recall = recall_m(y_true, y_pred)\n",
    "    return 2*((precision*recall)/(precision+recall+K.epsilon()))"
   ]
  },
  {
   "cell_type": "code",
   "execution_count": 280,
   "metadata": {
    "id": "16suQJn2XIoZ"
   },
   "outputs": [
    {
     "name": "stderr",
     "output_type": "stream",
     "text": [
      "C:\\Users\\lisannal\\Anaconda3\\lib\\site-packages\\keras\\optimizer_v2\\adam.py:105: UserWarning: The `lr` argument is deprecated, use `learning_rate` instead.\n",
      "  super(Adam, self).__init__(name, **kwargs)\n"
     ]
    }
   ],
   "source": [
    "model3 = Model(inputs=x_inp, outputs=predictions)\n",
    "model3.compile(\n",
    "    optimizer=optimizers.Adam(lr=0.01),\n",
    "    loss=losses.binary_crossentropy,\n",
    "    metrics=['acc',f1_m,precision_m, recall_m],\n",
    ")"
   ]
  },
  {
   "cell_type": "code",
   "execution_count": 281,
   "metadata": {
    "colab": {
     "base_uri": "https://localhost:8080/"
    },
    "id": "MUgGmUCr-tOs",
    "outputId": "0801af72-68be-49cd-89fd-c15a0c87a96e"
   },
   "outputs": [
    {
     "name": "stdout",
     "output_type": "stream",
     "text": [
      "Model: \"model_15\"\n",
      "__________________________________________________________________________________________________\n",
      " Layer (type)                   Output Shape         Param #     Connected to                     \n",
      "==================================================================================================\n",
      " input_40 (InputLayer)          [(1, 7598, 3)]       0           []                               \n",
      "                                                                                                  \n",
      " input_42 (InputLayer)          [(1, None, 2)]       0           []                               \n",
      "                                                                                                  \n",
      " input_43 (InputLayer)          [(1, None)]          0           []                               \n",
      "                                                                                                  \n",
      " dropout_78 (Dropout)           (1, 7598, 3)         0           ['input_40[0][0]']               \n",
      "                                                                                                  \n",
      " squeezed_sparse_conversion (Sq  (7598, 7598)        0           ['input_42[0][0]',               \n",
      " ueezedSparseConversion)                                          'input_43[0][0]']               \n",
      "                                                                                                  \n",
      " graph_convolution (GraphConvol  (1, None, 16)       64          ['dropout_78[0][0]',             \n",
      " ution)                                                           'squeezed_sparse_conversion[0][0\n",
      "                                                                 ]']                              \n",
      "                                                                                                  \n",
      " dropout_79 (Dropout)           (1, None, 16)        0           ['graph_convolution[0][0]']      \n",
      "                                                                                                  \n",
      " graph_convolution_1 (GraphConv  (1, None, 16)       272         ['dropout_79[0][0]',             \n",
      " olution)                                                         'squeezed_sparse_conversion[0][0\n",
      "                                                                 ]']                              \n",
      "                                                                                                  \n",
      " input_41 (InputLayer)          [(1, None)]          0           []                               \n",
      "                                                                                                  \n",
      " gather_indices (GatherIndices)  (1, None, 16)       0           ['graph_convolution_1[0][0]',    \n",
      "                                                                  'input_41[0][0]']               \n",
      "                                                                                                  \n",
      " dense_13 (Dense)               (1, None, 1)         17          ['gather_indices[0][0]']         \n",
      "                                                                                                  \n",
      "==================================================================================================\n",
      "Total params: 353\n",
      "Trainable params: 353\n",
      "Non-trainable params: 0\n",
      "__________________________________________________________________________________________________\n"
     ]
    }
   ],
   "source": [
    "model3.summary()"
   ]
  },
  {
   "cell_type": "code",
   "execution_count": 282,
   "metadata": {
    "id": "LKU-pjHyZ5Th"
   },
   "outputs": [],
   "source": [
    "val_gen = generator.flow(val_labels.index, val_targets)\n",
    "es_callback = EarlyStopping(monitor=\"f1_m\", patience=50, restore_best_weights=True)"
   ]
  },
  {
   "cell_type": "code",
   "execution_count": 283,
   "metadata": {
    "colab": {
     "base_uri": "https://localhost:8080/"
    },
    "id": "uMB0glglnD5x",
    "outputId": "46e6af18-b8ac-41cb-874e-506170e47786"
   },
   "outputs": [
    {
     "data": {
      "text/plain": [
       "{0: 0.5316875460574797, 1: 8.38953488372093}"
      ]
     },
     "execution_count": 283,
     "metadata": {},
     "output_type": "execute_result"
    }
   ],
   "source": [
    "# Dealing with class imbalance\n",
    "from sklearn.utils import class_weight\n",
    "\n",
    "weights = class_weight.compute_class_weight('balanced',\n",
    "                                            classes=np.unique(val_targets),\n",
    "                                            y=val_targets)\n",
    "#weights = {i:w for i,w in enumerate(weights)}\n",
    "weights = dict(enumerate(weights))\n",
    "weights"
   ]
  },
  {
   "cell_type": "code",
   "execution_count": 284,
   "metadata": {
    "colab": {
     "base_uri": "https://localhost:8080/",
     "height": 449
    },
    "id": "fQKwmBaJaQjT",
    "outputId": "b6822448-ef96-42b0-9448-090da347b7f5"
   },
   "outputs": [
    {
     "name": "stdout",
     "output_type": "stream",
     "text": [
      "Epoch 1/100\n",
      "1/1 - 2s - loss: 0.3650 - acc: 0.9393 - f1_m: 0.0000e+00 - precision_m: 0.0000e+00 - recall_m: 0.0000e+00 - val_loss: 0.3355 - val_acc: 0.9404 - val_f1_m: 0.0000e+00 - val_precision_m: 0.0000e+00 - val_recall_m: 0.0000e+00 - 2s/epoch - 2s/step\n",
      "Epoch 2/100\n",
      "1/1 - 0s - loss: 0.3366 - acc: 0.9393 - f1_m: 0.0000e+00 - precision_m: 0.0000e+00 - recall_m: 0.0000e+00 - val_loss: 0.3131 - val_acc: 0.9404 - val_f1_m: 0.0000e+00 - val_precision_m: 0.0000e+00 - val_recall_m: 0.0000e+00 - 93ms/epoch - 93ms/step\n",
      "Epoch 3/100\n",
      "1/1 - 0s - loss: 0.3148 - acc: 0.9393 - f1_m: 0.0000e+00 - precision_m: 0.0000e+00 - recall_m: 0.0000e+00 - val_loss: 0.2965 - val_acc: 0.9404 - val_f1_m: 0.0000e+00 - val_precision_m: 0.0000e+00 - val_recall_m: 0.0000e+00 - 94ms/epoch - 94ms/step\n",
      "Epoch 4/100\n",
      "1/1 - 0s - loss: 0.2975 - acc: 0.9393 - f1_m: 0.0000e+00 - precision_m: 0.0000e+00 - recall_m: 0.0000e+00 - val_loss: 0.2821 - val_acc: 0.9404 - val_f1_m: 0.0000e+00 - val_precision_m: 0.0000e+00 - val_recall_m: 0.0000e+00 - 98ms/epoch - 98ms/step\n",
      "Epoch 5/100\n",
      "1/1 - 0s - loss: 0.2820 - acc: 0.9393 - f1_m: 0.0000e+00 - precision_m: 0.0000e+00 - recall_m: 0.0000e+00 - val_loss: 0.2721 - val_acc: 0.9404 - val_f1_m: 0.0000e+00 - val_precision_m: 0.0000e+00 - val_recall_m: 0.0000e+00 - 98ms/epoch - 98ms/step\n",
      "Epoch 6/100\n",
      "1/1 - 0s - loss: 0.2742 - acc: 0.9393 - f1_m: 0.0000e+00 - precision_m: 0.0000e+00 - recall_m: 0.0000e+00 - val_loss: 0.2648 - val_acc: 0.9404 - val_f1_m: 0.0000e+00 - val_precision_m: 0.0000e+00 - val_recall_m: 0.0000e+00 - 94ms/epoch - 94ms/step\n",
      "Epoch 7/100\n",
      "1/1 - 0s - loss: 0.2672 - acc: 0.9393 - f1_m: 0.0000e+00 - precision_m: 0.0000e+00 - recall_m: 0.0000e+00 - val_loss: 0.2595 - val_acc: 0.9404 - val_f1_m: 0.0000e+00 - val_precision_m: 0.0000e+00 - val_recall_m: 0.0000e+00 - 94ms/epoch - 94ms/step\n",
      "Epoch 8/100\n",
      "1/1 - 0s - loss: 0.2617 - acc: 0.9393 - f1_m: 0.0000e+00 - precision_m: 0.0000e+00 - recall_m: 0.0000e+00 - val_loss: 0.2555 - val_acc: 0.9404 - val_f1_m: 0.0000e+00 - val_precision_m: 0.0000e+00 - val_recall_m: 0.0000e+00 - 97ms/epoch - 97ms/step\n",
      "Epoch 9/100\n",
      "1/1 - 0s - loss: 0.2580 - acc: 0.9393 - f1_m: 0.0000e+00 - precision_m: 0.0000e+00 - recall_m: 0.0000e+00 - val_loss: 0.2525 - val_acc: 0.9404 - val_f1_m: 0.0000e+00 - val_precision_m: 0.0000e+00 - val_recall_m: 0.0000e+00 - 99ms/epoch - 99ms/step\n",
      "Epoch 10/100\n",
      "1/1 - 0s - loss: 0.2559 - acc: 0.9393 - f1_m: 0.0000e+00 - precision_m: 0.0000e+00 - recall_m: 0.0000e+00 - val_loss: 0.2500 - val_acc: 0.9404 - val_f1_m: 0.0000e+00 - val_precision_m: 0.0000e+00 - val_recall_m: 0.0000e+00 - 95ms/epoch - 95ms/step\n",
      "Epoch 11/100\n",
      "1/1 - 0s - loss: 0.2524 - acc: 0.9393 - f1_m: 0.0000e+00 - precision_m: 0.0000e+00 - recall_m: 0.0000e+00 - val_loss: 0.2477 - val_acc: 0.9404 - val_f1_m: 0.0000e+00 - val_precision_m: 0.0000e+00 - val_recall_m: 0.0000e+00 - 95ms/epoch - 95ms/step\n",
      "Epoch 12/100\n",
      "1/1 - 0s - loss: 0.2504 - acc: 0.9393 - f1_m: 0.0000e+00 - precision_m: 0.0000e+00 - recall_m: 0.0000e+00 - val_loss: 0.2453 - val_acc: 0.9404 - val_f1_m: 0.0000e+00 - val_precision_m: 0.0000e+00 - val_recall_m: 0.0000e+00 - 101ms/epoch - 101ms/step\n",
      "Epoch 13/100\n",
      "1/1 - 0s - loss: 0.2480 - acc: 0.9393 - f1_m: 0.0000e+00 - precision_m: 0.0000e+00 - recall_m: 0.0000e+00 - val_loss: 0.2519 - val_acc: 0.9404 - val_f1_m: 0.0000e+00 - val_precision_m: 0.0000e+00 - val_recall_m: 0.0000e+00 - 106ms/epoch - 106ms/step\n",
      "Epoch 14/100\n",
      "1/1 - 0s - loss: 0.2548 - acc: 0.9393 - f1_m: 0.0000e+00 - precision_m: 0.0000e+00 - recall_m: 0.0000e+00 - val_loss: 0.2402 - val_acc: 0.9404 - val_f1_m: 0.0000e+00 - val_precision_m: 0.0000e+00 - val_recall_m: 0.0000e+00 - 102ms/epoch - 102ms/step\n",
      "Epoch 15/100\n",
      "1/1 - 0s - loss: 0.2439 - acc: 0.9393 - f1_m: 0.0000e+00 - precision_m: 0.0000e+00 - recall_m: 0.0000e+00 - val_loss: 0.2372 - val_acc: 0.9404 - val_f1_m: 0.0000e+00 - val_precision_m: 0.0000e+00 - val_recall_m: 0.0000e+00 - 102ms/epoch - 102ms/step\n",
      "Epoch 16/100\n",
      "1/1 - 0s - loss: 0.2409 - acc: 0.9393 - f1_m: 0.0000e+00 - precision_m: 0.0000e+00 - recall_m: 0.0000e+00 - val_loss: 0.2437 - val_acc: 0.9404 - val_f1_m: 0.0000e+00 - val_precision_m: 0.0000e+00 - val_recall_m: 0.0000e+00 - 100ms/epoch - 100ms/step\n",
      "Epoch 17/100\n",
      "1/1 - 0s - loss: 0.2467 - acc: 0.9393 - f1_m: 0.0000e+00 - precision_m: 0.0000e+00 - recall_m: 0.0000e+00 - val_loss: 0.2399 - val_acc: 0.9404 - val_f1_m: 0.0000e+00 - val_precision_m: 0.0000e+00 - val_recall_m: 0.0000e+00 - 132ms/epoch - 132ms/step\n",
      "Epoch 18/100\n",
      "1/1 - 0s - loss: 0.2434 - acc: 0.9393 - f1_m: 0.0000e+00 - precision_m: 0.0000e+00 - recall_m: 0.0000e+00 - val_loss: 0.2358 - val_acc: 0.9404 - val_f1_m: 0.0000e+00 - val_precision_m: 0.0000e+00 - val_recall_m: 0.0000e+00 - 134ms/epoch - 134ms/step\n",
      "Epoch 19/100\n",
      "1/1 - 0s - loss: 0.2394 - acc: 0.9393 - f1_m: 0.0000e+00 - precision_m: 0.0000e+00 - recall_m: 0.0000e+00 - val_loss: 0.2315 - val_acc: 0.9404 - val_f1_m: 0.0000e+00 - val_precision_m: 0.0000e+00 - val_recall_m: 0.0000e+00 - 118ms/epoch - 118ms/step\n",
      "Epoch 20/100\n",
      "1/1 - 0s - loss: 0.2359 - acc: 0.9393 - f1_m: 0.0000e+00 - precision_m: 0.0000e+00 - recall_m: 0.0000e+00 - val_loss: 0.2271 - val_acc: 0.9404 - val_f1_m: 0.0000e+00 - val_precision_m: 0.0000e+00 - val_recall_m: 0.0000e+00 - 125ms/epoch - 125ms/step\n",
      "Epoch 21/100\n",
      "1/1 - 0s - loss: 0.2318 - acc: 0.9393 - f1_m: 0.0000e+00 - precision_m: 0.0000e+00 - recall_m: 0.0000e+00 - val_loss: 0.2229 - val_acc: 0.9404 - val_f1_m: 0.0000e+00 - val_precision_m: 0.0000e+00 - val_recall_m: 0.0000e+00 - 119ms/epoch - 119ms/step\n",
      "Epoch 22/100\n",
      "1/1 - 0s - loss: 0.2262 - acc: 0.9393 - f1_m: 0.0000e+00 - precision_m: 0.0000e+00 - recall_m: 0.0000e+00 - val_loss: 0.2189 - val_acc: 0.9404 - val_f1_m: 0.0000e+00 - val_precision_m: 0.0000e+00 - val_recall_m: 0.0000e+00 - 126ms/epoch - 126ms/step\n",
      "Epoch 23/100\n",
      "1/1 - 0s - loss: 0.2225 - acc: 0.9393 - f1_m: 0.0000e+00 - precision_m: 0.0000e+00 - recall_m: 0.0000e+00 - val_loss: 0.2154 - val_acc: 0.9404 - val_f1_m: 0.0000e+00 - val_precision_m: 0.0000e+00 - val_recall_m: 0.0000e+00 - 127ms/epoch - 127ms/step\n",
      "Epoch 24/100\n",
      "1/1 - 0s - loss: 0.2192 - acc: 0.9393 - f1_m: 0.0000e+00 - precision_m: 0.0000e+00 - recall_m: 0.0000e+00 - val_loss: 0.2123 - val_acc: 0.9404 - val_f1_m: 0.0000e+00 - val_precision_m: 0.0000e+00 - val_recall_m: 0.0000e+00 - 126ms/epoch - 126ms/step\n",
      "Epoch 25/100\n",
      "1/1 - 0s - loss: 0.2154 - acc: 0.9393 - f1_m: 0.0000e+00 - precision_m: 0.0000e+00 - recall_m: 0.0000e+00 - val_loss: 0.2097 - val_acc: 0.9404 - val_f1_m: 0.0000e+00 - val_precision_m: 0.0000e+00 - val_recall_m: 0.0000e+00 - 126ms/epoch - 126ms/step\n",
      "Epoch 26/100\n",
      "1/1 - 0s - loss: 0.2140 - acc: 0.9393 - f1_m: 0.0000e+00 - precision_m: 0.0000e+00 - recall_m: 0.0000e+00 - val_loss: 0.2075 - val_acc: 0.9404 - val_f1_m: 0.0000e+00 - val_precision_m: 0.0000e+00 - val_recall_m: 0.0000e+00 - 120ms/epoch - 120ms/step\n",
      "Epoch 27/100\n",
      "1/1 - 0s - loss: 0.2108 - acc: 0.9393 - f1_m: 0.0000e+00 - precision_m: 0.0000e+00 - recall_m: 0.0000e+00 - val_loss: 0.2058 - val_acc: 0.9404 - val_f1_m: 0.0000e+00 - val_precision_m: 0.0000e+00 - val_recall_m: 0.0000e+00 - 124ms/epoch - 124ms/step\n",
      "Epoch 28/100\n",
      "1/1 - 0s - loss: 0.2090 - acc: 0.9393 - f1_m: 0.0000e+00 - precision_m: 0.0000e+00 - recall_m: 0.0000e+00 - val_loss: 0.2044 - val_acc: 0.9404 - val_f1_m: 0.0000e+00 - val_precision_m: 0.0000e+00 - val_recall_m: 0.0000e+00 - 109ms/epoch - 109ms/step\n",
      "Epoch 29/100\n",
      "1/1 - 0s - loss: 0.2081 - acc: 0.9393 - f1_m: 0.0000e+00 - precision_m: 0.0000e+00 - recall_m: 0.0000e+00 - val_loss: 0.2032 - val_acc: 0.9404 - val_f1_m: 0.0000e+00 - val_precision_m: 0.0000e+00 - val_recall_m: 0.0000e+00 - 108ms/epoch - 108ms/step\n",
      "Epoch 30/100\n",
      "1/1 - 0s - loss: 0.2076 - acc: 0.9393 - f1_m: 0.0000e+00 - precision_m: 0.0000e+00 - recall_m: 0.0000e+00 - val_loss: 0.2022 - val_acc: 0.9404 - val_f1_m: 0.0000e+00 - val_precision_m: 0.0000e+00 - val_recall_m: 0.0000e+00 - 103ms/epoch - 103ms/step\n",
      "Epoch 31/100\n",
      "1/1 - 0s - loss: 0.2068 - acc: 0.9393 - f1_m: 0.0000e+00 - precision_m: 0.0000e+00 - recall_m: 0.0000e+00 - val_loss: 0.2014 - val_acc: 0.9404 - val_f1_m: 0.0000e+00 - val_precision_m: 0.0000e+00 - val_recall_m: 0.0000e+00 - 106ms/epoch - 106ms/step\n",
      "Epoch 32/100\n",
      "1/1 - 0s - loss: 0.2053 - acc: 0.9393 - f1_m: 0.0000e+00 - precision_m: 0.0000e+00 - recall_m: 0.0000e+00 - val_loss: 0.2006 - val_acc: 0.9404 - val_f1_m: 0.0000e+00 - val_precision_m: 0.0000e+00 - val_recall_m: 0.0000e+00 - 100ms/epoch - 100ms/step\n"
     ]
    },
    {
     "name": "stdout",
     "output_type": "stream",
     "text": [
      "Epoch 33/100\n",
      "1/1 - 0s - loss: 0.2045 - acc: 0.9393 - f1_m: 0.0000e+00 - precision_m: 0.0000e+00 - recall_m: 0.0000e+00 - val_loss: 0.1998 - val_acc: 0.9404 - val_f1_m: 0.0000e+00 - val_precision_m: 0.0000e+00 - val_recall_m: 0.0000e+00 - 105ms/epoch - 105ms/step\n",
      "Epoch 34/100\n",
      "1/1 - 0s - loss: 0.2026 - acc: 0.9393 - f1_m: 0.0000e+00 - precision_m: 0.0000e+00 - recall_m: 0.0000e+00 - val_loss: 0.1989 - val_acc: 0.9404 - val_f1_m: 0.0000e+00 - val_precision_m: 0.0000e+00 - val_recall_m: 0.0000e+00 - 129ms/epoch - 129ms/step\n",
      "Epoch 35/100\n",
      "1/1 - 0s - loss: 0.2030 - acc: 0.9393 - f1_m: 0.0000e+00 - precision_m: 0.0000e+00 - recall_m: 0.0000e+00 - val_loss: 0.1979 - val_acc: 0.9404 - val_f1_m: 0.0000e+00 - val_precision_m: 0.0000e+00 - val_recall_m: 0.0000e+00 - 135ms/epoch - 135ms/step\n",
      "Epoch 36/100\n",
      "1/1 - 0s - loss: 0.2021 - acc: 0.9393 - f1_m: 0.0000e+00 - precision_m: 0.0000e+00 - recall_m: 0.0000e+00 - val_loss: 0.1969 - val_acc: 0.9404 - val_f1_m: 0.0000e+00 - val_precision_m: 0.0000e+00 - val_recall_m: 0.0000e+00 - 108ms/epoch - 108ms/step\n",
      "Epoch 37/100\n",
      "1/1 - 0s - loss: 0.1997 - acc: 0.9393 - f1_m: 0.0000e+00 - precision_m: 0.0000e+00 - recall_m: 0.0000e+00 - val_loss: 0.1958 - val_acc: 0.9404 - val_f1_m: 0.0000e+00 - val_precision_m: 0.0000e+00 - val_recall_m: 0.0000e+00 - 98ms/epoch - 98ms/step\n",
      "Epoch 38/100\n",
      "1/1 - 0s - loss: 0.1995 - acc: 0.9393 - f1_m: 0.0000e+00 - precision_m: 0.0000e+00 - recall_m: 0.0000e+00 - val_loss: 0.1945 - val_acc: 0.9404 - val_f1_m: 0.0000e+00 - val_precision_m: 0.0000e+00 - val_recall_m: 0.0000e+00 - 96ms/epoch - 96ms/step\n",
      "Epoch 39/100\n",
      "1/1 - 0s - loss: 0.1970 - acc: 0.9393 - f1_m: 0.0000e+00 - precision_m: 0.0000e+00 - recall_m: 0.0000e+00 - val_loss: 0.1928 - val_acc: 0.9404 - val_f1_m: 0.0000e+00 - val_precision_m: 0.0000e+00 - val_recall_m: 0.0000e+00 - 98ms/epoch - 98ms/step\n",
      "Epoch 40/100\n",
      "1/1 - 0s - loss: 0.1959 - acc: 0.9393 - f1_m: 0.0000e+00 - precision_m: 0.0000e+00 - recall_m: 0.0000e+00 - val_loss: 0.1943 - val_acc: 0.9404 - val_f1_m: 0.0000e+00 - val_precision_m: 0.0000e+00 - val_recall_m: 0.0000e+00 - 93ms/epoch - 93ms/step\n",
      "Epoch 41/100\n",
      "1/1 - 0s - loss: 0.1977 - acc: 0.9393 - f1_m: 0.0000e+00 - precision_m: 0.0000e+00 - recall_m: 0.0000e+00 - val_loss: 0.1935 - val_acc: 0.9404 - val_f1_m: 0.0000e+00 - val_precision_m: 0.0000e+00 - val_recall_m: 0.0000e+00 - 110ms/epoch - 110ms/step\n",
      "Epoch 42/100\n",
      "1/1 - 0s - loss: 0.1981 - acc: 0.9393 - f1_m: 0.0000e+00 - precision_m: 0.0000e+00 - recall_m: 0.0000e+00 - val_loss: 0.1927 - val_acc: 0.9404 - val_f1_m: 0.0000e+00 - val_precision_m: 0.0000e+00 - val_recall_m: 0.0000e+00 - 123ms/epoch - 123ms/step\n",
      "Epoch 43/100\n",
      "1/1 - 0s - loss: 0.1975 - acc: 0.9393 - f1_m: 0.0000e+00 - precision_m: 0.0000e+00 - recall_m: 0.0000e+00 - val_loss: 0.1918 - val_acc: 0.9404 - val_f1_m: 0.0000e+00 - val_precision_m: 0.0000e+00 - val_recall_m: 0.0000e+00 - 122ms/epoch - 122ms/step\n",
      "Epoch 44/100\n",
      "1/1 - 0s - loss: 0.1957 - acc: 0.9393 - f1_m: 0.0000e+00 - precision_m: 0.0000e+00 - recall_m: 0.0000e+00 - val_loss: 0.1908 - val_acc: 0.9404 - val_f1_m: 0.0000e+00 - val_precision_m: 0.0000e+00 - val_recall_m: 0.0000e+00 - 120ms/epoch - 120ms/step\n",
      "Epoch 45/100\n",
      "1/1 - 0s - loss: 0.1954 - acc: 0.9393 - f1_m: 0.0000e+00 - precision_m: 0.0000e+00 - recall_m: 0.0000e+00 - val_loss: 0.1898 - val_acc: 0.9404 - val_f1_m: 0.0000e+00 - val_precision_m: 0.0000e+00 - val_recall_m: 0.0000e+00 - 102ms/epoch - 102ms/step\n",
      "Epoch 46/100\n",
      "1/1 - 0s - loss: 0.1946 - acc: 0.9393 - f1_m: 0.0000e+00 - precision_m: 0.0000e+00 - recall_m: 0.0000e+00 - val_loss: 0.1888 - val_acc: 0.9404 - val_f1_m: 0.0000e+00 - val_precision_m: 0.0000e+00 - val_recall_m: 0.0000e+00 - 102ms/epoch - 102ms/step\n",
      "Epoch 47/100\n",
      "1/1 - 0s - loss: 0.1933 - acc: 0.9393 - f1_m: 0.0000e+00 - precision_m: 0.0000e+00 - recall_m: 0.0000e+00 - val_loss: 0.1879 - val_acc: 0.9404 - val_f1_m: 0.0000e+00 - val_precision_m: 0.0000e+00 - val_recall_m: 0.0000e+00 - 122ms/epoch - 122ms/step\n",
      "Epoch 48/100\n",
      "1/1 - 0s - loss: 0.1920 - acc: 0.9393 - f1_m: 0.0000e+00 - precision_m: 0.0000e+00 - recall_m: 0.0000e+00 - val_loss: 0.1870 - val_acc: 0.9404 - val_f1_m: 0.0000e+00 - val_precision_m: 0.0000e+00 - val_recall_m: 0.0000e+00 - 127ms/epoch - 127ms/step\n",
      "Epoch 49/100\n",
      "1/1 - 0s - loss: 0.1907 - acc: 0.9393 - f1_m: 0.0000e+00 - precision_m: 0.0000e+00 - recall_m: 0.0000e+00 - val_loss: 0.1861 - val_acc: 0.9404 - val_f1_m: 0.0000e+00 - val_precision_m: 0.0000e+00 - val_recall_m: 0.0000e+00 - 103ms/epoch - 103ms/step\n",
      "Epoch 50/100\n",
      "1/1 - 0s - loss: 0.1916 - acc: 0.9393 - f1_m: 0.0000e+00 - precision_m: 0.0000e+00 - recall_m: 0.0000e+00 - val_loss: 0.1854 - val_acc: 0.9404 - val_f1_m: 0.0000e+00 - val_precision_m: 0.0000e+00 - val_recall_m: 0.0000e+00 - 119ms/epoch - 119ms/step\n",
      "Epoch 51/100\n",
      "1/1 - 0s - loss: 0.1912 - acc: 0.9393 - f1_m: 0.0000e+00 - precision_m: 0.0000e+00 - recall_m: 0.0000e+00 - val_loss: 0.1846 - val_acc: 0.9404 - val_f1_m: 0.0000e+00 - val_precision_m: 0.0000e+00 - val_recall_m: 0.0000e+00 - 120ms/epoch - 120ms/step\n"
     ]
    }
   ],
   "source": [
    "history = model3.fit(\n",
    "    train_gen,\n",
    "    epochs=100,\n",
    "    batch_size=32,\n",
    "    validation_data=val_gen,\n",
    "    verbose=2,\n",
    "    shuffle=False,  # this should be False, since shuffling data means shuffling the whole graph\n",
    "    callbacks=[es_callback],\n",
    "    #class_weight=weights\n",
    ")"
   ]
  },
  {
   "cell_type": "code",
   "execution_count": 285,
   "metadata": {
    "colab": {
     "base_uri": "https://localhost:8080/",
     "height": 1000
    },
    "id": "F_2sZo1kaSaV",
    "outputId": "20334116-d8b8-40b6-d5f4-bfbe0d5c6cb9"
   },
   "outputs": [
    {
     "data": {
      "image/png": "[encoded data removed]",
      "text/plain": [
       "<Figure size 504x1440 with 5 Axes>"
      ]
     },
     "metadata": {
      "needs_background": "light"
     },
     "output_type": "display_data"
    }
   ],
   "source": [
    "sg.utils.plot_history(history)"
   ]
  },
  {
   "cell_type": "code",
   "execution_count": 286,
   "metadata": {
    "id": "Grvv2RgZalqC"
   },
   "outputs": [],
   "source": [
    "test_gen = generator.flow(test_labels.index, test_targets)"
   ]
  },
  {
   "cell_type": "code",
   "execution_count": 287,
   "metadata": {
    "colab": {
     "base_uri": "https://localhost:8080/"
    },
    "id": "eOdg2shJapO0",
    "outputId": "fef22371-aaac-424b-f61b-34b48b60d447"
   },
   "outputs": [
    {
     "name": "stdout",
     "output_type": "stream",
     "text": [
      "1/1 [==============================] - 0s 61ms/step - loss: 0.3349 - acc: 0.9403 - f1_m: 0.0000e+00 - precision_m: 0.0000e+00 - recall_m: 0.0000e+00\n",
      "\n",
      "Test Set Metrics:\n",
      "\tloss: 0.3349\n",
      "\tacc: 0.9403\n",
      "\tf1_m: 0.0000\n",
      "\tprecision_m: 0.0000\n",
      "\trecall_m: 0.0000\n"
     ]
    }
   ],
   "source": [
    "test_metrics = model3.evaluate(test_gen)\n",
    "print(\"\\nTest Set Metrics:\")\n",
    "for name, val in zip(model3.metrics_names, test_metrics):\n",
    "    print(\"\\t{}: {:0.4f}\".format(name, val))"
   ]
  },
  {
   "cell_type": "code",
   "execution_count": null,
   "metadata": {
    "id": "LopnKqHbbjAB"
   },
   "outputs": [],
   "source": []
  },
  {
   "cell_type": "markdown",
   "metadata": {
    "id": "C_7PrzzmB22R"
   },
   "source": [
    "## XGB classification model\n",
    "\n",
    "We are trying to predict weather the streamer is parnered o"
   ]
  },
  {
   "cell_type": "code",
   "execution_count": 293,
   "metadata": {
    "colab": {
     "base_uri": "https://localhost:8080/",
     "height": 455
    },
    "id": "kiCpi6zqCgMx",
    "outputId": "bb60c034-e714-4e11-d3fc-dafa3ab66078"
   },
   "outputs": [
    {
     "data": {
      "text/html": [
       "<div>\n",
       "<style scoped>\n",
       "    .dataframe tbody tr th:only-of-type {\n",
       "        vertical-align: middle;\n",
       "    }\n",
       "\n",
       "    .dataframe tbody tr th {\n",
       "        vertical-align: top;\n",
       "    }\n",
       "\n",
       "    .dataframe thead th {\n",
       "        text-align: right;\n",
       "    }\n",
       "</style>\n",
       "<table border=\"1\" class=\"dataframe\">\n",
       "  <thead>\n",
       "    <tr style=\"text-align: right;\">\n",
       "      <th></th>\n",
       "      <th>days</th>\n",
       "      <th>mature</th>\n",
       "      <th>views</th>\n",
       "      <th>partner</th>\n",
       "    </tr>\n",
       "    <tr>\n",
       "      <th>id</th>\n",
       "      <th></th>\n",
       "      <th></th>\n",
       "      <th></th>\n",
       "      <th></th>\n",
       "    </tr>\n",
       "  </thead>\n",
       "  <tbody>\n",
       "    <tr>\n",
       "      <th>5079</th>\n",
       "      <td>2149</td>\n",
       "      <td>1</td>\n",
       "      <td>162078</td>\n",
       "      <td>0</td>\n",
       "    </tr>\n",
       "    <tr>\n",
       "      <th>4281</th>\n",
       "      <td>1574</td>\n",
       "      <td>1</td>\n",
       "      <td>1370</td>\n",
       "      <td>0</td>\n",
       "    </tr>\n",
       "    <tr>\n",
       "      <th>992</th>\n",
       "      <td>1034</td>\n",
       "      <td>1</td>\n",
       "      <td>6043</td>\n",
       "      <td>0</td>\n",
       "    </tr>\n",
       "    <tr>\n",
       "      <th>9021</th>\n",
       "      <td>1319</td>\n",
       "      <td>1</td>\n",
       "      <td>94298</td>\n",
       "      <td>1</td>\n",
       "    </tr>\n",
       "    <tr>\n",
       "      <th>330</th>\n",
       "      <td>2137</td>\n",
       "      <td>1</td>\n",
       "      <td>2323</td>\n",
       "      <td>0</td>\n",
       "    </tr>\n",
       "    <tr>\n",
       "      <th>...</th>\n",
       "      <td>...</td>\n",
       "      <td>...</td>\n",
       "      <td>...</td>\n",
       "      <td>...</td>\n",
       "    </tr>\n",
       "    <tr>\n",
       "      <th>4572</th>\n",
       "      <td>895</td>\n",
       "      <td>1</td>\n",
       "      <td>128</td>\n",
       "      <td>0</td>\n",
       "    </tr>\n",
       "    <tr>\n",
       "      <th>6355</th>\n",
       "      <td>2001</td>\n",
       "      <td>0</td>\n",
       "      <td>44</td>\n",
       "      <td>0</td>\n",
       "    </tr>\n",
       "    <tr>\n",
       "      <th>206</th>\n",
       "      <td>1784</td>\n",
       "      <td>1</td>\n",
       "      <td>2038</td>\n",
       "      <td>0</td>\n",
       "    </tr>\n",
       "    <tr>\n",
       "      <th>7695</th>\n",
       "      <td>2114</td>\n",
       "      <td>0</td>\n",
       "      <td>449</td>\n",
       "      <td>0</td>\n",
       "    </tr>\n",
       "    <tr>\n",
       "      <th>4451</th>\n",
       "      <td>1680</td>\n",
       "      <td>0</td>\n",
       "      <td>10638954</td>\n",
       "      <td>1</td>\n",
       "    </tr>\n",
       "  </tbody>\n",
       "</table>\n",
       "<p>9498 rows × 4 columns</p>\n",
       "</div>"
      ],
      "text/plain": [
       "      days  mature     views  partner\n",
       "id                                   \n",
       "5079  2149       1    162078        0\n",
       "4281  1574       1      1370        0\n",
       "992   1034       1      6043        0\n",
       "9021  1319       1     94298        1\n",
       "330   2137       1      2323        0\n",
       "...    ...     ...       ...      ...\n",
       "4572   895       1       128        0\n",
       "6355  2001       0        44        0\n",
       "206   1784       1      2038        0\n",
       "7695  2114       0       449        0\n",
       "4451  1680       0  10638954        1\n",
       "\n",
       "[9498 rows x 4 columns]"
      ]
     },
     "execution_count": 293,
     "metadata": {},
     "output_type": "execute_result"
    }
   ],
   "source": [
    "nodes2"
   ]
  },
  {
   "cell_type": "code",
   "execution_count": 294,
   "metadata": {
    "id": "O4wq2CdLDOVH"
   },
   "outputs": [],
   "source": [
    "from sklearn.model_selection import train_test_split  \n",
    "X_train, X_test, y_train, y_test = train_test_split(nodes2.loc[:, nodes2.columns != 'partner'], nodes2['partner'], random_state=0, train_size=0.75)"
   ]
  },
  {
   "cell_type": "markdown",
   "metadata": {
    "id": "dBw8uUeXFBt5"
   },
   "source": [
    "Let not deal with class imbalance to set baseline"
   ]
  },
  {
   "cell_type": "code",
   "execution_count": 295,
   "metadata": {
    "colab": {
     "base_uri": "https://localhost:8080/"
    },
    "id": "oXTbngCMEXQj",
    "outputId": "a0b30341-0e37-4d34-cca0-cb27ff5d9549"
   },
   "outputs": [
    {
     "name": "stdout",
     "output_type": "stream",
     "text": [
      "Wall time: 2.02 s\n"
     ]
    }
   ],
   "source": [
    "%%time\n",
    "import xgboost as xgb\n",
    "\n",
    "xgc = xgb.XGBClassifier(n_estimators=500, max_depth=8, base_score=0.5,\n",
    "                        objective='binary:logistic', random_state=99)\n",
    "xgc.fit(X_train, y_train)\n",
    "predictions = xgc.predict(X_test)"
   ]
  },
  {
   "cell_type": "code",
   "execution_count": 296,
   "metadata": {
    "colab": {
     "base_uri": "https://localhost:8080/"
    },
    "id": "KtGIcJkFEjZZ",
    "outputId": "b922405f-627a-4998-8d7f-fc7db23c2690"
   },
   "outputs": [
    {
     "name": "stdout",
     "output_type": "stream",
     "text": [
      "Model Performance metrics:\n",
      "------------------------------\n",
      "Accuracy: 0.9705\n",
      "Precision: 0.9718\n",
      "Recall: 0.9705\n",
      "F1 Score: 0.9711\n",
      "\n",
      "Model Classification report:\n",
      "------------------------------\n",
      "              precision    recall  f1-score   support\n",
      "\n",
      "           0       0.99      0.98      0.98      2232\n",
      "           1       0.74      0.80      0.77       143\n",
      "\n",
      "    accuracy                           0.97      2375\n",
      "   macro avg       0.86      0.89      0.87      2375\n",
      "weighted avg       0.97      0.97      0.97      2375\n",
      "\n"
     ]
    }
   ],
   "source": [
    "import model_evaluation_utils as meu\n",
    "class_labels = list(set(nodes2['partner']))\n",
    "meu.display_model_performance_metrics(true_labels=y_test, predicted_labels=predictions, classes=class_labels)"
   ]
  },
  {
   "cell_type": "code",
   "execution_count": 303,
   "metadata": {},
   "outputs": [
    {
     "name": "stdout",
     "output_type": "stream",
     "text": [
      "Model Performance metrics:\n",
      "------------------------------\n",
      "Accuracy: 0.9659\n",
      "Precision: 0.9694\n",
      "Recall: 0.9659\n",
      "F1 Score: 0.9673\n",
      "\n",
      "Model Classification report:\n",
      "------------------------------\n",
      "              precision    recall  f1-score   support\n",
      "\n",
      "           0       0.99      0.98      0.98      2232\n",
      "           1       0.68      0.81      0.74       143\n",
      "\n",
      "    accuracy                           0.97      2375\n",
      "   macro avg       0.84      0.89      0.86      2375\n",
      "weighted avg       0.97      0.97      0.97      2375\n",
      "\n"
     ]
    }
   ],
   "source": [
    "# Testing if class weights make an impact\n",
    "\n",
    "from sklearn.utils.class_weight import compute_sample_weight\n",
    "sample_weights = compute_sample_weight(\n",
    "    class_weight='balanced',\n",
    "    y=y_train)\n",
    "\n",
    "xgc2 = xgb.XGBClassifier(n_estimators=500, max_depth=8, base_score=0.5,\n",
    "                        objective='binary:logistic', random_state=99)\n",
    "\n",
    "xgc2.fit(X_train, y_train, sample_weight= sample_weights)\n",
    "predictions2 = xgc2.predict(X_test)\n",
    "\n",
    "import model_evaluation_utils as meu\n",
    "class_labels = list(set(nodes2['partner']))\n",
    "meu.display_model_performance_metrics(true_labels=y_test, predicted_labels=predictions2, classes=class_labels)"
   ]
  },
  {
   "cell_type": "code",
   "execution_count": 309,
   "metadata": {
    "colab": {
     "base_uri": "https://localhost:8080/",
     "height": 253
    },
    "id": "jBALGQWaJX6L",
    "outputId": "d33b27d3-a1a7-4173-c7e6-7dbaa4efac7a"
   },
   "outputs": [
    {
     "name": "stdout",
     "output_type": "stream",
     "text": [
      "Requirement already satisfied: graphviz in c:\\users\\lisannal\\anaconda3\\lib\\site-packages (0.20)\n"
     ]
    },
    {
     "ename": "ExecutableNotFound",
     "evalue": "failed to execute WindowsPath('dot'), make sure the Graphviz executables are on your systems' PATH",
     "output_type": "error",
     "traceback": [
      "\u001b[1;31m---------------------------------------------------------------------------\u001b[0m",
      "\u001b[1;31mFileNotFoundError\u001b[0m                         Traceback (most recent call last)",
      "\u001b[1;32m~\\Anaconda3\\lib\\site-packages\\graphviz\\backend\\execute.py\u001b[0m in \u001b[0;36mrun_check\u001b[1;34m(cmd, input_lines, encoding, quiet, **kwargs)\u001b[0m\n\u001b[0;32m     78\u001b[0m                 \u001b[0mkwargs\u001b[0m\u001b[1;33m[\u001b[0m\u001b[1;34m'stdout'\u001b[0m\u001b[1;33m]\u001b[0m \u001b[1;33m=\u001b[0m \u001b[0mkwargs\u001b[0m\u001b[1;33m[\u001b[0m\u001b[1;34m'stderr'\u001b[0m\u001b[1;33m]\u001b[0m \u001b[1;33m=\u001b[0m \u001b[0msubprocess\u001b[0m\u001b[1;33m.\u001b[0m\u001b[0mPIPE\u001b[0m\u001b[1;33m\u001b[0m\u001b[1;33m\u001b[0m\u001b[0m\n\u001b[1;32m---> 79\u001b[1;33m             \u001b[0mproc\u001b[0m \u001b[1;33m=\u001b[0m \u001b[0m_run_input_lines\u001b[0m\u001b[1;33m(\u001b[0m\u001b[0mcmd\u001b[0m\u001b[1;33m,\u001b[0m \u001b[0minput_lines\u001b[0m\u001b[1;33m,\u001b[0m \u001b[0mkwargs\u001b[0m\u001b[1;33m=\u001b[0m\u001b[0mkwargs\u001b[0m\u001b[1;33m)\u001b[0m\u001b[1;33m\u001b[0m\u001b[1;33m\u001b[0m\u001b[0m\n\u001b[0m\u001b[0;32m     80\u001b[0m         \u001b[1;32melse\u001b[0m\u001b[1;33m:\u001b[0m\u001b[1;33m\u001b[0m\u001b[1;33m\u001b[0m\u001b[0m\n",
      "\u001b[1;32m~\\Anaconda3\\lib\\site-packages\\graphviz\\backend\\execute.py\u001b[0m in \u001b[0;36m_run_input_lines\u001b[1;34m(cmd, input_lines, kwargs)\u001b[0m\n\u001b[0;32m     98\u001b[0m \u001b[1;32mdef\u001b[0m \u001b[0m_run_input_lines\u001b[0m\u001b[1;33m(\u001b[0m\u001b[0mcmd\u001b[0m\u001b[1;33m,\u001b[0m \u001b[0minput_lines\u001b[0m\u001b[1;33m,\u001b[0m \u001b[1;33m*\u001b[0m\u001b[1;33m,\u001b[0m \u001b[0mkwargs\u001b[0m\u001b[1;33m)\u001b[0m\u001b[1;33m:\u001b[0m\u001b[1;33m\u001b[0m\u001b[1;33m\u001b[0m\u001b[0m\n\u001b[1;32m---> 99\u001b[1;33m     \u001b[0mpopen\u001b[0m \u001b[1;33m=\u001b[0m \u001b[0msubprocess\u001b[0m\u001b[1;33m.\u001b[0m\u001b[0mPopen\u001b[0m\u001b[1;33m(\u001b[0m\u001b[0mcmd\u001b[0m\u001b[1;33m,\u001b[0m \u001b[0mstdin\u001b[0m\u001b[1;33m=\u001b[0m\u001b[0msubprocess\u001b[0m\u001b[1;33m.\u001b[0m\u001b[0mPIPE\u001b[0m\u001b[1;33m,\u001b[0m \u001b[1;33m**\u001b[0m\u001b[0mkwargs\u001b[0m\u001b[1;33m)\u001b[0m\u001b[1;33m\u001b[0m\u001b[1;33m\u001b[0m\u001b[0m\n\u001b[0m\u001b[0;32m    100\u001b[0m \u001b[1;33m\u001b[0m\u001b[0m\n",
      "\u001b[1;32m~\\Anaconda3\\lib\\subprocess.py\u001b[0m in \u001b[0;36m__init__\u001b[1;34m(self, args, bufsize, executable, stdin, stdout, stderr, preexec_fn, close_fds, shell, cwd, env, universal_newlines, startupinfo, creationflags, restore_signals, start_new_session, pass_fds, encoding, errors, text)\u001b[0m\n\u001b[0;32m    857\u001b[0m \u001b[1;33m\u001b[0m\u001b[0m\n\u001b[1;32m--> 858\u001b[1;33m             self._execute_child(args, executable, preexec_fn, close_fds,\n\u001b[0m\u001b[0;32m    859\u001b[0m                                 \u001b[0mpass_fds\u001b[0m\u001b[1;33m,\u001b[0m \u001b[0mcwd\u001b[0m\u001b[1;33m,\u001b[0m \u001b[0menv\u001b[0m\u001b[1;33m,\u001b[0m\u001b[1;33m\u001b[0m\u001b[1;33m\u001b[0m\u001b[0m\n",
      "\u001b[1;32m~\\Anaconda3\\lib\\subprocess.py\u001b[0m in \u001b[0;36m_execute_child\u001b[1;34m(self, args, executable, preexec_fn, close_fds, pass_fds, cwd, env, startupinfo, creationflags, shell, p2cread, p2cwrite, c2pread, c2pwrite, errread, errwrite, unused_restore_signals, unused_start_new_session)\u001b[0m\n\u001b[0;32m   1310\u001b[0m             \u001b[1;32mtry\u001b[0m\u001b[1;33m:\u001b[0m\u001b[1;33m\u001b[0m\u001b[1;33m\u001b[0m\u001b[0m\n\u001b[1;32m-> 1311\u001b[1;33m                 hp, ht, pid, tid = _winapi.CreateProcess(executable, args,\n\u001b[0m\u001b[0;32m   1312\u001b[0m                                          \u001b[1;31m# no special security\u001b[0m\u001b[1;33m\u001b[0m\u001b[1;33m\u001b[0m\u001b[1;33m\u001b[0m\u001b[0m\n",
      "\u001b[1;31mFileNotFoundError\u001b[0m: [WinError 2] The system cannot find the file specified",
      "\nThe above exception was the direct cause of the following exception:\n",
      "\u001b[1;31mExecutableNotFound\u001b[0m                        Traceback (most recent call last)",
      "\u001b[1;32m<ipython-input-309-e748fa5c467d>\u001b[0m in \u001b[0;36m<module>\u001b[1;34m\u001b[0m\n\u001b[0;32m      3\u001b[0m \u001b[1;32mimport\u001b[0m \u001b[0mgraphviz\u001b[0m\u001b[1;33m\u001b[0m\u001b[1;33m\u001b[0m\u001b[0m\n\u001b[0;32m      4\u001b[0m \u001b[1;33m\u001b[0m\u001b[0m\n\u001b[1;32m----> 5\u001b[1;33m \u001b[0mxgb\u001b[0m\u001b[1;33m.\u001b[0m\u001b[0mplot_tree\u001b[0m\u001b[1;33m(\u001b[0m\u001b[0mxgc\u001b[0m\u001b[1;33m,\u001b[0m\u001b[0mnum_trees\u001b[0m\u001b[1;33m=\u001b[0m\u001b[1;36m0\u001b[0m\u001b[1;33m)\u001b[0m\u001b[1;33m\u001b[0m\u001b[1;33m\u001b[0m\u001b[0m\n\u001b[0m\u001b[0;32m      6\u001b[0m \u001b[0mplt\u001b[0m\u001b[1;33m.\u001b[0m\u001b[0mrcParams\u001b[0m\u001b[1;33m[\u001b[0m\u001b[1;34m'figure.figsize'\u001b[0m\u001b[1;33m]\u001b[0m \u001b[1;33m=\u001b[0m \u001b[1;33m[\u001b[0m\u001b[1;36m20\u001b[0m\u001b[1;33m,\u001b[0m \u001b[1;36m100\u001b[0m\u001b[1;33m]\u001b[0m\u001b[1;33m\u001b[0m\u001b[1;33m\u001b[0m\u001b[0m\n\u001b[0;32m      7\u001b[0m \u001b[1;31m#plt.savefig(\"xgb_tree.jpg\") #save as jpg\u001b[0m\u001b[1;33m\u001b[0m\u001b[1;33m\u001b[0m\u001b[1;33m\u001b[0m\u001b[0m\n",
      "\u001b[1;32m~\\Anaconda3\\lib\\site-packages\\xgboost\\plotting.py\u001b[0m in \u001b[0;36mplot_tree\u001b[1;34m(booster, fmap, num_trees, rankdir, ax, **kwargs)\u001b[0m\n\u001b[0;32m    249\u001b[0m \u001b[1;33m\u001b[0m\u001b[0m\n\u001b[0;32m    250\u001b[0m     \u001b[0ms\u001b[0m \u001b[1;33m=\u001b[0m \u001b[0mBytesIO\u001b[0m\u001b[1;33m(\u001b[0m\u001b[1;33m)\u001b[0m\u001b[1;33m\u001b[0m\u001b[1;33m\u001b[0m\u001b[0m\n\u001b[1;32m--> 251\u001b[1;33m     \u001b[0ms\u001b[0m\u001b[1;33m.\u001b[0m\u001b[0mwrite\u001b[0m\u001b[1;33m(\u001b[0m\u001b[0mg\u001b[0m\u001b[1;33m.\u001b[0m\u001b[0mpipe\u001b[0m\u001b[1;33m(\u001b[0m\u001b[0mformat\u001b[0m\u001b[1;33m=\u001b[0m\u001b[1;34m'png'\u001b[0m\u001b[1;33m)\u001b[0m\u001b[1;33m)\u001b[0m\u001b[1;33m\u001b[0m\u001b[1;33m\u001b[0m\u001b[0m\n\u001b[0m\u001b[0;32m    252\u001b[0m     \u001b[0ms\u001b[0m\u001b[1;33m.\u001b[0m\u001b[0mseek\u001b[0m\u001b[1;33m(\u001b[0m\u001b[1;36m0\u001b[0m\u001b[1;33m)\u001b[0m\u001b[1;33m\u001b[0m\u001b[1;33m\u001b[0m\u001b[0m\n\u001b[0;32m    253\u001b[0m     \u001b[0mimg\u001b[0m \u001b[1;33m=\u001b[0m \u001b[0mimage\u001b[0m\u001b[1;33m.\u001b[0m\u001b[0mimread\u001b[0m\u001b[1;33m(\u001b[0m\u001b[0ms\u001b[0m\u001b[1;33m)\u001b[0m\u001b[1;33m\u001b[0m\u001b[1;33m\u001b[0m\u001b[0m\n",
      "\u001b[1;32m~\\Anaconda3\\lib\\site-packages\\graphviz\\piping.py\u001b[0m in \u001b[0;36mpipe\u001b[1;34m(self, format, renderer, formatter, neato_no_op, quiet, engine, encoding)\u001b[0m\n\u001b[0;32m    102\u001b[0m             \u001b[1;34m'<?xml version='\u001b[0m\u001b[1;33m\u001b[0m\u001b[1;33m\u001b[0m\u001b[0m\n\u001b[0;32m    103\u001b[0m         \"\"\"\n\u001b[1;32m--> 104\u001b[1;33m         return self._pipe_legacy(format,\n\u001b[0m\u001b[0;32m    105\u001b[0m                                  \u001b[0mrenderer\u001b[0m\u001b[1;33m=\u001b[0m\u001b[0mrenderer\u001b[0m\u001b[1;33m,\u001b[0m\u001b[1;33m\u001b[0m\u001b[1;33m\u001b[0m\u001b[0m\n\u001b[0;32m    106\u001b[0m                                  \u001b[0mformatter\u001b[0m\u001b[1;33m=\u001b[0m\u001b[0mformatter\u001b[0m\u001b[1;33m,\u001b[0m\u001b[1;33m\u001b[0m\u001b[1;33m\u001b[0m\u001b[0m\n",
      "\u001b[1;32m~\\Anaconda3\\lib\\site-packages\\graphviz\\_tools.py\u001b[0m in \u001b[0;36mwrapper\u001b[1;34m(*args, **kwargs)\u001b[0m\n\u001b[0;32m    169\u001b[0m                               category=category)\n\u001b[0;32m    170\u001b[0m \u001b[1;33m\u001b[0m\u001b[0m\n\u001b[1;32m--> 171\u001b[1;33m             \u001b[1;32mreturn\u001b[0m \u001b[0mfunc\u001b[0m\u001b[1;33m(\u001b[0m\u001b[1;33m*\u001b[0m\u001b[0margs\u001b[0m\u001b[1;33m,\u001b[0m \u001b[1;33m**\u001b[0m\u001b[0mkwargs\u001b[0m\u001b[1;33m)\u001b[0m\u001b[1;33m\u001b[0m\u001b[1;33m\u001b[0m\u001b[0m\n\u001b[0m\u001b[0;32m    172\u001b[0m \u001b[1;33m\u001b[0m\u001b[0m\n\u001b[0;32m    173\u001b[0m         \u001b[1;32mreturn\u001b[0m \u001b[0mwrapper\u001b[0m\u001b[1;33m\u001b[0m\u001b[1;33m\u001b[0m\u001b[0m\n",
      "\u001b[1;32m~\\Anaconda3\\lib\\site-packages\\graphviz\\piping.py\u001b[0m in \u001b[0;36m_pipe_legacy\u001b[1;34m(self, format, renderer, formatter, neato_no_op, quiet, engine, encoding)\u001b[0m\n\u001b[0;32m    119\u001b[0m                      \u001b[0mengine\u001b[0m\u001b[1;33m:\u001b[0m \u001b[0mtyping\u001b[0m\u001b[1;33m.\u001b[0m\u001b[0mOptional\u001b[0m\u001b[1;33m[\u001b[0m\u001b[0mstr\u001b[0m\u001b[1;33m]\u001b[0m \u001b[1;33m=\u001b[0m \u001b[1;32mNone\u001b[0m\u001b[1;33m,\u001b[0m\u001b[1;33m\u001b[0m\u001b[1;33m\u001b[0m\u001b[0m\n\u001b[0;32m    120\u001b[0m                      encoding: typing.Optional[str] = None) -> typing.Union[bytes, str]:\n\u001b[1;32m--> 121\u001b[1;33m         return self._pipe_future(format,\n\u001b[0m\u001b[0;32m    122\u001b[0m                                  \u001b[0mrenderer\u001b[0m\u001b[1;33m=\u001b[0m\u001b[0mrenderer\u001b[0m\u001b[1;33m,\u001b[0m\u001b[1;33m\u001b[0m\u001b[1;33m\u001b[0m\u001b[0m\n\u001b[0;32m    123\u001b[0m                                  \u001b[0mformatter\u001b[0m\u001b[1;33m=\u001b[0m\u001b[0mformatter\u001b[0m\u001b[1;33m,\u001b[0m\u001b[1;33m\u001b[0m\u001b[1;33m\u001b[0m\u001b[0m\n",
      "\u001b[1;32m~\\Anaconda3\\lib\\site-packages\\graphviz\\piping.py\u001b[0m in \u001b[0;36m_pipe_future\u001b[1;34m(self, format, renderer, formatter, neato_no_op, quiet, engine, encoding)\u001b[0m\n\u001b[0;32m    159\u001b[0m             \u001b[1;32melse\u001b[0m\u001b[1;33m:\u001b[0m\u001b[1;33m\u001b[0m\u001b[1;33m\u001b[0m\u001b[0m\n\u001b[0;32m    160\u001b[0m                 \u001b[1;32mreturn\u001b[0m \u001b[0mraw\u001b[0m\u001b[1;33m.\u001b[0m\u001b[0mdecode\u001b[0m\u001b[1;33m(\u001b[0m\u001b[0mencoding\u001b[0m\u001b[1;33m)\u001b[0m\u001b[1;33m\u001b[0m\u001b[1;33m\u001b[0m\u001b[0m\n\u001b[1;32m--> 161\u001b[1;33m         \u001b[1;32mreturn\u001b[0m \u001b[0mself\u001b[0m\u001b[1;33m.\u001b[0m\u001b[0m_pipe_lines\u001b[0m\u001b[1;33m(\u001b[0m\u001b[1;33m*\u001b[0m\u001b[0margs\u001b[0m\u001b[1;33m,\u001b[0m \u001b[0minput_encoding\u001b[0m\u001b[1;33m=\u001b[0m\u001b[0mself\u001b[0m\u001b[1;33m.\u001b[0m\u001b[0mencoding\u001b[0m\u001b[1;33m,\u001b[0m \u001b[1;33m**\u001b[0m\u001b[0mkwargs\u001b[0m\u001b[1;33m)\u001b[0m\u001b[1;33m\u001b[0m\u001b[1;33m\u001b[0m\u001b[0m\n\u001b[0m",
      "\u001b[1;32m~\\Anaconda3\\lib\\site-packages\\graphviz\\backend\\piping.py\u001b[0m in \u001b[0;36mpipe_lines\u001b[1;34m(engine, format, input_lines, input_encoding, renderer, formatter, neato_no_op, quiet)\u001b[0m\n\u001b[0;32m    159\u001b[0m     \u001b[0mkwargs\u001b[0m \u001b[1;33m=\u001b[0m \u001b[1;33m{\u001b[0m\u001b[1;34m'input_lines'\u001b[0m\u001b[1;33m:\u001b[0m \u001b[1;33m(\u001b[0m\u001b[0mline\u001b[0m\u001b[1;33m.\u001b[0m\u001b[0mencode\u001b[0m\u001b[1;33m(\u001b[0m\u001b[0minput_encoding\u001b[0m\u001b[1;33m)\u001b[0m \u001b[1;32mfor\u001b[0m \u001b[0mline\u001b[0m \u001b[1;32min\u001b[0m \u001b[0minput_lines\u001b[0m\u001b[1;33m)\u001b[0m\u001b[1;33m}\u001b[0m\u001b[1;33m\u001b[0m\u001b[1;33m\u001b[0m\u001b[0m\n\u001b[0;32m    160\u001b[0m \u001b[1;33m\u001b[0m\u001b[0m\n\u001b[1;32m--> 161\u001b[1;33m     \u001b[0mproc\u001b[0m \u001b[1;33m=\u001b[0m \u001b[0mexecute\u001b[0m\u001b[1;33m.\u001b[0m\u001b[0mrun_check\u001b[0m\u001b[1;33m(\u001b[0m\u001b[0mcmd\u001b[0m\u001b[1;33m,\u001b[0m \u001b[0mcapture_output\u001b[0m\u001b[1;33m=\u001b[0m\u001b[1;32mTrue\u001b[0m\u001b[1;33m,\u001b[0m \u001b[0mquiet\u001b[0m\u001b[1;33m=\u001b[0m\u001b[0mquiet\u001b[0m\u001b[1;33m,\u001b[0m \u001b[1;33m**\u001b[0m\u001b[0mkwargs\u001b[0m\u001b[1;33m)\u001b[0m\u001b[1;33m\u001b[0m\u001b[1;33m\u001b[0m\u001b[0m\n\u001b[0m\u001b[0;32m    162\u001b[0m     \u001b[1;32mreturn\u001b[0m \u001b[0mproc\u001b[0m\u001b[1;33m.\u001b[0m\u001b[0mstdout\u001b[0m\u001b[1;33m\u001b[0m\u001b[1;33m\u001b[0m\u001b[0m\n\u001b[0;32m    163\u001b[0m \u001b[1;33m\u001b[0m\u001b[0m\n",
      "\u001b[1;32m~\\Anaconda3\\lib\\site-packages\\graphviz\\backend\\execute.py\u001b[0m in \u001b[0;36mrun_check\u001b[1;34m(cmd, input_lines, encoding, quiet, **kwargs)\u001b[0m\n\u001b[0;32m     82\u001b[0m     \u001b[1;32mexcept\u001b[0m \u001b[0mOSError\u001b[0m \u001b[1;32mas\u001b[0m \u001b[0me\u001b[0m\u001b[1;33m:\u001b[0m\u001b[1;33m\u001b[0m\u001b[1;33m\u001b[0m\u001b[0m\n\u001b[0;32m     83\u001b[0m         \u001b[1;32mif\u001b[0m \u001b[0me\u001b[0m\u001b[1;33m.\u001b[0m\u001b[0merrno\u001b[0m \u001b[1;33m==\u001b[0m \u001b[0merrno\u001b[0m\u001b[1;33m.\u001b[0m\u001b[0mENOENT\u001b[0m\u001b[1;33m:\u001b[0m\u001b[1;33m\u001b[0m\u001b[1;33m\u001b[0m\u001b[0m\n\u001b[1;32m---> 84\u001b[1;33m             \u001b[1;32mraise\u001b[0m \u001b[0mExecutableNotFound\u001b[0m\u001b[1;33m(\u001b[0m\u001b[0mcmd\u001b[0m\u001b[1;33m)\u001b[0m \u001b[1;32mfrom\u001b[0m \u001b[0me\u001b[0m\u001b[1;33m\u001b[0m\u001b[1;33m\u001b[0m\u001b[0m\n\u001b[0m\u001b[0;32m     85\u001b[0m         \u001b[1;32mraise\u001b[0m\u001b[1;33m\u001b[0m\u001b[1;33m\u001b[0m\u001b[0m\n\u001b[0;32m     86\u001b[0m \u001b[1;33m\u001b[0m\u001b[0m\n",
      "\u001b[1;31mExecutableNotFound\u001b[0m: failed to execute WindowsPath('dot'), make sure the Graphviz executables are on your systems' PATH"
     ]
    },
    {
     "data": {
      "image/png": "[encoded data removed]",
      "text/plain": [
       "<Figure size 360x360 with 1 Axes>"
      ]
     },
     "metadata": {
      "needs_background": "light"
     },
     "output_type": "display_data"
    }
   ],
   "source": [
    "import matplotlib.pyplot as plt\n",
    "#!pip install graphviz\n",
    "import graphviz\n",
    "\n",
    "xgb.plot_tree(xgc,num_trees=0)\n",
    "plt.rcParams['figure.figsize'] = [20, 100]\n",
    "#plt.savefig(\"xgb_tree.jpg\") #save as jpg\n",
    "plt.show()"
   ]
  },
  {
   "cell_type": "code",
   "execution_count": 308,
   "metadata": {
    "colab": {
     "base_uri": "https://localhost:8080/",
     "height": 350
    },
    "id": "A42hkMXDKfAe",
    "outputId": "7bba1655-da79-434c-8fb1-689ed5f3b91a"
   },
   "outputs": [
    {
     "data": {
      "image/png": "[encoded data removed]",
      "text/plain": [
       "<Figure size 432x288 with 1 Axes>"
      ]
     },
     "metadata": {
      "needs_background": "light"
     },
     "output_type": "display_data"
    }
   ],
   "source": [
    "xgb.plot_importance(xgc)\n",
    "plt.rcParams['figure.figsize'] = [5, 5]\n",
    "plt.show()"
   ]
  },
  {
   "cell_type": "code",
   "execution_count": null,
   "metadata": {
    "id": "o9OdObw10X7M"
   },
   "outputs": [],
   "source": [
    "# testin giti"
   ]
  },
  {
   "cell_type": "code",
   "execution_count": null,
   "metadata": {
    "id": "1pbYHEaHKzWR"
   },
   "outputs": [],
   "source": []
  },
  {
   "cell_type": "markdown",
   "metadata": {
    "id": "IZJfJS7-0YoV"
   },
   "source": [
    "## Using GAT classification "
   ]
  },
  {
   "cell_type": "code",
   "execution_count": null,
   "metadata": {
    "id": "rVUd77aJ04JC"
   },
   "outputs": [],
   "source": [
    "import tensorflow as tf\n",
    "from tensorflow import keras\n",
    "from tensorflow.keras import layers\n",
    "import numpy as np\n",
    "import pandas as pd\n",
    "import os\n",
    "import warnings\n",
    "\n",
    "warnings.filterwarnings(\"ignore\")\n",
    "pd.set_option(\"display.max_columns\", 6)\n",
    "pd.set_option(\"display.max_rows\", 6)\n",
    "np.random.seed(2)"
   ]
  },
  {
   "cell_type": "markdown",
   "metadata": {
    "id": "Yga88ogb0_NW"
   },
   "source": [
    "### GAT functions "
   ]
  },
  {
   "cell_type": "code",
   "execution_count": null,
   "metadata": {
    "id": "G14xGcz608WS"
   },
   "outputs": [],
   "source": [
    "class GraphAttention(layers.Layer):\n",
    "    def __init__(\n",
    "        self,\n",
    "        units,\n",
    "        kernel_initializer=\"glorot_uniform\",\n",
    "        kernel_regularizer=None,\n",
    "        **kwargs,\n",
    "    ):\n",
    "        super().__init__(**kwargs)\n",
    "        self.units = units\n",
    "        self.kernel_initializer = keras.initializers.get(kernel_initializer)\n",
    "        self.kernel_regularizer = keras.regularizers.get(kernel_regularizer)\n",
    "\n",
    "    def build(self, input_shape):\n",
    "\n",
    "        self.kernel = self.add_weight(\n",
    "            shape=(input_shape[0][-1], self.units),\n",
    "            trainable=True,\n",
    "            initializer=self.kernel_initializer,\n",
    "            regularizer=self.kernel_regularizer,\n",
    "            name=\"kernel\",\n",
    "        )\n",
    "        self.kernel_attention = self.add_weight(\n",
    "            shape=(self.units * 2, 1),\n",
    "            trainable=True,\n",
    "            initializer=self.kernel_initializer,\n",
    "            regularizer=self.kernel_regularizer,\n",
    "            name=\"kernel_attention\",\n",
    "        )\n",
    "        self.built = True\n",
    "\n",
    "    def call(self, inputs):\n",
    "        node_states, edges = inputs\n",
    "\n",
    "        # Linearly transform node states\n",
    "        node_states_transformed = tf.matmul(node_states, self.kernel)\n",
    "\n",
    "        # (1) Compute pair-wise attention scores\n",
    "        node_states_expanded = tf.gather(node_states_transformed, edges)\n",
    "        node_states_expanded = tf.reshape(\n",
    "            node_states_expanded, (tf.shape(edges)[0], -1)\n",
    "        )\n",
    "        attention_scores = tf.nn.leaky_relu(\n",
    "            tf.matmul(node_states_expanded, self.kernel_attention)\n",
    "        )\n",
    "        attention_scores = tf.squeeze(attention_scores, -1)\n",
    "\n",
    "        # (2) Normalize attention scores\n",
    "        attention_scores = tf.math.exp(tf.clip_by_value(attention_scores, -2, 2))\n",
    "        attention_scores_sum = tf.math.unsorted_segment_sum(\n",
    "            data=attention_scores,\n",
    "            segment_ids=edges[:, 0],\n",
    "            num_segments=tf.reduce_max(edges[:, 0]) + 1,\n",
    "        )\n",
    "        attention_scores_sum = tf.repeat(\n",
    "            attention_scores_sum, tf.math.bincount(tf.cast(edges[:, 0], \"int32\"))\n",
    "        )\n",
    "        attention_scores_norm = attention_scores / attention_scores_sum\n",
    "\n",
    "        # (3) Gather node states of neighbors, apply attention scores and aggregate\n",
    "        node_states_neighbors = tf.gather(node_states_transformed, edges[:, 1])\n",
    "        out = tf.math.unsorted_segment_sum(\n",
    "            data=node_states_neighbors * attention_scores_norm[:, tf.newaxis],\n",
    "            segment_ids=edges[:, 0],\n",
    "            num_segments=tf.shape(node_states)[0],\n",
    "        )\n",
    "        return out\n",
    "\n",
    "\n",
    "class MultiHeadGraphAttention(layers.Layer):\n",
    "    def __init__(self, units, num_heads=8, merge_type=\"concat\", **kwargs):\n",
    "        super().__init__(**kwargs)\n",
    "        self.num_heads = num_heads\n",
    "        self.merge_type = merge_type\n",
    "        self.attention_layers = [GraphAttention(units) for _ in range(num_heads)]\n",
    "\n",
    "    def call(self, inputs):\n",
    "        atom_features, pair_indices = inputs\n",
    "\n",
    "        # Obtain outputs from each attention head\n",
    "        outputs = [\n",
    "            attention_layer([atom_features, pair_indices])\n",
    "            for attention_layer in self.attention_layers\n",
    "        ]\n",
    "        # Concatenate or average the node states from each head\n",
    "        if self.merge_type == \"concat\":\n",
    "            outputs = tf.concat(outputs, axis=-1)\n",
    "        else:\n",
    "            outputs = tf.reduce_mean(tf.stack(outputs, axis=-1), axis=-1)\n",
    "        # Activate and return node states\n",
    "        return tf.nn.relu(outputs)"
   ]
  },
  {
   "cell_type": "code",
   "execution_count": null,
   "metadata": {
    "id": "qev0V-WY1346"
   },
   "outputs": [],
   "source": [
    "class GraphAttentionNetwork(keras.Model):\n",
    "    def __init__(\n",
    "        self,\n",
    "        node_states,\n",
    "        edges,\n",
    "        hidden_units,\n",
    "        num_heads,\n",
    "        num_layers,\n",
    "        output_dim,\n",
    "        **kwargs,\n",
    "    ):\n",
    "        super().__init__(**kwargs)\n",
    "        self.node_states = node_states\n",
    "        self.edges = edges\n",
    "        self.preprocess = layers.Dense(hidden_units * num_heads, activation=\"relu\")\n",
    "        self.attention_layers = [\n",
    "            MultiHeadGraphAttention(hidden_units, num_heads) for _ in range(num_layers)\n",
    "        ]\n",
    "        self.output_layer = layers.Dense(output_dim)\n",
    "\n",
    "    def call(self, inputs):\n",
    "        node_states, edges = inputs\n",
    "        x = self.preprocess(node_states)\n",
    "        for attention_layer in self.attention_layers:\n",
    "            x = attention_layer([x, edges]) + x\n",
    "        outputs = self.output_layer(x)\n",
    "        return outputs\n",
    "\n",
    "    def train_step(self, data):\n",
    "        indices, labels = data\n",
    "\n",
    "        with tf.GradientTape() as tape:\n",
    "            # Forward pass\n",
    "            outputs = self([self.node_states, self.edges])\n",
    "            # Compute loss\n",
    "            loss = self.compiled_loss(labels, tf.gather(outputs, indices))\n",
    "        # Compute gradients\n",
    "        grads = tape.gradient(loss, self.trainable_weights)\n",
    "        # Apply gradients (update weights)\n",
    "        optimizer.apply_gradients(zip(grads, self.trainable_weights))\n",
    "        # Update metric(s)\n",
    "        self.compiled_metrics.update_state(labels, tf.gather(outputs, indices))\n",
    "\n",
    "        return {m.name: m.result() for m in self.metrics}\n",
    "\n",
    "    def predict_step(self, data):\n",
    "        indices = data\n",
    "        # Forward pass\n",
    "        outputs = self([self.node_states, self.edges])\n",
    "        # Compute probabilities\n",
    "        return tf.nn.softmax(tf.gather(outputs, indices))\n",
    "\n",
    "    def test_step(self, data):\n",
    "        indices, labels = data\n",
    "        # Forward pass\n",
    "        outputs = self([self.node_states, self.edges])\n",
    "        # Compute loss\n",
    "        loss = self.compiled_loss(labels, tf.gather(outputs, indices))\n",
    "        # Update metric(s)\n",
    "        self.compiled_metrics.update_state(labels, tf.gather(outputs, indices))\n",
    "\n",
    "        return {m.name: m.result() for m in self.metrics}"
   ]
  },
  {
   "cell_type": "markdown",
   "metadata": {
    "id": "ghqvKLX81SDQ"
   },
   "source": [
    "### Building the model"
   ]
  },
  {
   "cell_type": "code",
   "execution_count": null,
   "metadata": {
    "id": "RL_yRx3LNG-t"
   },
   "outputs": [],
   "source": [
    "train_indices = train_data[\"paper_id\"].to_numpy()\n",
    "test_indices = test_data[\"paper_id\"].to_numpy()"
   ]
  },
  {
   "cell_type": "code",
   "execution_count": null,
   "metadata": {
    "id": "OzY0ttOQ1Qpa"
   },
   "outputs": [],
   "source": [
    "# Define hyper-parameters\n",
    "HIDDEN_UNITS = 100\n",
    "NUM_HEADS = 8\n",
    "NUM_LAYERS = 3\n",
    "OUTPUT_DIM = 2\n",
    "\n",
    "NUM_EPOCHS = 100\n",
    "BATCH_SIZE = 256\n",
    "VALIDATION_SPLIT = 0.1\n",
    "LEARNING_RATE = 3e-1\n",
    "MOMENTUM = 0.9\n",
    "\n",
    "loss_fn = keras.losses.SparseCategoricalCrossentropy(from_logits=True)\n",
    "optimizer = keras.optimizers.SGD(LEARNING_RATE, momentum=MOMENTUM)\n",
    "accuracy_fn = keras.metrics.SparseCategoricalAccuracy(name=\"acc\")\n",
    "early_stopping = keras.callbacks.EarlyStopping(\n",
    "    monitor=\"val_acc\", min_delta=1e-5, patience=5, restore_best_weights=True\n",
    ")\n",
    "\n",
    "# Build model\n",
    "gat_model = GraphAttentionNetwork(\n",
    "    nodes2, edges, HIDDEN_UNITS, NUM_HEADS, NUM_LAYERS, OUTPUT_DIM\n",
    ")\n",
    "\n",
    "# Compile model\n",
    "gat_model.compile(loss=loss_fn, optimizer=optimizer, metrics=[accuracy_fn,f1_m,precision_m, recall_m])\n",
    "\n",
    "gat_model.fit(\n",
    "    x=train_indices,\n",
    "    y=train_labels,\n",
    "    validation_split=VALIDATION_SPLIT,\n",
    "    batch_size=BATCH_SIZE,\n",
    "    epochs=NUM_EPOCHS,\n",
    "    callbacks=[early_stopping],\n",
    "    verbose=2,\n",
    ")\n",
    "\n",
    "_, test_accuracy = gat_model.evaluate(x=test_indices, y=test_labels, verbose=0)\n",
    "\n",
    "print(\"--\" * 38 + f\"\\nTest Accuracy {test_accuracy*100:.1f}%\")"
   ]
  }
 ],
 "metadata": {
  "colab": {
   "name": "Twitch_socail_network.ipynb",
   "provenance": []
  },
  "kernelspec": {
   "display_name": "Python 3",
   "language": "python",
   "name": "python3"
  },
  "language_info": {
   "codemirror_mode": {
    "name": "ipython",
    "version": 3
   },
   "file_extension": ".py",
   "mimetype": "text/x-python",
   "name": "python",
   "nbconvert_exporter": "python",
   "pygments_lexer": "ipython3",
   "version": "3.8.8"
  }
 },
 "nbformat": 4,
 "nbformat_minor": 1
}
